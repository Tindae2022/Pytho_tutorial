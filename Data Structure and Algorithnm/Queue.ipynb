{
 "cells": [
  {
   "cell_type": "markdown",
   "source": [
    "# **Queue Data Structure**\n",
    "A queue is a useful data structure in programming. It is similar to the ticket queue outside a cinema hall, where the first person entering the queue is the first person who gets the ticket.\n",
    "\n",
    "Queue follows the First In First Out (FIFO) rule - the item that goes in first is the item that comes out first.\n",
    "\n",
    "![Queue](queue-1.png)\n"
   ],
   "metadata": {
    "collapsed": false
   }
  },
  {
   "cell_type": "markdown",
   "source": [
    "In the above image, since 1 was kept in the queue before 2, it is the first to be removed from the queue as well. It follows the FIFO rule.\n",
    "\n",
    "In programming terms, putting items in the queue is called enqueue, and removing items from the queue is called dequeue.\n",
    "\n",
    "We can implement the queue in any programming language like C, C++, Java, Python or C#, but the specification is pretty much the same.\n",
    "\n",
    "## **Basic Operations of Queue**\n",
    "A queue is an object (an abstract data structure - ADT) that allows the following operations:\n",
    "\n",
    "- **Enqueue:** Add an element to the end of the queue\n",
    "- **Dequeue:** Remove an element from the front of the queue\n",
    "- **IsEmpty:** Check if the queue is empty\n",
    "- **IsFull:** Check if the queue is full\n",
    "- **Peek:** Get the value of the front of the queue without removing it\n",
    "\n",
    "# **Working of Queue**\n",
    "Queue operations work as follows:\n",
    "\n",
    "- two pointers FRONT and REAR\n",
    "- FRONT track the first element of the queue\n",
    "- REAR track the last element of the queue\n",
    "- initially, set value of FRONT and REAR to -1\n",
    "\n",
    "# **Enqueue Operation**\n",
    "- check if the queue is full\n",
    "- for the first element, set the value of FRONT to 0\n",
    "- increase the REAR index by 1\n",
    "- add the new element in the position pointed to by REAR\n",
    "\n",
    "# **Dequeue Operation**\n",
    "- check if the queue is empty\n",
    "- return the value pointed by FRONT\n",
    "- increase the FRONT index by 1\n",
    "- for the last element, reset the values of FRONT and REAR to -1\n",
    "\n",
    "![Queue](Queue-program-enqueue-dequeue.jpg)\n",
    "\n",
    "\n",
    "# **Queue Implementations in Python**"
   ],
   "metadata": {
    "collapsed": false
   }
  },
  {
   "cell_type": "code",
   "execution_count": 2,
   "outputs": [
    {
     "name": "stdout",
     "output_type": "stream",
     "text": [
      "* 1\n",
      "* 2\n",
      "* 3\n",
      "* 4\n",
      "* 5\n",
      "After removing an element\n",
      "* 2\n",
      "* 3\n",
      "* 4\n",
      "* 5\n"
     ]
    }
   ],
   "source": [
    "# Queue Implementation\n",
    "\n",
    "class Queue:\n",
    "    def __init__(self):\n",
    "        self.queue = []\n",
    "    # Add an element\n",
    "    def enqueue(self, item):\n",
    "        return self.queue.append(item)\n",
    "    # Remove an element\n",
    "    def dequeue(self):\n",
    "        if len(self.queue) < 1:\n",
    "            return None\n",
    "        return self.queue.pop(0)\n",
    "    # Display the Queue\n",
    "    def display(self):\n",
    "        for item in self.queue:\n",
    "            print(\"*\", item)\n",
    "\n",
    "    def size(self):\n",
    "        return len(self.queue)\n",
    "\n",
    "q = Queue()\n",
    "q.enqueue(1)\n",
    "q.enqueue(2)\n",
    "q.enqueue(3)\n",
    "q.enqueue(4)\n",
    "q.enqueue(5)\n",
    "q.display()\n",
    "q.dequeue()\n",
    "print(\"After removing an element\")\n",
    "q.display()"
   ],
   "metadata": {
    "collapsed": false,
    "ExecuteTime": {
     "end_time": "2023-07-29T08:40:35.061408Z",
     "start_time": "2023-07-29T08:40:35.012221100Z"
    }
   }
  },
  {
   "cell_type": "markdown",
   "source": [
    "# **Limitations of Queue**\n",
    "As you can see in the image below, after a bit of enqueuing and dequeuing, the size of the queue has been reduced\n",
    "\n",
    "![Queue](why-circular-queue_0.jpg)\n",
    "\n",
    "And we can only add indexes 0 and 1 only when the queue is reset (when all the elements have been dequeued).\n",
    "\n",
    "After REAR reaches the last index, if we can store extra elements in the empty spaces (0 and 1), we can make use of the empty spaces. This is implemented by a modified queue called the circular queue.\n",
    "\n",
    "And we can only add indexes 0 and 1 only when the queue is reset (when all the elements have been dequeued).\n",
    "\n",
    "After REAR reaches the last index, if we can store extra elements in the empty spaces (0 and 1), we can make use of the empty spaces. This is implemented by a modified queue called the circular queue.\n",
    "\n",
    "# **Complexity Analysis**\n",
    "The complexity of enqueue and dequeue operations in a queue using an array is O(1). If you use pop(N) in python code, then the complexity might be O(n) depending on the position of the item to be popped.\n",
    "\n",
    "# **Applications of Queue**\n",
    "1. CPU scheduling, Disk Scheduling\n",
    "2. When data is transferred asynchronously between two processes.The queue is used for synchronization. For example: IO Buffers, pipes, file IO, etc\n",
    "3. Handling of interrupts in real-time systems.\n",
    "4. Call Center phone systems use Queues to hold people calling them in order.\n",
    "\n"
   ],
   "metadata": {
    "collapsed": false
   }
  },
  {
   "cell_type": "code",
   "execution_count": null,
   "outputs": [],
   "source": [],
   "metadata": {
    "collapsed": false
   }
  }
 ],
 "metadata": {
  "kernelspec": {
   "display_name": "Python 3",
   "language": "python",
   "name": "python3"
  },
  "language_info": {
   "codemirror_mode": {
    "name": "ipython",
    "version": 2
   },
   "file_extension": ".py",
   "mimetype": "text/x-python",
   "name": "python",
   "nbconvert_exporter": "python",
   "pygments_lexer": "ipython2",
   "version": "2.7.6"
  }
 },
 "nbformat": 4,
 "nbformat_minor": 0
}

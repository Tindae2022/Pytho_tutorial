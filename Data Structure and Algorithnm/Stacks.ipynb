{
 "cells": [
  {
   "cell_type": "markdown",
   "source": [
    "## Introduction\n",
    "A stack is an ordered list with the restriction that elements are added or deleted\n",
    "from only one end of the list termed the top of stack. The other end of the list that\n",
    "lies “inactive” is termed the bottom of stack.\n",
    "Thus, if S is a stack with three elements a, b, c where c occupies the top of stack\n",
    "position, and if d were to be added, the resultant stack contents would be a, b, c, d.\n",
    "Note that d occupies the top of stack position. Again, initiating a delete or remove\n",
    "operation would automatically throw out the element occupying the top of the stack,\n",
    "namely,"
   ],
   "metadata": {
    "collapsed": false
   }
  },
  {
   "cell_type": "markdown",
   "source": [
    "A stack is a linear data structure that follows the Last-In-First-Out (LIFO) principle. It means that the last element added to the stack is the first one to be removed. Imagine a stack of plates in a cafeteria—the last plate placed on the stack is the first one to be picked up.\n",
    "\n",
    "A stack operates like a collection of items arranged in a specific order. The main operations performed on a stack are:\n",
    "\n",
    "- Push: Add an element to the top of the stack.\n",
    "- Pop: Remove the top element from the stack.\n",
    "- Peek (or Top): View the top element without removing it.\n",
    "- isEmpty: Check if the stack is empty.\n",
    "- Size: Get the number of elements in the stack."
   ],
   "metadata": {
    "collapsed": false
   }
  },
  {
   "cell_type": "markdown",
   "source": [
    "![stack intro](stack_intro.JPG)"
   ],
   "metadata": {
    "collapsed": false
   }
  },
  {
   "cell_type": "markdown",
   "source": [
    "It needs to be observed that during the insertion of elements into the stack, it is\n",
    "essential that their identities be specified, whereas for removal, no identity needs to\n",
    "be specified, since by virtue of its functionality, the element that occupies the top of\n",
    "the stack position is automatically removed.\n",
    "\n",
    "The stack data structure therefore obeys the principle of Last In First Out\n",
    "(LIFO). In other words, elements inserted or added into the stack join last, and those\n",
    "that joined last are the first to be removed.\n",
    "Some common examples of a stack occur during the serving of slices of bread\n",
    "arranged as a pile on a platter or during the usage of an elevator (see Figure 4.2). It\n",
    "is obvious that when a slice is added to a pile or removed when serving, it is the top\n",
    "of the pile that is affected. Similarly, in the case of an elevator, the last person to\n",
    "board the cabin must be the first person to alight from it (at least to make room for\n",
    "the others to alight!)."
   ],
   "metadata": {
    "collapsed": false
   }
  },
  {
   "cell_type": "markdown",
   "source": [
    "![stack example](stack_example.JPG)"
   ],
   "metadata": {
    "collapsed": false
   }
  },
  {
   "cell_type": "markdown",
   "source": [
    "## Stack implementation\n",
    "A common and basic method of implementing stacks is to make use of another\n",
    "fundamental data structure, namely, arrays. While arrays are sequential data\n",
    "structures, the other alternative of employing linked data structures has been\n",
    "successfully attempted and applied. This is fairly\n",
    "convenient considering the fact that stacks are one-dimensional ordered lists and so\n",
    "are arrays, which, despite their multidimensional structure, are inherently associated\n",
    "with a one-dimensional consecutive set of memory locations (Chapter 3).\n",
    "Figure 4.3 shows a stack of four elements R, S, V, and G represented by an array\n",
    "STACK[1:7]. In general, if a stack is represented as an array STACK[1:n], then n\n",
    "elements and not one more can be stored in the stack. It therefore becomes essential\n",
    "to issue a signal or warning termed STACK_FULL when elements whose number\n",
    "is over and above n are pushed into the stack.\n",
    "Again, during a pop operation, it is essential to ensure that one does not delete an\n",
    "empty stack! Hence, the necessity for a signal or a warning termed\n",
    "**STACK_EMPTY** during the implementation of the pop operation. While\n",
    "implementation of stacks using arrays necessitates checking for STACK_FULL/\n",
    "**STACK_EMPTY** conditions during push/pop operations, the implementation of\n",
    "stacks with linked data structures dispenses with these testing conditions."
   ],
   "metadata": {
    "collapsed": false
   }
  },
  {
   "cell_type": "markdown",
   "source": [
    "![example 2](example%202.JPG)"
   ],
   "metadata": {
    "collapsed": false
   }
  },
  {
   "cell_type": "markdown",
   "source": [
    " # **Implementation of push and pop operations**\n",
    "Let STACK[1:n] be an array implementation of a stack and top be a variable\n",
    "recording the current top of the stack position. top is initialized to 0. item is the\n",
    "element to be pushed into the stack. n is the maximum capacity of the stack.\n",
    "\n",
    "\n",
    "procedure PUSH(STACK, n, top, item)\n",
    "if (top = n) then STACK_FULL;\n",
    "else\n",
    "{ top = top + 1;\n",
    "STACK[top] = item; /* store item as top\n",
    "element of STACK */\n",
    "}\n",
    "end PUSH\n",
    "\n",
    "In the case of the pop operation, as previously mentioned, no element identity\n",
    "needs to be specified since, by default, the element occupying the top of the stack\n",
    "position is deleted. Algorithm 4.2 illustrates the pop operation in pseudo-code. Note\n",
    "that in Algorithm 4.2, item is used as an output variable only to store a copy of the\n",
    "element removed.\n",
    "\n",
    "\n",
    "procedure POP(STACK, top, item)\n",
    "if (top = 0) then STACK_EMPTY;\n",
    "else\n",
    "{ item = STACK[top];\n",
    "top = top - 1;\n",
    "}\n",
    "end POP\n",
    "\n",
    "\n",
    "\n",
    "It is evident from the algorithms that to perform a single push/pop operation, the\n",
    "time complexity is O(1).\n"
   ],
   "metadata": {
    "collapsed": false
   }
  },
  {
   "cell_type": "markdown",
   "source": [
    "Consider a stack DEVICE[1:3] of peripheral devices. The insertion of the four\n",
    "items PEN, PLOTTER, JOY STICK and PRINTER into DEVICE and a deletion are\n",
    "illustrated in Table 4.1."
   ],
   "metadata": {
    "collapsed": false
   }
  },
  {
   "cell_type": "markdown",
   "source": [
    "![example 3](example_3.JPG)"
   ],
   "metadata": {
    "collapsed": false
   }
  },
  {
   "cell_type": "markdown",
   "source": [
    "Note that in operation 5, which is a pop operation, the top pointer is merely\n",
    "decremented as a mark of deletion. No physical erasure of data is carried out.\n",
    "4.3. Applications\n",
    "Stacks have found innumerable applications in computer science and other allied\n",
    "areas. In this section, we introduce two applications of stacks that are useful in\n",
    "computer science, namely,\n",
    "\n",
    "i) recursive programming;\n",
    "ii) evaluation of expressions.\n",
    "\n",
    "# **Recursive programming**\n",
    "The concepts of recursion and recursive programming are introduced in\n",
    "\n",
    "Consider the recursive pseudo-code for factorial computation shown in Figure\n",
    " Observe the recursive call in Step 3. It is essential that during the computation\n",
    "of n!, the procedure does not lead to an endless series of calls to itself! Hence, the\n",
    "need for a base case, 0! = 1, which is written in Step 1.\n",
    "The spate of calls made by procedure FACTORIAL() to itself based on the\n",
    "value of n can be viewed as FACTORIAL() replicating itself as many times as it\n",
    "calls itself with varying values of n. Additionally, all of these procedures await\n",
    "normal termination before the final output of n! is completed and displayed by the\n",
    "very first call made to FACTORIAL(). A procedural call would have a normal\n",
    "termination only when either the base case is executed (Step 1) or the recursive case\n",
    "has successfully ended, that is, Steps 2–5 have completed their execution.\n",
    "During the execution, to keep track of the calls made to itself and to record the\n",
    "status of the parameters at the time of the call, a stack data structure is used. Figure\n",
    "4.5 illustrates the various snap shots of the stack during the execution of\n",
    "FACTORIAL(5). Observe how the values of the three parameters of the procedure\n",
    "FACTORIAL(), namely, n, x and y, are kept track of in the stack data\n",
    "structure"
   ],
   "metadata": {
    "collapsed": false
   }
  },
  {
   "cell_type": "markdown",
   "source": [
    "```\n",
    "procedure FACTORIAL(n)\n",
    "Step 1: if (n = 0) then FACTORIAL = 1;\n",
    "Step 2: else {x = n - 1;\n",
    "Step 3: y = FACTORIAL(x);\n",
    "Step 4: FACTORIAL = n * y;}\n",
    "Step 5: end FACTORIAL\n",
    "```"
   ],
   "metadata": {
    "collapsed": false
   }
  },
  {
   "cell_type": "markdown",
   "source": [
    "When the procedure FACTORIAL(5) is initiated (see Figure 4.5(a)) and\n",
    "executed (see Figure 4.5(b)), x obtains the value 4, and the control flow moves to\n",
    "Step 3 in the procedure FACTORIAL(5). This initiates the next call to the\n",
    "procedure as FACTORIAL(4). Observe that the first call (FACTORIAL(5)) has\n",
    "not yet finished its execution when the next call (FACTORIAL(4)) to the procedure\n",
    "has been issued. Therefore, there is a need to preserve the values of the variables\n",
    "used, namely, n, x and y, in the preceding calls. Hence, there is a need for a\n",
    "stack data structure.\n",
    "Every new procedure call pushes the current values of the parameters involved\n",
    "into the stack, thereby preserving the values used by the earlier calls. Figures 4.5(c)\n",
    "and (d) illustrate the contents of the stack during the execution of FACTORIAL(4)\n",
    "and subsequent procedure calls. During the execution of FACTORIAL(0) (see\n",
    "Figure 4.5(e)), Step 1 of the procedure is satisfied, and this terminates the procedure\n",
    "call yielding the value FACTORIAL = 1. Since the call for FACTORIAL(0) was\n",
    "initiated in Step 3 of the previous call (FACTORIAL(1)), y acquires the value of\n",
    "FACTORIAL(0), that is, 1, and the execution control moves to Step 4 to compute\n",
    "FACTORIAL = n ∗ y (i.e.) FACTORIAL = 1 ∗ 1 = 1. With this\n",
    "computation, FACTORIAL(1) terminates its execution. As previously mentioned,\n",
    "FACTORIAL(1) returns the computed value of 1 to Step 3 of the previous call\n",
    "FACTORIAL(2)). Once again, it yields the result FACTORIAL = n ∗ y = 2 ∗\n",
    "1 = 2, which terminates the procedure call to FACTORIAL(2) and returns the\n",
    "result to Step 3 of the previous call FACTORIAL(3) and so on.\n",
    "Observe that the stack data structure grows due to a series of push operations\n",
    "during the procedure calls and unwinds itself by a series of pop operations until it\n",
    "reaches the step associated with the first procedure call to complete its execution and\n",
    "display the result.\n",
    "During the execution of FACTORIAL(5), the first and oldest call to be made,\n",
    "y in Step 3 computes y = FACTORIAL(4) = 24 and proceeds to obtain\n",
    "FACTORIAL = n ∗ y = 5 ∗ 24 = 120, which is the desired result."
   ],
   "metadata": {
    "collapsed": false
   }
  },
  {
   "cell_type": "markdown",
   "source": [
    "# **Evaluation of expressions**\n",
    "## **Infix, prefix and postfix expressions**\n",
    "The evaluation of expressions is an important feature of compiler design. When\n",
    "we write or understand an arithmetic expression, for example,\n",
    "```\n",
    "−(𝐴 + 𝐵) ↑ 𝐶 ∗ 𝐷 + 𝐸\n",
    "```\n",
    "we do so by following the scheme of ⟨𝑜𝑝𝑒𝑟𝑎𝑛𝑑⟩ ⟨𝑜𝑝𝑒𝑟𝑎𝑡𝑜𝑟⟩ ⟨𝑜𝑝𝑒𝑟𝑎𝑛𝑑⟩ (i.e. an\n",
    "⟨𝑜𝑝𝑒𝑟𝑎𝑡𝑜𝑟⟩ is preceded and succeeded by an ⟨𝑜𝑝𝑒𝑟𝑎𝑛𝑑⟩). Such an expression is\n",
    "termed infix expression. It is already known how infix expressions used in\n",
    "programming languages have been accorded rules of hierarchy, precedence and\n",
    "associativity to ensure that the computer does not misinterpret the expression but\n",
    "computes its value in a unique way.\n",
    "In reality, the compiler reworks on the infix expression to produce an equivalent\n",
    "expression that follows the scheme of ⟨𝑜𝑝𝑒𝑟𝑎𝑛𝑑⟩ ⟨𝑜𝑝𝑒𝑟𝑎𝑛𝑑⟩ ⟨𝑜𝑝𝑒𝑟𝑎𝑡𝑜𝑟⟩ and is\n",
    "known as the postfix expression. For example, the infix expression 𝑎 + 𝑏 would\n",
    "have the equivalent postfix expression a b+.\n",
    "A third category of expression follows the scheme of ⟨𝑜𝑝𝑒𝑟𝑎𝑡𝑜𝑟⟩ ⟨𝑜𝑝𝑒𝑟𝑎𝑛𝑑⟩\n",
    "⟨𝑜𝑝𝑒𝑟𝑎𝑛𝑑⟩ and is known as prefix expression. For example, the equivalent prefix\n",
    "expression corresponding to 𝑎 + 𝑏 is +a b.\n",
    "Examples 4.2 and 4.3 illustrate the hand computation of prefix and postfix\n",
    "expressions from a given infix expression."
   ],
   "metadata": {
    "collapsed": false
   }
  },
  {
   "cell_type": "markdown",
   "source": [
    "![Exercise](exercise.JPG)"
   ],
   "metadata": {
    "collapsed": false
   }
  },
  {
   "cell_type": "markdown",
   "source": [
    "# **Algorithm for Conversion of Infix to Postfix using Stack**\n",
    "\n",
    "Converting an infix expression to a postfix expression is a classic problem in computer science and involves using a stack to manage operators and parentheses. Infix expressions are what we typically use in mathematical notation, while postfix expressions (also known as Reverse Polish Notation) are more suitable for parsing and evaluation in computers.\n",
    "\n",
    "**To convert an infix expression to a postfix expression, we'll use the following steps:**\n",
    "\n",
    "1. Create an empty stack to store operators temporarily.\n",
    "2. Initialize an empty postfix expression list to store the converted expression.\n",
    "3. Scan the infix expression from left to right.\n",
    "4. If the scanned token is an operand, add it to the postfix expression list.\n",
    "5. If the scanned token is an operator, do the following:\n",
    "a. While the stack is not empty and the precedence of the current operator is less than or equal to the precedence of the operator at the top of the stack, pop the operator from the stack and add it to the postfix expression list.\n",
    "b. Push the current operator onto the stack.\n",
    "6. If the scanned token is an opening parenthesis '(', push it onto the stack.\n",
    "7. If the scanned token is a closing parenthesis ')', pop operators from the stack and add them to the postfix expression list until an opening parenthesis '(' is encountered. Pop and discard the '(' from the stack.\n",
    "8. Repeat steps 3 to 7 until all tokens are scanned.\n",
    "9. Pop any remaining operators from the stack and add them to the postfix expression list."
   ],
   "metadata": {
    "collapsed": false
   }
  },
  {
   "cell_type": "markdown",
   "source": [
    "# **STACK IMPLEMENTATION**"
   ],
   "metadata": {
    "collapsed": false
   }
  },
  {
   "cell_type": "code",
   "execution_count": 54,
   "outputs": [],
   "source": [
    "def create_stack():\n",
    "    return []\n"
   ],
   "metadata": {
    "collapsed": false,
    "ExecuteTime": {
     "end_time": "2023-07-27T18:33:18.071273Z",
     "start_time": "2023-07-27T18:33:17.391356200Z"
    }
   }
  },
  {
   "cell_type": "code",
   "execution_count": 55,
   "outputs": [],
   "source": [
    "def push(stack, item):\n",
    "    stack.append(item)\n"
   ],
   "metadata": {
    "collapsed": false,
    "ExecuteTime": {
     "end_time": "2023-07-27T18:33:18.072897400Z",
     "start_time": "2023-07-27T18:33:17.405870100Z"
    }
   }
  },
  {
   "cell_type": "code",
   "execution_count": 56,
   "outputs": [],
   "source": [
    "\n",
    "def pop(stack):\n",
    "    if not isEmpty(stack):\n",
    "        return stack.pop()\n"
   ],
   "metadata": {
    "collapsed": false,
    "ExecuteTime": {
     "end_time": "2023-07-27T18:33:18.072897400Z",
     "start_time": "2023-07-27T18:33:17.422643Z"
    }
   }
  },
  {
   "cell_type": "code",
   "execution_count": 57,
   "outputs": [],
   "source": [
    "def peek(stack):\n",
    "    if not isEmpty(stack):\n",
    "        return stack[-1]\n"
   ],
   "metadata": {
    "collapsed": false,
    "ExecuteTime": {
     "end_time": "2023-07-27T18:33:18.072897400Z",
     "start_time": "2023-07-27T18:33:17.439378Z"
    }
   }
  },
  {
   "cell_type": "code",
   "execution_count": null,
   "outputs": [],
   "source": [
    "def isEmpty(stack):\n",
    "    return len(stack) == 0\n"
   ],
   "metadata": {
    "collapsed": false,
    "is_executing": true,
    "ExecuteTime": {
     "start_time": "2023-07-27T18:33:17.462521900Z"
    }
   }
  },
  {
   "cell_type": "code",
   "execution_count": null,
   "outputs": [],
   "source": [
    "def size(stack):\n",
    "    return len(stack)\n"
   ],
   "metadata": {
    "collapsed": false,
    "is_executing": true
   }
  },
  {
   "cell_type": "code",
   "execution_count": null,
   "outputs": [],
   "source": [
    "# Create a new stack\n",
    "stack = create_stack()\n",
    "# push element onto the stack\n",
    "push(stack, 3)\n",
    "push(stack, 6)\n",
    "push(stack, 4)\n",
    "push(stack, 9)\n",
    "\n",
    "for item in stack:\n",
    "    print(item)\n",
    "# Check the top element of the stack\n",
    "print(f\"The top element: {peek(stack)}\")\n",
    "\n",
    "# Pop an element from the stack\n",
    "print(f\"The deleted element from the stack: {pop(stack)}\")\n",
    "\n",
    "# Check if the stack is empty\n",
    "print(f\"Is the stack empty: {isEmpty(stack)}\")\n",
    "\n",
    "# Get the number of element in the stack\n",
    "print(f\"The number of element in the stack: {size(stack)}\")"
   ],
   "metadata": {
    "collapsed": false,
    "is_executing": true
   }
  },
  {
   "cell_type": "markdown",
   "source": [
    "# **STACK IMPLEMENTATION USING CLASSES**"
   ],
   "metadata": {
    "collapsed": false
   }
  },
  {
   "cell_type": "code",
   "execution_count": 74,
   "outputs": [],
   "source": [
    "\n",
    "class Stack:\n",
    "    def __init__(self):\n",
    "        self.items = []\n",
    "    def push(self, item):\n",
    "      return self.items.append(item)\n",
    "    def pop(self):\n",
    "        if not self.isEmpty():\n",
    "            return self.items.pop()\n",
    "    def peek(self):\n",
    "        if not self.isEmpty():\n",
    "            return self.items[-1]\n",
    "    def isEmpty(self):\n",
    "        return len(self.items) == 0\n",
    "    def size(self):\n",
    "        return len(self.items)\n"
   ],
   "metadata": {
    "collapsed": false,
    "ExecuteTime": {
     "end_time": "2023-07-28T17:55:40.466367300Z",
     "start_time": "2023-07-28T17:55:40.418774100Z"
    }
   }
  },
  {
   "cell_type": "markdown",
   "source": [
    "# **STACK USAGE EXAMPLES**\n",
    "## **Using the class-Based Implementation**\n"
   ],
   "metadata": {
    "collapsed": false
   }
  },
  {
   "cell_type": "code",
   "execution_count": 62,
   "outputs": [
    {
     "name": "stdout",
     "output_type": "stream",
     "text": [
      "<__main__.Stack object at 0x0000024B97251940>\n",
      "The top element: 67\n",
      "The deleted element: 67\n",
      "Is the stack empty: False\n",
      "The number of elements in the stack: 3 \n"
     ]
    }
   ],
   "source": [
    "# Create a new stack\n",
    "stack = Stack()\n",
    "\n",
    "# Push elements onto the stack\n",
    "stack.push(3)\n",
    "stack.push(7)\n",
    "stack.push(43)\n",
    "stack.push(67)\n",
    "\n",
    "# Print all items\n",
    "print(stack)\n",
    "\n",
    "# Check the top element\n",
    "print(f\"The top element: {stack.peek()}\")\n",
    "\n",
    "# Pop an element from the stack\n",
    "print(f\"The deleted element: {stack.pop()}\")\n",
    "\n",
    "# Check if the stack is empty\n",
    "print(f\"Is the stack empty: {stack.isEmpty()}\")\n",
    "\n",
    "# Get the number of elements in a stack\n",
    "print(f\"The number of elements in the stack: {stack.size()} \")"
   ],
   "metadata": {
    "collapsed": false,
    "ExecuteTime": {
     "end_time": "2023-07-27T18:33:18.072897400Z",
     "start_time": "2023-07-27T18:33:17.605979300Z"
    }
   }
  },
  {
   "cell_type": "markdown",
   "source": [
    "# **STACK USAGE EXERCISES**\n",
    "## Exercise 2\n",
    "  Use the stack to check if a given string of parentheses is balanced. A string is considered balanced if every opening parenthesis has a corresponding closing parenthesis in the correct order.\n"
   ],
   "metadata": {
    "collapsed": false
   }
  },
  {
   "cell_type": "code",
   "execution_count": 63,
   "outputs": [
    {
     "name": "stdout",
     "output_type": "stream",
     "text": [
      "True\n",
      "True\n",
      "True\n",
      "False\n",
      "False\n",
      "False\n"
     ]
    }
   ],
   "source": [
    "def is_balanced(string):\n",
    "    stack = []\n",
    "\n",
    "    # Define the mapping of opening and closing parentheses\n",
    "    mapping = {')': '(', '}': '{', ']': '['}\n",
    "\n",
    "    for char in string:\n",
    "        if char in '({[':\n",
    "            stack.append(char)\n",
    "        elif char in ')}]':\n",
    "            if not stack:\n",
    "                return False\n",
    "            if stack[-1] == mapping[char]:\n",
    "                stack.pop()\n",
    "            else:\n",
    "                return False\n",
    "\n",
    "    return not stack\n",
    "\n",
    "# Test cases\n",
    "print(is_balanced(\"()\"))\n",
    "print(is_balanced(\"()[]{}\"))\n",
    "print(is_balanced(\"{[()]}\"))\n",
    "print(is_balanced(\"{[(])}\"))\n",
    "print(is_balanced(\"([)]\"))\n",
    "print(is_balanced(\"]\"))\n"
   ],
   "metadata": {
    "collapsed": false,
    "ExecuteTime": {
     "end_time": "2023-07-27T18:33:18.089856300Z",
     "start_time": "2023-07-27T18:33:17.622516600Z"
    }
   }
  },
  {
   "cell_type": "markdown",
   "source": [
    "# Explanation:\n",
    "\n",
    "We initialize an empty list stack to serve as our stack to store the opening parentheses encountered in the string.\n",
    "\n",
    "We use a dictionary mapping to define the mapping of closing parentheses to their corresponding opening parentheses. This mapping will help us quickly check if a closing parenthesis matches the top element of the stack.\n",
    "\n",
    "We iterate through each character in the input string.\n",
    "\n",
    "If the character is an opening parenthesis (i.e., '(', '{', or '['), we push it onto the stack.\n",
    "\n",
    "If the character is a closing parenthesis (i.e., ')', '}', or ']'), we check if the stack is empty. If it is empty, there is no corresponding opening parenthesis, and the string is not balanced, so we return False.\n",
    "\n",
    "If the stack is not empty, we pop the top element from the stack and check if it matches the current closing parenthesis. If it doesn't match, the string is not balanced, so we return False.\n",
    "\n",
    "After processing all characters in the string, if the stack is empty, the string is balanced; otherwise, it is not balanced. We return True if the stack is empty, otherwise False.\n",
    "\n",
    "The function is now ready to check if a given string of parentheses is balanced. You can test it with different strings to see if they are balanced or not. The provided test cases show the expected outputs for various input strings."
   ],
   "metadata": {
    "collapsed": false
   }
  },
  {
   "cell_type": "code",
   "execution_count": 64,
   "outputs": [
    {
     "name": "stdout",
     "output_type": "stream",
     "text": [
      "e\n"
     ]
    }
   ],
   "source": [
    "def reserve_string(string):\n",
    "    stack = []\n",
    "    for char in string:\n",
    "        stack.append(char)\n",
    "    reverse_stack = \"\"\n",
    "    while stack:\n",
    "        reverse_stack += stack.pop()\n",
    "        return reverse_stack\n",
    "\n",
    "print(reserve_string(\"Tindae\"))"
   ],
   "metadata": {
    "collapsed": false,
    "ExecuteTime": {
     "end_time": "2023-07-27T18:33:18.089856300Z",
     "start_time": "2023-07-27T18:33:17.639195300Z"
    }
   }
  },
  {
   "cell_type": "markdown",
   "source": [
    "# Explanation:\n",
    "\n",
    "We create an empty list stack to serve as our stack to store the characters of the input string.\n",
    "\n",
    "We iterate through each character in the input string and push each character onto the stack using the append method.\n",
    "\n",
    "After pushing all characters onto the stack, we create an empty string reversed_string to store the reversed string.\n",
    "\n",
    "We use a while loop to pop each character from the stack one by one and append it to the reversed_string.\n",
    "\n",
    "The loop continues until the stack is empty, and all characters have been popped and added to the reversed_string.\n",
    "\n",
    "Finally, we return the reversed_string, which contains the reversed version of the input string.\n",
    "\n",
    "The reverse_string function is now ready to reverse any given input string. You can test it with different input strings to see the reversed output. The provided test cases demonstrate the expected outputs for various input strings."
   ],
   "metadata": {
    "collapsed": false
   }
  },
  {
   "cell_type": "markdown",
   "source": [
    "# Exercise 4\n",
    "Implement a stack-based function to evaluate a postfix expression."
   ],
   "metadata": {
    "collapsed": false
   }
  },
  {
   "cell_type": "code",
   "execution_count": 65,
   "outputs": [
    {
     "name": "stdout",
     "output_type": "stream",
     "text": [
      "2\n",
      "5\n",
      "4\n"
     ]
    }
   ],
   "source": [
    "\n",
    "def evaluate_postfix(postfix_expression):\n",
    "    stack = []\n",
    "    operators = {'+', '-', '*', '/'}\n",
    "    for token in postfix_expression:\n",
    "        if token not in operators:\n",
    "            stack.append(int(token))\n",
    "        else:\n",
    "            operand1 = stack.pop()\n",
    "            operand2 = stack.pop()\n",
    "\n",
    "            if token == '+':\n",
    "                result = operand1 + operand2\n",
    "            elif token == '-':\n",
    "                result = operand1 - operand2\n",
    "            elif token == '*':\n",
    "                result = operand1 * operand2\n",
    "            else:\n",
    "                operand1 / operand2\n",
    "            stack.append(result)\n",
    "        return stack[0]\n",
    "\n",
    "# Test cases\n",
    "print(evaluate_postfix(\"2 3 +\"))\n",
    "print(evaluate_postfix(\"5 2 * 8 + 7 /\"))\n",
    "print(evaluate_postfix(\"4 2 5 * + 1 3 2 * /\"))\n"
   ],
   "metadata": {
    "collapsed": false,
    "ExecuteTime": {
     "end_time": "2023-07-27T18:33:18.089856300Z",
     "start_time": "2023-07-27T18:33:17.705698200Z"
    }
   }
  },
  {
   "cell_type": "markdown",
   "source": [
    "# Exercise 5\n",
    "Implement a stack-based function to convert an infix expression to postfix notation."
   ],
   "metadata": {
    "collapsed": false
   }
  },
  {
   "cell_type": "code",
   "execution_count": 68,
   "outputs": [
    {
     "name": "stdout",
     "output_type": "stream",
     "text": [
      "2 3 +\n",
      "5 2 + 8 * 7 /\n",
      "4 2 5 * 1 3 2 * + / +\n"
     ]
    }
   ],
   "source": [
    "def infix_to_postfix(infix_expression):\n",
    "    precedence = {'+': 1, '-': 1, '*': 2, '/': 2}\n",
    "    stack = []\n",
    "    postfix_expression = []\n",
    "    operators = {'+', '-', '*', '/', '(', ')'}\n",
    "\n",
    "    for token in infix_expression.split():\n",
    "        if token not in operators:\n",
    "            postfix_expression.append(token)\n",
    "        elif token == '(':\n",
    "            stack.append(token)\n",
    "        elif token == ')':\n",
    "            while stack and stack[-1] != '(':\n",
    "                postfix_expression.append(stack.pop())\n",
    "            stack.pop()\n",
    "        else:\n",
    "            while stack and precedence.get(stack[-1], 0) >= precedence.get(token, 0):\n",
    "                postfix_expression.append(stack.pop())\n",
    "            stack.append(token)\n",
    "\n",
    "    while stack:\n",
    "        postfix_expression.append(stack.pop())\n",
    "\n",
    "    return ' '.join(postfix_expression)\n",
    "\n",
    "# Test cases\n",
    "print(infix_to_postfix(\"2 + 3\"))\n",
    "print(infix_to_postfix(\"( 5 + 2 ) * 8 / 7\"))\n",
    "print(infix_to_postfix(\"4 + 2 * 5 / ( 1 + 3 * 2 )\"))\n"
   ],
   "metadata": {
    "collapsed": false,
    "ExecuteTime": {
     "end_time": "2023-07-27T18:36:52.185089600Z",
     "start_time": "2023-07-27T18:36:52.153677600Z"
    }
   }
  },
  {
   "cell_type": "markdown",
   "source": [
    "Let's go through the code step by step to understand how it converts an infix expression to postfix notation using the \"Shunting Yard\" algorithm with a stack.\n",
    "\n",
    "**Input:** infix_expression\n",
    "\n",
    "**postfix_expression = []:** Initialize an empty list to store the postfix expression.\n",
    "\n",
    "**operators = {'+', '-', '*', '/', '(', ')'}:** Define the set of supported operators.\n",
    "\n",
    "**stack = []:** Initialize an empty stack to store operators temporarily during conversion.\n",
    "\n",
    "**precedence = {'+': 1, '-': 1, '*': 2, '/': 2}:** Define the precedence of operators.\n",
    "\n",
    "Loop through each token in the infix expression, where a token can be an operand (number/variable) or an operator.\n",
    "\n",
    "If the token is an operand (i.e., not in operators), append it directly to the postfix_expression. Operand tokens will be part of the final postfix expression as they are.\n",
    "If the token is an opening parenthesis '(', push it onto the stack. Parentheses are used to specify the grouping of operators and operands.\n",
    "If the token is a closing parenthesis ')', pop operators from the stack and append them to postfix_expression until an opening parenthesis '(' is encountered. Pop and discard the opening parenthesis from the stack. This process ensures that all operators within the parentheses are correctly handled.\n",
    "If the token is an operator (i.e., not an operand or parenthesis), we need to handle the operator precedence.\n",
    "While the stack is not empty and the precedence of the operator at the top of the stack is greater than or equal to the precedence of the current operator token, pop the top operator from the stack and append it to postfix_expression. This ensures that higher precedence operators are placed earlier in the postfix expression.\n",
    "Push the current operator token onto the stack.\n",
    "After processing all tokens, there might be some operators left in the stack. Pop them one by one and append them to the postfix_expression to ensure they are part of the final postfix expression.\n",
    "\n",
    "Finally, join all the tokens in postfix_expression using space to get the final postfix expression as a string.\n",
    "\n",
    "Output: postfix_expression\n",
    "\n",
    "Let's walk through an example to better understand the code:\n",
    "\n",
    "**Example input:**\"4 + 2 * 5 / ( 1 + 3 * 2 )\"\n",
    "\n",
    "Initialize postfix_expression and stack.\n",
    "\n",
    "Loop through each token in the infix expression:\n",
    "\n",
    "Token \"4\" is an operand, so append it to postfix_expression.\n",
    "Token \"+\" is an operator, so push it onto the stack.\n",
    "Token \"2\" is an operand, so append it to postfix_expression.\n",
    "Token \"*\" is an operator, so push it onto the stack.\n",
    "Token \"5\" is an operand, so append it to postfix_expression.\n",
    "Token \"/\" is an operator, so push it onto the stack.\n",
    "Token \"(\" is an opening parenthesis, so push it onto the stack.\n",
    "Token \"1\" is an operand, so append it to postfix_expression.\n",
    "Token \"+\" is an operator, but we have an opening parenthesis on the stack, so we push it onto the stack.\n",
    "Token \"3\" is an operand, so append it to postfix_expression.\n",
    "Token \"*\" is an operator, so push it onto the stack.\n",
    "Token \"2\" is an operand, so append it to postfix_expression.\n",
    "Token \")\" is a closing parenthesis. We pop operators (\"*\", \"+\") from the stack and append them to postfix_expression. We discard the opening parenthesis.\n",
    "Token \")\" is a closing parenthesis. We pop the remaining operator (\"/\") from the stack and append it to postfix_expression.\n",
    "After processing all tokens, we pop the remaining operators (\"+\", \"*\") from the stack and append them to postfix_expression.\n",
    "\n",
    "Join all tokens in postfix_expression to get the final postfix expression: \"4 2 5 * 1 3 2 * + / +\".\n",
    "\n",
    "The final output is the postfix representation of the input infix expression."
   ],
   "metadata": {
    "collapsed": false
   }
  },
  {
   "cell_type": "markdown",
   "source": [
    "# Exercise 6\n",
    "Implement a stack-based function to convert a postfix expression to an infix expression."
   ],
   "metadata": {
    "collapsed": false
   }
  },
  {
   "cell_type": "code",
   "execution_count": 70,
   "outputs": [
    {
     "name": "stdout",
     "output_type": "stream",
     "text": [
      "(2 + 3)\n",
      "(((5 + 2) * 8) / 7)\n",
      "((4 + (2 * 5)) / (1 + (3 * 2)))\n"
     ]
    }
   ],
   "source": [
    "def postfix_to_infix(postfix_expression):\n",
    "    stack = []\n",
    "    operators = {'+', '-', '*', '/'}\n",
    "    for token in postfix_expression.split():\n",
    "        if token not in operators:\n",
    "            stack.append(token)\n",
    "        else:\n",
    "            operand2 = stack.pop()\n",
    "            operand1 = stack.pop()\n",
    "            infix_expression = f\"({operand1} {token} {operand2})\"\n",
    "            stack.append(infix_expression)\n",
    "    return stack[0]\n",
    "# Test Cases\n",
    "print(postfix_to_infix(\"2 3 +\"))\n",
    "print(postfix_to_infix(\"5 2 + 8 * 7 / \"))\n",
    "print(postfix_to_infix(\"4 2 5 * + 1 3 2 * + /\"))"
   ],
   "metadata": {
    "collapsed": false,
    "ExecuteTime": {
     "end_time": "2023-07-28T03:52:34.417480600Z",
     "start_time": "2023-07-28T03:52:34.405451Z"
    }
   }
  },
  {
   "cell_type": "markdown",
   "source": [
    "# **Library Management System**\n",
    "\n",
    "You are tasked with implementing a simple library management system using a stack. The library keeps track of available books, borrowed books, and a stack to store the borrowing history.\n",
    "\n",
    "**Requirements**\n",
    "\n",
    "Implement a function borrow_book(book_title) that allows users to borrow a book from the library. If the book is available, it should be removed from the list of available books and added to the borrowed books list. Also, push the book title onto the stack to maintain the borrowing history.\n",
    "\n",
    "Implement a function return_book(book_title) that allows users to return a book to the library. If the book is borrowed, it should be removed from the borrowed books list and added back to the list of available books. Also, push the book title onto the stack to maintain the returning history.\n",
    "\n",
    "Implement a function print_available_books() to display the list of available books in the library.\n",
    "\n",
    "Implement a function print_borrowed_books() to display the list of borrowed books.\n",
    "\n",
    "Implement a function print_borrowing_history() to display the borrowing history (books borrowed and returned) using the stack.\n",
    "\n",
    "# Exercise:\n",
    "\n",
    "Your task is to implement the library management system as described above using a stack-based approach. Create a Python program with the necessary functions and a stack data structure to track the borrowing history. Test the program by performing several borrow and return operations, and display the available books, borrowed books, and the borrowing history at different stages."
   ],
   "metadata": {
    "collapsed": false
   }
  },
  {
   "cell_type": "markdown",
   "source": [
    "# **Hint**\n",
    "\n",
    "To implement the library management system using a stack, you can follow these steps:\n",
    "\n",
    "Create two lists: available_books and borrowed_books to keep track of the books available in the library and the books borrowed by users, respectively.\n",
    "\n",
    "Create an empty stack borrowing_history_stack to maintain the borrowing history.\n",
    "\n",
    "Implement the borrow_book(book_title) function:\n",
    "\n",
    "Check if the book_title is in the available_books list. If it is, remove the book from the available_books list and add it to the borrowed_books list.\n",
    "Push the book_title onto the borrowing_history_stack to record the borrowing action.\n",
    "Implement the return_book(book_title) function:\n",
    "\n",
    "Check if the book_title is in the borrowed_books list. If it is, remove the book from the borrowed_books list and add it back to the available_books list.\n",
    "Push the book_title onto the borrowing_history_stack to record the returning action.\n",
    "Implement the print_available_books() function:\n",
    "\n",
    "Print the list of books in the available_books list.\n",
    "Implement the print_borrowed_books() function:\n",
    "\n",
    "Print the list of books in the borrowed_books list.\n",
    "Implement the print_borrowing_history() function:\n",
    "\n",
    "While the borrowing_history_stack is not empty, pop the top book title from the stack and print it. This will display the borrowing history in reverse order (i.e., the latest action first).\n",
    "You can use these functions to perform borrow and return operations, and then print the available books, borrowed books, and the borrowing history to check if the library management system works correctly.\n",
    "\n",
    "The stack (borrowing_history_stack) will help you maintain the history of borrowing and returning actions in the correct order, which is essential for tracking the borrowing history."
   ],
   "metadata": {
    "collapsed": false
   }
  },
  {
   "cell_type": "code",
   "execution_count": 71,
   "outputs": [
    {
     "name": "stdout",
     "output_type": "stream",
     "text": [
      "Available Books\n",
      "- Book4\n",
      "\n",
      "- Book3\n",
      "\n",
      "Borrowed Books\n",
      "- Book1\n",
      "\n",
      "- Book2\n",
      "\n",
      "- Book5\n",
      "\n",
      "Borrowing History\n",
      "- Book5(Borrowed)\n",
      "\n",
      "- Book3(Returned)\n",
      "\n",
      "- Book2(Borrowed)\n",
      "\n",
      "- Book3(Borrowed)\n",
      "\n",
      "- Book1(Borrowed)\n",
      "\n"
     ]
    }
   ],
   "source": [
    "class LibraryManagementSystem:\n",
    "    def __init__(self):\n",
    "        self.available_books = []\n",
    "        self.borrowed_books = []\n",
    "        self.borrowing_history_stack = []\n",
    "\n",
    "    def borrow_book(self, book_title):\n",
    "        if book_title in self.available_books:\n",
    "            self.available_books.remove(book_title)\n",
    "            self.borrowed_books.append(book_title)\n",
    "            self.borrowing_history_stack.append(book_title + \"(Borrowed)\")\n",
    "\n",
    "    def return_book(self, book_title):\n",
    "        if book_title in self.borrowed_books:\n",
    "            self.borrowed_books.remove(book_title)\n",
    "            self.available_books.append(book_title)\n",
    "            self.borrowing_history_stack.append(book_title + \"(Returned)\")\n",
    "\n",
    "    def print_available_book(self):\n",
    "        print(\"Available Books\")\n",
    "        for book in self.available_books:\n",
    "            print('-', book)\n",
    "            print()\n",
    "\n",
    "    def print_borrowed_books(self):\n",
    "        print(\"Borrowed Books\")\n",
    "        for book in self.borrowed_books:\n",
    "            print(\"-\", book)\n",
    "            print()\n",
    "\n",
    "    def print_borrowing_history_stack(self):\n",
    "        print(\"Borrowing History\")\n",
    "        while self.borrowing_history_stack:\n",
    "            print(\"-\", self.borrowing_history_stack.pop())\n",
    "            print()\n",
    "# Testing\n",
    "library = LibraryManagementSystem()\n",
    "library.available_books = [\"Book1\", \"Book2\", \"Book3\", \"Book4\", \"Book5\"]\n",
    "library.borrow_book(\"Book1\")\n",
    "library.borrow_book(\"Book3\")\n",
    "library.borrow_book(\"Book2\")\n",
    "library.return_book(\"Book3\")\n",
    "library.borrow_book(\"Book5\")\n",
    "\n",
    "library.print_available_book()\n",
    "library.print_borrowed_books()\n",
    "library.print_borrowing_history_stack()"
   ],
   "metadata": {
    "collapsed": false,
    "ExecuteTime": {
     "end_time": "2023-07-28T10:15:54.257736100Z",
     "start_time": "2023-07-28T10:15:54.234999600Z"
    }
   }
  },
  {
   "cell_type": "markdown",
   "source": [
    "# **Explanation**\n",
    "\n",
    "We created the LibraryManagementSystem class with the necessary functions to implement the library management system.\n",
    "\n",
    "The borrow_book function allows users to borrow books from the library. It checks if the book is available, removes it from the available_books list, adds it to the borrowed_books list, and records the borrowing action in the borrowing_history_stack.\n",
    "\n",
    "The return_book function allows users to return books to the library. It checks if the book is borrowed, removes it from the borrowed_books list, adds it back to the available_books list, and records the returning action in the borrowing_history_stack.\n",
    "\n",
    "The print_available_books function prints the list of available books.\n",
    "\n",
    "The print_borrowed_books function prints the list of borrowed books.\n",
    "\n",
    "The print_borrowing_history function prints the borrowing history by popping the elements from the borrowing_history_stack in the correct order.\n",
    "\n",
    "We tested the library management system with a series of borrow and return operations and then printed the available books, borrowed books, and borrowing history.\n",
    "\n",
    "The library management system works as expected, and the stack-based approach helps maintain the borrowing history in the correct order."
   ],
   "metadata": {
    "collapsed": false
   }
  },
  {
   "cell_type": "markdown",
   "source": [
    "# **Student Management System**\n",
    "\n",
    "You are tasked with implementing a simple student management system using a stack. The system keeps track of student information, such as their names and grades, and uses a stack to maintain a history of changes made to the student records.\n",
    "\n",
    "# Requirements:\n",
    "\n",
    "Implement a function add_student(name, grade) to add a new student to the system with their name and grade.\n",
    "\n",
    "Implement a function update_grade(name, new_grade) to update the grade of an existing student by their name.\n",
    "\n",
    "Implement a function remove_student(name) to remove a student from the system by their name.\n",
    "\n",
    "Implement a function print_student_info(name) to display the information of a student by their name.\n",
    "\n",
    "Implement a function print_student_history() to display the history of changes made to the student records using the stack.\n",
    "\n",
    "# Exercise:\n",
    "\n",
    "Your task is to implement the student management system as described above using a stack-based approach. Create a Python program with the necessary functions and a stack data structure to track the history of changes. Test the program by performing several add, update, and remove operations, and display the student information and history of changes at different stages."
   ],
   "metadata": {
    "collapsed": false
   }
  },
  {
   "cell_type": "code",
   "execution_count": 72,
   "outputs": [
    {
     "name": "stdout",
     "output_type": "stream",
     "text": [
      "Name: John Grade: 98\n",
      "Student: Alice not found\n",
      "Name: Bob Grade: 99\n",
      "Student History\n",
      "- Added: Bob Grade: 99\n",
      "\n",
      "- Removed: Alice Grade: 90\n",
      "\n",
      "- Updated: John Grade: 85 -> 98\n",
      "\n",
      "- Added: Alice Grade: 90\n",
      "\n",
      "- Added: John Grade: 85\n",
      "\n"
     ]
    }
   ],
   "source": [
    "class StudentManagementSystem:\n",
    "    def __init__(self):\n",
    "        self.students = {}\n",
    "        self.student_history_stack = []\n",
    "\n",
    "    def add_student(self, name, grade):\n",
    "        self.students[name] = grade\n",
    "        self.student_history_stack.append(f\"Added: {name} Grade: {grade}\")\n",
    "\n",
    "    def update_grade(self, name, new_grade):\n",
    "        if name in self.students:\n",
    "            old_grade = self.students[name]\n",
    "            self.students[name] = new_grade\n",
    "            self.student_history_stack.append(f\"Updated: {name} Grade: {old_grade} -> {new_grade}\")\n",
    "    def remove_student(self, name):\n",
    "        if name in self.students:\n",
    "            grade = self.students.pop(name)\n",
    "            self.student_history_stack.append(f\"Removed: {name} Grade: {grade}\")\n",
    "    def print_student_info(self, name):\n",
    "        if name in self.students:\n",
    "            print(f\"Name: {name} Grade: {self.students[name]}\")\n",
    "        else:\n",
    "            print(f\"Student: {name} not found\")\n",
    "    def print_student_history(self):\n",
    "        print(\"Student History\")\n",
    "        while self.student_history_stack:\n",
    "            print(\"-\", self.student_history_stack.pop())\n",
    "            print()\n",
    "# Test the student management system\n",
    "student_system = StudentManagementSystem()\n",
    "student_system.add_student(\"John\", 85)\n",
    "student_system.add_student(\"Alice\", 90)\n",
    "student_system.update_grade(\"John\", 98)\n",
    "student_system.remove_student(\"Alice\")\n",
    "student_system.add_student(\"Bob\", 99)\n",
    "student_system.print_student_info(\"John\")\n",
    "student_system.print_student_info(\"Alice\")\n",
    "student_system.print_student_info(\"Bob\")\n",
    "student_system.print_student_history()"
   ],
   "metadata": {
    "collapsed": false,
    "ExecuteTime": {
     "end_time": "2023-07-28T15:12:01.713320400Z",
     "start_time": "2023-07-28T15:12:01.679310800Z"
    }
   }
  },
  {
   "cell_type": "markdown",
   "source": [
    "# **Explanation**\n",
    "\n",
    "We created the StudentManagementSystem class with the necessary functions to implement the student management system.\n",
    "\n",
    "The students dictionary is used to store student information, where the student name is the key and the grade is the value. The student_history_stack is an empty stack to maintain the history of changes made to student records.\n",
    "\n",
    "The add_student function allows adding a new student to the system. It adds the student name and grade to the students dictionary and records the action in the student_history_stack.\n",
    "\n",
    "The update_grade function allows updating the grade of an existing student. It checks if the student exists in the students dictionary, updates the grade, and records the action in the student_history_stack.\n",
    "\n",
    "The remove_student function allows removing a student from the system. It checks if the student exists in the students dictionary, removes the student, and records the action in the student_history_stack.\n",
    "\n",
    "The print_student_info function prints the information of a student by their name if they exist in the students dictionary.\n",
    "\n",
    "The print_student_history function prints the history of changes made to student records by popping elements from the student_history_stack in the correct order.\n",
    "\n",
    "We tested the student management system with a series of add, update, and remove operations and then printed the student information and the history of changes.\n",
    "\n",
    "The student management system works as expected, and the stack-based approach helps maintain the history of changes in the correct order."
   ],
   "metadata": {
    "collapsed": false
   }
  },
  {
   "cell_type": "markdown",
   "source": [
    "# **Product Management System**\n",
    "\n",
    "You are tasked with implementing a simple product management system using a stack. The system keeps track of product information, such as product names and prices, and uses a stack to maintain a history of changes made to the product records.\n",
    "\n",
    "Requirements:\n",
    "\n",
    "Implement a function add_product(name, price) to add a new product to the system with its name and price.\n",
    "\n",
    "Implement a function update_price(name, new_price) to update the price of an existing product by its name.\n",
    "\n",
    "Implement a function remove_product(name) to remove a product from the system by its name.\n",
    "\n",
    "Implement a function print_product_info(name) to display the information of a product by its name.\n",
    "\n",
    "Implement a function print_product_history() to display the history of changes made to the product records using the stack.\n",
    "\n",
    "## Exercise:\n",
    "\n",
    "Your task is to implement the product management system as described above using a stack-based approach. Create a Python program with the necessary functions and a stack data structure to track the history of changes. Test the program by performing several add, update, and remove operations, and display the product information and history of changes at different stages."
   ],
   "metadata": {
    "collapsed": false
   }
  },
  {
   "cell_type": "code",
   "execution_count": 73,
   "outputs": [
    {
     "name": "stdout",
     "output_type": "stream",
     "text": [
      "Name: Book Price: 500\n",
      "Name: Pen not found\n",
      "Name: Phone Price: 1200\n",
      "Product History\n",
      "- Added: Phone Price: 1200\n",
      "\n",
      "- Removed: Pen Price: 200\n",
      "\n",
      "- Updated: Book Price: 500 -> 950\n",
      "\n",
      "- Added: Pen Price: 200\n",
      "\n",
      "- Added: Book Price: 500\n",
      "\n"
     ]
    }
   ],
   "source": [
    "class ProductManagementSystem:\n",
    "    def __init__(self):\n",
    "        self.products = {}\n",
    "        self.product_history_stack = []\n",
    "\n",
    "    def add_product(self, name, price):\n",
    "        self.products[name] = price\n",
    "        self.product_history_stack.append(f\"Added: {name} Price: {price}\")\n",
    "    def update_product(self, name, new_price):\n",
    "        if name in self.products:\n",
    "            old_price = self.products[name]\n",
    "            self.product_history_stack.append(f\"Updated: {name} Price: {old_price} -> {new_price}\")\n",
    "    def remove_product(self, name):\n",
    "        if name in self.products:\n",
    "            price = self.products.pop(name)\n",
    "        self.product_history_stack.append(f\"Removed: {name} Price: {price}\")\n",
    "    def print_product_info(self, name):\n",
    "        if name in self.products:\n",
    "            print(f\"Name: {name} Price: {self.products[name]}\")\n",
    "        else:\n",
    "            print(f\"Name: {name} not found\")\n",
    "    def print_product_history(self):\n",
    "        print(\"Product History\")\n",
    "        while self.product_history_stack:\n",
    "            print(\"-\", self.product_history_stack.pop())\n",
    "            print()\n",
    "product = ProductManagementSystem()\n",
    "product.add_product(\"Book\", 500)\n",
    "product.add_product(\"Pen\", 200)\n",
    "product.update_product(\"Book\", 950)\n",
    "product.remove_product(\"Pen\")\n",
    "product.add_product(\"Phone\", 1200)\n",
    "product.print_product_info(\"Book\")\n",
    "product.print_product_info(\"Pen\")\n",
    "product.print_product_info(\"Phone\")\n",
    "product.print_product_history()"
   ],
   "metadata": {
    "collapsed": false,
    "ExecuteTime": {
     "end_time": "2023-07-28T16:15:59.957131800Z",
     "start_time": "2023-07-28T16:15:59.807944900Z"
    }
   }
  },
  {
   "cell_type": "code",
   "execution_count": null,
   "outputs": [],
   "source": [],
   "metadata": {
    "collapsed": false
   }
  }
 ],
 "metadata": {
  "kernelspec": {
   "display_name": "Python 3",
   "language": "python",
   "name": "python3"
  },
  "language_info": {
   "codemirror_mode": {
    "name": "ipython",
    "version": 2
   },
   "file_extension": ".py",
   "mimetype": "text/x-python",
   "name": "python",
   "nbconvert_exporter": "python",
   "pygments_lexer": "ipython2",
   "version": "2.7.6"
  }
 },
 "nbformat": 4,
 "nbformat_minor": 0
}

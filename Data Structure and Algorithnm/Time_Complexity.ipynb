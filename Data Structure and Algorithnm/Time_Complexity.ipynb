{
 "cells": [
  {
   "cell_type": "markdown",
   "source": [
    "## Tutorial on Order of Growth in Time Complexity in Python\n",
    "## Introduction\n",
    "When analyzing algorithms, one crucial aspect to consider is their efficiency in terms of time and space usage. Time complexity deals with understanding how the running time of an algorithm grows as the input size increases. Order of growth is a way to express this growth rate, providing valuable insights into an algorithm's scalability.\n",
    "\n",
    "In this tutorial, we'll focus on understanding the concept of order of growth and how to determine it for various Python algorithms.\n",
    "\n",
    "1. Big O Notation\n",
    "The Big O notation is commonly used to represent the upper bound of an algorithm's time complexity. It provides a simple and concise way to express how an algorithm's runtime grows relative to the size of its input. In Big O notation, we use O(f(n)) to denote the upper bound, where f(n) represents the rate of growth.\n",
    "\n",
    "Here are some common Big O notations along with examples of their typical algorithms:\n",
    "\n",
    "O(1) - Constant Time: The algorithm's runtime remains constant, regardless of the input size. Example: Accessing an element from an array by its index.\n",
    "O(log n) - Logarithmic Time: The algorithm's runtime grows logarithmically with the input size. Example: Binary search in a sorted list.\n",
    "O(n) - Linear Time: The algorithm's runtime grows linearly with the input size. Example: Searching for an element in an unsorted list.\n",
    "O(n log n) - Linearithmic Time: The algorithm's runtime grows in between linear and logarithmic time. Example: Merge sort.\n",
    "O(n^2) - Quadratic Time: The algorithm's runtime grows quadratically with the input size. Example: Selection sort.\n",
    "O(n^3) - Cubic Time: The algorithm's runtime grows cubically with the input size. Example: Matrix multiplication using nested loops.\n",
    "O(2^n) - Exponential Time: The algorithm's runtime grows exponentially with the input size. Example: Generating all subsets of a set.\n",
    "\n",
    "2. Determining Time Complexity in Python\n",
    "To determine the time complexity of a Python algorithm, follow these steps:\n",
    "\n",
    "Step 1: Identify the Input Size\n",
    "Understand what the input size is for your algorithm. For example, in a list sorting algorithm, the input size is the length of the list n.\n",
    "\n",
    "Step 2: Count Basic Operations\n",
    "Count the number of basic operations executed by the algorithm as a function of the input size. Basic operations can be assignments, comparisons, arithmetic operations, function calls, etc.\n",
    "\n",
    "Step 3: Find Dominant Terms\n",
    "Identify the dominant term(s) that contribute the most to the total number of operations. Ignore lower-order terms and constant factors.\n",
    "\n",
    "Step 4: Express Time Complexity Using Big O Notation\n",
    "Express the time complexity using Big O notation, based on the dominant terms. This provides a concise representation of the algorithm's growth rate.\n",
    "\n",
    "3. Examples\n",
    "Let's analyze the time complexity of some common Python algorithms:\n",
    "\n",
    "Example 1: Linear Search"
   ],
   "metadata": {
    "collapsed": false
   }
  },
  {
   "cell_type": "code",
   "execution_count": 1,
   "outputs": [],
   "source": [
    "def linear_search(arr, target):\n",
    "    for item in arr:\n",
    "        if item == target:\n",
    "            return True\n",
    "    return False\n"
   ],
   "metadata": {
    "collapsed": false,
    "ExecuteTime": {
     "end_time": "2023-07-26T10:34:09.966345200Z",
     "start_time": "2023-07-26T10:34:09.929368900Z"
    }
   }
  },
  {
   "cell_type": "markdown",
   "source": [
    "Input Size: n (length of arr).\n",
    "Basic Operations: The loop iterates n times and performs one comparison in each iteration.\n",
    "Dominant Term: The loop, which executes n times.\n",
    "Time Complexity: O(n).\n",
    "Example 2: Binary Search"
   ],
   "metadata": {
    "collapsed": false
   }
  },
  {
   "cell_type": "code",
   "execution_count": 2,
   "outputs": [],
   "source": [
    "def binary_search(arr, target):\n",
    "    low, high = 0, len(arr) - 1\n",
    "    while low <= high:\n",
    "        mid = (low + high) // 2\n",
    "        if arr[mid] == target:\n",
    "            return True\n",
    "        elif arr[mid] < target:\n",
    "            low = mid + 1\n",
    "        else:\n",
    "            high = mid - 1\n",
    "    return False\n"
   ],
   "metadata": {
    "collapsed": false,
    "ExecuteTime": {
     "end_time": "2023-07-26T10:34:50.657259200Z",
     "start_time": "2023-07-26T10:34:50.591565600Z"
    }
   }
  },
  {
   "cell_type": "markdown",
   "source": [
    "Input Size: n (length of arr).\n",
    "Basic Operations: The loop iterates until the subrange becomes empty, and in each iteration, it performs one comparison and updates the subrange.\n",
    "Dominant Term: The loop, which performs log(n) iterations.\n",
    "Time Complexity: O(log n).\n",
    "\n",
    "Example 3: Bubble Sort"
   ],
   "metadata": {
    "collapsed": false
   }
  },
  {
   "cell_type": "code",
   "execution_count": 3,
   "outputs": [],
   "source": [
    "def bubble_sort(arr):\n",
    "    n = len(arr)\n",
    "    for i in range(n):\n",
    "        for j in range(0, n-i-1):\n",
    "            if arr[j] > arr[j+1]:\n",
    "                arr[j], arr[j+1] = arr[j+1], arr[j]\n"
   ],
   "metadata": {
    "collapsed": false,
    "ExecuteTime": {
     "end_time": "2023-07-26T10:35:33.037096Z",
     "start_time": "2023-07-26T10:35:32.974080200Z"
    }
   }
  },
  {
   "cell_type": "markdown",
   "source": [
    "Input Size: n (length of arr).\n",
    "Basic Operations: The nested loops execute a total of (n-1) + (n-2) + ... + 1 = n(n-1)/2 comparisons and swaps.\n",
    "Dominant Term: The nested loops, which execute in quadratic time.\n",
    "Time Complexity: O(n^2).\n",
    "\n",
    "## Conclusion\n",
    "Understanding the order of growth in time complexity is essential for evaluating the efficiency and scalability of algorithms. By expressing the time complexity using Big O notation, we can make informed decisions about choosing the best algorithm for a specific problem or optimizing existing solutions. Python provides a powerful platform for implementing and analyzing algorithms, allowing developers to create efficient and performant applications."
   ],
   "metadata": {
    "collapsed": false
   }
  },
  {
   "cell_type": "markdown",
   "source": [
    "## EXERCISES\n",
    "\n",
    "## Exercise 1: Sum of List Elements"
   ],
   "metadata": {
    "collapsed": false
   }
  },
  {
   "cell_type": "code",
   "execution_count": 4,
   "outputs": [],
   "source": [
    "def sum_list_elements(lst):\n",
    "    total_sum = 0\n",
    "    for num in lst:\n",
    "        total_sum += num\n",
    "    return total_sum\n"
   ],
   "metadata": {
    "collapsed": false,
    "ExecuteTime": {
     "end_time": "2023-07-26T12:56:39.242467500Z",
     "start_time": "2023-07-26T12:56:39.231956700Z"
    }
   }
  },
  {
   "cell_type": "markdown",
   "source": [
    "Step 1: Identify the input size: The input size is the length of the list, denoted as n.\n",
    "\n",
    "Step 2: Count basic operations: In this case, we have a loop that iterates through the list once and performs a single addition operation (total_sum += num) in each iteration.\n",
    "\n",
    "Step 3: Find dominant terms: The loop iterates n times, so the dominant term is the loop.\n",
    "\n",
    "Step 4: Express time complexity using Big O notation: Since the loop executes n times, the time complexity is O(n).\n",
    "\n",
    "\n",
    "## Exercise 2: Finding Maximum Element"
   ],
   "metadata": {
    "collapsed": false
   }
  },
  {
   "cell_type": "code",
   "execution_count": 5,
   "outputs": [],
   "source": [
    "def find_max_element(lst):\n",
    "    max_element = lst[0]\n",
    "    for num in lst:\n",
    "        if num > max_element:\n",
    "            max_element = num\n",
    "    return max_element\n"
   ],
   "metadata": {
    "collapsed": false,
    "ExecuteTime": {
     "end_time": "2023-07-26T12:57:41.462120Z",
     "start_time": "2023-07-26T12:57:41.436509100Z"
    }
   }
  },
  {
   "cell_type": "markdown",
   "source": [
    "Step 1: Identify the input size: The input size is the length of the list, denoted as n.\n",
    "\n",
    "Step 2: Count basic operations: In this case, we have a loop that iterates through the list once and performs a single comparison (num > max_element) and one assignment (max_element = num) in each iteration.\n",
    "\n",
    "Step 3: Find dominant terms: The loop iterates n times, so the dominant term is the loop.\n",
    "\n",
    "Step 4: Express time complexity using Big O notation: Since the loop executes n times, the time complexity is O(n).\n",
    "\n",
    "## Exercise 3: Element Frequency"
   ],
   "metadata": {
    "collapsed": false
   }
  },
  {
   "cell_type": "code",
   "execution_count": 6,
   "outputs": [],
   "source": [
    "def count_frequency(lst, target):\n",
    "    frequency = 0\n",
    "    for num in lst:\n",
    "        if num == target:\n",
    "            frequency += 1\n",
    "    return frequency\n"
   ],
   "metadata": {
    "collapsed": false,
    "ExecuteTime": {
     "end_time": "2023-07-26T12:59:10.267721300Z",
     "start_time": "2023-07-26T12:59:10.236548700Z"
    }
   }
  },
  {
   "cell_type": "markdown",
   "source": [
    "Step 1: Identify the input size: The input size is the length of the list, denoted as n.\n",
    "\n",
    "Step 2: Count basic operations: In this case, we have a loop that iterates through the list once and performs a single comparison (num == target) and one assignment (frequency += 1) in each iteration.\n",
    "\n",
    "Step 3: Find dominant terms: The loop iterates n times, so the dominant term is the loop.\n",
    "\n",
    "Step 4: Express time complexity using Big O notation: Since the loop executes n times, the time complexity is O(n).\n",
    "\n",
    "## Exercise 4: Removing Duplicates"
   ],
   "metadata": {
    "collapsed": false
   }
  },
  {
   "cell_type": "code",
   "execution_count": 7,
   "outputs": [],
   "source": [
    "def remove_duplicates(lst):\n",
    "    unique_list = []\n",
    "    for num in lst:\n",
    "        if num not in unique_list:\n",
    "            unique_list.append(num)\n",
    "    return unique_list\n"
   ],
   "metadata": {
    "collapsed": false,
    "ExecuteTime": {
     "end_time": "2023-07-26T13:00:47.336312900Z",
     "start_time": "2023-07-26T13:00:47.307586700Z"
    }
   }
  },
  {
   "cell_type": "markdown",
   "source": [
    "Step 1: Identify the input size: The input size is the length of the list, denoted as n.\n",
    "\n",
    "Step 2: Count basic operations: In this case, we have a loop that iterates through the list once and performs a single lookup (num not in unique_list) and one append operation (unique_list.append(num)) in each iteration.\n",
    "\n",
    "Step 3: Find dominant terms: The loop iterates n times, so the dominant term is the loop.\n",
    "\n",
    "Step 4: Express time complexity using Big O notation: Since the loop executes n times, the time complexity is O(n).\n",
    "\n",
    "## Exercise 5: Linear Search in Matrix"
   ],
   "metadata": {
    "collapsed": false
   }
  },
  {
   "cell_type": "code",
   "execution_count": 8,
   "outputs": [],
   "source": [
    "def linear_search_matrix(matrix, target):\n",
    "    for row in matrix:\n",
    "        for num in row:\n",
    "            if num == target:\n",
    "                return True\n",
    "    return False\n"
   ],
   "metadata": {
    "collapsed": false,
    "ExecuteTime": {
     "end_time": "2023-07-26T13:01:27.134605200Z",
     "start_time": "2023-07-26T13:01:27.083383Z"
    }
   }
  },
  {
   "cell_type": "markdown",
   "source": [
    "Step 1: Identify the input size: The input size is the total number of elements in the matrix, denoted as n.\n",
    "\n",
    "Step 2: Count basic operations: In this case, we have nested loops. The outer loop iterates through the rows of the matrix, and the inner loop iterates through the elements of each row. In each iteration of the inner loop, we perform a single comparison (num == target).\n",
    "\n",
    "Step 3: Find dominant terms: The nested loops execute a total of n times, where n is the total number of elements in the matrix.\n",
    "\n",
    "Step 4: Express time complexity using Big O notation: Since the loops execute n times, the time complexity is O(n).\n",
    "\n",
    "## Exercise 6: Word Count in Text"
   ],
   "metadata": {
    "collapsed": false
   }
  },
  {
   "cell_type": "code",
   "execution_count": 9,
   "outputs": [],
   "source": [
    "def word_count(text):\n",
    "    word_freq = {}\n",
    "    words = text.lower().split()\n",
    "    for word in words:\n",
    "        word = word.strip('.,!?()[]{}\":;')\n",
    "        if word in word_freq:\n",
    "            word_freq[word] += 1\n",
    "        else:\n",
    "            word_freq[word] = 1\n",
    "    return word_freq\n"
   ],
   "metadata": {
    "collapsed": false,
    "ExecuteTime": {
     "end_time": "2023-07-26T13:02:11.295187700Z",
     "start_time": "2023-07-26T13:02:11.244210500Z"
    }
   }
  },
  {
   "cell_type": "markdown",
   "source": [
    "Step 1: Identify the input size: The input size is the total number of words in the text, denoted as n.\n",
    "\n",
    "Step 2: Count basic operations: In this case, we have a loop that iterates through the list of words once and performs a few string operations (word.lower(), word.strip()) and dictionary operations (word_freq[word] += 1, word_freq[word] = 1) in each iteration.\n",
    "\n",
    "Step 3: Find dominant terms: The loop iterates n times, so the dominant term is the loop.\n",
    "\n",
    "Step 4: Express time complexity using Big O notation: Since the loop executes n times, the time complexity is O(n)."
   ],
   "metadata": {
    "collapsed": false
   }
  },
  {
   "cell_type": "markdown",
   "source": [
    "## Exercise 1: Printing All Pairs\n",
    "Write a Python function that takes a list of numbers as input and prints all possible pairs of elements in the list."
   ],
   "metadata": {
    "collapsed": false
   }
  },
  {
   "cell_type": "code",
   "execution_count": 10,
   "outputs": [],
   "source": [
    "def print_all_pairs(lst):\n",
    "    n = len(lst)\n",
    "    for i in range(n):\n",
    "        for j in range(n):\n",
    "            print(lst[i], lst[j])\n"
   ],
   "metadata": {
    "collapsed": false,
    "ExecuteTime": {
     "end_time": "2023-07-26T13:18:59.676936900Z",
     "start_time": "2023-07-26T13:18:59.642572600Z"
    }
   }
  },
  {
   "cell_type": "markdown",
   "source": [
    "Step-by-step explanation:\n",
    "\n",
    "Step 1: Identify the input size: The input size is the length of the list lst, denoted as n.\n",
    "\n",
    "Step 2: Count basic operations: In this case, we have two nested loops. The outer loop iterates n times, and the inner loop also iterates n times. Inside the inner loop, we have a constant number of operations: a print statement and two list index operations.\n",
    "\n",
    "Step 3: Find dominant terms: The nested loops execute a total of n * n times, which results in the quadratic time complexity.\n",
    "\n",
    "Step 4: Express time complexity using Big O notation: Since the nested loops execute n * n times, the time complexity is O(n^2)\n",
    "\n",
    "\n",
    "Exercise 2: Matrix Multiplication\n",
    "Write a Python function that takes two square matrices (lists of lists) as input and returns their product.\n",
    "\n",
    "\n"
   ],
   "metadata": {
    "collapsed": false
   }
  },
  {
   "cell_type": "code",
   "execution_count": 11,
   "outputs": [],
   "source": [
    "def matrix_multiplication(matrix1, matrix2):\n",
    "    n = len(matrix1)\n",
    "    result = [[0 for _ in range(n)] for _ in range(n)]\n",
    "    for i in range(n):\n",
    "        for j in range(n):\n",
    "            for k in range(n):\n",
    "                result[i][j] += matrix1[i][k] * matrix2[k][j]\n",
    "    return result\n"
   ],
   "metadata": {
    "collapsed": false,
    "ExecuteTime": {
     "end_time": "2023-07-26T13:21:59.136689400Z",
     "start_time": "2023-07-26T13:21:59.069876700Z"
    }
   }
  },
  {
   "cell_type": "markdown",
   "source": [
    "Step-by-step explanation:\n",
    "\n",
    "Step 1: Identify the input size: The input size is the size of the square matrices, which is represented by the number of rows (or columns) in one of the matrices. Let's denote it as n.\n",
    "\n",
    "Step 2: Count basic operations: In this case, we have three nested loops. The outer two loops iterate n times each, and the innermost loop also iterates n times. Inside the innermost loop, we have a constant number of operations: a multiplication and two list index operations.\n",
    "\n",
    "Step 3: Find dominant terms: The nested loops execute a total of n * n * n times, which results in the cubic time complexity.\n",
    "\n",
    "Step 4: Express time complexity using Big O notation: Since the nested loops execute n * n * n times, the time complexity is O(n^3)."
   ],
   "metadata": {
    "collapsed": false
   }
  },
  {
   "cell_type": "markdown",
   "source": [
    "## Tutorial on Logarithmic Time Complexity in Python\n",
    "In this tutorial, we'll explore logarithmic time complexity in the context of algorithms and programming in Python. We'll start with an explanation of logarithms and how they relate to time complexity. Then, we'll cover various examples of algorithms with logarithmic time complexity, along with step-by-step explanations for each example.\n",
    "\n",
    "## What is Logarithmic Time Complexity?\n",
    "Logarithmic time complexity, often denoted as O(log n), is a time complexity that occurs when the execution time of an algorithm decreases logarithmically as the size of the input (n) increases. In simpler terms, when an algorithm has logarithmic time complexity, its performance improves dramatically as the input size grows larger. Algorithms with logarithmic time complexity are generally considered highly efficient.\n",
    "\n",
    "Logarithmic time complexity typically arises in algorithms that divide the input into smaller portions in each step, resulting in a significant reduction of data to process with each iteration. Common examples of algorithms with logarithmic time complexity include binary search and certain divide-and-conquer algorithms.\n",
    "\n",
    "## Examples of Logarithmic Time Complexity\n",
    "## Example 1: Binary Search\n",
    "Binary search is a classic example of an algorithm with logarithmic time complexity. It is used to find a specific target element in a sorted list efficiently."
   ],
   "metadata": {
    "collapsed": false
   }
  },
  {
   "cell_type": "code",
   "execution_count": 12,
   "outputs": [],
   "source": [
    "def binary_search(arr, target):\n",
    "    low = 0\n",
    "    high = len(arr) - 1\n",
    "\n",
    "    while low <= high:\n",
    "        mid = (low + high) // 2\n",
    "        if arr[mid] == target:\n",
    "            return mid\n",
    "        elif arr[mid] < target:\n",
    "            low = mid + 1\n",
    "        else:\n",
    "            high = mid - 1\n",
    "\n",
    "    return -1\n"
   ],
   "metadata": {
    "collapsed": false,
    "ExecuteTime": {
     "end_time": "2023-07-26T13:24:53.648927500Z",
     "start_time": "2023-07-26T13:24:53.549784Z"
    }
   }
  },
  {
   "cell_type": "markdown",
   "source": [
    "Step-by-step explanation:\n",
    "\n",
    "Identify the input size: The input size is the length of the sorted list arr, denoted as n.\n",
    "\n",
    "Count basic operations: In this case, we have a while loop that continues until the low and high pointers meet. In each iteration, we perform a comparison and arithmetic operations.\n",
    "\n",
    "Find dominant terms: The while loop divides the input size in half in each iteration, resulting in logarithmic behavior.\n",
    "\n",
    "Express time complexity using Big O notation: Since the while loop reduces the search space logarithmically, the time complexity is O(log n).\n",
    "\n",
    "## Example 2: Merge Sort\n",
    "Merge sort is an efficient sorting algorithm that uses the divide-and-conquer approach to sort an array."
   ],
   "metadata": {
    "collapsed": false
   }
  },
  {
   "cell_type": "code",
   "execution_count": 13,
   "outputs": [],
   "source": [
    "def merge_sort(arr):\n",
    "    if len(arr) <= 1:\n",
    "        return arr\n",
    "\n",
    "    mid = len(arr) // 2\n",
    "    left_half = merge_sort(arr[:mid])\n",
    "    right_half = merge_sort(arr[mid:])\n",
    "    return merge(left_half, right_half)\n",
    "\n",
    "def merge(left, right):\n",
    "    merged = []\n",
    "    left_index, right_index = 0, 0\n",
    "\n",
    "    while left_index < len(left) and right_index < len(right):\n",
    "        if left[left_index] < right[right_index]:\n",
    "            merged.append(left[left_index])\n",
    "            left_index += 1\n",
    "        else:\n",
    "            merged.append(right[right_index])\n",
    "            right_index += 1\n",
    "\n",
    "    merged.extend(left[left_index:])\n",
    "    merged.extend(right[right_index:])\n",
    "    return merged\n"
   ],
   "metadata": {
    "collapsed": false,
    "ExecuteTime": {
     "end_time": "2023-07-26T13:25:54.053399600Z",
     "start_time": "2023-07-26T13:25:54.020359800Z"
    }
   }
  },
  {
   "cell_type": "markdown",
   "source": [
    "Step-by-step explanation:\n",
    "\n",
    "Identify the input size: The input size is the length of the array arr, denoted as n.\n",
    "\n",
    "Count basic operations: The merge sort algorithm divides the input array into smaller halves recursively and then merges them. The merge operation involves iterating through both halves and merging them, which takes linear time in each merge step.\n",
    "\n",
    "Find dominant terms: The dominant term comes from the recursive division and merging steps.\n",
    "\n",
    "Express time complexity using Big O notation: The recursive division of the array reduces the problem size logarithmically (log n), and the merging operation adds a linear factor. As a result, the overall time complexity is O(n log n).\n",
    "\n",
    "Exercises on Logarithmic Time Complexity\n",
    "Now, let's dive into some exercises to practice logarithmic time complexity:\n",
    "\n",
    "## Exercise 1: Finding the Square Root\n",
    "Write a Python function that takes a positive integer n as input and returns the square root of n. Implement the function using binary search."
   ],
   "metadata": {
    "collapsed": false
   }
  },
  {
   "cell_type": "code",
   "execution_count": 14,
   "outputs": [],
   "source": [
    "def square_root(n):\n",
    "    if n < 0:\n",
    "        return None\n",
    "\n",
    "    low, high = 0, n\n",
    "    epsilon = 1e-9\n",
    "\n",
    "    while low <= high:\n",
    "        mid = (low + high) / 2\n",
    "        square = mid * mid\n",
    "\n",
    "        if abs(square - n) < epsilon:\n",
    "            return mid\n",
    "        elif square < n:\n",
    "            low = mid\n",
    "        else:\n",
    "            high = mid\n",
    "\n",
    "    return None\n"
   ],
   "metadata": {
    "collapsed": false,
    "ExecuteTime": {
     "end_time": "2023-07-26T13:26:43.044370Z",
     "start_time": "2023-07-26T13:26:42.895409500Z"
    }
   }
  },
  {
   "cell_type": "markdown",
   "source": [
    "## Exercise 2: Finding the Power of a Number\n",
    "Write a Python function that takes a base x and an exponent n as input and returns the value of x raised to the power of n. Implement the function using binary exponentiation."
   ],
   "metadata": {
    "collapsed": false
   }
  },
  {
   "cell_type": "code",
   "execution_count": 15,
   "outputs": [],
   "source": [
    "def power(x, n):\n",
    "    if n == 0:\n",
    "        return 1\n",
    "\n",
    "    result = 1\n",
    "    while n > 0:\n",
    "        if n % 2 == 1:\n",
    "            result *= x\n",
    "        x *= x\n",
    "        n //= 2\n",
    "\n",
    "    return result\n"
   ],
   "metadata": {
    "collapsed": false,
    "ExecuteTime": {
     "end_time": "2023-07-26T13:27:20.493783700Z",
     "start_time": "2023-07-26T13:27:20.443773400Z"
    }
   }
  },
  {
   "cell_type": "markdown",
   "source": [
    "Conclusion\n",
    "In this tutorial, we explored logarithmic time complexity and its significance in algorithm analysis. We covered examples of algorithms with logarithmic time complexity, including binary search and merge sort. Additionally, we practiced solving coding exercises with logarithmic time complexity, which involved binary search, binary exponentiation, and searching in a sorted matrix.\n",
    "\n",
    "Understanding logarithmic time complexity is crucial for recognizing and developing efficient algorithms that can handle large inputs effectively. With this knowledge, you can make informed decisions while designing algorithms and optimize their performance.\n",
    "\n",
    "Keep practicing and exploring different algorithms to improve your understanding of time complexity and become a more proficient programmer!"
   ],
   "metadata": {
    "collapsed": false
   }
  },
  {
   "cell_type": "markdown",
   "source": [
    "## Tutorial: Manipulating Time Complexity in Python\n",
    "In this tutorial, we will explore how to manipulate the time complexity of algorithms in Python. We will learn techniques to transform algorithms from one time complexity to another. We'll start with an explanation of different time complexities and then proceed with coding exercises to demonstrate the transformation step-by-step.\n",
    "\n",
    "## Understanding Different Time Complexities\n",
    "Before we dive into manipulation, let's briefly review the common time complexities we'll be working with:\n",
    "\n",
    "Constant Time Complexity (O(1)): The execution time of the algorithm remains constant, regardless of the input size.\n",
    "\n",
    "Linear Time Complexity (O(n)): The execution time of the algorithm scales linearly with the input size.\n",
    "\n",
    "Logarithmic Time Complexity (O(log n)): The execution time of the algorithm grows logarithmically with the input size.\n",
    "\n",
    "Quadratic Time Complexity (O(n^2)): The execution time of the algorithm grows quadratically with the input size.\n",
    "\n",
    "## Techniques for Manipulation\n",
    "Loop Unrolling: Transform loops with a fixed number of iterations into simple statements to reduce the constant factor.\n",
    "\n",
    "Binary Search: Utilize binary search to convert linear time complexity to logarithmic time complexity.\n",
    "\n",
    "Dynamic Programming: Use memoization or tabulation to reduce repeated calculations and improve exponential or factorial time complexity.\n",
    "\n",
    "Divide and Conquer: Break a problem into subproblems, solve them independently, and combine the results to achieve better time complexity.\n",
    "\n",
    "## Coding Exercises\n",
    "Exercise 1: Constant Time to Linear Time\n",
    "Let's convert a constant time algorithm into a linear time algorithm. The original function takes a list of numbers as input and returns the sum of all elements."
   ],
   "metadata": {
    "collapsed": false
   }
  },
  {
   "cell_type": "code",
   "execution_count": 16,
   "outputs": [],
   "source": [
    "# Original O(1) algorithm\n",
    "def constant_to_linear_sum(nums):\n",
    "    return sum(nums)\n"
   ],
   "metadata": {
    "collapsed": false,
    "ExecuteTime": {
     "end_time": "2023-07-26T14:56:54.962544200Z",
     "start_time": "2023-07-26T14:56:54.862152700Z"
    }
   }
  },
  {
   "cell_type": "code",
   "execution_count": 17,
   "outputs": [],
   "source": [
    "# Transformed O(n) algorithm\n",
    "def constant_to_linear_sum(nums):\n",
    "    total = 0\n",
    "    for num in nums:\n",
    "        total += num\n",
    "    return total\n"
   ],
   "metadata": {
    "collapsed": false,
    "ExecuteTime": {
     "end_time": "2023-07-26T14:57:06.573713200Z",
     "start_time": "2023-07-26T14:57:06.506213900Z"
    }
   }
  },
  {
   "cell_type": "markdown",
   "source": [
    "## Step-by-step explanation:\n",
    "\n",
    "The original algorithm uses the built-in sum() function, which has constant time complexity O(1). It calculates the sum of the elements in the list in a single operation.\n",
    "\n",
    "In the transformed algorithm, we manually calculate the sum by iterating through the list. The loop iterates n times (where n is the size of the input list), resulting in linear time complexity O(n).\n",
    "\n",
    "Exercise 2: Linear Time to Logarithmic Time\n",
    "Let's convert a linear time algorithm to a logarithmic time algorithm. The original function performs a linear search to find the index of a target element in a sorted list."
   ],
   "metadata": {
    "collapsed": false
   }
  },
  {
   "cell_type": "code",
   "execution_count": 18,
   "outputs": [],
   "source": [
    "# Original O(n) algorithm\n",
    "def linear_to_logarithmic_search(nums, target):\n",
    "    for i in range(len(nums)):\n",
    "        if nums[i] == target:\n",
    "            return i\n",
    "    return -1\n"
   ],
   "metadata": {
    "collapsed": false,
    "ExecuteTime": {
     "end_time": "2023-07-26T14:57:46.919633600Z",
     "start_time": "2023-07-26T14:57:46.869570800Z"
    }
   }
  },
  {
   "cell_type": "code",
   "execution_count": 19,
   "outputs": [],
   "source": [
    "# Transformed O(log n) algorithm\n",
    "def linear_to_logarithmic_search(nums, target):\n",
    "    low, high = 0, len(nums) - 1\n",
    "    while low <= high:\n",
    "        mid = (low + high) // 2\n",
    "        if nums[mid] == target:\n",
    "            return mid\n",
    "        elif nums[mid] < target:\n",
    "            low = mid + 1\n",
    "        else:\n",
    "            high = mid - 1\n",
    "    return -1\n"
   ],
   "metadata": {
    "collapsed": false,
    "ExecuteTime": {
     "end_time": "2023-07-26T14:57:59.512207100Z",
     "start_time": "2023-07-26T14:57:59.446605Z"
    }
   }
  },
  {
   "cell_type": "markdown",
   "source": [
    "## Step-by-step explanation:\n",
    "\n",
    "The original algorithm performs a linear search by iterating through the list until it finds the target element. In the worst case, it takes n iterations, resulting in linear time complexity O(n).\n",
    "\n",
    "In the transformed algorithm, we use binary search, which divides the search space in half at each step. The loop iterates log2(n) times, resulting in logarithmic time complexity O(log n).\n",
    "\n",
    "Exercise 3: Exponential Time to Linear Time\n",
    "Let's convert an exponential time algorithm to a linear time algorithm using dynamic programming. The original function calculates the nth Fibonacci number using recursion."
   ],
   "metadata": {
    "collapsed": false
   }
  },
  {
   "cell_type": "code",
   "execution_count": 20,
   "outputs": [],
   "source": [
    "# Original O(2^n) algorithm\n",
    "def exponential_to_linear_fibonacci(n):\n",
    "    if n <= 1:\n",
    "        return n\n",
    "    return exponential_to_linear_fibonacci(n - 1) + exponential_to_linear_fibonacci(n - 2)\n"
   ],
   "metadata": {
    "collapsed": false,
    "ExecuteTime": {
     "end_time": "2023-07-26T14:58:56.951646200Z",
     "start_time": "2023-07-26T14:58:56.901493Z"
    }
   }
  },
  {
   "cell_type": "code",
   "execution_count": 21,
   "outputs": [],
   "source": [
    "# Transformed O(n) algorithm\n",
    "def exponential_to_linear_fibonacci(n, memo={}):\n",
    "    if n in memo:\n",
    "        return memo[n]\n",
    "    if n <= 1:\n",
    "        return n\n",
    "    memo[n] = exponential_to_linear_fibonacci(n - 1, memo) + exponential_to_linear_fibonacci(n - 2, memo)\n",
    "    return memo[n]\n"
   ],
   "metadata": {
    "collapsed": false,
    "ExecuteTime": {
     "end_time": "2023-07-26T14:59:08.629119800Z",
     "start_time": "2023-07-26T14:59:08.579020900Z"
    }
   }
  },
  {
   "cell_type": "markdown",
   "source": [
    "## Step-by-step explanation:\n",
    "\n",
    "The original algorithm uses recursion to calculate Fibonacci numbers, which leads to an exponential number of function calls and repeated calculations. The time complexity is O(2^n).\n",
    "\n",
    "In the transformed algorithm, we use dynamic programming with memoization. We store previously calculated Fibonacci numbers in a dictionary (memo) to avoid redundant calculations. This reduces the number of recursive calls to n, resulting in linear time complexity O(n).\n",
    "\n",
    "## Conclusion\n",
    "In this tutorial, we explored techniques for manipulating time complexity in Python algorithms. We learned how to transform algorithms from one time complexity to another, such as from constant time to linear time, from linear time to logarithmic time, and from exponential time to linear time using dynamic programming.\n",
    "\n",
    "By understanding these techniques, you can optimize the efficiency of your algorithms and improve their performance for larger input sizes. Always remember to consider the trade-offs between time complexity and space complexity when making these transformations.\n",
    "\n",
    "Keep practicing and experimenting with different algorithms to further enhance your coding skills and problem-solving abilities. Happy coding!"
   ],
   "metadata": {
    "collapsed": false
   }
  },
  {
   "cell_type": "markdown",
   "source": [],
   "metadata": {
    "collapsed": false
   }
  },
  {
   "cell_type": "code",
   "execution_count": null,
   "outputs": [],
   "source": [],
   "metadata": {
    "collapsed": false
   }
  }
 ],
 "metadata": {
  "kernelspec": {
   "display_name": "Python 3",
   "language": "python",
   "name": "python3"
  },
  "language_info": {
   "codemirror_mode": {
    "name": "ipython",
    "version": 2
   },
   "file_extension": ".py",
   "mimetype": "text/x-python",
   "name": "python",
   "nbconvert_exporter": "python",
   "pygments_lexer": "ipython2",
   "version": "2.7.6"
  }
 },
 "nbformat": 4,
 "nbformat_minor": 0
}

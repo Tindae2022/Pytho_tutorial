{
 "cells": [
  {
   "cell_type": "markdown",
   "source": [
    "## Namedtuples\n",
    "\n",
    "In Python, a namedtuple is a subclass of the tuple class that allows you to give names to each position in the tuple. It combines the functionality of a tuple (immutable, ordered collection) with named fields, making it more readable and self-documenting. Namedtuples are defined using the namedtuple() factory function available in the collections module.\n",
    "\n",
    "Here's an example that demonstrates how to use namedtuples in Python:"
   ],
   "metadata": {
    "collapsed": false
   }
  },
  {
   "cell_type": "code",
   "execution_count": 1,
   "outputs": [
    {
     "name": "stdout",
     "output_type": "stream",
     "text": [
      "2\n",
      "5\n",
      "2\n",
      "5\n",
      "2 5\n",
      "{'x': 2, 'y': 5}\n",
      "Point(x=10, y=5)\n"
     ]
    }
   ],
   "source": [
    "from collections import namedtuple\n",
    "\n",
    "# Define a namedtuple called 'Point' with fields 'x' and 'y'\n",
    "Point = namedtuple('Point', ['x', 'y'])\n",
    "\n",
    "# Create an instance of Point\n",
    "p = Point(2, 5)\n",
    "\n",
    "# Access fields by name\n",
    "print(p.x)  # Output: 2\n",
    "print(p.y)  # Output: 5\n",
    "\n",
    "# Access fields by index (like a regular tuple)\n",
    "print(p[0])  # Output: 2\n",
    "print(p[1])  # Output: 5\n",
    "\n",
    "# Unpack values into variables\n",
    "x, y = p\n",
    "print(x, y)  # Output: 2 5\n",
    "\n",
    "# Namedtuples are immutable\n",
    "# p.x = 10  # Raises AttributeError: can't set attribute\n",
    "\n",
    "# Namedtuples provide several useful methods\n",
    "print(p._asdict())  # Output: {'x': 2, 'y': 5}\n",
    "print(p._replace(x=10))  # Output: Point(x=10, y=5)\n"
   ],
   "metadata": {
    "collapsed": false,
    "ExecuteTime": {
     "end_time": "2023-07-16T12:18:57.057717800Z",
     "start_time": "2023-07-16T12:18:57.026443300Z"
    }
   }
  },
  {
   "cell_type": "markdown",
   "source": [
    "In the example above, we define a named tuple called Point with fields 'x' and 'y'. We can create instances of Point by passing values for each field. Once created, we can access the fields using dot notation (p.x or p.y) or index-based access (p[0] or p[1]). Namedtuples are immutable, meaning their values cannot be changed once set.\n",
    "\n",
    "Namedtuples also provide some useful methods. For example, _asdict() returns an OrderedDict with field names as keys and their corresponding values. _replace() creates a new named tuple with specified field values, allowing us to update specific fields while keeping the other values intact.\n",
    "\n",
    "Namedtuples are particularly useful when you have a collection of data items, and you want to associate meaningful names with each element of the tuple. They provide a more readable and structured alternative to regular tuples."
   ],
   "metadata": {
    "collapsed": false
   }
  },
  {
   "cell_type": "markdown",
   "source": [
    "## 3 scenarios on when to use named tuple when coding an application\n",
    "\n",
    "\n",
    "Data Structures: Namedtuples are useful when you need to represent structured data that consists of multiple fields. For example, if you are working with a collection of 2D points in an application, using a named tuple like Point(x, y) would provide a clear and concise way to represent each point's coordinates. It enhances code readability and self-documentation, making it easier to understand and maintain your data structures.\n",
    "\n",
    "Database Operations: When interacting with databases, namedtuples can be used to handle query results or database records. Instead of accessing data by indices or arbitrary column names, you can use namedtuples to give meaningful names to each field in the record. This makes the code more readable and reduces the chances of errors when working with large datasets.\n",
    "\n",
    "Configuration Settings: Namedtuples can be utilized when managing application configurations. Rather than using dictionaries or plain tuples, namedtuples provide a more structured and self-explanatory way to define configuration settings. Each field can represent a specific aspect of the configuration, such as database credentials, API keys, or file paths. This approach makes it easier to access and manipulate configuration values throughout the application.\n",
    "\n",
    "Overall, namedtuples are beneficial in scenarios where you want to enhance code readability, improve data structure understanding, and provide self-documenting code by associating meaningful names with different parts of your application's logic or data."
   ],
   "metadata": {
    "collapsed": false
   }
  },
  {
   "cell_type": "markdown",
   "source": [
    "## OrderedDict\n",
    "In Python, an OrderedDict is a dictionary subclass available in the collections module that retains the order of the inserted key-value pairs. While regular dictionaries in Python do not guarantee any specific order of elements, OrderedDict provides a predictable order based on the insertion sequence.\n",
    "\n",
    "Here's an example that demonstrates how to use OrderedDict in Python:\n"
   ],
   "metadata": {
    "collapsed": false
   }
  },
  {
   "cell_type": "code",
   "execution_count": 2,
   "outputs": [
    {
     "name": "stdout",
     "output_type": "stream",
     "text": [
      "OrderedDict([('a', 1), ('b', 2), ('c', 3)])\n",
      "1\n",
      "a 1\n",
      "b 2\n",
      "c 3\n",
      "OrderedDict([('b', 4), ('a', 1)])\n",
      "{'b': 4, 'a': 1}\n"
     ]
    }
   ],
   "source": [
    "from collections import OrderedDict\n",
    "\n",
    "# Create an OrderedDict\n",
    "d = OrderedDict()\n",
    "\n",
    "# Add key-value pairs in a specific order\n",
    "d['a'] = 1\n",
    "d['b'] = 2\n",
    "d['c'] = 3\n",
    "\n",
    "# Print the OrderedDict\n",
    "print(d)  # Output: OrderedDict([('a', 1), ('b', 2), ('c', 3)])\n",
    "\n",
    "# Access values by key\n",
    "print(d['a'])  # Output: 1\n",
    "\n",
    "# Iterate over the key-value pairs in order\n",
    "for key, value in d.items():\n",
    "    print(key, value)\n",
    "# Output:\n",
    "# a 1\n",
    "# b 2\n",
    "# c 3\n",
    "\n",
    "# Change the value of a key\n",
    "d['b'] = 4\n",
    "\n",
    "# Move a key to the end of the OrderedDict\n",
    "d.move_to_end('a')\n",
    "\n",
    "# Delete a key-value pair\n",
    "del d['c']\n",
    "\n",
    "# Print the updated OrderedDict\n",
    "print(d)  # Output: OrderedDict([('b', 4), ('a', 1)])\n",
    "\n",
    "# Convert the OrderedDict to a regular dictionary\n",
    "regular_dict = dict(d)\n",
    "print(regular_dict)  # Output: {'b': 4, 'a': 1}\n"
   ],
   "metadata": {
    "collapsed": false,
    "ExecuteTime": {
     "end_time": "2023-07-16T13:03:58.604222200Z",
     "start_time": "2023-07-16T13:03:58.510463100Z"
    }
   }
  },
  {
   "cell_type": "markdown",
   "source": [
    "In the example above, we import the OrderedDict class from the collections module. We create an empty OrderedDict called d and then add key-value pairs to it in a specific order. When we print the OrderedDict, we can see that the order of the elements is preserved.\n",
    "\n",
    "We can access the values by key as we would in a regular dictionary. The OrderedDict also provides methods such as items() to iterate over the key-value pairs in the order they were inserted.\n",
    "\n",
    "We can modify the OrderedDict by changing the value of a key, moving a key to the end of the OrderedDict using move_to_end(), or deleting a key-value pair using the del keyword.\n",
    "\n",
    "Finally, if needed, we can convert the OrderedDict to a regular dictionary using the dict() constructor.\n",
    "\n",
    "The main advantage of OrderedDict is that it remembers the order of elements, which can be useful in situations where the order of insertion or access matters, such as maintaining a history of operations, preserving the order of configuration settings, or building ordered data structures."
   ],
   "metadata": {
    "collapsed": false
   }
  },
  {
   "cell_type": "markdown",
   "source": [
    "## DEQUE\n",
    "In Python, a deque (pronounced \"deck\") is a double-ended queue implementation provided by the collections module. A deque allows efficient append and pop operations at both ends, making it a versatile data structure for scenarios where you need to efficiently add or remove elements from either end of a sequence.\n",
    "\n",
    "Here's an example that demonstrates how to use deque in Python:"
   ],
   "metadata": {
    "collapsed": false
   }
  },
  {
   "cell_type": "code",
   "execution_count": 3,
   "outputs": [
    {
     "name": "stdout",
     "output_type": "stream",
     "text": [
      "deque([1, 2, 3])\n",
      "deque([-1, 0, 1, 2, 3])\n",
      "1\n",
      "-1\n",
      "0\n",
      "1\n",
      "2\n",
      "3\n",
      "deque([0, 1])\n",
      "False\n",
      "deque([1, 0])\n"
     ]
    }
   ],
   "source": [
    "from collections import deque\n",
    "\n",
    "# Create an empty deque\n",
    "d = deque()\n",
    "\n",
    "# Append elements to the right end\n",
    "d.append(1)\n",
    "d.append(2)\n",
    "d.append(3)\n",
    "\n",
    "# Print the deque\n",
    "print(d)  # Output: deque([1, 2, 3])\n",
    "\n",
    "# Append elements to the left end\n",
    "d.appendleft(0)\n",
    "d.appendleft(-1)\n",
    "\n",
    "# Print the updated deque\n",
    "print(d)  # Output: deque([-1, 0, 1, 2, 3])\n",
    "\n",
    "# Access elements by index\n",
    "print(d[2])  # Output: 1\n",
    "\n",
    "# Iterate over the deque\n",
    "for item in d:\n",
    "    print(item)\n",
    "# Output:\n",
    "# -1\n",
    "# 0\n",
    "# 1\n",
    "# 2\n",
    "# 3\n",
    "\n",
    "# Remove elements from the right end\n",
    "d.pop()\n",
    "d.pop()\n",
    "\n",
    "# Remove elements from the left end\n",
    "d.popleft()\n",
    "\n",
    "# Print the updated deque\n",
    "print(d)  # Output: deque([0, 1])\n",
    "\n",
    "# Check if the deque is empty\n",
    "print(len(d) == 0)  # Output: False\n",
    "\n",
    "# Reverse the deque\n",
    "d.reverse()\n",
    "\n",
    "# Print the reversed deque\n",
    "print(d)  # Output: deque([1, 0])\n"
   ],
   "metadata": {
    "collapsed": false,
    "ExecuteTime": {
     "end_time": "2023-07-16T14:42:11.844918Z",
     "start_time": "2023-07-16T14:42:11.798042200Z"
    }
   }
  },
  {
   "cell_type": "markdown",
   "source": [
    "In the example above, we import the deque class from the collections module. We create an empty deque called d and use the append() method to add elements to the right end of the deque. We can also use the appendleft() method to add elements to the left end.\n",
    "\n",
    "We can access elements by index, iterate over the deque, and use methods like pop() and popleft() to remove elements from the right and left ends, respectively.\n",
    "\n",
    "Deques are particularly useful in scenarios that involve:\n",
    "\n",
    "Implementing Queues: Deques are an efficient choice for implementing queue data structures due to their ability to efficiently add and remove elements from both ends. This is especially useful in scenarios where you need to perform enqueue and dequeue operations efficiently, such as job scheduling or event-driven programming.\n",
    "\n",
    "Sliding Windows: Deques can be used to efficiently process sliding windows in sequences or arrays. By maintaining a deque of fixed size, you can efficiently add and remove elements as the window slides, allowing you to perform computations or analyses on the windowed data. This is often useful in areas such as signal processing, data streaming, or algorithmic problems that involve window-based operations.\n",
    "\n",
    "Efficient Append or Pop Operations: Deques provide constant time (O(1)) operations for appending or popping elements from both ends. If your application requires frequent insertions or removals from the beginning or end of a collection with efficient time complexity, such as managing a history of items, maintaining a cache, or processing streams of data, deques are a suitable choice.\n",
    "\n",
    "In summary, deques are beneficial when you need efficient append and pop operations at both ends of a collection. They are especially useful for implementing queues, processing sliding windows, and performing efficient append or pop operations in applications that require managing collections with dynamic sizes."
   ],
   "metadata": {
    "collapsed": false
   }
  },
  {
   "cell_type": "markdown",
   "source": [
    "## ChainMap\n",
    "\n",
    "In Python, ChainMap is a class available in the collections module that provides a convenient way to combine multiple dictionaries or other mappings into a single view. It creates a single mapping that encapsulates multiple dictionaries, allowing you to search for keys across all the dictionaries in a specified order.\n",
    "\n",
    "Here's an example that demonstrates how to use ChainMap in Python:"
   ],
   "metadata": {
    "collapsed": false
   }
  },
  {
   "cell_type": "code",
   "execution_count": 4,
   "outputs": [
    {
     "name": "stdout",
     "output_type": "stream",
     "text": [
      "1\n",
      "2\n",
      "b 2\n",
      "c 4\n",
      "a 1\n",
      "ChainMap({'a': 1, 'b': 5, 'd': 6}, {'b': 3, 'c': 4})\n",
      "5\n",
      "ChainMap({'b': 5, 'd': 6}, {'b': 3, 'c': 4})\n"
     ]
    }
   ],
   "source": [
    "from collections import ChainMap\n",
    "\n",
    "# Define dictionaries\n",
    "dict1 = {'a': 1, 'b': 2}\n",
    "dict2 = {'b': 3, 'c': 4}\n",
    "\n",
    "# Create a ChainMap\n",
    "chain_map = ChainMap(dict1, dict2)\n",
    "\n",
    "# Access values by key\n",
    "print(chain_map['a'])  # Output: 1\n",
    "print(chain_map['b'])  # Output: 2 (from dict1)\n",
    "\n",
    "# Iterate over key-value pairs\n",
    "for key, value in chain_map.items():\n",
    "    print(key, value)\n",
    "# Output:\n",
    "# a 1\n",
    "# b 2 (from dict1)\n",
    "# c 4\n",
    "\n",
    "# Update the value of a key\n",
    "chain_map['b'] = 5\n",
    "\n",
    "# Add a new key-value pair\n",
    "chain_map['d'] = 6\n",
    "\n",
    "# Print the updated ChainMap\n",
    "print(chain_map)\n",
    "# Output: ChainMap({'a': 1, 'b': 5, 'd': 6}, {'b': 3, 'c': 4})\n",
    "\n",
    "# Accessing a key that exists in both dictionaries\n",
    "print(chain_map['b'])  # Output: 5 (from dict1)\n",
    "\n",
    "# Remove a key-value pair\n",
    "del chain_map['a']\n",
    "\n",
    "# Print the updated ChainMap\n",
    "print(chain_map)\n",
    "# Output: ChainMap({'b': 5, 'd': 6}, {'b': 3, 'c': 4})\n"
   ],
   "metadata": {
    "collapsed": false,
    "ExecuteTime": {
     "end_time": "2023-07-16T14:53:49.347201400Z",
     "start_time": "2023-07-16T14:53:49.237818100Z"
    }
   }
  },
  {
   "cell_type": "markdown",
   "source": [
    "In the example above, we create two dictionaries, dict1 and dict2, with some key-value pairs. We then create a ChainMap called chain_map by passing the dictionaries as arguments. The ChainMap combines both dictionaries, and when accessing a key, it searches for the key in the dictionaries in the order they were specified.\n",
    "\n",
    "We can access values by key, iterate over key-value pairs, and update or add new key-value pairs in the ChainMap. If a key exists in multiple dictionaries, the value from the first dictionary in the chain that contains the key will be returned.\n",
    "\n",
    "ChainMap can be beneficial in scenarios where:\n",
    "\n",
    "Configuration Settings: When managing configuration settings for an application, you can use ChainMap to combine different sources of configuration values, such as default settings, user-specific settings, or environment-specific settings. This allows you to search for a key across multiple dictionaries and retrieve the value from the appropriate source.\n",
    "\n",
    "Layered Access: If you have multiple layers of data or mappings, such as nested dictionaries or configuration files, you can use ChainMap to create a single view that provides a unified access to all the layers. This simplifies accessing and updating the values while maintaining the original structure and hierarchy of the layers.\n",
    "\n",
    "Contextual Variables: ChainMap can be useful in managing contextual variables or state in complex applications. For example, in a web framework, you can use ChainMap to maintain a chain of request-specific variables, global variables, and environment-specific variables. This allows you to access or update the variables based on their context without explicitly handling each layer separately.\n",
    "\n",
    "In summary, ChainMap provides a convenient way to combine multiple dictionaries or mappings into a single view, enabling easy searching, retrieval, and update operations across the combined mappings. It is useful in scenarios involving configuration settings, layered data access, and managing contextual variables."
   ],
   "metadata": {
    "collapsed": false
   }
  },
  {
   "cell_type": "markdown",
   "source": [
    "## Counter\n",
    "\n",
    "In Python, Counter is a class available in the collections module that provides a convenient way to count the occurrences of elements in a collection. It is implemented as a subclass of the dictionary and is specifically designed for counting hashable objects.\n",
    "\n",
    "Here's an example that demonstrates how to use Counter in Python:"
   ],
   "metadata": {
    "collapsed": false
   }
  },
  {
   "cell_type": "code",
   "execution_count": 5,
   "outputs": [
    {
     "name": "stdout",
     "output_type": "stream",
     "text": [
      "Counter({'a': 3, 'b': 2, 'c': 1})\n",
      "3\n",
      "2\n",
      "1\n",
      "a 3\n",
      "b 2\n",
      "c 1\n",
      "Counter({'a': 4, 'b': 3, 'c': 2, 'd': 1})\n",
      "Counter({'a': 3, 'b': 2, 'c': 2, 'd': 1})\n",
      "[('a', 3), ('b', 2)]\n"
     ]
    }
   ],
   "source": [
    "from collections import Counter\n",
    "\n",
    "# Create a Counter\n",
    "c = Counter(['a', 'b', 'c', 'a', 'b', 'a'])\n",
    "\n",
    "# Print the Counter\n",
    "print(c)  # Output: Counter({'a': 3, 'b': 2, 'c': 1})\n",
    "\n",
    "# Access count of specific elements\n",
    "print(c['a'])  # Output: 3\n",
    "print(c['b'])  # Output: 2\n",
    "print(c['c'])  # Output: 1\n",
    "\n",
    "# Iterate over elements and their counts\n",
    "for element, count in c.items():\n",
    "    print(element, count)\n",
    "# Output:\n",
    "# a 3\n",
    "# b 2\n",
    "# c 1\n",
    "\n",
    "# Update the Counter\n",
    "c.update(['a', 'b', 'c', 'd'])\n",
    "\n",
    "# Print the updated Counter\n",
    "print(c)  # Output: Counter({'a': 4, 'b': 3, 'c': 2, 'd': 1})\n",
    "\n",
    "# Remove elements from the Counter\n",
    "c.subtract(['a', 'b'])\n",
    "\n",
    "# Print the updated Counter\n",
    "print(c)  # Output: Counter({'a': 3, 'b': 2, 'c': 2, 'd': 1})\n",
    "\n",
    "# Access the most common elements\n",
    "print(c.most_common(2))  # Output: [('a', 3), ('b', 2)]\n"
   ],
   "metadata": {
    "collapsed": false,
    "ExecuteTime": {
     "end_time": "2023-07-16T16:19:02.416441100Z",
     "start_time": "2023-07-16T16:19:02.410848200Z"
    }
   }
  },
  {
   "cell_type": "markdown",
   "source": [
    "In the example above, we import the Counter class from the collections module. We create a Counter called c by passing a list of elements. The Counter counts the occurrences of each element in the list.\n",
    "\n",
    "We can access the count of specific elements using indexing (c['a'], c['b'], etc.). We can iterate over the elements and their counts using the items() method. The update() method allows us to update the counts by providing another iterable. The subtract() method subtracts the counts of elements provided in an iterable.\n",
    "\n",
    "Counter also provides several other useful methods. For example, most_common() returns a list of the most common elements and their counts, sorted in descending order.\n",
    "\n",
    "Counter can be beneficial in scenarios where:\n",
    "\n",
    "Counting Occurrences: Counter is particularly useful when you need to count the occurrences of elements in a collection. This can be useful in tasks such as analyzing text data to determine word frequencies, counting the number of occurrences of different items in a dataset, or finding the most common elements in a list.\n",
    "\n",
    "Finding Differences: Counter can be used to find differences or similarities between collections. By subtracting one Counter from another, you can determine the elements that are unique or common between two collections. This can be helpful in tasks such as finding missing elements in a dataset or identifying overlapping elements in multiple datasets.\n",
    "\n",
    "Implementing Multi-set Operations: Counter provides methods like union, intersection, and difference that can be used to perform set-like operations on multiple counters. This can be useful in scenarios where you need to combine or compare multiple collections while considering their element frequencies, such as analyzing customer purchasing patterns or processing log data.\n",
    "\n",
    "In summary, Counter is a powerful class for counting occurrences of elements in a collection. It is useful in scenarios involving counting occurrences, finding differences or similarities, and implementing multi-set operations. It simplifies the process of counting and analyzing data, making it a valuable tool in various applications."
   ],
   "metadata": {
    "collapsed": false
   }
  },
  {
   "cell_type": "markdown",
   "source": [
    "## Defaultdict\n",
    "In Python, defaultdict is a class available in the collections module that is a subclass of the built-in dict class. It overrides one method, __missing__(), to provide a default value when accessing a non-existent key. This eliminates the need to manually check for the existence of a key and handle the KeyError exception.\n",
    "\n",
    "Here's an example that demonstrates how to use defaultdict in Python:"
   ],
   "metadata": {
    "collapsed": false
   }
  },
  {
   "cell_type": "code",
   "execution_count": 6,
   "outputs": [
    {
     "name": "stdout",
     "output_type": "stream",
     "text": [
      "0\n",
      "defaultdict(<class 'int'>, {'a': 0, 'b': 1})\n"
     ]
    }
   ],
   "source": [
    "from collections import defaultdict\n",
    "\n",
    "# Create a defaultdict with int as the default factory\n",
    "d = defaultdict(int)\n",
    "\n",
    "# Access a non-existent key\n",
    "print(d['a'])  # Output: 0\n",
    "\n",
    "# Update the defaultdict\n",
    "d['b'] += 1\n",
    "\n",
    "# Print the updated defaultdict\n",
    "print(d)  # Output: defaultdict(<class 'int'>, {'b': 1})\n"
   ],
   "metadata": {
    "collapsed": false,
    "ExecuteTime": {
     "end_time": "2023-07-16T16:24:05.445280600Z",
     "start_time": "2023-07-16T16:24:05.086509400Z"
    }
   }
  },
  {
   "cell_type": "markdown",
   "source": [
    "In the example above, we import the defaultdict class from the collections module. We create a defaultdict called d with int as the default factory. When we access a non-existent key like 'a', instead of raising a KeyError, the defaultdict automatically creates a key-value pair with the default value for the specified factory type (in this case, 0 for int). The default value is returned when accessing non-existent keys.\n",
    "\n",
    "defaultdict can be beneficial in scenarios where:\n",
    "\n",
    "Counting Elements: defaultdict is commonly used for counting elements, similar to Counter. By using int as the default factory, we can conveniently count the occurrences of elements without the need for explicit initialization and handling of non-existent keys. This can be useful in tasks like counting the frequencies of words in a text corpus or tracking the number of occurrences of specific events in a log.\n",
    "\n",
    "Grouping Elements: defaultdict can also be helpful when grouping elements based on certain criteria. For example, you can create a defaultdict with a list as the default factory to group items by a shared attribute. When encountering a new attribute value, the defaultdict will automatically create a new key and initialize it with an empty list. This can be useful when processing data and organizing it into groups based on specific properties.\n",
    "\n",
    "Handling Missing Keys: defaultdict can simplify the handling of missing keys when working with dictionaries. Instead of manually checking for key existence and handling KeyError exceptions, you can use defaultdict to specify a default value or factory function, reducing code complexity and potential errors. This can improve code readability and maintainability, especially when dealing with nested dictionaries or complex data structures.\n",
    "\n",
    "In summary, defaultdict is a useful class for handling missing keys in dictionaries. It provides a default value or factory function when accessing non-existent keys, eliminating the need for explicit checks and exception handling. It is valuable in scenarios involving counting elements, grouping data, and simplifying the handling of missing keys in dictionaries."
   ],
   "metadata": {
    "collapsed": false
   }
  },
  {
   "cell_type": "markdown",
   "source": [
    "## Inheritance in Object-Oriented Programming\n",
    "\n",
    "## Introduction:\n",
    "Inheritance is a fundamental concept in object-oriented programming (OOP) that allows classes to inherit properties and methods from other classes. It promotes code reuse and establishes relationships between classes. In this tutorial, we will explore the various types of inheritance in OOP and provide examples to illustrate their usage.\n",
    "\n",
    "## Single Inheritance:\n",
    "Single inheritance is the simplest form of inheritance, where a derived class inherits the properties and methods of a single base class. The derived class extends the functionality of the base class and can add new methods or override existing ones.\n",
    "\n",
    "Example:"
   ],
   "metadata": {
    "collapsed": false
   }
  },
  {
   "cell_type": "code",
   "execution_count": 7,
   "outputs": [
    {
     "name": "stdout",
     "output_type": "stream",
     "text": [
      "Buddy is eating.\n",
      "Buddy is barking.\n"
     ]
    }
   ],
   "source": [
    "class Animal:\n",
    "    def __init__(self, name):\n",
    "        self.name = name\n",
    "\n",
    "    def eat(self):\n",
    "        print(f\"{self.name} is eating.\")\n",
    "\n",
    "class Dog(Animal):\n",
    "    def bark(self):\n",
    "        print(f\"{self.name} is barking.\")\n",
    "\n",
    "dog = Dog(\"Buddy\")\n",
    "dog.eat()  # Output: Buddy is eating.\n",
    "dog.bark()  # Output: Buddy is barking.\n"
   ],
   "metadata": {
    "collapsed": false,
    "ExecuteTime": {
     "end_time": "2023-07-17T03:52:48.991243700Z",
     "start_time": "2023-07-17T03:52:48.959995200Z"
    }
   }
  },
  {
   "cell_type": "markdown",
   "source": [
    "In the example above, the Dog class inherits from the Animal class. The Dog class inherits the eat() method from Animal and defines its own method bark().\n",
    "\n",
    "## Multiple Inheritance:\n",
    "Multiple inheritance allows a class to inherit properties and methods from multiple base classes. The derived class inherits the combined functionality of all the base classes.\n",
    "Example:"
   ],
   "metadata": {
    "collapsed": false
   }
  },
  {
   "cell_type": "code",
   "execution_count": 8,
   "outputs": [
    {
     "name": "stdout",
     "output_type": "stream",
     "text": [
      "Sparrow is eating.\n",
      "Sparrow is flying.\n"
     ]
    }
   ],
   "source": [
    "class Flyable:\n",
    "    def fly(self):\n",
    "        print(f\"{self.name} is flying.\")\n",
    "\n",
    "class Bird(Animal, Flyable):\n",
    "    pass\n",
    "\n",
    "bird = Bird(\"Sparrow\")\n",
    "bird.eat()  # Output: Sparrow is eating.\n",
    "bird.fly()  # Output: Sparrow is flying.\n"
   ],
   "metadata": {
    "collapsed": false,
    "ExecuteTime": {
     "end_time": "2023-07-17T03:55:31.891890100Z",
     "start_time": "2023-07-17T03:55:31.806042700Z"
    }
   }
  },
  {
   "cell_type": "markdown",
   "source": [
    "In the example above, the Bird class inherits from both the Animal class and the Flyable class. As a result, the Bird class has access to methods from both classes.\n",
    "\n",
    "## Multilevel Inheritance:\n",
    "Multilevel inheritance refers to a chain of inheritance, where a derived class becomes the base class for another derived class. This allows for a hierarchical structure of classes.\n",
    "Example:"
   ],
   "metadata": {
    "collapsed": false
   }
  },
  {
   "cell_type": "code",
   "execution_count": 9,
   "outputs": [
    {
     "name": "stdout",
     "output_type": "stream",
     "text": [
      "Flipper is eating.\n",
      "Flipper is giving birth.\n",
      "Flipper is swimming.\n"
     ]
    }
   ],
   "source": [
    "class Mammal(Animal):\n",
    "    def give_birth(self):\n",
    "        print(f\"{self.name} is giving birth.\")\n",
    "\n",
    "class Dolphin(Mammal):\n",
    "    def swim(self):\n",
    "        print(f\"{self.name} is swimming.\")\n",
    "\n",
    "dolphin = Dolphin(\"Flipper\")\n",
    "dolphin.eat()  # Output: Flipper is eating.\n",
    "dolphin.give_birth()  # Output: Flipper is giving birth.\n",
    "dolphin.swim()  # Output: Flipper is swimming.\n"
   ],
   "metadata": {
    "collapsed": false,
    "ExecuteTime": {
     "end_time": "2023-07-17T03:59:42.647721300Z",
     "start_time": "2023-07-17T03:59:42.538299Z"
    }
   }
  },
  {
   "cell_type": "markdown",
   "source": [
    "In the example above, the Mammal class inherits from the Animal class, and the Dolphin class inherits from the Mammal class. Thus, the Dolphin class has access to methods from both the Animal class and the Mammal class.\n",
    "\n",
    "## Hierarchical Inheritance:\n",
    "Hierarchical inheritance occurs when multiple derived classes inherit from a single base class. Each derived class can add its own functionality while sharing the properties and methods of the base class.\n",
    "Example:"
   ],
   "metadata": {
    "collapsed": false
   }
  },
  {
   "cell_type": "code",
   "execution_count": 10,
   "outputs": [
    {
     "name": "stdout",
     "output_type": "stream",
     "text": [
      "Whiskers is eating.\n",
      "Whiskers is meowing.\n",
      "Simba is eating.\n",
      "Simba is roaring.\n"
     ]
    }
   ],
   "source": [
    "class Cat(Animal):\n",
    "    def meow(self):\n",
    "        print(f\"{self.name} is meowing.\")\n",
    "\n",
    "class Lion(Animal):\n",
    "    def roar(self):\n",
    "        print(f\"{self.name} is roaring.\")\n",
    "\n",
    "cat = Cat(\"Whiskers\")\n",
    "cat.eat()  # Output: Whiskers is eating.\n",
    "cat.meow()  # Output: Whiskers is meowing.\n",
    "\n",
    "lion = Lion(\"Simba\")\n",
    "lion.eat()  # Output: Simba is eating.\n",
    "lion.roar()  # Output: Simba is roaring.\n"
   ],
   "metadata": {
    "collapsed": false,
    "ExecuteTime": {
     "end_time": "2023-07-17T04:01:45.496276600Z",
     "start_time": "2023-07-17T04:01:45.433720800Z"
    }
   }
  },
  {
   "cell_type": "markdown",
   "source": [
    "In the example above, both the Cat class and the Lion class inherit from the Animal class. They share the eat() method from Animal and define their own methods, meow() and roar() respectively.\n",
    "\n",
    "## Conclusion:\n",
    "Inheritance is a powerful mechanism in OOP that allows classes to acquire properties and methods from other classes, promoting code reuse and establishing relationships. By understanding and utilizing the different types of inheritance, you can design more flexible and efficient object-oriented systems"
   ],
   "metadata": {
    "collapsed": false
   }
  },
  {
   "cell_type": "markdown",
   "source": [
    " ## Method Overloading in Python\n",
    "\n",
    "## Introduction:\n",
    "Method overloading is a feature in object-oriented programming languages that allows a class to have multiple methods with the same name but different parameters. It provides a convenient way to define multiple behaviors for a single operation based on the type and number of arguments. In this tutorial, we will explore method overloading in Python and provide examples to demonstrate its usage.\n",
    "\n",
    "## Method Overloading Basics:\n",
    "In Python, method overloading is not directly supported as it is in some other languages like Java. However, Python provides a flexible approach to achieve similar functionality using default parameter values and conditional statements.\n",
    "Example:"
   ],
   "metadata": {
    "collapsed": false
   }
  },
  {
   "cell_type": "code",
   "execution_count": 11,
   "outputs": [
    {
     "name": "stdout",
     "output_type": "stream",
     "text": [
      "1\n",
      "3\n",
      "6\n"
     ]
    }
   ],
   "source": [
    "class Calculator:\n",
    "    def add(self, a, b=None, c=None):\n",
    "        if b is not None and c is not None:\n",
    "            return a + b + c\n",
    "        elif b is not None:\n",
    "            return a + b\n",
    "        else:\n",
    "            return a\n",
    "\n",
    "calculator = Calculator()\n",
    "print(calculator.add(1))             # Output: 1\n",
    "print(calculator.add(1, 2))          # Output: 3\n",
    "print(calculator.add(1, 2, 3))       # Output: 6\n"
   ],
   "metadata": {
    "collapsed": false,
    "ExecuteTime": {
     "end_time": "2023-07-17T04:24:31.290195700Z",
     "start_time": "2023-07-17T04:24:31.212036600Z"
    }
   }
  },
  {
   "cell_type": "markdown",
   "source": [
    "In the example above, the add() method of the Calculator class can take one, two, or three arguments. By using default parameter values (None), we can check the number of arguments passed and perform the appropriate calculations.\n",
    "\n",
    "## Method Overloading with Type Checking:\n",
    "Although Python does not enforce strict type checking, you can still implement method overloading by explicitly checking the types of the arguments passed to a method.\n",
    "Example:"
   ],
   "metadata": {
    "collapsed": false
   }
  },
  {
   "cell_type": "code",
   "execution_count": 12,
   "outputs": [
    {
     "name": "stdout",
     "output_type": "stream",
     "text": [
      "5\n",
      "6.2\n",
      "None\n"
     ]
    }
   ],
   "source": [
    "class MathUtils:\n",
    "    @staticmethod\n",
    "    def add(a, b):\n",
    "        if isinstance(a, int) and isinstance(b, int):\n",
    "            return a + b\n",
    "        elif isinstance(a, float) and isinstance(b, float):\n",
    "            return round(a + b, 2)\n",
    "        else:\n",
    "            return None\n",
    "\n",
    "print(MathUtils.add(2, 3))           # Output: 5\n",
    "print(MathUtils.add(2.5, 3.7))       # Output: 6.2\n",
    "print(MathUtils.add(\"2\", \"3\"))       # Output: None\n"
   ],
   "metadata": {
    "collapsed": false,
    "ExecuteTime": {
     "end_time": "2023-07-17T04:27:01.070531500Z",
     "start_time": "2023-07-17T04:27:01.008017800Z"
    }
   }
  },
  {
   "cell_type": "markdown",
   "source": [
    "In the example above, the add() method of the MathUtils class performs addition based on the type of the arguments. It checks whether the arguments are of type int or float and returns the result accordingly. If the arguments are not of compatible types, it returns None.\n",
    "\n",
    "## Method Overloading with Variable Arguments:\n",
    "Python supports variable arguments using the *args and **kwargs syntax. This feature can be leveraged to achieve method overloading by accepting a varying number of arguments.\n",
    "Example:"
   ],
   "metadata": {
    "collapsed": false
   }
  },
  {
   "cell_type": "code",
   "execution_count": 13,
   "outputs": [
    {
     "name": "stdout",
     "output_type": "stream",
     "text": [
      "Hello\n",
      "Hello\n",
      "World\n",
      "Hello\n",
      "1\n",
      "[2, 3]\n",
      "{'a': 4}\n"
     ]
    }
   ],
   "source": [
    "class Printer:\n",
    "    def print_data(self, *args):\n",
    "        for data in args:\n",
    "            print(data)\n",
    "\n",
    "printer = Printer()\n",
    "printer.print_data(\"Hello\")                         # Output: Hello\n",
    "printer.print_data(\"Hello\", \"World\")                # Output: Hello World\n",
    "printer.print_data(\"Hello\", 1, [2, 3], {\"a\": 4})    # Output: Hello 1 [2, 3] {'a': 4}\n"
   ],
   "metadata": {
    "collapsed": false,
    "ExecuteTime": {
     "end_time": "2023-07-17T04:28:41.816859100Z",
     "start_time": "2023-07-17T04:28:41.754361600Z"
    }
   }
  },
  {
   "cell_type": "markdown",
   "source": [
    "In the example above, the print_data() method of the Printer class accepts a variable number of arguments using *args. It can handle any number of arguments passed and prints them sequentially.\n",
    "\n",
    "## Conclusion:\n",
    "Method overloading provides a powerful mechanism to define multiple behaviors for a method based on the type and number of arguments. Although Python does not have built-in method overloading, we can achieve similar functionality using default parameter values, type checking, and variable arguments. By leveraging these techniques, you can design more flexible and expressive classes in Python."
   ],
   "metadata": {
    "collapsed": false
   }
  },
  {
   "cell_type": "markdown",
   "source": [
    "## Abstract Base Classes in Python\n",
    "\n",
    "## Introduction:\n",
    "Abstract Base Classes (ABCs) are a feature provided by the Python abc module that allows you to define abstract classes. Abstract classes cannot be instantiated directly but serve as blueprints for creating concrete classes. In this tutorial, we will explore abstract base classes in Python and provide examples to illustrate their usage.\n",
    "\n",
    "## Understanding Abstract Base Classes:\n",
    "An abstract base class defines a common interface for its subclasses. It typically contains abstract methods, which are methods without an implementation. Subclasses of an abstract base class are required to implement these abstract methods, providing their own implementation details.\n",
    "\n",
    "Example:"
   ],
   "metadata": {
    "collapsed": false
   }
  },
  {
   "cell_type": "code",
   "execution_count": 14,
   "outputs": [
    {
     "name": "stdout",
     "output_type": "stream",
     "text": [
      "Woof!\n",
      "Meow!\n"
     ]
    }
   ],
   "source": [
    "from abc import ABC, abstractmethod\n",
    "\n",
    "class Animal(ABC):\n",
    "    @abstractmethod\n",
    "    def speak(self):\n",
    "        pass\n",
    "\n",
    "class Dog(Animal):\n",
    "    def speak(self):\n",
    "        print(\"Woof!\")\n",
    "\n",
    "class Cat(Animal):\n",
    "    def speak(self):\n",
    "        print(\"Meow!\")\n",
    "\n",
    "dog = Dog()\n",
    "dog.speak()  # Output: Woof!\n",
    "\n",
    "cat = Cat()\n",
    "cat.speak()  # Output: Meow!\n"
   ],
   "metadata": {
    "collapsed": false,
    "ExecuteTime": {
     "end_time": "2023-07-17T05:02:19.102722900Z",
     "start_time": "2023-07-17T05:02:18.993327Z"
    }
   }
  },
  {
   "cell_type": "markdown",
   "source": [
    "In the example above, the Animal class is an abstract base class that defines an abstract method speak(). The Dog and Cat classes inherit from Animal and provide their own implementation of the speak() method.\n",
    "\n",
    "## Registering Abstract Base Classes:\n",
    "To ensure that all the abstract methods of an abstract base class are implemented by its subclasses, you can use the @abstractmethod decorator. However, it is also possible to register an abstract base class without explicitly defining abstract methods.\n",
    "\n",
    "Example:"
   ],
   "metadata": {
    "collapsed": false
   }
  },
  {
   "cell_type": "code",
   "execution_count": 15,
   "outputs": [
    {
     "name": "stdout",
     "output_type": "stream",
     "text": [
      "True\n"
     ]
    }
   ],
   "source": [
    "from abc import ABC, ABCMeta\n",
    "\n",
    "class Vehicle(ABC):\n",
    "    pass\n",
    "\n",
    "Vehicle.register(tuple)\n",
    "\n",
    "print(issubclass(tuple, Vehicle))  # Output: True\n"
   ],
   "metadata": {
    "collapsed": false,
    "ExecuteTime": {
     "end_time": "2023-07-17T05:04:28.896380400Z",
     "start_time": "2023-07-17T05:04:28.833863400Z"
    }
   }
  },
  {
   "cell_type": "markdown",
   "source": [
    "In the example above, the Vehicle class is registered as an abstract base class using the register() method. The tuple class is then checked to see if it is a subclass of Vehicle. Since it is registered, the output is True.\n",
    "\n",
    "## Abstract Properties and Class Methods:\n",
    "In addition to abstract methods, abstract base classes can also define abstract properties and class methods. Abstract properties are declared using the @property decorator, and class methods are declared using the @classmethod decorator.\n",
    "Example:"
   ],
   "metadata": {
    "collapsed": false
   }
  },
  {
   "cell_type": "code",
   "execution_count": 16,
   "outputs": [
    {
     "name": "stdout",
     "output_type": "stream",
     "text": [
      "15\n",
      "This is a Rectangle.\n"
     ]
    }
   ],
   "source": [
    "from abc import ABC, abstractproperty, abstractmethod\n",
    "\n",
    "class Shape(ABC):\n",
    "    @abstractproperty\n",
    "    def area(self):\n",
    "        pass\n",
    "\n",
    "    @classmethod\n",
    "    @abstractmethod\n",
    "    def print_info(cls):\n",
    "        pass\n",
    "\n",
    "class Rectangle(Shape):\n",
    "    def __init__(self, width, height):\n",
    "        self.width = width\n",
    "        self.height = height\n",
    "\n",
    "    @property\n",
    "    def area(self):\n",
    "        return self.width * self.height\n",
    "\n",
    "    @classmethod\n",
    "    def print_info(cls):\n",
    "        print(f\"This is a {cls.__name__}.\")\n",
    "\n",
    "rectangle = Rectangle(5, 3)\n",
    "print(rectangle.area)  # Output: 15\n",
    "\n",
    "Rectangle.print_info()  # Output: This is a Rectangle.\n"
   ],
   "metadata": {
    "collapsed": false,
    "ExecuteTime": {
     "end_time": "2023-07-17T05:06:31.056594Z",
     "start_time": "2023-07-17T05:06:30.962824Z"
    }
   }
  },
  {
   "cell_type": "markdown",
   "source": [
    "In the example above, the Shape class is an abstract base class that defines an abstract property area and an abstract class method print_info(). The Rectangle class inherits from Shape and provides the implementation for both the property and the class method.\n",
    "\n",
    "## Conclusion:\n",
    "Abstract Base Classes provide a way to define common interfaces and enforce certain behaviors for subclasses. By using abstract methods, properties, and class methods, you can design more structured and extensible class hierarchies in Python. Abstract Base Classes promote code organization and help ensure that subclasses adhere to a common contract."
   ],
   "metadata": {
    "collapsed": false
   }
  },
  {
   "cell_type": "markdown",
   "source": [
    "## Polymorphism and Encapsulation in Python\n",
    "\n",
    "## Introduction:\n",
    "Polymorphism and encapsulation are two essential concepts in object-oriented programming (OOP). Polymorphism allows objects of different classes to be treated as objects of a common base class, while encapsulation enables data hiding and protects the internal state of an object. In this tutorial, we will explore polymorphism and encapsulation in Python and provide examples to illustrate their usage.\n",
    "\n",
    "## Polymorphism:\n",
    "Polymorphism refers to the ability of objects of different classes to respond to the same message or method invocation. It allows you to treat objects with different types but a common base class in a uniform manner.\n",
    "\n",
    "Example:"
   ],
   "metadata": {
    "collapsed": false
   }
  },
  {
   "cell_type": "code",
   "execution_count": 17,
   "outputs": [
    {
     "name": "stdout",
     "output_type": "stream",
     "text": [
      "20\n",
      "28.26\n"
     ]
    }
   ],
   "source": [
    "class Shape:\n",
    "    def calculate_area(self):\n",
    "        pass\n",
    "\n",
    "class Rectangle(Shape):\n",
    "    def __init__(self, length, width):\n",
    "        self.length = length\n",
    "        self.width = width\n",
    "\n",
    "    def calculate_area(self):\n",
    "        return self.length * self.width\n",
    "\n",
    "class Circle(Shape):\n",
    "    def __init__(self, radius):\n",
    "        self.radius = radius\n",
    "\n",
    "    def calculate_area(self):\n",
    "        return 3.14 * self.radius**2\n",
    "\n",
    "shapes = [Rectangle(4, 5), Circle(3)]\n",
    "\n",
    "for shape in shapes:\n",
    "    print(shape.calculate_area())\n"
   ],
   "metadata": {
    "collapsed": false,
    "ExecuteTime": {
     "end_time": "2023-07-17T05:38:11.748299400Z",
     "start_time": "2023-07-17T05:38:11.638930500Z"
    }
   }
  },
  {
   "cell_type": "markdown",
   "source": [
    "In the example above, the Shape class serves as a base class with a common method calculate_area(). The Rectangle and Circle classes inherit from Shape and provide their own implementation of the method. By iterating through the list of shapes and calling the calculate_area() method, we achieve polymorphism as both Rectangle and Circle objects respond to the same message.\n",
    "\n",
    "## Encapsulation:\n",
    "Encapsulation is the practice of bundling data and methods together within a class and controlling access to that data. It allows you to hide the internal implementation details of a class and provide a public interface for interacting with the object.\n",
    "\n",
    "Example:"
   ],
   "metadata": {
    "collapsed": false
   }
  },
  {
   "cell_type": "code",
   "execution_count": 18,
   "outputs": [
    {
     "name": "stdout",
     "output_type": "stream",
     "text": [
      "1300\n"
     ]
    }
   ],
   "source": [
    "class BankAccount:\n",
    "    def __init__(self, account_number, balance):\n",
    "        self._account_number = account_number\n",
    "        self._balance = balance\n",
    "\n",
    "    def deposit(self, amount):\n",
    "        self._balance += amount\n",
    "\n",
    "    def withdraw(self, amount):\n",
    "        if amount <= self._balance:\n",
    "            self._balance -= amount\n",
    "        else:\n",
    "            print(\"Insufficient funds.\")\n",
    "\n",
    "    def get_balance(self):\n",
    "        return self._balance\n",
    "\n",
    "account = BankAccount(\"123456789\", 1000)\n",
    "account.deposit(500)\n",
    "account.withdraw(200)\n",
    "print(account.get_balance())  # Output: 1300\n"
   ],
   "metadata": {
    "collapsed": false,
    "ExecuteTime": {
     "end_time": "2023-07-17T05:39:31.641322300Z",
     "start_time": "2023-07-17T05:39:31.563224800Z"
    }
   }
  },
  {
   "cell_type": "markdown",
   "source": [
    "In the example above, the BankAccount class encapsulates the account number and balance as private variables (_account_number and _balance). The methods deposit(), withdraw(), and get_balance() provide the public interface for interacting with the object. By encapsulating the data and providing controlled access through methods, we ensure data integrity and hide the implementation details.\n",
    "\n",
    "## Encapsulation with Property Decorators:\n",
    "Python provides property decorators (@property, @<attribute>.setter, @<attribute>.deleter) to define getter, setter, and deleter methods for class attributes. This allows for fine-grained control over attribute access and modification while maintaining a clean and intuitive interface.\n",
    "Example:"
   ],
   "metadata": {
    "collapsed": false
   }
  },
  {
   "cell_type": "code",
   "execution_count": 19,
   "outputs": [
    {
     "name": "stdout",
     "output_type": "stream",
     "text": [
      "John Doe\n",
      "25\n",
      "30\n",
      "Invalid age.\n"
     ]
    }
   ],
   "source": [
    "class Person:\n",
    "    def __init__(self, name, age):\n",
    "        self._name = name\n",
    "        self._age = age\n",
    "\n",
    "    @property\n",
    "    def name(self):\n",
    "        return self._name\n",
    "\n",
    "    @property\n",
    "    def age(self):\n",
    "        return self._age\n",
    "\n",
    "    @age.setter\n",
    "    def age(self, new_age):\n",
    "        if new_age >= 0:\n",
    "            self._age = new_age\n",
    "        else:\n",
    "            print(\"Invalid age.\")\n",
    "\n",
    "person = Person(\"John Doe\", 25)\n",
    "print(person.name)  # Output: John Doe\n",
    "print(person.age)   # Output: 25\n",
    "\n",
    "person.age = 30\n",
    "print(person.age)   # Output: 30\n",
    "\n",
    "person.age = -5     # Output: Invalid age.\n"
   ],
   "metadata": {
    "collapsed": false,
    "ExecuteTime": {
     "end_time": "2023-07-17T05:42:15.864738300Z",
     "start_time": "2023-07-17T05:42:15.704680900Z"
    }
   }
  },
  {
   "cell_type": "markdown",
   "source": [
    "In the example above, the Person class encapsulates the name and age attributes. The name and age methods are decorated with @property, which allows them to be accessed as attributes. The age method is also decorated with @age.setter, providing a way to set the age attribute with validation.\n",
    "\n",
    "## Conclusion:\n",
    "Polymorphism allows objects of different classes to be treated uniformly, while encapsulation provides data hiding and controlled access to the internal state of an object. By leveraging these concepts in your object-oriented designs, you can create flexible, modular, and secure code. Polymorphism enables code reusability and extensibility, while encapsulation protects the integrity of your data and provides a clean and intuitive interface for interacting with objects.\n",
    "\n",
    "\n",
    "\n",
    "\n"
   ],
   "metadata": {
    "collapsed": false
   }
  },
  {
   "cell_type": "markdown",
   "source": [
    "## Class Methods and Static Methods in Python\n",
    "\n",
    "## Introduction:\n",
    "In Python, class methods and static methods are two types of methods that can be defined within a class. Class methods are bound to the class itself, while static methods are independent of any instance or class. In this tutorial, we will explore class methods and static methods in Python and provide examples to demonstrate their usage.\n",
    "\n",
    "## Class Methods:\n",
    "Class methods are defined using the @classmethod decorator and are bound to the class rather than instances of the class. They can access and modify class-level attributes and perform operations specific to the class.\n",
    "Example:"
   ],
   "metadata": {
    "collapsed": false
   }
  },
  {
   "cell_type": "code",
   "execution_count": 20,
   "outputs": [
    {
     "name": "stdout",
     "output_type": "stream",
     "text": [
      "12.56\n"
     ]
    }
   ],
   "source": [
    "class MathUtils:\n",
    "    PI = 3.14\n",
    "\n",
    "    @classmethod\n",
    "    def calculate_area(cls, radius):\n",
    "        return cls.PI * radius**2\n",
    "\n",
    "print(MathUtils.calculate_area(2))  # Output: 12.56\n"
   ],
   "metadata": {
    "collapsed": false,
    "ExecuteTime": {
     "end_time": "2023-07-17T10:14:31.487822600Z",
     "start_time": "2023-07-17T10:14:31.472239100Z"
    }
   }
  },
  {
   "cell_type": "markdown",
   "source": [
    "In the example above, the calculate_area() method of the MathUtils class is defined as a class method using the @classmethod decorator. It accesses the class-level attribute PI and calculates the area of a circle.\n",
    "\n",
    "## Static Methods:\n",
    "Static methods are defined using the @staticmethod decorator and do not have access to class or instance attributes. They are independent of the class and can be called directly from the class or an instance.\n",
    "\n",
    "Example:"
   ],
   "metadata": {
    "collapsed": false
   }
  },
  {
   "cell_type": "code",
   "execution_count": 21,
   "outputs": [
    {
     "name": "stdout",
     "output_type": "stream",
     "text": [
      "olleH\n",
      "dlroW\n"
     ]
    }
   ],
   "source": [
    "class StringUtils:\n",
    "    @staticmethod\n",
    "    def reverse_string(string):\n",
    "        return string[::-1]\n",
    "\n",
    "print(StringUtils.reverse_string(\"Hello\"))  # Output: olleH\n",
    "\n",
    "string_util = StringUtils()\n",
    "print(string_util.reverse_string(\"World\"))   # Output: dlroW\n"
   ],
   "metadata": {
    "collapsed": false,
    "ExecuteTime": {
     "end_time": "2023-07-17T10:19:53.876034200Z",
     "start_time": "2023-07-17T10:19:53.735366300Z"
    }
   }
  },
  {
   "cell_type": "markdown",
   "source": [
    "In the example above, the reverse_string() method of the StringUtils class is defined as a static method using the @staticmethod decorator. It reverses the given string and can be called directly from the class or an instance.\n",
    "\n",
    "## Comparison: Class Methods vs. Static Methods:\n",
    "Class methods are bound to the class and can access and modify class-level attributes. They are commonly used to perform operations specific to the class itself.\n",
    "Static methods are independent of the class and do not have access to class or instance attributes. They are often used for utility functions that are related to the class but don't require access to specific instance or class data.\n",
    "\n",
    "Example:"
   ],
   "metadata": {
    "collapsed": false
   }
  },
  {
   "cell_type": "code",
   "execution_count": 22,
   "outputs": [
    {
     "name": "stdout",
     "output_type": "stream",
     "text": [
      "XYZ Corp.\n",
      "Welcome to our company!\n"
     ]
    }
   ],
   "source": [
    "class Employee:\n",
    "    company = \"XYZ Corp.\"\n",
    "\n",
    "    def __init__(self, name):\n",
    "        self.name = name\n",
    "\n",
    "    @classmethod\n",
    "    def get_company(cls):\n",
    "        return cls.company\n",
    "\n",
    "    @staticmethod\n",
    "    def welcome():\n",
    "        return \"Welcome to our company!\"\n",
    "\n",
    "print(Employee.get_company())    # Output: XYZ Corp.\n",
    "\n",
    "employee = Employee(\"John Doe\")\n",
    "print(employee.welcome())        # Output: Welcome to our company!\n"
   ],
   "metadata": {
    "collapsed": false,
    "ExecuteTime": {
     "end_time": "2023-07-17T10:22:58.115718100Z",
     "start_time": "2023-07-17T10:22:58.006296700Z"
    }
   }
  },
  {
   "cell_type": "markdown",
   "source": [
    "In the example above, the get_company() method is a class method that retrieves the class-level attribute company. The welcome() method is a static method that returns a generic welcome message. Both methods demonstrate the distinction between class methods and static methods.\n",
    "\n",
    "## Conclusion:\n",
    "Class methods and static methods provide different functionalities within a class. Class methods are bound to the class itself and have access to class-level attributes, while static methods are independent of the class and don't have access to class or instance attributes. Understanding when and how to use these types of methods can enhance the flexibility and maintainability of your code."
   ],
   "metadata": {
    "collapsed": false
   }
  },
  {
   "cell_type": "markdown",
   "source": [
    "## Property Decorators in Python\n",
    "\n",
    "## Introduction:\n",
    "Property decorators are a powerful feature in Python that allow you to define special methods to control the access, modification, and deletion of class attributes. They provide a clean and intuitive way to manage attribute behavior and ensure data integrity. In this tutorial, we will explore property decorators in Python and provide examples to illustrate their usage.\n",
    "\n",
    "## Basics of Property Decorators:\n",
    "Property decorators are defined using the @property decorator for the getter method, @<attribute>.setter for the setter method, and @<attribute>.deleter for the deleter method. They allow you to define custom behavior for attribute access, modification, and deletion.\n",
    "Example:"
   ],
   "metadata": {
    "collapsed": false
   }
  },
  {
   "cell_type": "code",
   "execution_count": 23,
   "outputs": [
    {
     "name": "stdout",
     "output_type": "stream",
     "text": [
      "John Doe\n",
      "Jane\n",
      "Name must be at least 3 characters.\n"
     ]
    },
    {
     "ename": "AttributeError",
     "evalue": "'Person' object has no attribute '_name'",
     "output_type": "error",
     "traceback": [
      "\u001B[1;31m---------------------------------------------------------------------------\u001B[0m",
      "\u001B[1;31mAttributeError\u001B[0m                            Traceback (most recent call last)",
      "Cell \u001B[1;32mIn[23], line 29\u001B[0m\n\u001B[0;32m     26\u001B[0m person\u001B[38;5;241m.\u001B[39mname \u001B[38;5;241m=\u001B[39m \u001B[38;5;124m\"\u001B[39m\u001B[38;5;124mJo\u001B[39m\u001B[38;5;124m\"\u001B[39m       \u001B[38;5;66;03m# Output: Name must be at least 3 characters.\u001B[39;00m\n\u001B[0;32m     28\u001B[0m \u001B[38;5;28;01mdel\u001B[39;00m person\u001B[38;5;241m.\u001B[39mname\n\u001B[1;32m---> 29\u001B[0m \u001B[38;5;28mprint\u001B[39m(\u001B[43mperson\u001B[49m\u001B[38;5;241;43m.\u001B[39;49m\u001B[43mname\u001B[49m)       \u001B[38;5;66;03m# Output: AttributeError: 'Person' object has no attribute '_name'\u001B[39;00m\n",
      "Cell \u001B[1;32mIn[23], line 7\u001B[0m, in \u001B[0;36mPerson.name\u001B[1;34m(self)\u001B[0m\n\u001B[0;32m      5\u001B[0m \u001B[38;5;129m@property\u001B[39m\n\u001B[0;32m      6\u001B[0m \u001B[38;5;28;01mdef\u001B[39;00m \u001B[38;5;21mname\u001B[39m(\u001B[38;5;28mself\u001B[39m):\n\u001B[1;32m----> 7\u001B[0m     \u001B[38;5;28;01mreturn\u001B[39;00m \u001B[38;5;28;43mself\u001B[39;49m\u001B[38;5;241;43m.\u001B[39;49m\u001B[43m_name\u001B[49m\n",
      "\u001B[1;31mAttributeError\u001B[0m: 'Person' object has no attribute '_name'"
     ]
    }
   ],
   "source": [
    "class Person:\n",
    "    def __init__(self, name):\n",
    "        self._name = name\n",
    "\n",
    "    @property\n",
    "    def name(self):\n",
    "        return self._name\n",
    "\n",
    "    @name.setter\n",
    "    def name(self, new_name):\n",
    "        if len(new_name) >= 3:\n",
    "            self._name = new_name\n",
    "        else:\n",
    "            print(\"Name must be at least 3 characters.\")\n",
    "\n",
    "    @name.deleter\n",
    "    def name(self):\n",
    "        del self._name\n",
    "\n",
    "person = Person(\"John Doe\")\n",
    "print(person.name)       # Output: John Doe\n",
    "\n",
    "person.name = \"Jane\"\n",
    "print(person.name)       # Output: Jane\n",
    "\n",
    "person.name = \"Jo\"       # Output: Name must be at least 3 characters.\n",
    "\n",
    "del person.name\n",
    "print(person.name)       # Output: AttributeError: 'Person' object has no attribute '_name'\n"
   ],
   "metadata": {
    "collapsed": false,
    "ExecuteTime": {
     "end_time": "2023-07-17T10:36:39.892772700Z",
     "start_time": "2023-07-17T10:36:37.040201900Z"
    }
   }
  },
  {
   "cell_type": "markdown",
   "source": [
    "In the example above, the Person class defines a name attribute with a property decorator. The @property decorator defines the getter method, @name.setter defines the setter method, and @name.deleter defines the deleter method. Custom logic is applied to validate the length of the name before setting it, and deleting the name attribute raises an AttributeError.\n",
    "\n",
    "## Read-only Properties:\n",
    "By defining only the getter method with the @property decorator, you can create read-only properties that can be accessed but not modified.\n",
    "Example:"
   ],
   "metadata": {
    "collapsed": false
   }
  },
  {
   "cell_type": "code",
   "execution_count": 24,
   "outputs": [
    {
     "name": "stdout",
     "output_type": "stream",
     "text": [
      "5\n"
     ]
    },
    {
     "ename": "AttributeError",
     "evalue": "can't set attribute",
     "output_type": "error",
     "traceback": [
      "\u001B[1;31m---------------------------------------------------------------------------\u001B[0m",
      "\u001B[1;31mAttributeError\u001B[0m                            Traceback (most recent call last)",
      "Cell \u001B[1;32mIn[24], line 12\u001B[0m\n\u001B[0;32m      9\u001B[0m circle \u001B[38;5;241m=\u001B[39m Circle(\u001B[38;5;241m5\u001B[39m)\n\u001B[0;32m     10\u001B[0m \u001B[38;5;28mprint\u001B[39m(circle\u001B[38;5;241m.\u001B[39mradius)        \u001B[38;5;66;03m# Output: 5\u001B[39;00m\n\u001B[1;32m---> 12\u001B[0m \u001B[43mcircle\u001B[49m\u001B[38;5;241;43m.\u001B[39;49m\u001B[43mradius\u001B[49m \u001B[38;5;241m=\u001B[39m \u001B[38;5;241m10\u001B[39m          \u001B[38;5;66;03m# Output: AttributeError: can't set attribute\u001B[39;00m\n",
      "\u001B[1;31mAttributeError\u001B[0m: can't set attribute"
     ]
    }
   ],
   "source": [
    "class Circle:\n",
    "    def __init__(self, radius):\n",
    "        self._radius = radius\n",
    "\n",
    "    @property\n",
    "    def radius(self):\n",
    "        return self._radius\n",
    "\n",
    "circle = Circle(5)\n",
    "print(circle.radius)        # Output: 5\n",
    "\n",
    "circle.radius = 10          # Output: AttributeError: can't set attribute\n"
   ],
   "metadata": {
    "collapsed": false,
    "ExecuteTime": {
     "end_time": "2023-07-17T10:38:36.656412400Z",
     "start_time": "2023-07-17T10:38:36.562669700Z"
    }
   }
  },
  {
   "cell_type": "markdown",
   "source": [
    "In the example above, the Circle class defines a read-only property radius using the @property decorator. The property can be accessed but cannot be modified directly.\n",
    "\n",
    "## Computed Properties:\n",
    "Property decorators can also be used to create computed properties, where the value is dynamically computed based on other attributes or calculations.\n",
    "Example:"
   ],
   "metadata": {
    "collapsed": false
   }
  },
  {
   "cell_type": "code",
   "execution_count": 25,
   "outputs": [
    {
     "name": "stdout",
     "output_type": "stream",
     "text": [
      "24\n",
      "20\n"
     ]
    }
   ],
   "source": [
    "class Rectangle:\n",
    "    def __init__(self, width, height):\n",
    "        self._width = width\n",
    "        self._height = height\n",
    "\n",
    "    @property\n",
    "    def area(self):\n",
    "        return self._width * self._height\n",
    "\n",
    "    @property\n",
    "    def perimeter(self):\n",
    "        return 2 * (self._width + self._height)\n",
    "\n",
    "rectangle = Rectangle(4, 6)\n",
    "print(rectangle.area)       # Output: 24\n",
    "print(rectangle.perimeter)  # Output: 20\n"
   ],
   "metadata": {
    "collapsed": false,
    "ExecuteTime": {
     "end_time": "2023-07-17T10:40:01.331757800Z",
     "start_time": "2023-07-17T10:40:01.206752100Z"
    }
   }
  },
  {
   "cell_type": "markdown",
   "source": [
    "In the example above, the Rectangle class defines computed properties area and perimeter using the @property decorator. The values are dynamically computed based on the width and height attributes.\n",
    "\n",
    "## Conclusion:\n",
    "Property decorators provide a clean and elegant way to control attribute access, modification, and deletion. By using @property, @<attribute>.setter, and @<attribute>.deleter, you can define custom behavior for attributes, create read-only or computed properties, and ensure data integrity. Property decorators enhance code readability and maintainability by encapsulating attribute logic within the class definition."
   ],
   "metadata": {
    "collapsed": false
   }
  },
  {
   "cell_type": "markdown",
   "source": [
    "## Metaclasses and Data Model Methods in Python\n",
    "\n",
    "## Introduction:\n",
    "Metaclasses and data model methods are advanced concepts in Python that allow you to customize the behavior of classes and objects at the core level. Metaclasses define the behavior of classes themselves, while data model methods provide hooks for customizing object operations. In this tutorial, we will explore metaclasses and data model methods in Python and provide examples to demonstrate their usage.\n",
    "\n",
    "## Metaclasses:\n",
    "Metaclasses are used to define the behavior of classes themselves. They allow you to customize class creation, attribute handling, and other class-level operations. Metaclasses are defined by creating a class that inherits from the built-in type class.\n",
    "\n",
    "Example:"
   ],
   "metadata": {
    "collapsed": false
   }
  },
  {
   "cell_type": "code",
   "execution_count": 26,
   "outputs": [
    {
     "name": "stdout",
     "output_type": "stream",
     "text": [
      "This is the MyClass class.\n"
     ]
    }
   ],
   "source": [
    "class MyMeta(type):\n",
    "    def __new__(cls, name, bases, attrs):\n",
    "        # Customize class creation\n",
    "        attrs[\"description\"] = f\"This is the {name} class.\"\n",
    "        return super().__new__(cls, name, bases, attrs)\n",
    "\n",
    "class MyClass(metaclass=MyMeta):\n",
    "    pass\n",
    "\n",
    "obj = MyClass()\n",
    "print(obj.description)  # Output: This is the MyClass class.\n"
   ],
   "metadata": {
    "collapsed": false,
    "ExecuteTime": {
     "end_time": "2023-07-17T10:45:57.511452500Z",
     "start_time": "2023-07-17T10:45:57.417708600Z"
    }
   }
  },
  {
   "cell_type": "markdown",
   "source": [
    "In the example above, the MyMeta class defines a metaclass by inheriting from the built-in type class. The __new__() method is overridden to customize the class creation process. In this case, it adds a description attribute to the class. The MyClass class uses the MyMeta metaclass to create instances. The description attribute is then accessible on the instance.\n",
    "\n",
    "## Data Model Methods:\n",
    "Data model methods, also known as magic or dunder methods, allow you to customize object behavior for various operations. These methods provide hooks into Python's data model and allow you to define custom behavior for object creation, comparison, iteration, attribute access, and more.\n",
    "Example:"
   ],
   "metadata": {
    "collapsed": false
   }
  },
  {
   "cell_type": "code",
   "execution_count": 27,
   "outputs": [
    {
     "name": "stdout",
     "output_type": "stream",
     "text": [
      "Point(4, 6)\n",
      "False\n",
      "True\n"
     ]
    }
   ],
   "source": [
    "class Point:\n",
    "    def __init__(self, x, y):\n",
    "        self.x = x\n",
    "        self.y = y\n",
    "\n",
    "    def __str__(self):\n",
    "        return f\"Point({self.x}, {self.y})\"\n",
    "\n",
    "    def __eq__(self, other):\n",
    "        if isinstance(other, Point):\n",
    "            return self.x == other.x and self.y == other.y\n",
    "        return False\n",
    "\n",
    "    def __add__(self, other):\n",
    "        if isinstance(other, Point):\n",
    "            return Point(self.x + other.x, self.y + other.y)\n",
    "        raise TypeError(\"Unsupported operand type for +\")\n",
    "\n",
    "p1 = Point(1, 2)\n",
    "p2 = Point(3, 4)\n",
    "p3 = p1 + p2\n",
    "print(p3)          # Output: Point(4, 6)\n",
    "print(p1 == p2)    # Output: False\n",
    "print(p1 == Point(1, 2))  # Output: True\n"
   ],
   "metadata": {
    "collapsed": false,
    "ExecuteTime": {
     "end_time": "2023-07-17T10:48:49.754821800Z",
     "start_time": "2023-07-17T10:48:49.598568600Z"
    }
   }
  },
  {
   "cell_type": "markdown",
   "source": [
    "In the example above, the Point class defines various data model methods:\n",
    "\n",
    "__init__() is the constructor method that initializes the object.\n",
    "__str__() defines the string representation of the object when str() or print() is called.\n",
    "__eq__() compares two Point objects for equality.\n",
    "__add__() defines the behavior when two Point objects are added together using the + operator.\n",
    "## Metaclasses and Data Model Methods:\n",
    "Metaclasses can be used in conjunction with data model methods to customize the behavior of classes and objects. Metaclasses allow you to define class-level behavior, while data model methods allow you to customize object-level behavior.\n",
    "Example:"
   ],
   "metadata": {
    "collapsed": false
   }
  },
  {
   "cell_type": "code",
   "execution_count": 28,
   "outputs": [
    {
     "name": "stdout",
     "output_type": "stream",
     "text": [
      "Creating an instance of MyClass.\n",
      "This is the MyClass class.\n",
      "MyClass(John)\n"
     ]
    }
   ],
   "source": [
    "class MyMeta(type):\n",
    "    def __new__(cls, name, bases, attrs):\n",
    "        attrs[\"description\"] = f\"This is the {name} class.\"\n",
    "        return super().__new__(cls, name, bases, attrs)\n",
    "\n",
    "    def __call__(cls, *args, **kwargs):\n",
    "        obj = super().__call__(*args, **kwargs)\n",
    "        print(f\"Creating an instance of {cls.__name__}.\")\n",
    "        return obj\n",
    "\n",
    "class MyClass(metaclass=MyMeta):\n",
    "    def __init__(self, name):\n",
    "        self.name = name\n",
    "\n",
    "    def __str__(self):\n",
    "        return f\"MyClass({self.name})\"\n",
    "\n",
    "obj = MyClass(\"John\")\n",
    "print(obj.description)  # Output: This is the MyClass class.\n",
    "print(obj)              # Output: MyClass(John)\n"
   ],
   "metadata": {
    "collapsed": false,
    "ExecuteTime": {
     "end_time": "2023-07-17T10:50:44.767601700Z",
     "start_time": "2023-07-17T10:50:44.642612300Z"
    }
   }
  },
  {
   "cell_type": "markdown",
   "source": [
    "In the example above, the MyMeta metaclass is defined with the __new__() and __call__() methods. The __new__() method customizes the class creation process by adding a description attribute to the class. The __call__() method customizes object creation by adding a print statement when an instance of MyClass is created. The resulting object has the customized class-level and object-level behavior.\n",
    "\n",
    "## Conclusion:\n",
    "Metaclasses and data model methods provide powerful ways to customize the behavior of classes and objects in Python. Metaclasses allow you to define class-level behavior, such as class creation and attribute handling, while data model methods provide hooks to customize object-level behavior for various operations. By leveraging these advanced features, you can create highly customized and flexible classes and objects tailored to your specific requirements."
   ],
   "metadata": {
    "collapsed": false
   }
  },
  {
   "cell_type": "code",
   "execution_count": null,
   "outputs": [],
   "source": [],
   "metadata": {
    "collapsed": false
   }
  }
 ],
 "metadata": {
  "kernelspec": {
   "display_name": "Python 3",
   "language": "python",
   "name": "python3"
  },
  "language_info": {
   "codemirror_mode": {
    "name": "ipython",
    "version": 2
   },
   "file_extension": ".py",
   "mimetype": "text/x-python",
   "name": "python",
   "nbconvert_exporter": "python",
   "pygments_lexer": "ipython2",
   "version": "2.7.6"
  }
 },
 "nbformat": 4,
 "nbformat_minor": 0
}

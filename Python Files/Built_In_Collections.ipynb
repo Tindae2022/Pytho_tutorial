{
 "cells": [
  {
   "cell_type": "markdown",
   "source": [
    "## Built in Collections\n",
    "\n",
    "In Python, the term \"collections\" refers to built-in modules that provide specialized data structures. These data structures offer more flexibility and functionality compared to the basic built-in types like lists, tuples, and dictionaries. The collections module in Python provides several specialized container datatypes that are highly efficient and useful in various scenarios. Here are some of the important data structures available in the collections module:"
   ],
   "metadata": {
    "collapsed": false
   }
  },
  {
   "cell_type": "markdown",
   "source": [
    "## Nametuple\n",
    "\n",
    "In Python, namedtuple is a factory function provided by the collections module that creates a lightweight subclass of the tuple class. It allows you to create tuple-like objects with named fields, making your code more readable and self-explanatory.\n",
    "\n",
    "The namedtuple function takes two arguments: the name of the new tuple subclass and a sequence of field names as either a space-separated string or as an iterable (e.g., list, tuple). It returns a new class object that you can use to create instances of the named tuple.\n",
    "\n",
    "Here's an example to illustrate the usage of namedtuple:\n",
    "\n"
   ],
   "metadata": {
    "collapsed": false
   }
  },
  {
   "cell_type": "code",
   "execution_count": 15,
   "outputs": [
    {
     "name": "stdout",
     "output_type": "stream",
     "text": [
      "action\n"
     ]
    }
   ],
   "source": [
    "from collections import namedtuple\n",
    "\n",
    "movie = namedtuple('movie', ['genre', 'rating', 'lead_actor'])\n",
    "ironman = movie(genre='action', rating=4.3, lead_actor='lavo')\n",
    "\n",
    "print(ironman.genre)\n",
    "\n",
    "\n"
   ],
   "metadata": {
    "collapsed": false,
    "ExecuteTime": {
     "end_time": "2023-07-03T18:27:20.969763100Z",
     "start_time": "2023-07-03T18:27:20.922888900Z"
    }
   }
  },
  {
   "cell_type": "code",
   "execution_count": 16,
   "outputs": [
    {
     "name": "stdout",
     "output_type": "stream",
     "text": [
      "John\n",
      "18\n",
      "18 John A\n",
      "{'name': 'John', 'age': 18, 'grade': 'A'}\n"
     ]
    }
   ],
   "source": [
    "student = namedtuple('student', ['name', 'age', 'grade'])\n",
    "s1 = student('John', 18, grade='A')\n",
    "\n",
    "print(s1.name)\n",
    "print(s1[1])\n",
    "\n",
    "# Unpacking name-tuple\n",
    "age, name, grade = s1\n",
    "print(name, age, grade)\n",
    "\n",
    "# Converting to dictionary\n",
    "s_dict = s1._asdict()\n",
    "print(s_dict)\n",
    "\n"
   ],
   "metadata": {
    "collapsed": false,
    "ExecuteTime": {
     "end_time": "2023-07-03T18:27:21.032257300Z",
     "start_time": "2023-07-03T18:27:20.938513700Z"
    }
   }
  },
  {
   "cell_type": "code",
   "execution_count": 17,
   "outputs": [
    {
     "name": "stdout",
     "output_type": "stream",
     "text": [
      "rectangle(width=0, length=0, color='white')\n",
      "rectangle(width=56, length=24, color='Blue')\n"
     ]
    }
   ],
   "source": [
    "rectangle = namedtuple('rectangle', ['width', 'length', 'color'], defaults=[0, 0, 'white'])\n",
    "r1 = rectangle()\n",
    "r2 = rectangle(width=56, length=24, color='Blue')\n",
    "\n",
    "print(r1)\n",
    "print(r2)\n"
   ],
   "metadata": {
    "collapsed": false,
    "ExecuteTime": {
     "end_time": "2023-07-03T18:27:21.032257300Z",
     "start_time": "2023-07-03T18:27:20.969763100Z"
    }
   }
  },
  {
   "cell_type": "code",
   "execution_count": 18,
   "outputs": [
    {
     "name": "stdout",
     "output_type": "stream",
     "text": [
      "Dog(name='buddy', age=3, breed='pow-pow', color='Black')\n"
     ]
    }
   ],
   "source": [
    "# INHERITANCE\n",
    "Animal = namedtuple('Animal', ['name', 'age'])\n",
    "Dog = namedtuple('Dog', Animal._fields + ('breed', 'color'))\n",
    "\n",
    "d1 = Dog('buddy', 3, 'pow-pow', 'Black')\n",
    "print(d1)"
   ],
   "metadata": {
    "collapsed": false,
    "ExecuteTime": {
     "end_time": "2023-07-03T18:27:21.032257300Z",
     "start_time": "2023-07-03T18:27:20.969763100Z"
    }
   }
  },
  {
   "cell_type": "code",
   "execution_count": 19,
   "outputs": [
    {
     "name": "stdout",
     "output_type": "stream",
     "text": [
      "Tindae 56 A\n",
      "Francess 47 B\n",
      "Alpha 78 A\n",
      "60.333333333333336\n",
      "Tindae 56 A\n",
      "Francess 47 A+\n",
      "Alpha 78 A\n"
     ]
    }
   ],
   "source": [
    "student1 = namedtuple('student1', ['name', 'age', 'grade'])\n",
    "student_records = [\n",
    "    student1('Tindae', 56, 'A'),\n",
    "    student1('Francess', 47, 'B'),\n",
    "    student1('Alpha', 78, 'A')\n",
    "]\n",
    "for student in student_records:\n",
    "    print(student.name, student.age, student.grade)\n",
    "total_age = sum(student.age for student in student_records)\n",
    "average_age = total_age / len(student_records)\n",
    "print(average_age)\n",
    "# UPDATE RECORD\n",
    "for index, student in enumerate(student_records):\n",
    "    if student.name == 'Francess':\n",
    "        update_student = student._replace(grade='A+')\n",
    "        student_records[index] = update_student\n",
    "        break\n",
    "for student in student_records:\n",
    "     print(student.name, student.age, student.grade)\n"
   ],
   "metadata": {
    "collapsed": false,
    "ExecuteTime": {
     "end_time": "2023-07-03T18:27:21.032257300Z",
     "start_time": "2023-07-03T18:27:21.001009100Z"
    }
   }
  },
  {
   "cell_type": "markdown",
   "source": [
    "1. # Exercises\n",
    "Create a `Person` named tuple with fields `name`, `age`, and `city`. Write a function `create_person` that takes the name, age, and city as input and returns an instance of the `Person` named tuple."
   ],
   "metadata": {
    "collapsed": false
   }
  },
  {
   "cell_type": "code",
   "execution_count": 43,
   "outputs": [
    {
     "name": "stdout",
     "output_type": "stream",
     "text": [
      "30.0\n",
      "UpdatedPerson(name='John', age=25, city='New York', country='USA')\n"
     ]
    }
   ],
   "source": [
    "\n",
    "from collections import namedtuple\n",
    "Person = namedtuple('Person', ['name', 'age', 'city'])\n",
    "\n",
    "def create_person(name, age, city):\n",
    "    return Person(name, age, city)\n",
    "\n",
    "persons_records = create_person( 'John', 23, 'Bo')\n",
    "\n",
    " # Given a list of `Person` named tuples, write a function `get_average_age` that calculates and # returns the average age of all the persons in the list.\n",
    "\n",
    "def get_average_age(persons):\n",
    "    total_age = sum(person.age for person in persons)\n",
    "    average_age = total_age / len(persons)\n",
    "    return average_age\n",
    "\n",
    "persons = [\n",
    "    Person('Alice', 30, 'London'),\n",
    "    Person('Bob', 25, 'Paris'),\n",
    "    Person('Charlie', 35, 'Berlin')\n",
    "]\n",
    "average_age = get_average_age(persons)\n",
    "print(average_age)\n",
    "\n",
    "\n",
    "# Extend the `Person` named tuple to include a new field `country`. Write a function #`update_country` that takes a `Person` named tuple and a new country as input and returns an # updated `Person` named tuple with the updated country.\n",
    "\n",
    "UpdatedPerson = namedtuple('UpdatedPerson', Person._fields + ('country',))\n",
    "\n",
    "def update_country(person, new_country):\n",
    "    return UpdatedPerson(*person, new_country)\n",
    "\n",
    "person = Person('John', 25, 'New York')\n",
    "updated_person = update_country(person, 'USA')\n",
    "print(updated_person)\n",
    "\n",
    "\n",
    "\n",
    "\n",
    "\n"
   ],
   "metadata": {
    "collapsed": false,
    "ExecuteTime": {
     "end_time": "2023-07-04T03:57:42.905363700Z",
     "start_time": "2023-07-04T03:57:42.842869200Z"
    }
   }
  },
  {
   "cell_type": "markdown",
   "source": [],
   "metadata": {
    "collapsed": false
   }
  },
  {
   "cell_type": "code",
   "execution_count": 40,
   "outputs": [
    {
     "name": "stdout",
     "output_type": "stream",
     "text": [
      "[Person(name='Alice', age=30, city='London'), Person(name='Charlie', age=35, city='Berlin')]\n"
     ]
    }
   ],
   "source": [
    " #Write a function `filter_persons_by_age` that takes a list of `Person` named tuples and a minimum age as input, and returns a new list containing only the persons whose age is greater than or equal to the minimum age.\n",
    "\n",
    "from collections import namedtuple\n",
    "def filter_persons_by_age(persons, min_age):\n",
    "    return [person for person in persons if person.age >= min_age]\n",
    "\n",
    "persons = [\n",
    "    Person('Alice', 30, 'London'),\n",
    "    Person('Bob', 25, 'Paris'),\n",
    "    Person('Charlie', 35, 'Berlin')\n",
    "]\n",
    "filtered_persons = filter_persons_by_age(persons, 30)\n",
    "print(filtered_persons)"
   ],
   "metadata": {
    "collapsed": false,
    "ExecuteTime": {
     "end_time": "2023-07-04T03:54:31.312143400Z",
     "start_time": "2023-07-04T03:54:31.202659Z"
    }
   }
  },
  {
   "cell_type": "markdown",
   "source": [],
   "metadata": {
    "collapsed": false
   }
  },
  {
   "cell_type": "code",
   "execution_count": 49,
   "outputs": [
    {
     "name": "stdout",
     "output_type": "stream",
     "text": [
      "Person(name='Alice', age=30, city='London')\n",
      "Person(name='Bob', age=25, city='Paris')\n",
      "Person(name='Charlie', age=35, city='Berlin')\n"
     ]
    }
   ],
   "source": [
    "#Write a function `sort_persons_by_name` that takes a list of `Person` named tuples and sorts them in alphabetical order based on the person's name. The function should return the sorted list.\n",
    "\n",
    "from collections import namedtuple\n",
    "def sort_person_by_name(person):\n",
    "    return sorted(persons, key= lambda person: person.name)\n",
    "persons = [\n",
    "    Person('Alice', 30, 'London'),\n",
    "    Person('Charlie', 35, 'Berlin'),\n",
    "    Person('Bob', 25, 'Paris')\n",
    "]\n",
    "sorted_person = sort_person_by_name(persons)\n",
    "for index in sorted_person:\n",
    "    print(index)"
   ],
   "metadata": {
    "collapsed": false,
    "ExecuteTime": {
     "end_time": "2023-07-04T04:21:43.825711300Z",
     "start_time": "2023-07-04T04:21:43.794424300Z"
    }
   }
  },
  {
   "cell_type": "code",
   "execution_count": 53,
   "outputs": [
    {
     "name": "stdout",
     "output_type": "stream",
     "text": [
      "Car(brand='BMW', model='Benz', year=2012)\n",
      "Car(brand='Toyota', model='Land Crusier', year=2017)\n",
      "Car(brand='Toyota', model='GLA 15', year=2021)\n",
      "Car(brand='Volkswagen', model='Skoda', year=2022)\n",
      "Car(brand='BMW', model='Rolls Royce', year=2023)\n",
      "updatedCar(brand='Toyota', model='GLA 15', year=2021, Color='White')\n",
      "*************************************************\n",
      "Car(brand='Toyota', model='Land Crusier', year=2017)\n",
      "Car(brand='Toyota', model='GLA 15', year=2021)\n"
     ]
    },
    {
     "ename": "TypeError",
     "evalue": "can only concatenate str (not \"int\") to str",
     "output_type": "error",
     "traceback": [
      "\u001B[1;31m---------------------------------------------------------------------------\u001B[0m",
      "\u001B[1;31mTypeError\u001B[0m                                 Traceback (most recent call last)",
      "Cell \u001B[1;32mIn[53], line 50\u001B[0m\n\u001B[0;32m     47\u001B[0m \u001B[38;5;28;01mdef\u001B[39;00m \u001B[38;5;21mcreate_car\u001B[39m (brand, model, year):\n\u001B[0;32m     48\u001B[0m     \u001B[38;5;28;01mreturn\u001B[39;00m Car(\u001B[38;5;124m\"\u001B[39m\u001B[38;5;124mThe name of your car brand\u001B[39m\u001B[38;5;124m'\u001B[39m\u001B[38;5;124ms: \u001B[39m\u001B[38;5;124m\"\u001B[39m \u001B[38;5;241m+\u001B[39m brand \u001B[38;5;241m+\u001B[39m \u001B[38;5;124m\"\u001B[39m\u001B[38;5;124m. The model is: \u001B[39m\u001B[38;5;124m\"\u001B[39m \u001B[38;5;241m+\u001B[39m model \u001B[38;5;241m+\u001B[39m \n\u001B[0;32m     49\u001B[0m                \u001B[38;5;124m\"\u001B[39m\u001B[38;5;124m, and it was created on the 17th of December \u001B[39m\u001B[38;5;124m\"\u001B[39m \u001B[38;5;241m+\u001B[39myear)\n\u001B[1;32m---> 50\u001B[0m car2 \u001B[38;5;241m=\u001B[39m \u001B[43mcreate_car\u001B[49m\u001B[43m(\u001B[49m\u001B[38;5;124;43m'\u001B[39;49m\u001B[38;5;124;43mBMW\u001B[39;49m\u001B[38;5;124;43m'\u001B[39;49m\u001B[43m,\u001B[49m\u001B[43m \u001B[49m\u001B[38;5;124;43m'\u001B[39;49m\u001B[38;5;124;43mBenz\u001B[39;49m\u001B[38;5;124;43m'\u001B[39;49m\u001B[43m,\u001B[49m\u001B[43m \u001B[49m\u001B[38;5;241;43m2012\u001B[39;49m\u001B[43m)\u001B[49m\n\u001B[0;32m     51\u001B[0m \u001B[38;5;28mprint\u001B[39m(car2)\n",
      "Cell \u001B[1;32mIn[53], line 48\u001B[0m, in \u001B[0;36mcreate_car\u001B[1;34m(brand, model, year)\u001B[0m\n\u001B[0;32m     47\u001B[0m \u001B[38;5;28;01mdef\u001B[39;00m \u001B[38;5;21mcreate_car\u001B[39m (brand, model, year):\n\u001B[1;32m---> 48\u001B[0m     \u001B[38;5;28;01mreturn\u001B[39;00m Car(\u001B[38;5;124;43m\"\u001B[39;49m\u001B[38;5;124;43mThe name of your car brand\u001B[39;49m\u001B[38;5;124;43m'\u001B[39;49m\u001B[38;5;124;43ms: \u001B[39;49m\u001B[38;5;124;43m\"\u001B[39;49m\u001B[43m \u001B[49m\u001B[38;5;241;43m+\u001B[39;49m\u001B[43m \u001B[49m\u001B[43mbrand\u001B[49m\u001B[43m \u001B[49m\u001B[38;5;241;43m+\u001B[39;49m\u001B[43m \u001B[49m\u001B[38;5;124;43m\"\u001B[39;49m\u001B[38;5;124;43m. The model is: \u001B[39;49m\u001B[38;5;124;43m\"\u001B[39;49m\u001B[43m \u001B[49m\u001B[38;5;241;43m+\u001B[39;49m\u001B[43m \u001B[49m\u001B[43mmodel\u001B[49m\u001B[43m \u001B[49m\u001B[38;5;241;43m+\u001B[39;49m\u001B[43m \u001B[49m\n\u001B[0;32m     49\u001B[0m \u001B[43m               \u001B[49m\u001B[38;5;124;43m\"\u001B[39;49m\u001B[38;5;124;43m, and it was created on the 17th of December \u001B[39;49m\u001B[38;5;124;43m\"\u001B[39;49m\u001B[43m \u001B[49m\u001B[38;5;241;43m+\u001B[39;49m\u001B[43myear\u001B[49m)\n",
      "\u001B[1;31mTypeError\u001B[0m: can only concatenate str (not \"int\") to str"
     ]
    }
   ],
   "source": [
    "#Assignment 1:\n",
    "# 1. Create a `Car` named tuple with fields `brand`, `model`, and `year`. Write a function `create_car` that takes the brand, model, and year as input and returns an instance of the `Car` named tuple.\n",
    "\n",
    "from collections import namedtuple\n",
    "Car = namedtuple('Car', ['brand', 'model', 'year'])\n",
    "def create_car (brand, model, year):\n",
    "    return Car(brand, model, year)\n",
    "car1 = create_car('BMW', 'Benz', 2012)\n",
    "print(car1)\n",
    "\n",
    "#  Given a list of `Car` named tuples, write a function `get_newest_car` that finds and returns the newest car based on the year.\n",
    "\n",
    "def sort_cars_by_years(car):\n",
    "    return sorted(cars, key=lambda car: car.year)\n",
    "cars = [\n",
    "    Car('Toyota', 'Land Crusier', 2017),\n",
    "    Car('Volkswagen', 'Skoda', 2022),\n",
    "    Car('BMW', 'Rolls Royce', 2023),\n",
    "    Car('Toyota', 'GLA 15', 2021)\n",
    "]\n",
    "sorted_cars = sort_cars_by_years(cars)\n",
    "for index in sorted_cars:\n",
    "    print(index)\n",
    "\n",
    "# Extend the `Car` named tuple to include a new field `color`. Write a function `update_color` that takes a `Car` named tuple and a new color as input and returns an updated `Car` named tuple with the updated color.\n",
    "\n",
    "updatedCar = namedtuple('updatedCar', Car._fields + ('Color',))\n",
    "def update_cars(car, color):\n",
    "    return updatedCar(*car, color)\n",
    "car = Car('Toyota', 'GLA 15', 2021)\n",
    "updated_car = update_cars(car, 'White')\n",
    "print(updated_car)\n",
    "print(\"*************************************************\")\n",
    "# Write a function `filter_cars_by_brand` that takes a list of `Car` named tuples and a brand as input, and returns a new list containing only the cars of the specified brand.\n",
    "def filter_cars_by_brand(cars):\n",
    "    return [car for car in cars if car.brand == 'Toyota']\n",
    "cars = [\n",
    "    Car('Toyota', 'Land Crusier', 2017),\n",
    "    Car('Volkswagen', 'Skoda', 2022),\n",
    "    Car('BMW', 'Rolls Royce', 2023),\n",
    "    Car('Toyota', 'GLA 15', 2021)\n",
    "]\n",
    "filtered_cars = filter_cars_by_brand(cars)\n",
    "for index in filtered_cars:\n",
    "    print(index)\n",
    "\n",
    "def create_car (brand, model, year):\n",
    "    return Car(\"The name of your car brand's: \" + brand + \". The model is: \" + model +\n",
    "               \", and it was created on the 17th of December \" + year)\n",
    "car2 = create_car('BMW', 'Benz', 2012)\n",
    "print(car2)\n"
   ],
   "metadata": {
    "collapsed": false,
    "ExecuteTime": {
     "end_time": "2023-07-04T05:05:54.021831Z",
     "start_time": "2023-07-04T05:05:53.896843700Z"
    }
   }
  },
  {
   "cell_type": "code",
   "execution_count": 56,
   "outputs": [
    {
     "name": "stdout",
     "output_type": "stream",
     "text": [
      "Books(title='Python', author='Mr Alpha', genre='Programming')\n",
      "Books(title='Java', author='Mr Tindae', genre='Programming')\n",
      "Books(title='Data Communication', author='Mr Sillah', genre='Networking')\n",
      "*************************************************\n",
      "\n",
      "Books(title='Python', author='Mr Alpha', genre='Programming')\n",
      "Books(title='Java', author='Mr Tindae', genre='Programming')\n"
     ]
    }
   ],
   "source": [
    "#Assignment 2:\n",
    "#1. Create a `Book` named tuple with fields `title`, `author`, and `genre`. Write a function `create_book` that takes the title, author, and genre as input and returns an instance of the `Book` named tuple.\n",
    "\n",
    "from collections import namedtuple\n",
    "\n",
    "Books = namedtuple('Books', ['title', 'author', 'genre'])\n",
    "\n",
    "def create_book(title, author, genre):\n",
    "    return Books(title, author, genre)\n",
    "\n",
    "books= [\n",
    "    create_book(\"Python\", 'Mr Alpha', 'Programming'),\n",
    "    create_book(\"Java\", 'Mr Tindae', 'Programming'),\n",
    "    create_book(\"Data Communication\", 'Mr Sillah', 'Networking')\n",
    "]\n",
    "for index in books:\n",
    "    print(index)\n",
    "print(\"*************************************************\")\n",
    "# 2. Given a list of `Book` named tuples, write a function `filter_books_by_genre` that takes the list of books and a genre as input, and returns a new list containing only the books of the specified genre.\n",
    "print()\n",
    "\n",
    "def filter_books_by_genre(book):\n",
    "    return [book for book in books if book.genre == 'Programming']\n",
    "filtered_books = filter_books_by_genre(books)\n",
    "for index in filtered_books:\n",
    "    print(index)\n",
    "\n"
   ],
   "metadata": {
    "collapsed": false,
    "ExecuteTime": {
     "end_time": "2023-07-04T05:31:22.920878900Z",
     "start_time": "2023-07-04T05:31:22.873985900Z"
    }
   }
  },
  {
   "cell_type": "markdown",
   "source": [
    "In Python, a dictionary is an unordered collection of key-value pairs enclosed in curly braces {}. It is also known as an associative array or a hash table. Each key-value pair in a dictionary is separated by a colon :. The keys within a dictionary must be unique, immutable objects (e.g., strings, numbers, tuples), while the values can be of any type. Dictionaries are widely used to store and retrieve data based on specific keys. Let's dive into some coding examples to understand dictionaries better.\n",
    "\n",
    "## Creating a Dictionary\n",
    "You can create a dictionary by enclosing key-value pairs in curly braces {} or by using the dict() constructor. Here are a few examples:"
   ],
   "metadata": {
    "collapsed": false
   }
  },
  {
   "cell_type": "code",
   "execution_count": 61,
   "outputs": [],
   "source": [
    "# Creating a dictionary using curly braces\n",
    "fruits = {'apple': 3, 'banana': 2, 'orange': 5}\n",
    "\n",
    "# Creating a dictionary using the dict() constructor\n",
    "fruits = dict(apple=3, banana=2, orange=5)\n"
   ],
   "metadata": {
    "collapsed": false,
    "ExecuteTime": {
     "end_time": "2023-07-04T13:49:57.959068700Z",
     "start_time": "2023-07-04T13:49:57.912200300Z"
    }
   }
  },
  {
   "cell_type": "markdown",
   "source": [
    "## Accessing Values in a Dictionary\n",
    "To access the values of a dictionary, you can use the corresponding key within square brackets [] or use the get() method. If the key is not found, using square brackets will raise a KeyError, while get() will return None or a default value that you can specify.\n"
   ],
   "metadata": {
    "collapsed": false
   }
  },
  {
   "cell_type": "code",
   "execution_count": 62,
   "outputs": [
    {
     "name": "stdout",
     "output_type": "stream",
     "text": [
      "3\n",
      "2\n",
      "None\n",
      "0\n"
     ]
    }
   ],
   "source": [
    "fruits = {'apple': 3, 'banana': 2, 'orange': 5}\n",
    "\n",
    "print(fruits['apple'])        # Output: 3\n",
    "print(fruits.get('banana'))    # Output: 2\n",
    "print(fruits.get('grape'))     # Output: None\n",
    "print(fruits.get('grape', 0))  # Output: 0 (default value if key is not found)\n"
   ],
   "metadata": {
    "collapsed": false,
    "ExecuteTime": {
     "end_time": "2023-07-04T13:50:47.115475100Z",
     "start_time": "2023-07-04T13:50:47.068623200Z"
    }
   }
  },
  {
   "cell_type": "markdown",
   "source": [
    "## Modifying Values in a Dictionary\n",
    "To modify values in a dictionary, you can assign a new value to a specific key or add new key-value pairs.\n",
    "\n"
   ],
   "metadata": {
    "collapsed": false
   }
  },
  {
   "cell_type": "code",
   "execution_count": 63,
   "outputs": [
    {
     "name": "stdout",
     "output_type": "stream",
     "text": [
      "{'apple': 4, 'banana': 2, 'orange': 5, 'grape': 6}\n"
     ]
    }
   ],
   "source": [
    "fruits = {'apple': 3, 'banana': 2, 'orange': 5}\n",
    "\n",
    "fruits['apple'] = 4        # Modifying an existing value\n",
    "fruits['grape'] = 6        # Adding a new key-value pair\n",
    "\n",
    "print(fruits)\n",
    "# Output: {'apple': 4, 'banana': 2, 'orange': 5, 'grape': 6}\n"
   ],
   "metadata": {
    "collapsed": false,
    "ExecuteTime": {
     "end_time": "2023-07-04T13:51:37.257051900Z",
     "start_time": "2023-07-04T13:51:37.163310Z"
    }
   }
  },
  {
   "cell_type": "markdown",
   "source": [
    "## Iterating Through a Dictionary\n",
    "You can iterate through a dictionary using a for loop to access keys or values, or both using the items() method.\n"
   ],
   "metadata": {
    "collapsed": false
   }
  },
  {
   "cell_type": "code",
   "execution_count": 64,
   "outputs": [
    {
     "name": "stdout",
     "output_type": "stream",
     "text": [
      "apple\n",
      "banana\n",
      "orange\n",
      "3\n",
      "2\n",
      "5\n",
      "apple 3\n",
      "banana 2\n",
      "orange 5\n"
     ]
    }
   ],
   "source": [
    "fruits = {'apple': 3, 'banana': 2, 'orange': 5}\n",
    "\n",
    "# Iterating through keys\n",
    "for key in fruits:\n",
    "    print(key)\n",
    "\n",
    "# Iterating through values\n",
    "for value in fruits.values():\n",
    "    print(value)\n",
    "\n",
    "# Iterating through both keys and values\n",
    "for key, value in fruits.items():\n",
    "    print(key, value)\n"
   ],
   "metadata": {
    "collapsed": false,
    "ExecuteTime": {
     "end_time": "2023-07-04T13:52:19.928839100Z",
     "start_time": "2023-07-04T13:52:19.819431100Z"
    }
   }
  },
  {
   "cell_type": "markdown",
   "source": [
    "## Removing Items from a Dictionary\n",
    "To remove items from a dictionary, you can use the del keyword followed by the key or use the pop() method, which removes and returns the value associated with the specified key.\n"
   ],
   "metadata": {
    "collapsed": false
   }
  },
  {
   "cell_type": "code",
   "execution_count": 65,
   "outputs": [
    {
     "name": "stdout",
     "output_type": "stream",
     "text": [
      "{'orange': 5}\n",
      "3\n"
     ]
    }
   ],
   "source": [
    "fruits = {'apple': 3, 'banana': 2, 'orange': 5}\n",
    "\n",
    "del fruits['banana']           # Removing a key-value pair\n",
    "removed_value = fruits.pop('apple')  # Removing and returning the value\n",
    "\n",
    "print(fruits)                  # Output: {'orange': 5}\n",
    "print(removed_value)           # Output: 3\n"
   ],
   "metadata": {
    "collapsed": false,
    "ExecuteTime": {
     "end_time": "2023-07-04T13:53:00.521286200Z",
     "start_time": "2023-07-04T13:53:00.458786Z"
    }
   }
  },
  {
   "cell_type": "markdown",
   "source": [
    "Dictionaries in Python offer a flexible and powerful way to store and manipulate data using key-value pairs. They are extensively used for tasks like data retrieval, mapping, and caching, among others. By understanding the basics and using the provided methods, you can efficiently work with dictionaries in Python.\n"
   ],
   "metadata": {
    "collapsed": false
   }
  },
  {
   "cell_type": "markdown",
   "source": [
    "## OrderedDict in Python - Exploring Ordered Dictionaries\n",
    "In this tutorial, we will explore the OrderedDict class from the collections module in Python. We will start with simple examples to understand the basic concepts and then move on to more complex scenarios. OrderedDict is useful when the order of elements matters, and we'll see how it can help us in various situations.\n"
   ],
   "metadata": {
    "collapsed": false
   }
  },
  {
   "cell_type": "markdown",
   "source": [
    "## Introduction to OrderedDict\n",
    "OrderedDict is a dictionary subclass that maintains the order of insertion of its elements. Unlike regular dictionaries, which do not guarantee the order of elements, an OrderedDict remembers the order of insertion, making it suitable for applications where the order of elements is significant.\n"
   ],
   "metadata": {
    "collapsed": false
   }
  },
  {
   "cell_type": "markdown",
   "source": [
    "## Creating an OrderedDict\n",
    "Let's start with the basics and see how to create an OrderedDict.\n"
   ],
   "metadata": {
    "collapsed": false
   }
  },
  {
   "cell_type": "code",
   "execution_count": 66,
   "outputs": [
    {
     "name": "stdout",
     "output_type": "stream",
     "text": [
      "OrderedDict([('apples', 3), ('banana', 2), ('orange', 1)])\n"
     ]
    }
   ],
   "source": [
    "from collections import OrderedDict\n",
    "# creating an OrderedDict\n",
    "\n",
    "ordered_dict = OrderedDict()\n",
    "ordered_dict['apples'] = 3\n",
    "ordered_dict['banana'] = 2\n",
    "ordered_dict['orange'] = 1\n",
    "\n",
    "print(ordered_dict)"
   ],
   "metadata": {
    "collapsed": false,
    "ExecuteTime": {
     "end_time": "2023-07-04T13:59:22.650250100Z",
     "start_time": "2023-07-04T13:59:22.569971500Z"
    }
   }
  },
  {
   "cell_type": "markdown",
   "source": [
    "## Accessing and Modifying Elements\n",
    "Just like regular dictionaries, we can access and modify elements in an OrderedDict.\n",
    "\n"
   ],
   "metadata": {
    "collapsed": false
   }
  },
  {
   "cell_type": "code",
   "execution_count": 67,
   "outputs": [
    {
     "name": "stdout",
     "output_type": "stream",
     "text": [
      "1\n",
      "OrderedDict([('apples', 7), ('banana', 2), ('orange', 1)])\n"
     ]
    }
   ],
   "source": [
    "from collections import OrderedDict\n",
    "# creating an OrderedDict\n",
    "\n",
    "ordered_dict = OrderedDict()\n",
    "ordered_dict['apples'] = 3\n",
    "ordered_dict['banana'] = 2\n",
    "ordered_dict['orange'] = 1\n",
    "\n",
    "# Accessing Elements\n",
    "\n",
    "print(ordered_dict['orange'])\n",
    "\n",
    "# Modifying Element\n",
    "ordered_dict['apples'] = 7\n",
    "\n",
    "print(ordered_dict)"
   ],
   "metadata": {
    "collapsed": false,
    "ExecuteTime": {
     "end_time": "2023-07-04T14:07:52.415654400Z",
     "start_time": "2023-07-04T14:07:52.353176300Z"
    }
   }
  },
  {
   "cell_type": "markdown",
   "source": [
    "As shown in the example, we can access the value associated with a key and modify its value in the OrderedDict.\n",
    "\n",
    "\n"
   ],
   "metadata": {
    "collapsed": false
   }
  },
  {
   "cell_type": "markdown",
   "source": [
    "OrderedDict is a subclass of the built-in dict class and inherits all the methods from it. In addition to the standard dictionary methods, OrderedDict also provides some methods specific to its ordered nature. Here are the methods available for manipulating an OrderedDict:\n",
    "\n",
    "\n",
    "- popitem(last=True): Removes and returns a key-value pair from the dictionary. By default, it removes and returns the last inserted item. If last=False, it removes and returns the first inserted item.\n"
   ],
   "metadata": {
    "collapsed": false
   }
  },
  {
   "cell_type": "code",
   "execution_count": 70,
   "outputs": [
    {
     "name": "stdout",
     "output_type": "stream",
     "text": [
      "('banana', 1)\n"
     ]
    }
   ],
   "source": [
    "from collections import OrderedDict\n",
    "od = OrderedDict()\n",
    "od['apple'] = 3\n",
    "od['orange'] = 2\n",
    "od['banana'] = 1\n",
    "item = od.popitem()\n",
    "print(item)"
   ],
   "metadata": {
    "collapsed": false,
    "ExecuteTime": {
     "end_time": "2023-07-04T15:08:32.605813100Z",
     "start_time": "2023-07-04T15:08:32.558944100Z"
    }
   }
  },
  {
   "cell_type": "markdown",
   "source": [
    "- move_to_end(key, last=True): Moves an existing key-value pair to either the beginning or end of the dictionary. By default, it moves the item to the end. If last=False, it moves the item to the beginning.\n"
   ],
   "metadata": {
    "collapsed": false
   }
  },
  {
   "cell_type": "code",
   "execution_count": 71,
   "outputs": [
    {
     "name": "stdout",
     "output_type": "stream",
     "text": [
      "OrderedDict([('banana', 2), ('orange', 1), ('apple', 3)])\n"
     ]
    }
   ],
   "source": [
    "from collections import OrderedDict\n",
    "od = OrderedDict()\n",
    "od['apple'] = 3\n",
    "od['banana'] = 2\n",
    "od['orange'] = 1\n",
    "\n",
    "od.move_to_end('apple')\n",
    "print(od)\n",
    "\n"
   ],
   "metadata": {
    "collapsed": false,
    "ExecuteTime": {
     "end_time": "2023-07-04T15:16:28.754252400Z",
     "start_time": "2023-07-04T15:16:28.722965200Z"
    }
   }
  },
  {
   "cell_type": "code",
   "execution_count": 73,
   "outputs": [
    {
     "name": "stdout",
     "output_type": "stream",
     "text": [
      "OrderedDict()\n"
     ]
    }
   ],
   "source": [
    "# clear(): Removes all key-value pairs from the dictionary, making it empty.\n",
    "from collections import OrderedDict\n",
    "od = OrderedDict()\n",
    "od['apple'] = 3\n",
    "od['banana'] = 2\n",
    "od['orange'] = 1\n",
    "\n",
    "od.clear()\n",
    "print(od)"
   ],
   "metadata": {
    "collapsed": false,
    "ExecuteTime": {
     "end_time": "2023-07-04T15:24:23.166299600Z",
     "start_time": "2023-07-04T15:24:23.135030600Z"
    }
   }
  },
  {
   "cell_type": "markdown",
   "source": [
    "update(iterable_or_mapping): Updates the dictionary with key-value pairs from another iterable or mapping (like another dictionary).\n",
    "\n"
   ],
   "metadata": {
    "collapsed": false
   }
  },
  {
   "cell_type": "code",
   "execution_count": 74,
   "outputs": [
    {
     "name": "stdout",
     "output_type": "stream",
     "text": [
      "OrderedDict([('apple', 3), ('banana', 2), ('orange', 5), ('grape', 4)])\n"
     ]
    }
   ],
   "source": [
    "from collections import OrderedDict\n",
    "\n",
    "od1 = OrderedDict([('apple', 3), ('banana', 2)])\n",
    "od2 = {'orange': 5, 'grape': 4}\n",
    "od1.update(od2)\n",
    "print(od1)\n"
   ],
   "metadata": {
    "collapsed": false,
    "ExecuteTime": {
     "end_time": "2023-07-04T15:26:06.891572800Z",
     "start_time": "2023-07-04T15:26:06.829022200Z"
    }
   }
  },
  {
   "cell_type": "markdown",
   "source": [
    "- Write a function that takes a string as input and returns a dictionary containing the count of each character in the string. The dictionary should be an OrderedDict to maintain the order of character appearance in the string.\n",
    "\n",
    "\n",
    "\n"
   ],
   "metadata": {
    "collapsed": false
   }
  },
  {
   "cell_type": "code",
   "execution_count": 79,
   "outputs": [
    {
     "name": "stdout",
     "output_type": "stream",
     "text": [
      "H 1\n",
      "e 1\n",
      "l 3\n",
      "o 2\n",
      ", 1\n",
      "  1\n",
      "W 1\n",
      "r 1\n",
      "d 1\n",
      "! 1\n"
     ]
    }
   ],
   "source": [
    "from collections import OrderedDict\n",
    "\n",
    "def count_characters(string):\n",
    "    char_count = OrderedDict()\n",
    "    for char in string:\n",
    "        char_count[char] = char_count.get(char, 0) + 1\n",
    "    return char_count\n",
    "\n",
    "input_string = \"Hello, World!\"\n",
    "result = count_characters(input_string)\n",
    "for key, value in result.items():\n",
    "    print(key, value)\n"
   ],
   "metadata": {
    "collapsed": false,
    "ExecuteTime": {
     "end_time": "2023-07-04T16:02:34.961700600Z",
     "start_time": "2023-07-04T16:02:34.930413700Z"
    }
   }
  },
  {
   "cell_type": "markdown",
   "source": [
    "You have a list of words, and you want to group them based on the lengths of the words. Write a function that takes a list of words as input and returns an OrderedDict where the keys are the word lengths, and the values are lists of words of that length\n",
    "\n"
   ],
   "metadata": {
    "collapsed": false
   }
  },
  {
   "cell_type": "code",
   "execution_count": 81,
   "outputs": [
    {
     "name": "stdout",
     "output_type": "stream",
     "text": [
      "OrderedDict([(5, ['apple']), (6, ['banana', 'orange']), (3, ['cat', 'dog']), (8, ['elephant'])])\n"
     ]
    }
   ],
   "source": [
    "from collections import OrderedDict\n",
    "\n",
    "def group_words_by_length(words):\n",
    "    word_groups = OrderedDict()\n",
    "    for word in words:\n",
    "        length = len(word)\n",
    "        if length not in word_groups:\n",
    "            word_groups[length] = []\n",
    "        word_groups[length].append(word)\n",
    "    return word_groups\n",
    "\n",
    "word_list = ['apple', 'banana', 'orange', 'cat', 'dog', 'elephant']\n",
    "result = group_words_by_length(word_list)\n",
    "print(result)\n"
   ],
   "metadata": {
    "collapsed": false,
    "ExecuteTime": {
     "end_time": "2023-07-04T16:10:59.954980500Z",
     "start_time": "2023-07-04T16:10:59.892445200Z"
    }
   }
  },
  {
   "cell_type": "markdown",
   "source": [
    "## Iterating through an OrderedDict\n",
    "Iterating through an OrderedDict follows the insertion order, just like accessing elements"
   ],
   "metadata": {
    "collapsed": false
   }
  },
  {
   "cell_type": "code",
   "execution_count": 68,
   "outputs": [
    {
     "name": "stdout",
     "output_type": "stream",
     "text": [
      "apples 3\n",
      "banana 2\n",
      "orange 1\n"
     ]
    }
   ],
   "source": [
    "from collections import OrderedDict\n",
    "# creating an OrderedDict\n",
    "\n",
    "ordered_dict = OrderedDict()\n",
    "ordered_dict['apples'] = 3\n",
    "ordered_dict['banana'] = 2\n",
    "ordered_dict['orange'] = 1\n",
    "\n",
    "# Iterating through the OrderedDict\n",
    "\n",
    "for key, value in ordered_dict.items():\n",
    "    print(key, value)\n"
   ],
   "metadata": {
    "collapsed": false,
    "ExecuteTime": {
     "end_time": "2023-07-04T14:12:08.289951900Z",
     "start_time": "2023-07-04T14:12:08.211831400Z"
    }
   }
  },
  {
   "cell_type": "markdown",
   "source": [
    "The iteration through ordered_dict gives us the elements in the order they were inserted.\n",
    "\n",
    "## Combining OrderedDict with Other Data Structures\n",
    "OrderedDict can be combined with other data structures to enhance their functionalities. Let's see an example where we use OrderedDict in conjunction with a list to maintain a history of actions.\n"
   ],
   "metadata": {
    "collapsed": false
   }
  },
  {
   "cell_type": "code",
   "execution_count": 69,
   "outputs": [
    {
     "name": "stdout",
     "output_type": "stream",
     "text": [
      "login ['user1', 'user2']\n",
      "logout ['user1', 'user2']\n"
     ]
    }
   ],
   "source": [
    "# Using OrderdDict with a list for action history\n",
    "\n",
    "from collections import OrderedDict\n",
    "actions = OrderedDict()\n",
    "actions['login'] = ['user1', 'user2']\n",
    "actions['logout'] = ['user1', 'user2']\n",
    "\n",
    "for key, value in actions.items():\n",
    "    print(key, value)"
   ],
   "metadata": {
    "collapsed": false,
    "ExecuteTime": {
     "end_time": "2023-07-04T14:22:38.552519100Z",
     "start_time": "2023-07-04T14:22:38.466713700Z"
    }
   }
  },
  {
   "cell_type": "markdown",
   "source": [
    "In the example, we used an OrderedDict to keep track of user actions like login and logout, along with the users involved in each action."
   ],
   "metadata": {
    "collapsed": false
   }
  },
  {
   "cell_type": "markdown",
   "source": [
    "## Performance Considerations\n",
    "While OrderedDict preserves the order of insertion, it comes with a slightly higher memory overhead compared to regular dictionaries. In most cases, this overhead is negligible, but it's essential to be aware of it when dealing with large datasets.\n"
   ],
   "metadata": {
    "collapsed": false
   }
  },
  {
   "cell_type": "markdown",
   "source": [
    "## Use Cases and Scenarios\n",
    "OrderedDict can be useful in various scenarios, such as:\n",
    "\n",
    "- Keeping track of the order of items in a shopping cart or a to-do list.\n",
    "- Implementing a cache system where the least recently used items are removed.\n",
    "- Preserving the order of columns or fields in a database query or a configuration file.\n",
    "\n",
    "These are just a few examples where the order of elements plays a significant role, and OrderedDict can simplify your code and ensure the desired behavior."
   ],
   "metadata": {
    "collapsed": false
   }
  },
  {
   "cell_type": "markdown",
   "source": [
    "## Conclusion\n",
    "In this tutorial, we explored the OrderedDict class from the collections module in Python. We learned how to create and modify an OrderedDict, iterate through its elements, combine it with other data structures, and discussed its performance considerations. Understanding OrderedDict and its applications can help you write more expressive and efficient code when order matters."
   ],
   "metadata": {
    "collapsed": false
   }
  },
  {
   "cell_type": "markdown",
   "source": [
    "## Deque in Python - Double-Ended Queue\n",
    "## Introduction to Deque\n",
    "A deque is a double-ended queue, which means it supports adding and removing elements from both ends efficiently. Unlike a regular list, which has a time complexity of O(n) for inserting or removing elements from the beginning, a deque provides O(1) time complexity for such operations."
   ],
   "metadata": {
    "collapsed": false
   }
  },
  {
   "cell_type": "markdown",
   "source": [
    "## Creating a Deque\n",
    "To use a deque, we need to import it from the collections module.\n",
    "We can create a deque by initializing it with an iterable (e.g., list, tuple) or with no arguments, creating an empty deque."
   ],
   "metadata": {
    "collapsed": false
   }
  },
  {
   "cell_type": "code",
   "execution_count": 83,
   "outputs": [],
   "source": [
    "from collections import deque\n",
    "# creating a deque\n",
    "\n",
    "deque1 =deque ([1, 2, 3, 4])\n",
    "deque2 = deque()\n"
   ],
   "metadata": {
    "collapsed": false,
    "ExecuteTime": {
     "end_time": "2023-07-04T16:41:46.839360700Z",
     "start_time": "2023-07-04T16:41:46.823736800Z"
    }
   }
  },
  {
   "cell_type": "markdown",
   "source": [
    "## Adding and Removing Elements\n",
    "A deque provides several methods to add or remove elements from both ends.\n",
    "\n",
    "Adding Elements:\n",
    "- append(x): Adds an element x to the right end of the deque.\n",
    "- appendleft(x): Adds an element x to the left end of the deque.\n",
    "\n"
   ],
   "metadata": {
    "collapsed": false
   }
  },
  {
   "cell_type": "code",
   "execution_count": 84,
   "outputs": [
    {
     "name": "stdout",
     "output_type": "stream",
     "text": [
      "deque([-1, 0, 1, 2, 3, 4, 5, 6])\n"
     ]
    }
   ],
   "source": [
    "from collections import deque\n",
    "deque1 =deque ([1, 2, 3, 4])\n",
    "# Adding elements to the right end\n",
    "\n",
    "deque1.append(5)\n",
    "deque1.append(6)\n",
    "\n",
    "# Adding elements to the left end\n",
    "deque1.appendleft(0)\n",
    "deque1.appendleft(-1)\n",
    "\n",
    "print(deque1)"
   ],
   "metadata": {
    "collapsed": false,
    "ExecuteTime": {
     "end_time": "2023-07-04T16:44:03.923272300Z",
     "start_time": "2023-07-04T16:44:03.813871500Z"
    }
   }
  },
  {
   "cell_type": "markdown",
   "source": [
    "## Removing Elements:\n",
    "- pop(): Removes and returns the rightmost element from the deque.\n",
    "- popleft(): Removes and returns the leftmost element from the deque.\n",
    "\n"
   ],
   "metadata": {
    "collapsed": false
   }
  },
  {
   "cell_type": "code",
   "execution_count": 85,
   "outputs": [
    {
     "name": "stdout",
     "output_type": "stream",
     "text": [
      "deque([1, 2, 3, 4])\n"
     ]
    }
   ],
   "source": [
    "from collections import deque\n",
    "deque1 =deque ([-1, 0,1, 2, 3, 4, 5, 6])\n",
    "\n",
    "# Removing elements from right end\n",
    "deque1.pop()\n",
    "deque1.pop()\n",
    "\n",
    "# Removing element from the left end\n",
    "deque1.popleft()\n",
    "deque1.popleft()\n",
    "\n",
    "print(deque1)\n"
   ],
   "metadata": {
    "collapsed": false,
    "ExecuteTime": {
     "end_time": "2023-07-04T16:57:14.529288Z",
     "start_time": "2023-07-04T16:57:14.404294400Z"
    }
   }
  },
  {
   "cell_type": "markdown",
   "source": [
    "## Accessing Elements\n",
    "Elements in a deque can be accessed using indexing, just like in a list.\n"
   ],
   "metadata": {
    "collapsed": false
   }
  },
  {
   "cell_type": "code",
   "execution_count": 86,
   "outputs": [
    {
     "name": "stdout",
     "output_type": "stream",
     "text": [
      "1\n",
      "4\n"
     ]
    }
   ],
   "source": [
    "from collections import deque\n",
    "deque1 =deque ([1, 2, 3, 4])\n",
    "print(deque1[0])\n",
    "print(deque1[-1])\n"
   ],
   "metadata": {
    "collapsed": false,
    "ExecuteTime": {
     "end_time": "2023-07-04T17:00:54.243070600Z",
     "start_time": "2023-07-04T17:00:54.164970Z"
    }
   }
  },
  {
   "cell_type": "markdown",
   "source": [
    "## Iterating through a Deque\n",
    "A deque can be iterated through using a for loop, similar to a list.\n",
    "\n"
   ],
   "metadata": {
    "collapsed": false
   }
  },
  {
   "cell_type": "code",
   "execution_count": 87,
   "outputs": [
    {
     "name": "stdout",
     "output_type": "stream",
     "text": [
      "1\n",
      "2\n",
      "3\n",
      "4\n"
     ]
    }
   ],
   "source": [
    "from collections import deque\n",
    "deque1 =deque ([1, 2, 3, 4])\n",
    "\n",
    "for element in deque1:\n",
    "    print(element)\n"
   ],
   "metadata": {
    "collapsed": false,
    "ExecuteTime": {
     "end_time": "2023-07-04T17:03:44.185543Z",
     "start_time": "2023-07-04T17:03:43.982434700Z"
    }
   }
  },
  {
   "cell_type": "markdown",
   "source": [
    "## Reversing a Deque\n",
    "The reverse() method can be used to reverse the elements in a deque in-place.\n"
   ],
   "metadata": {
    "collapsed": false
   }
  },
  {
   "cell_type": "code",
   "execution_count": 88,
   "outputs": [
    {
     "name": "stdout",
     "output_type": "stream",
     "text": [
      "deque([4, 3, 2, 1])\n"
     ]
    }
   ],
   "source": [
    "from collections import deque\n",
    "deque1 =deque ([1, 2, 3, 4])\n",
    "deque1.reverse()\n",
    "print(deque1)"
   ],
   "metadata": {
    "collapsed": false,
    "ExecuteTime": {
     "end_time": "2023-07-04T17:05:57.955513Z",
     "start_time": "2023-07-04T17:05:57.814903300Z"
    }
   }
  },
  {
   "cell_type": "markdown",
   "source": [
    "The deque data structure can be useful in various scenarios, including:\n",
    "\n",
    "- Implementing a queue where elements are added to one end and removed from the other end.\n",
    "- Implementing a stack where elements are added and removed from the same end.\n",
    "- Performing sliding window operations on a sequence of elements efficiently.\n",
    "- Implementing algorithms that require efficient insertion and deletion operations at both ends.\n",
    "\n",
    "These are just a few examples where a deque can simplify the implementation and improve performance.\n"
   ],
   "metadata": {
    "collapsed": false
   }
  },
  {
   "cell_type": "markdown",
   "source": [
    "## Exercise 1:\n",
    "Implement a function that takes a string as input and checks if it is a palindrome. A palindrome is a word, phrase, number, or other sequence of characters that reads the same forward and backward. Use a deque to compare the characters from both ends of the string.\n",
    "\n"
   ],
   "metadata": {
    "collapsed": false
   }
  },
  {
   "cell_type": "code",
   "execution_count": 91,
   "outputs": [
    {
     "name": "stdout",
     "output_type": "stream",
     "text": [
      "False\n"
     ]
    }
   ],
   "source": [
    "from collections import deque\n",
    "def is_palindrome(word):\n",
    "    word = word.lower().replace(\" \", \"\")\n",
    "    char_deque = deque(word)\n",
    "    while len(char_deque) > 1:\n",
    "        if char_deque.popleft() != char_deque.pop():\n",
    "            return False\n",
    "    return True\n",
    "\n",
    "input_string = input(\"Enter the string\")\n",
    "result = is_palindrome(input_string)\n",
    "print(result)\n"
   ],
   "metadata": {
    "collapsed": false,
    "ExecuteTime": {
     "end_time": "2023-07-04T17:34:12.656930900Z",
     "start_time": "2023-07-04T17:34:07.654072300Z"
    }
   }
  },
  {
   "cell_type": "markdown",
   "source": [
    "## Exercise:\n",
    "You are given a list of integers. Write a function that finds all the pairs of numbers in the list whose sum is equal to a given target sum. Return a list of tuples representing these pairs. Each tuple should contain the two numbers that sum up to the target.\n"
   ],
   "metadata": {
    "collapsed": false
   }
  },
  {
   "cell_type": "code",
   "execution_count": 94,
   "outputs": [
    {
     "name": "stdout",
     "output_type": "stream",
     "text": [
      "(2, 10)\n",
      "(4, 8)\n",
      "(5, 7)\n"
     ]
    }
   ],
   "source": [
    "from collections import deque\n",
    "\n",
    "def find_number_pairs(nums, target_sum):\n",
    "    num_pairs = []\n",
    "    num_set = set(nums)\n",
    "    visited = set()\n",
    "\n",
    "    for num in nums:\n",
    "        complement = target_sum - num\n",
    "        if complement in num_set and (complement, num) not in visited and \\\n",
    "                (num, complement) not in visited:\n",
    "            num_pairs.append((num, complement))\n",
    "            visited.add((num, complement))\n",
    "\n",
    "    return num_pairs\n",
    "\n",
    "input_nums = [2, 4, 5, 7, 8, 9, 10]\n",
    "target = 12\n",
    "result = find_number_pairs(input_nums, target)\n",
    "for element in result:\n",
    "    print(element)\n"
   ],
   "metadata": {
    "collapsed": false,
    "ExecuteTime": {
     "end_time": "2023-07-04T18:01:43.564918100Z",
     "start_time": "2023-07-04T18:01:43.533671Z"
    }
   }
  },
  {
   "cell_type": "markdown",
   "source": [
    "## ChainMap in Python\n",
    "## Introduction to ChainMap\n",
    "A ChainMap is a way to logically combine multiple dictionaries into a single dictionary-like object. It keeps a list of dictionaries and searches for a key in the dictionaries in order, returning the value associated with the first occurrence of the key. This allows for hierarchical lookup and manipulation of values across multiple dictionaries.\n",
    "\n"
   ],
   "metadata": {
    "collapsed": false
   }
  },
  {
   "cell_type": "markdown",
   "source": [
    "## Creating a ChainMap\n",
    "To use a ChainMap, we need to import it from the collections module.\n",
    "We can create a ChainMap by passing multiple dictionaries as arguments to the constructor or by using the new_child() method to add dictionaries later.\n"
   ],
   "metadata": {
    "collapsed": false
   }
  },
  {
   "cell_type": "code",
   "execution_count": 95,
   "outputs": [],
   "source": [
    "from collections import ChainMap\n",
    "# Creating a chainmap with two dicts\n",
    "\n",
    "dict1 = {'name': 'Alice', 'age': 24}\n",
    "dict2 = {'country': 'USA', 'city': 'New York'}\n",
    "\n",
    "chainmap =ChainMap(dict1, dict2)\n"
   ],
   "metadata": {
    "collapsed": false,
    "ExecuteTime": {
     "end_time": "2023-07-04T18:30:13.427971800Z",
     "start_time": "2023-07-04T18:30:13.334203900Z"
    }
   }
  },
  {
   "cell_type": "markdown",
   "source": [
    "## Accessing and Modifying Values\n",
    "A ChainMap provides a single view of its combined dictionaries, allowing access and modification of values.\n",
    "\n",
    "Accessing Values:\n",
    "We can access the values in a ChainMap using the key as we would with a regular dictionary.\n"
   ],
   "metadata": {
    "collapsed": false
   }
  },
  {
   "cell_type": "code",
   "execution_count": 96,
   "outputs": [
    {
     "name": "stdout",
     "output_type": "stream",
     "text": [
      "Alice\n",
      "USA\n"
     ]
    }
   ],
   "source": [
    "chainmap = ChainMap({'name': 'Alice', 'age': 25}, {'country': 'USA', 'city': 'New York'})\n",
    "\n",
    "print(chainmap['name'])\n",
    "print(chainmap['country'])\n",
    "\n"
   ],
   "metadata": {
    "collapsed": false,
    "ExecuteTime": {
     "end_time": "2023-07-04T18:33:51.586847Z",
     "start_time": "2023-07-04T18:33:51.493102200Z"
    }
   }
  },
  {
   "cell_type": "markdown",
   "source": [
    "If a key is present in multiple dictionaries, the value from the first dictionary in the chain that contains the key will be returned.\n",
    "\n",
    "## Modifying Values:\n",
    "We can modify the values in a ChainMap using the key as we would with a regular dictionary.\n",
    "\n"
   ],
   "metadata": {
    "collapsed": false
   }
  },
  {
   "cell_type": "code",
   "execution_count": 99,
   "outputs": [
    {
     "name": "stdout",
     "output_type": "stream",
     "text": [
      "ChainMap({'name': 'Alice', 'age': 26, 'city': 'San Francisco'}, {'country': 'USA', 'city': 'New York'})\n"
     ]
    }
   ],
   "source": [
    "chainmap = ChainMap({'name': 'Alice', 'age': 25}, {'country': 'USA', 'city': 'New York'})\n",
    "\n",
    "chainmap['age'] = 26\n",
    "chainmap['city'] = 'San Francisco'\n",
    "\n",
    "print(chainmap)\n"
   ],
   "metadata": {
    "collapsed": false,
    "ExecuteTime": {
     "end_time": "2023-07-04T18:39:42.412330500Z",
     "start_time": "2023-07-04T18:39:42.381084300Z"
    }
   }
  },
  {
   "cell_type": "markdown",
   "source": [
    "## Adding and Removing Maps\n",
    "A ChainMap allows us to add or remove dictionaries dynamically.\n",
    "\n",
    "## Adding Maps:\n",
    "We can add a new dictionary to an existing ChainMap using the new_child() method."
   ],
   "metadata": {
    "collapsed": false
   }
  },
  {
   "cell_type": "code",
   "execution_count": 101,
   "outputs": [
    {
     "name": "stdout",
     "output_type": "stream",
     "text": [
      "ChainMap({'country': 'USA', 'city': 'New York'}, {'name': 'Alice', 'age': 25})\n"
     ]
    }
   ],
   "source": [
    "chainmap = ChainMap({'name': 'Alice', 'age': 25})\n",
    "\n",
    "new_dict = {'country': 'USA', 'city': 'New York'}\n",
    "chainmap = chainmap.new_child(new_dict)\n",
    "\n",
    "print(chainmap)\n"
   ],
   "metadata": {
    "collapsed": false,
    "ExecuteTime": {
     "end_time": "2023-07-04T18:43:26.250596800Z",
     "start_time": "2023-07-04T18:43:26.219311100Z"
    }
   }
  },
  {
   "cell_type": "markdown",
   "source": [
    "## Removing Maps:\n",
    "We can remove the most recently added dictionary from a ChainMap using the parents attribute.\n",
    "\n"
   ],
   "metadata": {
    "collapsed": false
   }
  },
  {
   "cell_type": "code",
   "execution_count": 103,
   "outputs": [
    {
     "name": "stdout",
     "output_type": "stream",
     "text": [
      "ChainMap({'country': 'USA', 'city': 'New York'})\n"
     ]
    }
   ],
   "source": [
    "chainmap = ChainMap({'name': 'Alice', 'age': 25}, {'country': 'USA', 'city': 'New York'})\n",
    "\n",
    "chainmap = chainmap.parents\n",
    "\n",
    "print(chainmap)\n"
   ],
   "metadata": {
    "collapsed": false,
    "ExecuteTime": {
     "end_time": "2023-07-04T18:46:27.714975700Z",
     "start_time": "2023-07-04T18:46:27.652441900Z"
    }
   }
  },
  {
   "cell_type": "markdown",
   "source": [
    "## Use Cases and Scenarios\n",
    "ChainMap can be useful in various scenarios, such as:\n",
    "\n",
    "## Default Values:\n",
    "A ChainMap can be used to provide default values for missing keys by adding a dictionary with default values as the first map in the chain."
   ],
   "metadata": {
    "collapsed": false
   }
  },
  {
   "cell_type": "code",
   "execution_count": 104,
   "outputs": [
    {
     "name": "stdout",
     "output_type": "stream",
     "text": [
      "Unknown\n",
      "25\n"
     ]
    }
   ],
   "source": [
    "defaults = {'name': 'Unknown', 'age': 0}\n",
    "user_data = {'age': 25, 'city': 'New York'}\n",
    "chainmap = ChainMap(user_data, defaults)\n",
    "print(chainmap['name'])\n",
    "print(chainmap['age'])\n"
   ],
   "metadata": {
    "collapsed": false,
    "ExecuteTime": {
     "end_time": "2023-07-04T18:53:03.643821900Z",
     "start_time": "2023-07-04T18:53:03.534453400Z"
    }
   }
  },
  {
   "cell_type": "markdown",
   "source": [
    "## Configuration Settings:\n",
    "In a hierarchical configuration system, ChainMap can be used to combine multiple configuration dictionaries, allowing lookup and modification of settings.\n",
    "\n"
   ],
   "metadata": {
    "collapsed": false
   }
  },
  {
   "cell_type": "code",
   "execution_count": 105,
   "outputs": [
    {
     "name": "stdout",
     "output_type": "stream",
     "text": [
      "True\n",
      "INFO\n"
     ]
    }
   ],
   "source": [
    "app_config = {'debug': False, 'log_level': 'INFO'}\n",
    "user_config = {'debug': True}\n",
    "chainmap = ChainMap(user_config, app_config)\n",
    "\n",
    "print(chainmap['debug'])\n",
    "print(chainmap['log_level'])"
   ],
   "metadata": {
    "collapsed": false,
    "ExecuteTime": {
     "end_time": "2023-07-04T18:59:29.286027100Z",
     "start_time": "2023-07-04T18:59:29.145412500Z"
    }
   }
  },
  {
   "cell_type": "markdown",
   "source": [
    "## Exercise 1:\n",
    "You are given two dictionaries representing the scores of two players in a game. Write a function that combines the dictionaries using a ChainMap and returns the combined dictionary."
   ],
   "metadata": {
    "collapsed": false
   }
  },
  {
   "cell_type": "code",
   "execution_count": 108,
   "outputs": [
    {
     "name": "stdout",
     "output_type": "stream",
     "text": [
      "{'Charlie': 6, 'David': 7, 'Alice': 10, 'bob': 5}\n"
     ]
    }
   ],
   "source": [
    "from collections import ChainMap\n",
    "def combine_scores(player1_score, player2_score):\n",
    "    combined_scores = ChainMap(player1_score, player2_score)\n",
    "    return dict(combined_scores)\n",
    "\n",
    "# Test the Functions\n",
    "\n",
    "player1_scores = {'Alice': 10, 'bob': 5}\n",
    "player2_scores = {'Charlie': 6, 'David': 7}\n",
    "\n",
    "result = combine_scores(player1_scores, player2_scores)\n",
    "print(result)"
   ],
   "metadata": {
    "collapsed": false,
    "ExecuteTime": {
     "end_time": "2023-07-04T19:12:25.602484500Z",
     "start_time": "2023-07-04T19:12:25.539990600Z"
    }
   }
  },
  {
   "cell_type": "markdown",
   "source": [
    "You are given a dictionary representing the default configuration settings for an application. Write a function that allows the user to update the configuration settings by providing a new dictionary. The function should use a ChainMap to combine the default settings with the user-provided settings."
   ],
   "metadata": {
    "collapsed": false
   }
  },
  {
   "cell_type": "code",
   "execution_count": 109,
   "outputs": [
    {
     "name": "stdout",
     "output_type": "stream",
     "text": [
      "{'debug': True, 'log_level': 'DEBUG', 'timeout': 30}\n"
     ]
    }
   ],
   "source": [
    "from collections import ChainMap\n",
    "\n",
    "def update_config(default_config, user_config):\n",
    "    config = ChainMap(user_config, default_config)\n",
    "    return dict(config)\n",
    "\n",
    "# Test the function\n",
    "default_config = {'debug': False, 'log_level': 'INFO', 'timeout': 30}\n",
    "user_config = {'debug': True, 'log_level': 'DEBUG'}\n",
    "result = update_config(default_config, user_config)\n",
    "print(result)\n",
    "\n"
   ],
   "metadata": {
    "collapsed": false,
    "ExecuteTime": {
     "end_time": "2023-07-04T19:13:16.251447400Z",
     "start_time": "2023-07-04T19:13:16.095204Z"
    }
   }
  },
  {
   "cell_type": "markdown",
   "source": [
    "## Conclusion\n",
    "In this tutorial, we explored the ChainMap class from the collections module in Python. We learned how to create a ChainMap, access and modify values, add and remove maps dynamically, and explored various use cases and scenarios where ChainMap can be useful. ChainMap provides a powerful way to combine multiple dictionaries and work with them as a single logical unit."
   ],
   "metadata": {
    "collapsed": false
   }
  },
  {
   "cell_type": "markdown",
   "source": [
    "## Counter in Python\n",
    "- ## Introduction to Counter\n",
    "A Counter is a subclass of the dict class and is specifically designed for counting hashable objects. It provides a convenient and efficient way to count occurrences of elements in a collection. The elements being counted are stored as dictionary keys, and their counts are stored as dictionary values."
   ],
   "metadata": {
    "collapsed": false
   }
  },
  {
   "cell_type": "markdown",
   "source": [
    "- ## Creating a Counter\n",
    "To use a Counter, we need to import it from the collections module.\n",
    "We can create a Counter by passing an iterable (e.g., a list or a string) to the constructor."
   ],
   "metadata": {
    "collapsed": false
   }
  },
  {
   "cell_type": "code",
   "execution_count": 110,
   "outputs": [],
   "source": [
    "from collections import Counter\n",
    "# Creating a counter from a list\n",
    "\n",
    "numbers = [1, 2, 3, 4, 1, 2, 1, 1, 5]\n",
    "\n",
    "# Creating a counter from a string\n",
    "\n",
    "text = ['hello world']\n",
    "\n",
    "counter = Counter[text]"
   ],
   "metadata": {
    "collapsed": false,
    "ExecuteTime": {
     "end_time": "2023-07-05T05:14:47.196335200Z",
     "start_time": "2023-07-05T05:14:47.118216400Z"
    }
   }
  },
  {
   "cell_type": "markdown",
   "source": [
    "- ## Accessing and Modifying Counts\n",
    "A Counter provides various methods and operations to access and modify the counts of elements.\n",
    "\n",
    "- Accessing Counts:\n",
    "We can access the count of an element in a Counter using the element as the key."
   ],
   "metadata": {
    "collapsed": false
   }
  },
  {
   "cell_type": "code",
   "execution_count": 111,
   "outputs": [
    {
     "name": "stdout",
     "output_type": "stream",
     "text": [
      "4\n",
      "1\n"
     ]
    }
   ],
   "source": [
    "counter = Counter([1, 2, 3, 4, 1, 2, 1, 1, 5])\n",
    "\n",
    "print(counter[1])\n",
    "print(counter[5])\n"
   ],
   "metadata": {
    "collapsed": false,
    "ExecuteTime": {
     "end_time": "2023-07-05T05:18:18.498843600Z",
     "start_time": "2023-07-05T05:18:18.264489500Z"
    }
   }
  },
  {
   "cell_type": "markdown",
   "source": [
    "- ## Modifying Counts:\n",
    "We can modify the count of an element in a Counter by assigning a new value to the element."
   ],
   "metadata": {
    "collapsed": false
   }
  },
  {
   "cell_type": "code",
   "execution_count": 112,
   "outputs": [
    {
     "name": "stdout",
     "output_type": "stream",
     "text": [
      "Counter({1: 10, 5: 3, 2: 2, 3: 1, 4: 1})\n"
     ]
    }
   ],
   "source": [
    "counter = Counter([1, 2, 3, 4, 1, 2, 1, 1, 5])\n",
    "\n",
    "counter[1] = 10\n",
    "counter[5] += 2\n",
    "\n",
    "print(counter)"
   ],
   "metadata": {
    "collapsed": false,
    "ExecuteTime": {
     "end_time": "2023-07-05T05:22:11.228306600Z",
     "start_time": "2023-07-05T05:22:10.978324900Z"
    }
   }
  },
  {
   "cell_type": "markdown",
   "source": [
    "- ## Common Operations and Methods\n",
    "Counter provides several useful operations and methods to work with frequency counts.\n",
    "\n",
    "- Getting Most Common Elements:\n",
    "We can retrieve the n most common elements and their counts using the most_common() method."
   ],
   "metadata": {
    "collapsed": false
   }
  },
  {
   "cell_type": "code",
   "execution_count": 113,
   "outputs": [
    {
     "name": "stdout",
     "output_type": "stream",
     "text": [
      "[(1, 4), (2, 2)]\n"
     ]
    }
   ],
   "source": [
    "counter = Counter([1, 2, 3, 4, 1, 2, 1, 1, 5])\n",
    "\n",
    "most_common_elements = counter.most_common(2)\n",
    "print(most_common_elements)\n",
    "\n"
   ],
   "metadata": {
    "collapsed": false,
    "ExecuteTime": {
     "end_time": "2023-07-05T05:25:56.828637700Z",
     "start_time": "2023-07-05T05:25:56.625514100Z"
    }
   }
  },
  {
   "cell_type": "markdown",
   "source": [
    "- ## Arithmetic Operations:\n",
    "Counter supports arithmetic operations like addition, subtraction, intersection, and union.\n"
   ],
   "metadata": {
    "collapsed": false
   }
  },
  {
   "cell_type": "code",
   "execution_count": 114,
   "outputs": [
    {
     "name": "stdout",
     "output_type": "stream",
     "text": [
      "Counter({1: 5, 5: 4, 2: 3, 3: 2, 4: 2})\n",
      "Counter({1: 3, 2: 1})\n",
      "Counter({1: 1, 2: 1, 3: 1, 4: 1, 5: 1})\n",
      "Counter({1: 4, 5: 3, 2: 2, 3: 1, 4: 1})\n"
     ]
    }
   ],
   "source": [
    "counter1 = Counter([1, 2, 3, 4, 1, 2, 1, 1, 5])\n",
    "counter2 = Counter([1, 2, 3, 4, 5, 5, 5])\n",
    "\n",
    "sum_counter = counter1 + counter2\n",
    "diff_counter = counter1 - counter2\n",
    "intersection_counter = counter1 & counter2\n",
    "union_counter = counter1 | counter2\n",
    "\n",
    "print(sum_counter)\n",
    "print(diff_counter)\n",
    "print(intersection_counter)\n",
    "print(union_counter)"
   ],
   "metadata": {
    "collapsed": false,
    "ExecuteTime": {
     "end_time": "2023-07-05T05:34:15.369166800Z",
     "start_time": "2023-07-05T05:34:15.166019400Z"
    }
   }
  },
  {
   "cell_type": "markdown",
   "source": [
    "- ## Other Methods:\n",
    "Counter provides additional methods like elements(), keys(), values(), clear(), and update().\n",
    "\n",
    "- Use Cases and Scenarios\n",
    "Counter can be useful in various scenarios, such as:\n",
    "\n",
    "- Counting Word Frequencies:\n",
    "Counter can be used to count the frequency of words in a text document."
   ],
   "metadata": {
    "collapsed": false
   }
  },
  {
   "cell_type": "code",
   "execution_count": 115,
   "outputs": [
    {
     "name": "stdout",
     "output_type": "stream",
     "text": [
      "Counter({'This': 2, 'is': 2, 'a': 1, 'sample': 1, 'text': 1, 'document.': 1, 'It': 1, 'contains': 1, 'multiple': 1, 'words.': 1, 'just': 1, 'an': 1, 'example': 1})\n"
     ]
    }
   ],
   "source": [
    "from collections import Counter\n",
    "def count_word_frequencies(text):\n",
    "    words = text.split()\n",
    "    counter = Counter(words)\n",
    "    return counter\n",
    "\n",
    "# Test the function\n",
    "text = \"This is a sample text document. It contains multiple words. This is just an example\"\n",
    "result = count_word_frequencies(text)\n",
    "print(result)"
   ],
   "metadata": {
    "collapsed": false,
    "ExecuteTime": {
     "end_time": "2023-07-05T14:31:30.430681400Z",
     "start_time": "2023-07-05T14:31:30.274449400Z"
    }
   }
  },
  {
   "cell_type": "code",
   "execution_count": 121,
   "outputs": [
    {
     "name": "stdout",
     "output_type": "stream",
     "text": [
      "{5}\n"
     ]
    }
   ],
   "source": [
    "from collections import Counter\n",
    "\n",
    "def find_common_elements(lists):\n",
    "    counters = [Counter(lst) for lst in lists]\n",
    "    common_elements = set.intersection(*[set(c.keys()) for c in counters])\n",
    "\n",
    "    return common_elements\n",
    "\n",
    "# Test the function\n",
    "lists = [[1, 2, 3, 4, 5], [4, 5, 6, 7], [5, 6, 7, 8]]\n",
    "result = find_common_elements(lists)\n",
    "print(result)\n",
    "\n",
    "\n",
    "\n"
   ],
   "metadata": {
    "collapsed": false,
    "ExecuteTime": {
     "end_time": "2023-07-05T15:03:49.290046300Z",
     "start_time": "2023-07-05T15:03:49.180664600Z"
    }
   }
  },
  {
   "cell_type": "markdown",
   "source": [
    "## Conclusion\n",
    "In this tutorial, we explored the Counter class from the collections module in Python. We learned how to create a Counter, access and modify counts, perform common operations and methods, and discussed various use cases and scenarios where Counter can be useful. Counter provides a convenient and efficient way to count the frequency of elements in a collection, making it a valuable tool in data analysis and processing tasks.\n",
    "\n"
   ],
   "metadata": {
    "collapsed": false
   }
  },
  {
   "cell_type": "markdown",
   "source": [
    "## Defaultdict in Python\n",
    "\n",
    "- ## Introduction to defaultdict\n",
    "A defaultdict is similar to a regular dictionary but has a default value assigned to missing keys. When accessing a non-existent key, a defaultdict will return the default value instead of raising a KeyError.\n",
    "\n",
    "- ## Creating a defaultdict\n",
    "To use a defaultdict, we need to import it from the collections module.\n",
    "We can create a defaultdict by specifying a default factory function as an argument. The default factory function is used to create a default value for missing keys."
   ],
   "metadata": {
    "collapsed": false
   }
  },
  {
   "cell_type": "code",
   "execution_count": 123,
   "outputs": [
    {
     "name": "stdout",
     "output_type": "stream",
     "text": [
      "defaultdict(<class 'list'>, {})\n",
      "defaultdict(<class 'int'>, {})\n"
     ]
    }
   ],
   "source": [
    "from collections import defaultdict\n",
    "# Creating a defaultdict with default value as 0\n",
    "counter = defaultdict(int)\n",
    "\n",
    "# Creating a defaultdict with default as an empty list\n",
    "\n",
    "data = defaultdict(list)\n",
    "print(data)\n",
    "print(counter)\n"
   ],
   "metadata": {
    "collapsed": false,
    "ExecuteTime": {
     "end_time": "2023-07-05T15:35:07.150614400Z",
     "start_time": "2023-07-05T15:35:07.025623700Z"
    }
   }
  },
  {
   "cell_type": "markdown",
   "source": [
    " - ## Accessing and Modifying Values\n",
    "A defaultdict behaves like a regular dictionary when accessing and modifying values for existing keys."
   ],
   "metadata": {
    "collapsed": false
   }
  },
  {
   "cell_type": "code",
   "execution_count": 125,
   "outputs": [
    {
     "name": "stdout",
     "output_type": "stream",
     "text": [
      "1\n",
      "1\n"
     ]
    }
   ],
   "source": [
    "counter = defaultdict(int)\n",
    "counter['a'] = 1\n",
    "counter['b'] += 1\n",
    "print(counter['a'])\n",
    "print(counter['b'])"
   ],
   "metadata": {
    "collapsed": false,
    "ExecuteTime": {
     "end_time": "2023-07-05T15:37:16.742823400Z",
     "start_time": "2023-07-05T15:37:16.711574400Z"
    }
   }
  },
  {
   "cell_type": "markdown",
   "source": [
    "However, the difference becomes apparent when accessing or modifying values for missing keys."
   ],
   "metadata": {
    "collapsed": false
   }
  },
  {
   "cell_type": "code",
   "execution_count": 126,
   "outputs": [
    {
     "name": "stdout",
     "output_type": "stream",
     "text": [
      "0\n",
      "1\n"
     ]
    }
   ],
   "source": [
    "counter = defaultdict(int)\n",
    "\n",
    "print(counter['c'])  # Output: 0 (default value for missing key)\n",
    "\n",
    "counter['d'] += 1\n",
    "\n",
    "print(counter['d'])  # Output: 1 (default value incremented)\n"
   ],
   "metadata": {
    "collapsed": false,
    "ExecuteTime": {
     "end_time": "2023-07-05T15:38:13.240389500Z",
     "start_time": "2023-07-05T15:38:12.943496900Z"
    }
   }
  },
  {
   "cell_type": "markdown",
   "source": [
    "- ## Default Factory Function\n",
    "The default factory function is specified when creating a defaultdict and determines the default value for missing keys. It can be any callable object, such as a function, lambda expression, or a built-in type constructor.\n",
    "\n",
    "- Using a Function\n"
   ],
   "metadata": {
    "collapsed": false
   }
  },
  {
   "cell_type": "code",
   "execution_count": 127,
   "outputs": [
    {
     "name": "stdout",
     "output_type": "stream",
     "text": [
      "N/A\n"
     ]
    }
   ],
   "source": [
    "def default_value():\n",
    "    return 'N/A'\n",
    "data = defaultdict(default_value)\n",
    "print(data['name'])\n"
   ],
   "metadata": {
    "collapsed": false,
    "ExecuteTime": {
     "end_time": "2023-07-05T15:45:57.220977900Z",
     "start_time": "2023-07-05T15:45:57.002243400Z"
    }
   }
  },
  {
   "cell_type": "markdown",
   "source": [
    "- Using a Lambda Expression\n"
   ],
   "metadata": {
    "collapsed": false
   }
  },
  {
   "cell_type": "code",
   "execution_count": 128,
   "outputs": [
    {
     "name": "stdout",
     "output_type": "stream",
     "text": [
      "Unknown\n"
     ]
    }
   ],
   "source": [
    "data = defaultdict(lambda: 'Unknown')\n",
    "\n",
    "print(data['name'])\n"
   ],
   "metadata": {
    "collapsed": false,
    "ExecuteTime": {
     "end_time": "2023-07-05T15:47:50.961283100Z",
     "start_time": "2023-07-05T15:47:50.742493200Z"
    }
   }
  },
  {
   "cell_type": "markdown",
   "source": [
    "- Using a Built-in Type Constructor\n"
   ],
   "metadata": {
    "collapsed": false
   }
  },
  {
   "cell_type": "code",
   "execution_count": 130,
   "outputs": [
    {
     "name": "stdout",
     "output_type": "stream",
     "text": [
      "[]\n"
     ]
    }
   ],
   "source": [
    "data = defaultdict(list)\n",
    "print((data['numbers']))"
   ],
   "metadata": {
    "collapsed": false,
    "ExecuteTime": {
     "end_time": "2023-07-05T15:51:43.157519800Z",
     "start_time": "2023-07-05T15:51:43.001260Z"
    }
   }
  },
  {
   "cell_type": "markdown",
   "source": [
    "- ## Use Cases and Scenarios\n",
    "defaultdict can be useful in various scenarios, such as:\n",
    "\n",
    "- Grouping Elements\n",
    "A defaultdict can be used to group elements based on a common attribute or key."
   ],
   "metadata": {
    "collapsed": false
   }
  },
  {
   "cell_type": "code",
   "execution_count": 133,
   "outputs": [
    {
     "name": "stdout",
     "output_type": "stream",
     "text": [
      "defaultdict(<class 'list'>, {'A': ['Alice', 'Charlie'], 'B': ['Bob', 'Eve'], 'C': ['David']})\n"
     ]
    }
   ],
   "source": [
    "from collections import defaultdict\n",
    "\n",
    "students = [\n",
    "    {'name': 'Alice', 'grade': 'A'},\n",
    "    {'name': 'Bob', 'grade': 'B'},\n",
    "    {'name': 'Charlie', 'grade': 'A'},\n",
    "    {'name': 'David', 'grade': 'C'},\n",
    "    {'name': 'Eve', 'grade': 'B'},\n",
    "]\n",
    "\n",
    "grouped_students = defaultdict(list)\n",
    "\n",
    "for student in students:\n",
    "    grouped_students[student['grade']].append(student['name'])\n",
    "print(grouped_students)\n"
   ],
   "metadata": {
    "collapsed": false,
    "ExecuteTime": {
     "end_time": "2023-07-05T15:59:48.416183100Z",
     "start_time": "2023-07-05T15:59:48.244321500Z"
    }
   }
  },
  {
   "cell_type": "markdown",
   "source": [
    "- ## Counting Element Occurrences\n",
    "A defaultdict can be used to count the occurrences of elements in a collection.\n",
    "\n"
   ],
   "metadata": {
    "collapsed": false
   }
  },
  {
   "cell_type": "code",
   "execution_count": 134,
   "outputs": [
    {
     "name": "stdout",
     "output_type": "stream",
     "text": [
      "defaultdict(<class 'int'>, {1: 4, 2: 2, 3: 2, 5: 1, 4: 2})\n"
     ]
    }
   ],
   "source": [
    "from collections import defaultdict\n",
    "numbers = [1, 2, 3, 2, 1, 1, 5, 4, 3, 4, 1]\n",
    "counter = defaultdict(int)\n",
    "for number in numbers:\n",
    "    counter[number] += 1\n",
    "print(counter)"
   ],
   "metadata": {
    "collapsed": false,
    "ExecuteTime": {
     "end_time": "2023-07-05T16:04:45.522627700Z",
     "start_time": "2023-07-05T16:04:45.397635800Z"
    }
   }
  },
  {
   "cell_type": "markdown",
   "source": [
    "- ## Conclusion\n",
    "In this tutorial, we explored the defaultdict class from the collections module in Python. We learned how to create a defaultdict, access and modify values, and discussed the concept of a default factory function. defaultdict is a powerful tool for handling missing keys in dictionaries and provides a convenient way to define default values for non-existent keys. It can be used in various scenarios, including grouping elements and counting occurrences, to simplify and enhance your code."
   ],
   "metadata": {
    "collapsed": false
   }
  },
  {
   "cell_type": "code",
   "execution_count": null,
   "outputs": [],
   "source": [],
   "metadata": {
    "collapsed": false
   }
  }
 ],
 "metadata": {
  "kernelspec": {
   "display_name": "Python 3",
   "language": "python",
   "name": "python3"
  },
  "language_info": {
   "codemirror_mode": {
    "name": "ipython",
    "version": 2
   },
   "file_extension": ".py",
   "mimetype": "text/x-python",
   "name": "python",
   "nbconvert_exporter": "python",
   "pygments_lexer": "ipython2",
   "version": "2.7.6"
  }
 },
 "nbformat": 4,
 "nbformat_minor": 0
}

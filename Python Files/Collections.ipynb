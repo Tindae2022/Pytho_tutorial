{
 "cells": [
  {
   "cell_type": "markdown",
   "source": [
    "## Python Lists\n"
   ],
   "metadata": {
    "collapsed": false
   }
  },
  {
   "cell_type": "markdown",
   "source": [
    "The following are the properties of a list.\n",
    "\n",
    "- Mutable: The elements of the list can be modified. We can add or remove items to the list after it has been created.\n",
    "- Ordered: The items in the lists are ordered. Each item has a unique index value. The new items will be added to the end of the list.\n",
    "- Heterogenous: The list can contain different kinds of elements i.e; they can contain elements of string, integer, boolean, or any type.\n",
    "Duplicates: The list can contain duplicates i.e., lists can have two items with the same values."
   ],
   "metadata": {
    "collapsed": false
   }
  },
  {
   "cell_type": "markdown",
   "source": [
    "## Why use a list?\n",
    "\n",
    "- The list data structure is very flexible It has many unique inbuilt functionalities like pop(), append(), etc which makes it easier, where the data keeps changing.\n",
    "- Also, the list can contain duplicate elements i.e two or more items can have the same values.\n",
    "- Lists are Heterogeneous i.e, different kinds of objects/elements can be added\n",
    "- As Lists are mutable it is used in applications where the values of the items change frequently."
   ],
   "metadata": {
    "collapsed": false
   }
  },
  {
   "cell_type": "markdown",
   "source": [
    "## Creating a Python list\n",
    "The list can be created using either the list constructor or using square brackets [].\n",
    "\n",
    "- Using list() constructor: In general, the constructor of a class has its class name. Similarly, Create a list by passing the comma-separated values inside the list().\n",
    "- Using square bracket ([]): In this method, we can create a list simply by enclosing the items inside the square brackets\n",
    "\n",
    "Let us see examples for creating the list using the above methods"
   ],
   "metadata": {
    "collapsed": false
   }
  },
  {
   "cell_type": "code",
   "execution_count": 42,
   "outputs": [
    {
     "name": "stdout",
     "output_type": "stream",
     "text": [
      "[1, 2, 3]\n",
      "[1, 2, 3]\n",
      "[1.3, 'Tindae', 3]\n",
      "[]\n",
      "[]\n"
     ]
    }
   ],
   "source": [
    "# using list constructor\n",
    "myList1 = list((1, 2, 3))\n",
    "print(myList1)\n",
    "\n",
    "# using square brackets\n",
    "myList2 = [1, 2, 3]\n",
    "print(myList2)\n",
    "\n",
    "# With heterogeneous items\n",
    "myList3 = [1.3, \"Tindae\", 3]\n",
    "print(myList3)\n",
    "\n",
    "# empty list using list()\n",
    "myList4 = list()\n",
    "print(myList4)\n",
    "\n",
    "# empty list using []\n",
    "\n",
    "myList5 = []\n",
    "print(myList5)"
   ],
   "metadata": {
    "collapsed": false,
    "ExecuteTime": {
     "end_time": "2023-07-02T19:58:28.710109400Z",
     "start_time": "2023-07-02T19:58:27.432735Z"
    }
   }
  },
  {
   "cell_type": "markdown",
   "source": [
    "## Length of a List\n",
    "\n",
    "In order to find the number of items present in a list, we can use the len() function.\n"
   ],
   "metadata": {
    "collapsed": false
   }
  },
  {
   "cell_type": "code",
   "execution_count": 43,
   "outputs": [
    {
     "name": "stdout",
     "output_type": "stream",
     "text": [
      "3\n"
     ]
    }
   ],
   "source": [
    "myList = [1, 2, 3]\n",
    "print(len(myList))"
   ],
   "metadata": {
    "collapsed": false,
    "ExecuteTime": {
     "end_time": "2023-07-02T19:58:29.053854200Z",
     "start_time": "2023-07-02T19:58:27.464001600Z"
    }
   }
  },
  {
   "cell_type": "markdown",
   "source": [
    "## Accessing items of a List\n",
    "The items in a list can be accessed through indexing and slicing. This section will guide you by accessing the list using the following two ways\n",
    "\n",
    "- Using indexing, we can access any item from a list using its index number\n",
    "- Using slicing, we can access a range of items from a list\n",
    "\n"
   ],
   "metadata": {
    "collapsed": false
   }
  },
  {
   "cell_type": "markdown",
   "source": [
    "# Indexing\n",
    "\n",
    "The list elements can be accessed using the “indexing” technique. Lists are ordered collections with unique indexes for each item. We can access the items in the list using this index number.\n",
    "\n"
   ],
   "metadata": {
    "collapsed": false
   }
  },
  {
   "cell_type": "markdown",
   "source": [
    "![OpenAI Logo](positive-and-negative-indexing.jpg)\n"
   ],
   "metadata": {
    "collapsed": false
   }
  },
  {
   "cell_type": "markdown",
   "source": [
    "To access the elements in the list from left to right, the index value starts from zero to (length of the list-1) can be used. For example, if we want to access the 3rd element we need to use 2 since the index value starts from 0.\n",
    "\n",
    "Note:\n",
    "\n",
    "As Lists are ordered sequences of items, the index values start from 0 to the Lists length.\n",
    "Whenever we try to access an item with an index more than the Lists length, it will throw the 'Index Error'.\n",
    "Similarly, the index values are always an integer. If we give any other type, then it will throw Type Error.\n",
    "\n",
    "Example:\n"
   ],
   "metadata": {
    "collapsed": false
   }
  },
  {
   "cell_type": "markdown",
   "source": [],
   "metadata": {
    "collapsed": false
   }
  },
  {
   "cell_type": "code",
   "execution_count": 44,
   "outputs": [
    {
     "name": "stdout",
     "output_type": "stream",
     "text": [
      "20\n",
      "Lima\n"
     ]
    }
   ],
   "source": [
    "my_list = [10, 20, \"Tindae\", 12.50, \"Lima\"]\n",
    "\n",
    "# accessing 2nd element of the list\n",
    "\n",
    "print(my_list[1]) # 20\n",
    "\n",
    "# accessing 5th element of the list\n",
    "\n",
    "print(my_list[4]) # Lima\n"
   ],
   "metadata": {
    "collapsed": false,
    "ExecuteTime": {
     "end_time": "2023-07-02T19:58:29.053854200Z",
     "start_time": "2023-07-02T19:58:27.588972400Z"
    }
   }
  },
  {
   "cell_type": "markdown",
   "source": [
    "As seen in the above example we accessed the second element in the list by passing the index value as 1. Similarly, we passed index 4 to access the 5th element in the list.\n",
    "\n",
    "Negative Indexing\n",
    "The elements in the list can be accessed from right to left by using negative indexing. The negative value starts from -1 to -length of the list. It indicates that the list is indexed from the reverse/backward.\n"
   ],
   "metadata": {
    "collapsed": false
   }
  },
  {
   "cell_type": "code",
   "execution_count": 45,
   "outputs": [
    {
     "name": "stdout",
     "output_type": "stream",
     "text": [
      "Lima\n",
      "12.5\n",
      "20\n"
     ]
    }
   ],
   "source": [
    "my_list = [10, 20, 'Tindae', 12.50, 'Lima']\n",
    "# accessing last element of the list\n",
    "print(my_list[-1])\n",
    "# output 'Lima'\n",
    "\n",
    "# accessing second last element of the list\n",
    "print(my_list[-2])\n",
    "# output 12.5\n",
    "\n",
    "# accessing 4th element from last\n",
    "print(my_list[-4])\n",
    "# output 20"
   ],
   "metadata": {
    "collapsed": false,
    "ExecuteTime": {
     "end_time": "2023-07-02T19:58:29.085100800Z",
     "start_time": "2023-07-02T19:58:27.620222400Z"
    }
   }
  },
  {
   "cell_type": "markdown",
   "source": [
    "As seen in the above example to access the 4th element from the last (right to left) we pass ‘-4’ in the index value.\n",
    "\n",
    "## List Slicing\n",
    "Slicing a list implies, accessing a range of elements in a list. For example, if we want to get the elements in the position from 3 to 7, we can use the slicing method. We can even modify the values in a range by using this slicing technique.\n",
    "\n",
    "The below is the syntax for list slicing.\n",
    "\n",
    "listname[start_index : end_index : step]\n",
    "- The start_index denotes the index position from where the slicing should begin and the end_index parameter denotes the index positions till which the slicing should be done.\n",
    "- The step allows you to take each nth-element within a start_index:end_index range."
   ],
   "metadata": {
    "collapsed": false
   }
  },
  {
   "cell_type": "code",
   "execution_count": 46,
   "outputs": [
    {
     "name": "stdout",
     "output_type": "stream",
     "text": [
      "['Tindae', 12.5, 'Lima']\n"
     ]
    }
   ],
   "source": [
    "my_list = [10, 20, \"Tindae\", 12.50, \"Lima\", 25, 50]\n",
    "\n",
    "# Extracting a portion of the list from 3rd till the 5th element\n",
    "\n",
    "print(my_list[2 : 5])"
   ],
   "metadata": {
    "collapsed": false,
    "ExecuteTime": {
     "end_time": "2023-07-02T19:58:29.131994100Z",
     "start_time": "2023-07-02T19:58:27.667092100Z"
    }
   }
  },
  {
   "cell_type": "markdown",
   "source": [
    "## Let us see few more examples of slicing a list such as\n",
    "\n",
    "- Extract a portion of the list\n",
    "- Reverse a list\n",
    "- Slicing with a step\n",
    "- Slice without specifying start or end position\n",
    "\n",
    "Example:\n"
   ],
   "metadata": {
    "collapsed": false
   }
  },
  {
   "cell_type": "code",
   "execution_count": 47,
   "outputs": [
    {
     "name": "stdout",
     "output_type": "stream",
     "text": [
      "[5, 8, 'Tee', 7.5]\n",
      "[5, 'Tee', 'Salum']\n",
      "['Salum', 7.5, 'Tee', 8, 5]\n",
      "[7.5, 'Salum']\n"
     ]
    }
   ],
   "source": [
    "my_list = [5, 8, \"Tee\", 7.50, \"Salum\"]\n",
    "\n",
    "# Slice first four items\n",
    "\n",
    "print(my_list[ :4])\n",
    "\n",
    "# print every second element\n",
    "# with a skip of count 2\n",
    "\n",
    "print(my_list[: : 2])\n",
    "\n",
    "# reversing the list\n",
    "\n",
    "print(my_list[: : -1])\n",
    "\n",
    "# without end value\n",
    "# starting from the third to the last item\n",
    "\n",
    "print(my_list[3: ])"
   ],
   "metadata": {
    "collapsed": false,
    "ExecuteTime": {
     "end_time": "2023-07-02T19:58:29.131994100Z",
     "start_time": "2023-07-02T19:58:27.713965300Z"
    }
   }
  },
  {
   "cell_type": "markdown",
   "source": [
    "## Iterating a List\n",
    "\n",
    "The objects in the list can be iterated over one by one, by using a for a loop"
   ],
   "metadata": {
    "collapsed": false
   }
  },
  {
   "cell_type": "code",
   "execution_count": 48,
   "outputs": [
    {
     "name": "stdout",
     "output_type": "stream",
     "text": [
      "5\n",
      "8\n",
      "Limzy\n",
      "7.5\n",
      "Tee\n"
     ]
    }
   ],
   "source": [
    "my_list = [5, 8, 'Limzy', 7.50, \"Tee\"]\n",
    "\n",
    "# iterate a list\n",
    "for item in my_list:\n",
    "    print(item)"
   ],
   "metadata": {
    "collapsed": false,
    "ExecuteTime": {
     "end_time": "2023-07-02T19:58:29.131994100Z",
     "start_time": "2023-07-02T19:58:27.745209200Z"
    }
   }
  },
  {
   "cell_type": "markdown",
   "source": [
    "Iterate along with an index number\n",
    "The index value starts from 0 to (length of the list-1). Hence using the function range() is ideal for this scenario.\n",
    "\n",
    "The range function returns a sequence of numbers. By default, it returns starting from 0 to the specified number (increments by 1). The starting and ending values can be passed according to our needs.\n",
    "\n",
    "Example:"
   ],
   "metadata": {
    "collapsed": false
   }
  },
  {
   "cell_type": "code",
   "execution_count": 49,
   "outputs": [
    {
     "name": "stdout",
     "output_type": "stream",
     "text": [
      "5\n",
      "8\n",
      "Tee\n",
      "7.5\n",
      "Salum\n"
     ]
    }
   ],
   "source": [
    "my_list = [5, 8, \"Tee\", 7.50, \"Salum\"]\n",
    "\n",
    "# Iterate a list\n",
    "\n",
    "for i in range(0, len(my_list)):\n",
    "    print(my_list[i])"
   ],
   "metadata": {
    "collapsed": false,
    "ExecuteTime": {
     "end_time": "2023-07-02T19:58:29.163225900Z",
     "start_time": "2023-07-02T19:58:27.788297700Z"
    }
   }
  },
  {
   "cell_type": "markdown",
   "source": [
    "## Adding elements to the list\n",
    "We can add a new element/list of elements to the list using the list methods such as append(), insert(), and extend().\n",
    "\n",
    "Append item at the end of the list\n",
    "The append() method will accept only one parameter and add it at the end of the list.\n",
    "\n",
    "Let’s see the example to add the element ‘Emma’ at the end of the list\n",
    "\n"
   ],
   "metadata": {
    "collapsed": false
   }
  },
  {
   "cell_type": "code",
   "execution_count": 50,
   "outputs": [
    {
     "name": "stdout",
     "output_type": "stream",
     "text": [
      "[5, 8, 'Tee', 7.5, 'Lavo']\n",
      "[5, 8, 'Tee', 7.5, 'Lavo', [25, 50, 75]]\n"
     ]
    }
   ],
   "source": [
    "my_list = list([5, 8, 'Tee', 7.50])\n",
    "\n",
    "# Using append()\n",
    "my_list.append('Lavo')\n",
    "print(my_list)\n",
    "\n",
    "\n",
    "# append the nested list at the end\n",
    "my_list.append([25, 50, 75])\n",
    "print(my_list)\n"
   ],
   "metadata": {
    "collapsed": false,
    "ExecuteTime": {
     "end_time": "2023-07-02T19:58:29.210099400Z",
     "start_time": "2023-07-02T19:58:27.819546200Z"
    }
   }
  },
  {
   "cell_type": "markdown",
   "source": [
    "## Add item at the specified position in the list\n",
    "Use the insert() method to add the object/item at the specified position in the list. The insert method accepts two parameters position and object.\n",
    "\n",
    "insert(index, object)\n",
    "It will insert the object in the specified index. Let us see this with an example.\n",
    "\n"
   ],
   "metadata": {
    "collapsed": false
   }
  },
  {
   "cell_type": "code",
   "execution_count": 51,
   "outputs": [
    {
     "name": "stdout",
     "output_type": "stream",
     "text": [
      "[5, 8, 25, 'Tom', 7.5]\n",
      "[5, 8, 25, [25, 50, 75], 'Tom', 7.5]\n"
     ]
    }
   ],
   "source": [
    "my_list = list([5, 8, 'Tom', 7.50])\n",
    "\n",
    "# Using insert()\n",
    "# insert 25 at position 2\n",
    "my_list.insert(2, 25)\n",
    "print(my_list)\n",
    "\n",
    "\n",
    "# insert nested list at position 3\n",
    "my_list.insert(3, [25, 50, 75])\n",
    "print(my_list)\n"
   ],
   "metadata": {
    "collapsed": false,
    "ExecuteTime": {
     "end_time": "2023-07-02T19:58:29.210099400Z",
     "start_time": "2023-07-02T19:58:27.850792900Z"
    }
   }
  },
  {
   "cell_type": "markdown",
   "source": [
    "As seen in the above example item 25 is added at the index position 2.\n",
    "\n",
    "## Using extend()\n",
    "The extend method will accept the list of elements and add them at the end of the list. We can even add another list by using this method.\n",
    "\n",
    "Let’s add three items at the end of the list.\n"
   ],
   "metadata": {
    "collapsed": false
   }
  },
  {
   "cell_type": "code",
   "execution_count": 52,
   "outputs": [
    {
     "name": "stdout",
     "output_type": "stream",
     "text": [
      "[5, 8, 'Tee', 7.5, 25, 75, 100]\n"
     ]
    }
   ],
   "source": [
    "my_list = list([5, 8, 'Tee', 7.50])\n",
    "\n",
    "# Using extend()\n",
    "my_list.extend([25, 75, 100])\n",
    "print(my_list)\n"
   ],
   "metadata": {
    "collapsed": false,
    "ExecuteTime": {
     "end_time": "2023-07-02T19:58:29.210099400Z",
     "start_time": "2023-07-02T19:58:27.897664600Z"
    }
   }
  },
  {
   "cell_type": "markdown",
   "source": [
    "As seen in the above example we have three integer values at once. All the values get added in the order they were passed and it gets appended at the end of the list.\n",
    "\n",
    "Modify the items of a List\n",
    "The list is a mutable sequence of iterable objects. It means we can modify the items of a list. Use the index number and assignment operator (=) to assign a new value to an item.\n",
    "\n",
    "Let’s see how to perform the following two modification scenarios\n",
    "\n",
    "- Modify the individual item.\n",
    "- Modify the range of items.\n"
   ],
   "metadata": {
    "collapsed": false
   }
  },
  {
   "cell_type": "code",
   "execution_count": 53,
   "outputs": [
    {
     "name": "stdout",
     "output_type": "stream",
     "text": [
      "[20, 4, 6, 8, 10, 12]\n",
      "[20, 40, 60, 80, 10, 12]\n",
      "[20, 40, 60, 80, 100, 120]\n"
     ]
    }
   ],
   "source": [
    "my_list = list([2, 4, 6, 8, 10, 12])\n",
    "\n",
    "# modify single item\n",
    "my_list[0] = 20\n",
    "print(my_list)\n",
    "# Output [20, 4, 6, 8, 10, 12]\n",
    "\n",
    "# modify range of items\n",
    "# modify from 1st index to 4th\n",
    "my_list[1:4] = [40, 60, 80]\n",
    "print(my_list)\n",
    "# Output [20, 40, 60, 80, 10, 12]\n",
    "\n",
    "# modify from 3rd index to end\n",
    "my_list[3:] = [80, 100, 120]\n",
    "print(my_list)\n",
    "# Output [20, 40, 60, 80, 100, 120]"
   ],
   "metadata": {
    "collapsed": false,
    "ExecuteTime": {
     "end_time": "2023-07-02T19:58:29.241322600Z",
     "start_time": "2023-07-02T19:58:27.928914600Z"
    }
   }
  },
  {
   "cell_type": "markdown",
   "source": [
    "## Modify all items\n",
    "Use for loop to iterate and modify all items at once. Let’s see how to modify each item of a list.\n",
    "\n"
   ],
   "metadata": {
    "collapsed": false
   }
  },
  {
   "cell_type": "code",
   "execution_count": 54,
   "outputs": [
    {
     "name": "stdout",
     "output_type": "stream",
     "text": [
      "[4, 16, 36, 64]\n"
     ]
    }
   ],
   "source": [
    "my_list = list([2, 4, 6, 8])\n",
    "\n",
    "# change value of all items\n",
    "for i in range(len(my_list)):\n",
    "    # calculate square of each number\n",
    "    square = my_list[i] * my_list[i]\n",
    "    my_list[i] = square\n",
    "\n",
    "print(my_list)"
   ],
   "metadata": {
    "collapsed": false,
    "ExecuteTime": {
     "end_time": "2023-07-02T19:58:29.241322600Z",
     "start_time": "2023-07-02T19:58:27.960162100Z"
    }
   }
  },
  {
   "cell_type": "markdown",
   "source": [
    "## Removing elements from a List\n",
    "The elements from the list can be removed using the following list methods.\n",
    "method\t             Description\n",
    "----------------|-----------------------\n",
    "                |\n",
    "remove(item)\t|   To remove the first occurrence of the item from the list.\n",
    "pop(index)\t    |   Removes and returns the item at the given index from the list.\n",
    "clear()         | \tTo remove all items from the list. The output will be an empty list.\n",
    "del list_name\t|   Delete the entire list.\n",
    "\n",
    "Python List methods to remove item"
   ],
   "metadata": {
    "collapsed": false
   }
  },
  {
   "cell_type": "markdown",
   "source": [
    "Remove specific item\n",
    "Use the remove() method to remove the first occurrence of the item from the list.\n",
    "\n",
    "Note:  It Throws a keyerror if an item not present in the original list.\n",
    "\n",
    "Example:"
   ],
   "metadata": {
    "collapsed": false
   }
  },
  {
   "cell_type": "code",
   "execution_count": 55,
   "outputs": [
    {
     "name": "stdout",
     "output_type": "stream",
     "text": [
      "[2, 4, 10, 12]\n"
     ]
    }
   ],
   "source": [
    "my_list = list([2, 4, 6, 8, 10, 12])\n",
    "\n",
    "# remove item 6\n",
    "my_list.remove(6)\n",
    "# remove item 8\n",
    "my_list.remove(8)\n",
    "\n",
    "print(my_list)\n"
   ],
   "metadata": {
    "collapsed": false,
    "ExecuteTime": {
     "end_time": "2023-07-02T19:58:29.256945600Z",
     "start_time": "2023-07-02T19:58:28.022657200Z"
    }
   }
  },
  {
   "cell_type": "markdown",
   "source": [
    "Remove all occurrence of a specific item\n",
    "Use a loop to remove all occurrence of a specific item\n",
    "\n"
   ],
   "metadata": {
    "collapsed": false
   }
  },
  {
   "cell_type": "code",
   "execution_count": 56,
   "outputs": [
    {
     "name": "stdout",
     "output_type": "stream",
     "text": [
      "[4, 8, 12]\n"
     ]
    }
   ],
   "source": [
    "my_list = list([6, 4, 6, 6, 8, 12])\n",
    "\n",
    "for item in my_list:\n",
    "    my_list.remove(6)\n",
    "\n",
    "print(my_list)\n"
   ],
   "metadata": {
    "collapsed": false,
    "ExecuteTime": {
     "end_time": "2023-07-02T19:58:29.256945600Z",
     "start_time": "2023-07-02T19:58:28.053907Z"
    }
   }
  },
  {
   "cell_type": "markdown",
   "source": [
    "Remove item present at given index\n",
    "Use the pop() method to remove the item at the given index. The pop() method removes and returns the item present at the given index.\n",
    "\n",
    "Note: It will remove the last item from the list if the index number is not passed.\n",
    "\n",
    "Example:"
   ],
   "metadata": {
    "collapsed": false
   }
  },
  {
   "cell_type": "code",
   "execution_count": 57,
   "outputs": [
    {
     "name": "stdout",
     "output_type": "stream",
     "text": [
      "[2, 4, 8, 10, 12]\n",
      "[2, 4, 8, 10]\n"
     ]
    }
   ],
   "source": [
    "my_list = list([2, 4, 6, 8, 10, 12])\n",
    "\n",
    "# remove item present at index 2\n",
    "my_list.pop(2)\n",
    "print(my_list)\n",
    "\n",
    "\n",
    "# remove item without passing index number\n",
    "my_list.pop()\n",
    "print(my_list)\n"
   ],
   "metadata": {
    "collapsed": false,
    "ExecuteTime": {
     "end_time": "2023-07-02T19:58:29.256945600Z",
     "start_time": "2023-07-02T19:58:28.100776Z"
    }
   }
  },
  {
   "cell_type": "markdown",
   "source": [
    "## Remove the range of items\n",
    "Use del keyword along with list slicing to remove the range of items\n",
    "\n",
    "\n",
    "\n"
   ],
   "metadata": {
    "collapsed": false
   }
  },
  {
   "cell_type": "code",
   "execution_count": 58,
   "outputs": [
    {
     "name": "stdout",
     "output_type": "stream",
     "text": [
      "[2, 4, 12]\n",
      "[2, 4, 6]\n"
     ]
    }
   ],
   "source": [
    "my_list = list([2, 4, 6, 8, 10, 12])\n",
    "\n",
    "# remove range of items\n",
    "# remove item from index 2 to 5\n",
    "del my_list[2:5]\n",
    "print(my_list)\n",
    "\n",
    "\n",
    "# remove all items starting from index 3\n",
    "my_list = list([2, 4, 6, 8, 10, 12])\n",
    "del my_list[3:]\n",
    "print(my_list)\n"
   ],
   "metadata": {
    "collapsed": false,
    "ExecuteTime": {
     "end_time": "2023-07-02T19:58:29.288191500Z",
     "start_time": "2023-07-02T19:58:28.116402600Z"
    }
   }
  },
  {
   "cell_type": "markdown",
   "source": [
    "Remove all items\n",
    "Use the list’ clear() method to remove all items from the list. The clear() method truncates the list."
   ],
   "metadata": {
    "collapsed": false
   }
  },
  {
   "cell_type": "code",
   "execution_count": 59,
   "outputs": [
    {
     "name": "stdout",
     "output_type": "stream",
     "text": [
      "[]\n"
     ]
    }
   ],
   "source": [
    "my_list = list([2, 4, 6, 8, 10, 12])\n",
    "\n",
    "# clear list\n",
    "my_list.clear()\n",
    "print(my_list)\n",
    "\n",
    "\n",
    "# Delete entire list\n",
    "del my_list"
   ],
   "metadata": {
    "collapsed": false,
    "ExecuteTime": {
     "end_time": "2023-07-02T19:58:29.288191500Z",
     "start_time": "2023-07-02T19:58:28.147649300Z"
    }
   }
  },
  {
   "cell_type": "markdown",
   "source": [
    "Finding an element in the list\n",
    "Use the index() function to find an item in a list.\n",
    "\n",
    "The index() function will accept the value of the element as a parameter and returns the first occurrence of the element or returns ValueError if the element does not exist\n"
   ],
   "metadata": {
    "collapsed": false
   }
  },
  {
   "cell_type": "code",
   "execution_count": 60,
   "outputs": [
    {
     "name": "stdout",
     "output_type": "stream",
     "text": [
      "3\n"
     ]
    }
   ],
   "source": [
    "my_list = list([2, 4, 6, 8, 10, 12])\n",
    "\n",
    "print(my_list.index(8))\n",
    "\n",
    "\n",
    "# returns error since the element does not exist in the list.\n",
    "# my_list.index(100)"
   ],
   "metadata": {
    "collapsed": false,
    "ExecuteTime": {
     "end_time": "2023-07-02T19:58:29.288191500Z",
     "start_time": "2023-07-02T19:58:28.178899Z"
    }
   }
  },
  {
   "cell_type": "markdown",
   "source": [
    "## Concatenation of two lists\n",
    "The concatenation of two lists means merging of two lists. There are two ways to do that.\n",
    "\n",
    "- Using the + operator.\n",
    "- Using the extend() method. The extend() method appends the new list’s items at the end of the calling list.\n",
    "Example:"
   ],
   "metadata": {
    "collapsed": false
   }
  },
  {
   "cell_type": "code",
   "execution_count": 61,
   "outputs": [
    {
     "name": "stdout",
     "output_type": "stream",
     "text": [
      "[1, 2, 3, 4, 5, 6]\n",
      "[1, 2, 3, 4, 5, 6]\n"
     ]
    }
   ],
   "source": [
    "my_list1 = [1, 2, 3]\n",
    "my_list2 = [4, 5, 6]\n",
    "\n",
    "# Using + operator\n",
    "my_list3 = my_list1 + my_list2\n",
    "print(my_list3)\n",
    "\n",
    "\n",
    "# Using extend() method\n",
    "my_list1.extend(my_list2)\n",
    "print(my_list1)\n"
   ],
   "metadata": {
    "collapsed": false,
    "ExecuteTime": {
     "end_time": "2023-07-02T19:58:29.288191500Z",
     "start_time": "2023-07-02T19:58:28.225789500Z"
    }
   }
  },
  {
   "cell_type": "markdown",
   "source": [
    "## Copying a list\n",
    "There are two ways by which a copy of a list can be created. Let us see each one with an example."
   ],
   "metadata": {
    "collapsed": false
   }
  },
  {
   "cell_type": "markdown",
   "source": [
    "## Using assignment operator (=)\n",
    "This is a straightforward way of creating a copy. In this method, the new list will be a deep copy. The changes that we make in the original list will be reflected in the new list.\n",
    "\n",
    "This is called deep copying.\n"
   ],
   "metadata": {
    "collapsed": false
   }
  },
  {
   "cell_type": "code",
   "execution_count": 62,
   "outputs": [
    {
     "name": "stdout",
     "output_type": "stream",
     "text": [
      "[1, 2, 3]\n",
      "[1, 2, 3, 4]\n",
      "[1, 2, 3, 4]\n"
     ]
    }
   ],
   "source": [
    "my_list1 = [1, 2, 3]\n",
    "\n",
    "# Using = operator\n",
    "new_list = my_list1\n",
    "# printing the new list\n",
    "print(new_list)\n",
    "\n",
    "\n",
    "# making changes in the original list\n",
    "my_list1.append(4)\n",
    "\n",
    "# print both copies\n",
    "print(my_list1)\n",
    "\n",
    "print(new_list)\n"
   ],
   "metadata": {
    "collapsed": false,
    "ExecuteTime": {
     "end_time": "2023-07-02T19:58:29.303839Z",
     "start_time": "2023-07-02T19:58:28.272638600Z"
    }
   }
  },
  {
   "cell_type": "markdown",
   "source": [
    "As seen in the above example a copy of the list has been created. The changes made to the original list are reflected in the copied list as well.\n",
    "\n",
    "Note: When you set list1 = list2, you are making them refer to the same list object, so when you modify one of them, all references associated with that object reflect the current state of the object. So don’t use the assignment operator to copy the dictionary instead use the copy() method.\n",
    "\n",
    "## Using the copy() method\n",
    "The copy method can be used to create a copy of a list. This will create a new list and any changes made in the original list will not reflect in the new list. This is shallow copying.\n",
    "\n"
   ],
   "metadata": {
    "collapsed": false
   }
  },
  {
   "cell_type": "code",
   "execution_count": 63,
   "outputs": [
    {
     "name": "stdout",
     "output_type": "stream",
     "text": [
      "[1, 2, 3]\n",
      "[1, 2, 3, 4]\n",
      "[1, 2, 3]\n"
     ]
    }
   ],
   "source": [
    "my_list1 = [1, 2, 3]\n",
    "\n",
    "# Using copy() method\n",
    "new_list = my_list1.copy()\n",
    "# printing the new list\n",
    "print(new_list)\n",
    "\n",
    "\n",
    "# making changes in the original list\n",
    "my_list1.append(4)\n",
    "\n",
    "# print both copies\n",
    "print(my_list1)\n",
    "\n",
    "print(new_list)\n"
   ],
   "metadata": {
    "collapsed": false,
    "ExecuteTime": {
     "end_time": "2023-07-02T19:58:29.319442800Z",
     "start_time": "2023-07-02T19:58:28.303887300Z"
    }
   }
  },
  {
   "cell_type": "markdown",
   "source": [
    "As seen in the above example a copy of the list has been created. The changes made to the original list are not reflected in the copy."
   ],
   "metadata": {
    "collapsed": false
   }
  },
  {
   "cell_type": "markdown",
   "source": [
    "## List operations\n",
    "We can perform some operations over the list by using certain functions like sort(), reverse(), clear() etc.\n",
    "\n",
    "Sort List using sort()\n",
    "The sort function sorts the elements in the list in ascending order."
   ],
   "metadata": {
    "collapsed": false
   }
  },
  {
   "cell_type": "code",
   "execution_count": 64,
   "outputs": [
    {
     "name": "stdout",
     "output_type": "stream",
     "text": [
      "[1, 2, 3]\n"
     ]
    }
   ],
   "source": [
    "mylist = [3,2,1]\n",
    "mylist.sort()\n",
    "print(mylist)"
   ],
   "metadata": {
    "collapsed": false,
    "ExecuteTime": {
     "end_time": "2023-07-02T19:58:29.319442800Z",
     "start_time": "2023-07-02T19:58:28.350761600Z"
    }
   }
  },
  {
   "cell_type": "markdown",
   "source": [
    "As seen in the above example the items are sorted in the ascending order.\n",
    "\n",
    "## Reverse a List using reverse()\n",
    "\n",
    "The reverse function is used to reverse the elements in the list.\n",
    "\n"
   ],
   "metadata": {
    "collapsed": false
   }
  },
  {
   "cell_type": "code",
   "execution_count": 65,
   "outputs": [
    {
     "name": "stdout",
     "output_type": "stream",
     "text": [
      "[1, 6, 5, 4, 3]\n"
     ]
    }
   ],
   "source": [
    "mylist = [3, 4, 5, 6, 1]\n",
    "mylist.reverse()\n",
    "print(mylist)"
   ],
   "metadata": {
    "collapsed": false,
    "ExecuteTime": {
     "end_time": "2023-07-02T19:58:29.335085200Z",
     "start_time": "2023-07-02T19:58:28.382007800Z"
    }
   }
  },
  {
   "cell_type": "markdown",
   "source": [
    "As seen in the above example the items in the list are printed in the reverse order here.\n",
    "\n",
    "Python Built-in functions with List\n",
    "In addition to the built-in methods available in the list, we can use the built-in functions as well on the list. Let us see a few of them for example.\n",
    "\n",
    "## Using max() & min()\n",
    "The max function returns the maximum value in the list while the min function returns the minimum value in the list.\n",
    "\n"
   ],
   "metadata": {
    "collapsed": false
   }
  },
  {
   "cell_type": "code",
   "execution_count": 66,
   "outputs": [
    {
     "name": "stdout",
     "output_type": "stream",
     "text": [
      "6\n",
      "1\n"
     ]
    }
   ],
   "source": [
    "mylist = [3, 4, 5, 6, 1]\n",
    "print(max(mylist)) #returns the maximum number in the list.\n",
    "print(min(mylist)) #returns the minimum number in the list.\n"
   ],
   "metadata": {
    "collapsed": false,
    "ExecuteTime": {
     "end_time": "2023-07-02T19:58:29.335085200Z",
     "start_time": "2023-07-02T19:58:28.413254300Z"
    }
   }
  },
  {
   "cell_type": "markdown",
   "source": [
    "As seen in the above example the max function returns 6 and min function returns 1.\n",
    "## Using sum()\n",
    "The sum function returns the sum of all the elements in the list.\n",
    "\n"
   ],
   "metadata": {
    "collapsed": false
   }
  },
  {
   "cell_type": "code",
   "execution_count": 67,
   "outputs": [
    {
     "name": "stdout",
     "output_type": "stream",
     "text": [
      "19\n"
     ]
    }
   ],
   "source": [
    "mylist = [3, 4, 5, 6, 1]\n",
    "print(sum(mylist))"
   ],
   "metadata": {
    "collapsed": false,
    "ExecuteTime": {
     "end_time": "2023-07-02T19:58:29.335085200Z",
     "start_time": "2023-07-02T19:58:28.444501600Z"
    }
   }
  },
  {
   "cell_type": "markdown",
   "source": [
    "As seen in the above example the sum function returns the sum of all the elements in the list.\n",
    "\n",
    "all()\n",
    "In the case of all() function, the return value will be true only when all the values inside the\n",
    " list are true. Let us see the different item values and the return values.\n",
    "\n",
    "Item Values in List\tReturn Value\n",
    "All Values are True\tTrue\n",
    "One or more False Values\tFalse\n",
    "All False Values\tFalse\n",
    "Empty List"
   ],
   "metadata": {
    "collapsed": false
   }
  },
  {
   "cell_type": "markdown",
   "source": [],
   "metadata": {
    "collapsed": false
   }
  },
  {
   "cell_type": "code",
   "execution_count": 68,
   "outputs": [
    {
     "name": "stdout",
     "output_type": "stream",
     "text": [
      "all() All True values:: True\n",
      "all() with One false value :: False\n",
      "all() with all false values :: False\n"
     ]
    }
   ],
   "source": [
    "#with all true values\n",
    "samplelist1 = [1,1,True]\n",
    "print(\"all() All True values::\",all(samplelist1))\n",
    "\n",
    "#with one false\n",
    "samplelist2 = [0,1,True,1]\n",
    "print(\"all() with One false value ::\",all(samplelist2))\n",
    "\n",
    "#with all false\n",
    "samplelist3 = [0,0,False]\n",
    "print(\"all() with all false values ::\",all(samplelist3))\n",
    "\n",
    "#empty list\n",
    "samplelist4 = []"
   ],
   "metadata": {
    "collapsed": false,
    "ExecuteTime": {
     "end_time": "2023-07-02T19:58:29.350706700Z",
     "start_time": "2023-07-02T19:58:28.506997500Z"
    }
   }
  },
  {
   "cell_type": "markdown",
   "source": [
    "## Nested List\n",
    "The list can contain another list (sub-list), which in turn contains another list and so on. This is termed a nested list.\n",
    "\n",
    "mylist = [3, 4, 5, 6, 3, [1, 2, 3], 4]\n",
    "In order to retrieve the elements of the inner list we need a nested For-Loop."
   ],
   "metadata": {
    "collapsed": false
   }
  },
  {
   "cell_type": "markdown",
   "source": [],
   "metadata": {
    "collapsed": false
   }
  },
  {
   "cell_type": "code",
   "execution_count": 69,
   "outputs": [
    {
     "name": "stdout",
     "output_type": "stream",
     "text": [
      "Accessing the third element of the second list 5\n",
      "list [2, 4, 6, 8, 10] elements\n",
      "2\n",
      "4\n",
      "6\n",
      "8\n",
      "10\n",
      "list [1, 3, 5, 7, 9] elements\n",
      "1\n",
      "3\n",
      "5\n",
      "7\n",
      "9\n"
     ]
    }
   ],
   "source": [
    "nestedlist = [[2,4,6,8,10],[1,3,5,7,9]]\n",
    "\n",
    "print(\"Accessing the third element of the second list\",nestedlist[1][2])\n",
    "for i in nestedlist:\n",
    "  print(\"list\",i,\"elements\")\n",
    "  for j in i:\n",
    "    print(j)"
   ],
   "metadata": {
    "collapsed": false,
    "ExecuteTime": {
     "end_time": "2023-07-02T19:58:29.381943900Z",
     "start_time": "2023-07-02T19:58:28.553889300Z"
    }
   }
  },
  {
   "cell_type": "markdown",
   "source": [
    "## Tuples in Python\n",
    "\n",
    "What is a Tuple\n",
    "Tuples are ordered collections of heterogeneous data that are unchangeable. Heterogeneous means tuple can store variables of all types.\n",
    "\n",
    "Tuple has the following characteristics:\n",
    "\n",
    "- Ordered: Tuples are part of sequence data types, which means they hold the order of the data insertion. It maintains the index value for each item.\n",
    "- Unchangeable: Tuples are unchangeable, which means that we cannot add or delete items to the tuple after creation.\n",
    "- Heterogeneous: Tuples are a sequence of data of different data types (like integer, float, list, string, etc;) and can be accessed through indexing and slicing.\n",
    "- Contains Duplicates: Tuples can contain duplicates, which means they can have items with the same value.\n",
    "\n",
    "![OpenAI Logo](python-tuple.jpg)"
   ],
   "metadata": {
    "collapsed": false
   }
  },
  {
   "cell_type": "markdown",
   "source": [
    "## Creating a Tuple\n",
    "We can create a tuple using the two ways\n",
    "\n",
    "- Using parenthesis (): A tuple is created by enclosing comma-separated items inside rounded brackets.\n",
    "- Using a tuple() constructor: Create a tuple by passing the comma-separated items inside the tuple().\n",
    "\n",
    "Example:\n",
    "\n",
    "A tuple can have items of different data type integer, float, list, string, etc;"
   ],
   "metadata": {
    "collapsed": false
   }
  },
  {
   "cell_type": "code",
   "execution_count": 70,
   "outputs": [
    {
     "name": "stdout",
     "output_type": "stream",
     "text": [
      "(10, 20, 25.75)\n",
      "('Jessa', 'Emma', 'Kelly')\n",
      "('Jessa', 30, 45.75, [25, 78])\n",
      "('Jessa', 30, 45.75, [23, 78])\n"
     ]
    }
   ],
   "source": [
    "# create a tuple using ()\n",
    "# number tuple\n",
    "number_tuple = (10, 20, 25.75)\n",
    "print(number_tuple)\n",
    "\n",
    "\n",
    "# string tuple\n",
    "string_tuple = ('Jessa', 'Emma', 'Kelly')\n",
    "print(string_tuple)\n",
    "\n",
    "\n",
    "# mixed type tuple\n",
    "sample_tuple = ('Jessa', 30, 45.75, [25, 78])\n",
    "print(sample_tuple)\n",
    "\n",
    "\n",
    "# create a tuple using tuple() constructor\n",
    "sample_tuple2 = tuple(('Jessa', 30, 45.75, [23, 78]))\n",
    "print(sample_tuple2)\n"
   ],
   "metadata": {
    "collapsed": false,
    "ExecuteTime": {
     "end_time": "2023-07-02T20:02:49.773492300Z",
     "start_time": "2023-07-02T20:02:49.679721500Z"
    }
   }
  },
  {
   "cell_type": "markdown",
   "source": [
    "As we can see in the above output, the different items are added in the tuple like integer, string, and list.\n",
    "\n",
    "Create a tuple with a single item\n",
    "A single item tuple is created by enclosing one item inside parentheses followed by a comma. If the tuple time is a string enclosed within parentheses and not followed by a comma, Python treats it as a str type. Let us see this with an example."
   ],
   "metadata": {
    "collapsed": false
   }
  },
  {
   "cell_type": "code",
   "execution_count": 71,
   "outputs": [
    {
     "name": "stdout",
     "output_type": "stream",
     "text": [
      "<class 'str'>\n",
      "Hello\n",
      "<class 'tuple'>\n",
      "('Hello',)\n"
     ]
    }
   ],
   "source": [
    "# without comma\n",
    "single_tuple = ('Hello')\n",
    "print(type(single_tuple))\n",
    "# Output class 'str'\n",
    "print(single_tuple)\n",
    "\n",
    "\n",
    "# with comma\n",
    "single_tuple1 = ('Hello',)\n",
    "\n",
    "print(type(single_tuple1))\n",
    "print(single_tuple1)"
   ],
   "metadata": {
    "collapsed": false,
    "ExecuteTime": {
     "end_time": "2023-07-02T20:05:59.896222600Z",
     "start_time": "2023-07-02T20:05:59.740003600Z"
    }
   }
  },
  {
   "cell_type": "markdown",
   "source": [
    "As we can see in the above output the first time, we did not add a comma after the “Hello”. So the variable type was class str, and the second time it was a class tuple.\n",
    "\n",
    "## Packing and Unpacking\n",
    "A tuple can also be created without using a tuple() constructor or enclosing the items inside the parentheses. It is called the variable “Packing.”\n",
    "In Python, we can create a tuple by packing a group of variables. Packing can be used when we want to collect multiple values in a single variable. Generally, this operation is referred to as tuple packing.\n",
    "\n",
    "Similarly, we can unpack the items by just assigning the tuple items to the same number of variables. This process is called “Unpacking.”\n",
    "\n",
    "Let us see this with an example.\n",
    "\n"
   ],
   "metadata": {
    "collapsed": false
   }
  },
  {
   "cell_type": "code",
   "execution_count": 72,
   "outputs": [
    {
     "name": "stdout",
     "output_type": "stream",
     "text": [
      "(1, 2, 'Hello')\n",
      "<class 'tuple'>\n",
      "1 2 Hello\n"
     ]
    }
   ],
   "source": [
    "# packing variables into tuple\n",
    "tuple1 = 1, 2, \"Hello\"\n",
    "# display tuple\n",
    "print(tuple1)\n",
    "\n",
    "\n",
    "print(type(tuple1))\n",
    "\n",
    "\n",
    "# unpacking tuple into variable\n",
    "i, j, k = tuple1\n",
    "# printing the variables\n",
    "print(i, j, k)\n"
   ],
   "metadata": {
    "collapsed": false,
    "ExecuteTime": {
     "end_time": "2023-07-03T06:12:51.176067900Z",
     "start_time": "2023-07-03T06:12:51.160444100Z"
    }
   }
  },
  {
   "cell_type": "markdown",
   "source": [
    "As we can see in the above output, three tuple items are assigned to individual variables i, j, k, respectively.\n",
    "\n",
    "In case we assign fewer variables than the number of items in the tuple, we will get the value error with the message too many values to unpack"
   ],
   "metadata": {
    "collapsed": false
   }
  },
  {
   "cell_type": "markdown",
   "source": [
    "## Length of a Tuple\n",
    "\n",
    "We can find the length of the tuple using the len() function. This will return the number of items in the tuple.\n",
    "\n"
   ],
   "metadata": {
    "collapsed": false
   }
  },
  {
   "cell_type": "code",
   "execution_count": 73,
   "outputs": [
    {
     "name": "stdout",
     "output_type": "stream",
     "text": [
      "6\n"
     ]
    }
   ],
   "source": [
    "tuple1 = ('P', 'Y', 'T', 'H', 'O', 'N')\n",
    "# length of a tuple\n",
    "print(len(tuple1))\n"
   ],
   "metadata": {
    "collapsed": false,
    "ExecuteTime": {
     "end_time": "2023-07-03T06:15:16.610821900Z",
     "start_time": "2023-07-03T06:15:16.517056900Z"
    }
   }
  },
  {
   "cell_type": "markdown",
   "source": [
    "## Iterating a Tuple\n",
    "We can iterate a tuple using a for loop Let us see this with an example."
   ],
   "metadata": {
    "collapsed": false
   }
  },
  {
   "cell_type": "code",
   "execution_count": 74,
   "outputs": [
    {
     "name": "stdout",
     "output_type": "stream",
     "text": [
      "1\n",
      "2\n",
      "3\n",
      "Hello\n",
      "[4, 8, 16]\n"
     ]
    }
   ],
   "source": [
    "# create a tuple\n",
    "sample_tuple = tuple((1, 2, 3, \"Hello\", [4, 8, 16]))\n",
    "# iterate a tuple\n",
    "for item in sample_tuple:\n",
    "    print(item)"
   ],
   "metadata": {
    "collapsed": false,
    "ExecuteTime": {
     "end_time": "2023-07-03T06:16:26.831941200Z",
     "start_time": "2023-07-03T06:16:26.675700700Z"
    }
   }
  },
  {
   "cell_type": "markdown",
   "source": [
    "## Accessing items of a Tuple\n",
    "Tuple can be accessed through indexing and slicing. This section will guide you by accessing tuple using the following two ways\n",
    "\n",
    "Using indexing, we can access any item from a tuple using its index number\n",
    "Using slicing, we can access a range of items from a tuple\n",
    "Indexing\n",
    "A tuple is an ordered sequence of items, which means they hold the order of the data insertion. It maintains the index value for each item.\n",
    "\n",
    "We can access an item of a tuple by using its index number inside the index operator [] and this process is called “Indexing”.\n",
    "\n",
    "Note:\n",
    "\n",
    "As tuples are ordered sequences of items, the index values start from 0 to the tuple’s length.\n",
    "Whenever we try to access an item with an index more than the tuple’s length, it will throw the 'Index Error'.\n",
    "Similarly, the index values are always integer. If we give any other type, then it will throw Type Error.\n",
    "\n",
    "![OpenAI Logo](positive-and-negative-indexing.jpg)\n",
    "\n",
    "In the above image, we can see that the index values start from zero and it goes till the last item whose index value will be len(tuple) - 1 ."
   ],
   "metadata": {
    "collapsed": false
   }
  },
  {
   "cell_type": "code",
   "execution_count": 75,
   "outputs": [
    {
     "name": "stdout",
     "output_type": "stream",
     "text": [
      "P\n",
      "Y\n",
      "T\n",
      "H\n"
     ]
    }
   ],
   "source": [
    "tuple1 = ('P', 'Y', 'T', 'H', 'O', 'N')\n",
    "for i in range(4):\n",
    "    print(tuple1[i])"
   ],
   "metadata": {
    "collapsed": false,
    "ExecuteTime": {
     "end_time": "2023-07-03T06:22:55.069953400Z",
     "start_time": "2023-07-03T06:22:54.991837100Z"
    }
   }
  },
  {
   "cell_type": "markdown",
   "source": [
    "As seen in the above example, we print the tuple’s first four items with the indexing.\n",
    "\n",
    "Note: If we mention the index value greater than the length of a tuple then it will throw an index error.\n"
   ],
   "metadata": {
    "collapsed": false
   }
  },
  {
   "cell_type": "code",
   "execution_count": 76,
   "outputs": [
    {
     "ename": "IndexError",
     "evalue": "tuple index out of range",
     "output_type": "error",
     "traceback": [
      "\u001B[1;31m---------------------------------------------------------------------------\u001B[0m",
      "\u001B[1;31mIndexError\u001B[0m                                Traceback (most recent call last)",
      "Cell \u001B[1;32mIn[76], line 4\u001B[0m\n\u001B[0;32m      1\u001B[0m tuple1 \u001B[38;5;241m=\u001B[39m (\u001B[38;5;124m'\u001B[39m\u001B[38;5;124mP\u001B[39m\u001B[38;5;124m'\u001B[39m, \u001B[38;5;124m'\u001B[39m\u001B[38;5;124mY\u001B[39m\u001B[38;5;124m'\u001B[39m, \u001B[38;5;124m'\u001B[39m\u001B[38;5;124mT\u001B[39m\u001B[38;5;124m'\u001B[39m, \u001B[38;5;124m'\u001B[39m\u001B[38;5;124mH\u001B[39m\u001B[38;5;124m'\u001B[39m, \u001B[38;5;124m'\u001B[39m\u001B[38;5;124mO\u001B[39m\u001B[38;5;124m'\u001B[39m, \u001B[38;5;124m'\u001B[39m\u001B[38;5;124mN\u001B[39m\u001B[38;5;124m'\u001B[39m)\n\u001B[0;32m      3\u001B[0m \u001B[38;5;66;03m# IndexError: tuple index out of range\u001B[39;00m\n\u001B[1;32m----> 4\u001B[0m \u001B[38;5;28mprint\u001B[39m(\u001B[43mtuple1\u001B[49m\u001B[43m[\u001B[49m\u001B[38;5;241;43m7\u001B[39;49m\u001B[43m]\u001B[49m)\n",
      "\u001B[1;31mIndexError\u001B[0m: tuple index out of range"
     ]
    }
   ],
   "source": [
    "tuple1 = ('P', 'Y', 'T', 'H', 'O', 'N')\n",
    "\n",
    "# IndexError: tuple index out of range\n",
    "print(tuple1[7])"
   ],
   "metadata": {
    "collapsed": false,
    "ExecuteTime": {
     "end_time": "2023-07-03T06:24:12.619444400Z",
     "start_time": "2023-07-03T06:24:11.145894900Z"
    }
   }
  },
  {
   "cell_type": "markdown",
   "source": [
    "## Negative Indexing\n",
    "The index values can also be negative, with the last but the first items having the index value as -1 and second last -2 and so on.\n",
    "\n",
    "For example, We can access the last item of a tuple using tuple_name[-1].\n",
    "\n",
    "Let’s do two things here\n",
    "\n",
    "Access tuple items using the negative index value\n",
    "Iterate tuple using negative indexing\n",
    "Example"
   ],
   "metadata": {
    "collapsed": false
   }
  },
  {
   "cell_type": "code",
   "execution_count": 77,
   "outputs": [
    {
     "name": "stdout",
     "output_type": "stream",
     "text": [
      "N\n",
      "O\n",
      "P, Y, T, H, O, N, "
     ]
    }
   ],
   "source": [
    "tuple1 = ('P', 'Y', 'T', 'H', 'O', 'N')\n",
    "# Negative indexing\n",
    "# print last item of a tuple\n",
    "print(tuple1[-1])  # N\n",
    "# print second last\n",
    "print(tuple1[-2])  # O\n",
    "\n",
    "# iterate a tuple using negative indexing\n",
    "for i in range(-6, 0):\n",
    "    print(tuple1[i], end=\", \")\n"
   ],
   "metadata": {
    "collapsed": false,
    "ExecuteTime": {
     "end_time": "2023-07-03T06:26:08.708081700Z",
     "start_time": "2023-07-03T06:26:08.614317200Z"
    }
   }
  },
  {
   "cell_type": "markdown",
   "source": [
    "We can even specify a range of items to be accessed from a tuple using the technique called ‘Slicing.’ The operator used is ':'.\n",
    "\n",
    "We can specify the start and end values for the range of items to be accessed from the tuple. The output will be a tuple, and it includes the range of items with the index values from the start till the end of the range. The end value item will be excluded.\n",
    "\n",
    "We should keep in mind that the index value always starts with a 0.\n",
    "\n",
    "For easy understanding, we will be using an integer tuple with values from 0 to 9 similar to how an index value is assigned."
   ],
   "metadata": {
    "collapsed": false
   }
  },
  {
   "cell_type": "code",
   "execution_count": 78,
   "outputs": [
    {
     "name": "stdout",
     "output_type": "stream",
     "text": [
      "(1, 2, 3, 4)\n"
     ]
    }
   ],
   "source": [
    "tuple1 = (0, 1, 2, 3, 4, 5, 6, 7, 8, 9, 10)\n",
    "\n",
    "# slice a tuple with start and end index number\n",
    "print(tuple1[1:5])\n"
   ],
   "metadata": {
    "collapsed": false,
    "ExecuteTime": {
     "end_time": "2023-07-03T06:31:22.367184200Z",
     "start_time": "2023-07-03T06:31:22.297820200Z"
    }
   }
  },
  {
   "cell_type": "markdown",
   "source": [
    "As seen in the above output the values starting from 1 to 4 are printed. Here the last value in the range 5 is excluded.\n",
    "\n",
    "Note:\n",
    "\n",
    "If the start value is not mentioned while slicing a tuple, then the values in the tuples start from the first item until the end item in the range. Again the end item in the range will be excluded.\n",
    "Similarly, we can mention a slicing range without the end value. In that case, the item with the index mentioned in the start value of the range till the end of the tuple will be returned."
   ],
   "metadata": {
    "collapsed": false
   }
  },
  {
   "cell_type": "code",
   "execution_count": 79,
   "outputs": [
    {
     "name": "stdout",
     "output_type": "stream",
     "text": [
      "(0, 1, 2, 3, 4)\n",
      "(6, 7, 8, 9, 10)\n"
     ]
    }
   ],
   "source": [
    "tuple1 = (0, 1, 2, 3, 4, 5, 6, 7, 8, 9, 10)\n",
    "\n",
    "# slice a tuple without start index\n",
    "print(tuple1[:5])\n",
    "\n",
    "\n",
    "# slice a tuple without end index\n",
    "print(tuple1[6:])\n"
   ],
   "metadata": {
    "collapsed": false,
    "ExecuteTime": {
     "end_time": "2023-07-03T06:33:21.682260200Z",
     "start_time": "2023-07-03T06:33:21.588421600Z"
    }
   }
  },
  {
   "cell_type": "markdown",
   "source": [
    "Similarly, we can slice tuple using negative indexing as well. The last but first item will have the index -1.\n"
   ],
   "metadata": {
    "collapsed": false
   }
  },
  {
   "cell_type": "code",
   "execution_count": 80,
   "outputs": [
    {
     "name": "stdout",
     "output_type": "stream",
     "text": [
      "(6, 7, 8, 9)\n"
     ]
    }
   ],
   "source": [
    "tuple1 = (0, 1, 2, 3, 4, 5, 6, 7, 8, 9, 10)\n",
    "# slice tuple using negative indexing\n",
    "print(tuple1[-5 : -1])"
   ],
   "metadata": {
    "collapsed": false,
    "ExecuteTime": {
     "end_time": "2023-07-03T13:31:31.501323500Z",
     "start_time": "2023-07-03T13:31:31.364172200Z"
    }
   }
  },
  {
   "cell_type": "markdown",
   "source": [
    "Here we can see that the items with the negative indexes starting from -1 till -4 are printed excluding -5.\n",
    "\n",
    "## Finding an item in a Tuple\n",
    "We can search for a certain item in a tuple using the index() method and it will return the position of that particular item in the tuple.\n",
    "\n",
    "The index() method accepts the following three arguments\n",
    "\n",
    "- item – The item which needs to be searched\n",
    "- start – (Optional) The starting value of the index from which the search will start\n",
    "- end – (Optional) The end value of the index search\n",
    "\n",
    "Example:\n"
   ],
   "metadata": {
    "collapsed": false
   }
  },
  {
   "cell_type": "code",
   "execution_count": 81,
   "outputs": [
    {
     "name": "stdout",
     "output_type": "stream",
     "text": [
      "2\n"
     ]
    }
   ],
   "source": [
    "tuple1 = (10, 20, 30, 40, 50)\n",
    "position = tuple1.index(30)\n",
    "# get index of item 30\n",
    "\n",
    "print(position)"
   ],
   "metadata": {
    "collapsed": false,
    "ExecuteTime": {
     "end_time": "2023-07-03T13:36:45.958054100Z",
     "start_time": "2023-07-03T13:36:45.864292200Z"
    }
   }
  },
  {
   "cell_type": "markdown",
   "source": [
    "As seen in the above output the index value of item 30 is printed.\n",
    "\n",
    "## Find within a range\n",
    "We can mention the start and end values for the index() method so that our search will be limited to those values.\n",
    "\n",
    "Example:"
   ],
   "metadata": {
    "collapsed": false
   }
  },
  {
   "cell_type": "code",
   "execution_count": 82,
   "outputs": [
    {
     "name": "stdout",
     "output_type": "stream",
     "text": [
      "5\n"
     ]
    }
   ],
   "source": [
    "tuple1 = (10, 20, 30, 40, 50, 60, 70, 80)\n",
    "# limit the search locations using start and end\n",
    "# Search only from location 4 to 6\n",
    "# start = 4 and end = 6\n",
    "# get index of item 60\n",
    "\n",
    "position = tuple1.index(60, 4, 6)\n",
    "print(position)"
   ],
   "metadata": {
    "collapsed": false,
    "ExecuteTime": {
     "end_time": "2023-07-03T13:45:55.907455400Z",
     "start_time": "2023-07-03T13:45:55.876168900Z"
    }
   }
  },
  {
   "cell_type": "markdown",
   "source": [
    "As seen in the above output we have limited the search from the index position 4 to 6 as the number 60 is present in this range only. In case we mention any item that is not present then it will throw a value error\n",
    "\n"
   ],
   "metadata": {
    "collapsed": false
   }
  },
  {
   "cell_type": "code",
   "execution_count": 83,
   "outputs": [
    {
     "name": "stdout",
     "output_type": "stream",
     "text": [
      "0\n"
     ]
    }
   ],
   "source": [
    "tuple1 = (10, 20, 30, 40, 50, 60, 70, 80)\n",
    "# index out of range\n",
    "position = tuple1.index(10)\n",
    "print(tuple1.index(10))"
   ],
   "metadata": {
    "collapsed": false,
    "ExecuteTime": {
     "end_time": "2023-07-03T13:59:10.847263800Z",
     "start_time": "2023-07-03T13:59:10.769145Z"
    }
   }
  },
  {
   "cell_type": "markdown",
   "source": [
    "## Checking if an item exists\n",
    "We can check whether an item exists in a tuple by using the in operator. This will return a boolean True if the item exists and False if it doesn’t.\n",
    "\n"
   ],
   "metadata": {
    "collapsed": false
   }
  },
  {
   "cell_type": "code",
   "execution_count": 84,
   "outputs": [
    {
     "name": "stdout",
     "output_type": "stream",
     "text": [
      "True\n",
      "False\n"
     ]
    }
   ],
   "source": [
    "tuple1 = (10, 20, 30, 40, 50, 60, 70, 80)\n",
    "# checking whether item 50 exists in tuple\n",
    "print(50 in tuple1)\n",
    "# Output True\n",
    "print(500 in tuple1)\n"
   ],
   "metadata": {
    "collapsed": false,
    "ExecuteTime": {
     "end_time": "2023-07-03T14:00:29.771196400Z",
     "start_time": "2023-07-03T14:00:29.693055700Z"
    }
   }
  },
  {
   "cell_type": "markdown",
   "source": [
    "As seen in the above output we can see that the item ’50’ exists in the tuple so we got True and ‘500’ doesn’t and so we got False.\n",
    "\n",
    "Adding and changing items in a Tuple\n",
    "A list is a mutable type, which means we can add or modify values in it, but tuples are immutable, so they cannot be changed.\n",
    "\n",
    "Also, because a tuple is immutable there are no built-in methods to add items to the tuple.\n",
    "\n",
    "If you try to modify the value you will get an error.\n",
    "\n",
    "Example:\n"
   ],
   "metadata": {
    "collapsed": false
   }
  },
  {
   "cell_type": "code",
   "execution_count": 85,
   "outputs": [
    {
     "ename": "TypeError",
     "evalue": "'tuple' object does not support item assignment",
     "output_type": "error",
     "traceback": [
      "\u001B[1;31m---------------------------------------------------------------------------\u001B[0m",
      "\u001B[1;31mTypeError\u001B[0m                                 Traceback (most recent call last)",
      "Cell \u001B[1;32mIn[85], line 2\u001B[0m\n\u001B[0;32m      1\u001B[0m tuple1 \u001B[38;5;241m=\u001B[39m (\u001B[38;5;241m0\u001B[39m, \u001B[38;5;241m1\u001B[39m, \u001B[38;5;241m2\u001B[39m, \u001B[38;5;241m3\u001B[39m, \u001B[38;5;241m4\u001B[39m, \u001B[38;5;241m5\u001B[39m)\n\u001B[1;32m----> 2\u001B[0m \u001B[43mtuple1\u001B[49m\u001B[43m[\u001B[49m\u001B[38;5;241;43m1\u001B[39;49m\u001B[43m]\u001B[49m \u001B[38;5;241m=\u001B[39m \u001B[38;5;241m10\u001B[39m\n",
      "\u001B[1;31mTypeError\u001B[0m: 'tuple' object does not support item assignment"
     ]
    }
   ],
   "source": [
    "tuple1 = (0, 1, 2, 3, 4, 5)\n",
    "tuple1[1] = 10\n"
   ],
   "metadata": {
    "collapsed": false,
    "ExecuteTime": {
     "end_time": "2023-07-03T14:04:58.819820400Z",
     "start_time": "2023-07-03T14:04:58.710452700Z"
    }
   }
  },
  {
   "cell_type": "markdown",
   "source": [
    "As a workaround solution, we can convert the tuple to a list, add items, and then convert it back to a tuple. As tuples are ordered collection like lists the items always get added in the end."
   ],
   "metadata": {
    "collapsed": false
   }
  },
  {
   "cell_type": "code",
   "execution_count": 86,
   "outputs": [
    {
     "name": "stdout",
     "output_type": "stream",
     "text": [
      "(0, 1, 2, 3, 4, 5, 6, 7, 8)\n"
     ]
    }
   ],
   "source": [
    "tuple1 = (0, 1, 2, 3, 4, 5, 6, 7)\n",
    "# converting tuple into a list\n",
    "sample_list = list(tuple1)\n",
    "# add item to the list\n",
    "\n",
    "sample_list.append(8)\n",
    "\n",
    "# converting list back into a tuple\n",
    "\n",
    "tuple1 = tuple(sample_list)\n",
    "print(tuple1)"
   ],
   "metadata": {
    "collapsed": false,
    "ExecuteTime": {
     "end_time": "2023-07-03T14:24:19.386492600Z",
     "start_time": "2023-07-03T14:24:19.116195900Z"
    }
   }
  },
  {
   "cell_type": "markdown",
   "source": [
    "As we can see in the above output the item is added to the tuple in the end.\n",
    "\n",
    "## Modify nested items of a tuple"
   ],
   "metadata": {
    "collapsed": false
   }
  },
  {
   "cell_type": "markdown",
   "source": [
    "One thing to remember here, If one of the items is itself a mutable data type as a list, then we can change its values in the case of a nested tuple.\n",
    "\n",
    "For example, let’s assume you have the following tuple which has a list as its last item and you wanted to modify the list items.\n",
    "\n",
    "tuple1 = (10, 20, [25, 75, 85])\n",
    "\n",
    "Let’s see how to modify the set item if it contains mutable types.\n",
    "\n",
    "Example:"
   ],
   "metadata": {
    "collapsed": false
   }
  },
  {
   "cell_type": "code",
   "execution_count": 87,
   "outputs": [
    {
     "name": "stdout",
     "output_type": "stream",
     "text": [
      "(10, 20, [25, 75, 85])\n"
     ]
    },
    {
     "ename": "TypeError",
     "evalue": "'types.GenericAlias' object does not support item assignment",
     "output_type": "error",
     "traceback": [
      "\u001B[1;31m---------------------------------------------------------------------------\u001B[0m",
      "\u001B[1;31mTypeError\u001B[0m                                 Traceback (most recent call last)",
      "Cell \u001B[1;32mIn[87], line 8\u001B[0m\n\u001B[0;32m      4\u001B[0m \u001B[38;5;28mprint\u001B[39m(tuple1)\n\u001B[0;32m      6\u001B[0m \u001B[38;5;66;03m# modify last item's first value\u001B[39;00m\n\u001B[1;32m----> 8\u001B[0m \u001B[38;5;28;43mtuple\u001B[39;49m\u001B[43m[\u001B[49m\u001B[38;5;241;43m2\u001B[39;49m\u001B[43m]\u001B[49m\u001B[43m[\u001B[49m\u001B[38;5;241;43m0\u001B[39;49m\u001B[43m]\u001B[49m \u001B[38;5;241m=\u001B[39m \u001B[38;5;241m250\u001B[39m\n\u001B[0;32m      9\u001B[0m \u001B[38;5;66;03m# after update\u001B[39;00m\n\u001B[0;32m     11\u001B[0m \u001B[38;5;28mprint\u001B[39m(tuple1)\n",
      "\u001B[1;31mTypeError\u001B[0m: 'types.GenericAlias' object does not support item assignment"
     ]
    }
   ],
   "source": [
    "tuple1 = (10, 20, [25, 75, 85])\n",
    "# before update\n",
    "\n",
    "print(tuple1)\n",
    "\n",
    "# modify last item's first value\n",
    "\n",
    "tuple[2][0] = 250\n",
    "# after update\n",
    "\n",
    "print(tuple1)"
   ],
   "metadata": {
    "collapsed": false,
    "ExecuteTime": {
     "end_time": "2023-07-03T14:31:16.050361100Z",
     "start_time": "2023-07-03T14:31:15.948103200Z"
    }
   }
  },
  {
   "cell_type": "markdown",
   "source": [
    "As tuples are immutable we cannot change the values of items in the tuple. Again with the same workaround we can convert it into a list, make changes and convert it back into a tuple.\n"
   ],
   "metadata": {
    "collapsed": false
   }
  },
  {
   "cell_type": "code",
   "execution_count": 88,
   "outputs": [
    {
     "name": "stdout",
     "output_type": "stream",
     "text": [
      "(0, 10, 2, 3, 4, 5)\n"
     ]
    }
   ],
   "source": [
    "tuple1 = (0, 1, 2, 3, 4, 5)\n",
    "# converting tuple into a list\n",
    "sample_list = list(tuple1)\n",
    "\n",
    "# modify 2nd item\n",
    "sample_list[1] = 10\n",
    "\n",
    "# converting list back into a turple\n",
    "tuple1 = tuple(sample_list)\n",
    "print(tuple1)\n",
    "\n"
   ],
   "metadata": {
    "collapsed": false,
    "ExecuteTime": {
     "end_time": "2023-07-03T14:37:10.366266900Z",
     "start_time": "2023-07-03T14:37:10.241222100Z"
    }
   }
  },
  {
   "cell_type": "markdown",
   "source": [
    "## Removing items from a tuple\n",
    "Tuples are immutable so there are no pop() or remove() methods for the tuple. We can remove the items from a tuple using the following two ways.\n",
    "\n",
    "- Using del keyword\n",
    "- By converting it into a list\n",
    "\n",
    "# Using del keyword\n",
    "The del keyword will delete the entire tuple."
   ],
   "metadata": {
    "collapsed": false
   }
  },
  {
   "cell_type": "code",
   "execution_count": 89,
   "outputs": [
    {
     "ename": "NameError",
     "evalue": "name 'sampletup1' is not defined",
     "output_type": "error",
     "traceback": [
      "\u001B[1;31m---------------------------------------------------------------------------\u001B[0m",
      "\u001B[1;31mNameError\u001B[0m                                 Traceback (most recent call last)",
      "Cell \u001B[1;32mIn[89], line 4\u001B[0m\n\u001B[0;32m      1\u001B[0m sampletup1 \u001B[38;5;241m=\u001B[39m(\u001B[38;5;241m0\u001B[39m,\u001B[38;5;241m1\u001B[39m,\u001B[38;5;241m2\u001B[39m,\u001B[38;5;241m3\u001B[39m,\u001B[38;5;241m4\u001B[39m,\u001B[38;5;241m5\u001B[39m,\u001B[38;5;241m6\u001B[39m,\u001B[38;5;241m7\u001B[39m,\u001B[38;5;241m8\u001B[39m,\u001B[38;5;241m9\u001B[39m,\u001B[38;5;241m10\u001B[39m)\n\u001B[0;32m      2\u001B[0m \u001B[38;5;28;01mdel\u001B[39;00m sampletup1\n\u001B[1;32m----> 4\u001B[0m \u001B[38;5;28mprint\u001B[39m(\u001B[43msampletup1\u001B[49m)\n",
      "\u001B[1;31mNameError\u001B[0m: name 'sampletup1' is not defined"
     ]
    }
   ],
   "source": [
    "sampletup1 =(0,1,2,3,4,5,6,7,8,9,10)\n",
    "del sampletup1\n",
    "\n",
    "print(sampletup1)"
   ],
   "metadata": {
    "collapsed": false,
    "ExecuteTime": {
     "end_time": "2023-07-03T14:39:57.103528100Z",
     "start_time": "2023-07-03T14:39:57.009804600Z"
    }
   }
  },
  {
   "cell_type": "markdown",
   "source": [
    "As seen in the above output we are getting error when we try to access a deleted tuple.\n",
    "\n",
    "## By converting it into a List\n",
    "We can convert a tuple into a list and then remove any one item using the remove() method. Then again we will convert it back into a tuple using the tuple() constructor."
   ],
   "metadata": {
    "collapsed": false
   }
  },
  {
   "cell_type": "code",
   "execution_count": 90,
   "outputs": [
    {
     "name": "stdout",
     "output_type": "stream",
     "text": [
      "(0, 1, 3, 4, 5)\n"
     ]
    }
   ],
   "source": [
    "tuple1 = (0, 1, 2, 3, 4, 5)\n",
    "\n",
    "# converting tuple into a list\n",
    "sample_list = list(tuple1)\n",
    "# reomve 2nd item\n",
    "sample_list.remove(2)\n",
    "\n",
    "# converting list back into a tuple\n",
    "tuple1 = tuple(sample_list)\n",
    "print(tuple1)\n"
   ],
   "metadata": {
    "collapsed": false,
    "ExecuteTime": {
     "end_time": "2023-07-03T14:42:26.696040200Z",
     "start_time": "2023-07-03T14:42:26.594070500Z"
    }
   }
  },
  {
   "cell_type": "markdown",
   "source": [
    "As seen in the above output item 3 has been removed from the tuple.\n",
    "\n",
    "Count the occurrence of an item in a tuple\n",
    "As we learned, a tuple can contain duplicate items. To determine how many times a specific item occurred in a tuple, we can use the count() method of a tuple object.\n",
    "\n",
    "The count() method accepts any value as a parameter and returns the number of times a particular value appears in a tuple.\n",
    "\n",
    "Example:"
   ],
   "metadata": {
    "collapsed": false
   }
  },
  {
   "cell_type": "code",
   "execution_count": 91,
   "outputs": [
    {
     "name": "stdout",
     "output_type": "stream",
     "text": [
      "3\n",
      "0\n"
     ]
    }
   ],
   "source": [
    "tuple1 = (10, 20, 60, 30, 60, 40, 60)\n",
    "# Count all occurrences of item 60\n",
    "count = tuple1.count(60)\n",
    "print(count)\n",
    "\n",
    "count = tuple1.count(600)\n",
    "print(count)\n"
   ],
   "metadata": {
    "collapsed": false,
    "ExecuteTime": {
     "end_time": "2023-07-03T14:44:45.362794100Z",
     "start_time": "2023-07-03T14:44:45.206519400Z"
    }
   }
  },
  {
   "cell_type": "markdown",
   "source": [
    "## Copying a tuple\n",
    "We can create a copy of a tuple using the assignment operator '=' . This operation will create only a reference copy and not a deep copy because tuples are immutable.\n",
    "\n"
   ],
   "metadata": {
    "collapsed": false
   }
  },
  {
   "cell_type": "code",
   "execution_count": 92,
   "outputs": [
    {
     "name": "stdout",
     "output_type": "stream",
     "text": [
      "(0, 1, 2, 3, 4, 5)\n",
      "(0, 1, 2, 3, 4, 5)\n",
      "(0, 1, 2, 3, 4, 5, 6)\n"
     ]
    }
   ],
   "source": [
    "tuple1 = (0, 1, 2, 3, 4, 5)\n",
    "\n",
    "# copy tuple\n",
    "tuple2 = tuple1\n",
    "print(tuple2)\n",
    "\n",
    "\n",
    "# changing tuple2\n",
    "# converting it into a list\n",
    "sample_list = list(tuple2)\n",
    "sample_list.append(6)\n",
    "\n",
    "# converting list back into a tuple2\n",
    "tuple2 = tuple(sample_list)\n",
    "\n",
    "# printing the two tuples\n",
    "print(tuple1)\n",
    "\n",
    "print(tuple2)\n"
   ],
   "metadata": {
    "collapsed": false,
    "ExecuteTime": {
     "end_time": "2023-07-03T14:47:23.624114300Z",
     "start_time": "2023-07-03T14:47:23.528036200Z"
    }
   }
  },
  {
   "cell_type": "markdown",
   "source": [
    "As we can see in the above output the tuple1 is not affected by the changes made in tuple2.\n",
    "\n",
    "## Concatenating two Tuples\n",
    "We can concatenate two or more tuples in different ways. One thing to note here is that tuples allow duplicates, so if two tuples have the same item, it will be repeated twice in the resultant tuple. Let us see each one of them with a small example.\n",
    "\n",
    "## Using the + operator\n",
    "We can add two tuples using the + operator. This is a very and straightforward method and the resultant tuple will have items from both the tuples."
   ],
   "metadata": {
    "collapsed": false
   }
  },
  {
   "cell_type": "code",
   "execution_count": 93,
   "outputs": [
    {
     "name": "stdout",
     "output_type": "stream",
     "text": [
      "(1, 2, 3, 4, 5, 3, 4, 5, 6, 7)\n"
     ]
    }
   ],
   "source": [
    "tuple1 = (1, 2, 3, 4, 5)\n",
    "tuple2 = (3, 4, 5, 6, 7)\n",
    "\n",
    "# concatenate tuples using + operator\n",
    "tuple3 = tuple1 + tuple2\n",
    "print(tuple3)"
   ],
   "metadata": {
    "collapsed": false,
    "ExecuteTime": {
     "end_time": "2023-07-03T14:51:22.962168300Z",
     "start_time": "2023-07-03T14:51:22.720696100Z"
    }
   }
  },
  {
   "cell_type": "markdown",
   "source": [
    "As seen in the above output the resultant tuple has items from both the tuples and the item 3, 4, 5 are repeated twice.\n",
    "\n",
    "## Using the sum() function\n",
    "We can also use the Python built-in function sum to concatenate two tuples. But the sum function of two iterables like tuples always needs to start with Empty Tuple. Let us see this with an example.\n",
    "\n"
   ],
   "metadata": {
    "collapsed": false
   }
  },
  {
   "cell_type": "code",
   "execution_count": 94,
   "outputs": [
    {
     "name": "stdout",
     "output_type": "stream",
     "text": [
      "(1, 2, 3, 4, 5, 3, 4, 5, 6, 7)\n"
     ]
    }
   ],
   "source": [
    "tuple1 = (1, 2, 3, 4, 5)\n",
    "tuple2 = (3, 4, 5, 6, 7)\n",
    "\n",
    "# using sum function\n",
    "tuple3 = sum((tuple1, tuple2), ())\n",
    "print(tuple3)\n"
   ],
   "metadata": {
    "collapsed": false,
    "ExecuteTime": {
     "end_time": "2023-07-03T14:54:15.177746Z",
     "start_time": "2023-07-03T14:54:15.052761900Z"
    }
   }
  },
  {
   "cell_type": "markdown",
   "source": [
    "As we can see in the above output the sum function takes an Empty tuple as an argument and it returns the items from both the tuples.\n",
    "\n",
    "## Using the chain() function\n",
    "The chain() function is part of the itertools module in python. It makes an iterator, which will return all the first iterable items (a tuple in our case), which will be followed by the second iterable. We can pass any number of tuples to the chain() function."
   ],
   "metadata": {
    "collapsed": false
   }
  },
  {
   "cell_type": "code",
   "execution_count": 95,
   "outputs": [
    {
     "name": "stdout",
     "output_type": "stream",
     "text": [
      "(1, 2, 3, 4, 5, 3, 4, 5, 6, 7)\n"
     ]
    }
   ],
   "source": [
    "import itertools\n",
    "\n",
    "tuple1 = (1, 2, 3, 4, 5)\n",
    "tuple2 = (3, 4, 5, 6, 7)\n",
    "\n",
    "# using itertools\n",
    "tuple3 = tuple(item for item in itertools.chain(tuple1, tuple2))\n",
    "print(tuple3)\n"
   ],
   "metadata": {
    "collapsed": false,
    "ExecuteTime": {
     "end_time": "2023-07-03T14:56:44.561498100Z",
     "start_time": "2023-07-03T14:56:44.303867500Z"
    }
   }
  },
  {
   "cell_type": "markdown",
   "source": [
    "As seen in the above output we can concatenate any number of tuples using the above method and it is more time-efficient than other methods.\n",
    "\n",
    "\n",
    "- Nested tuples\n",
    "Nested tuples are tuples within a tuple i.e., when a tuple contains another tuple as its member then it is called a nested tuple.\n",
    "\n",
    "In order to retrieve the items of the inner tuple we need a nested for loop\n",
    "\n"
   ],
   "metadata": {
    "collapsed": false
   }
  },
  {
   "cell_type": "code",
   "execution_count": 98,
   "outputs": [
    {
     "name": "stdout",
     "output_type": "stream",
     "text": [
      "P\n",
      "tuple (20, 40, 60) elements\n",
      "20, 40, 60, \n",
      "\n",
      "tuple (10, 30, 50) elements\n",
      "10, 30, 50, \n",
      "\n",
      "tuple Python elements\n",
      "P, y, t, h, o, n, \n",
      "\n"
     ]
    }
   ],
   "source": [
    "nested_tuple = ((20, 40, 60), (10, 30, 50), \"Python\")\n",
    "\n",
    "# access the first item of the third tuple\n",
    "print(nested_tuple[2][0])  # P\n",
    "\n",
    "# iterate a nested tuple\n",
    "for i in nested_tuple:\n",
    "    print(\"tuple\", i, \"elements\")\n",
    "    for j in i:\n",
    "        print(j, end=\", \")\n",
    "    print(\"\\n\")"
   ],
   "metadata": {
    "collapsed": false,
    "ExecuteTime": {
     "end_time": "2023-07-03T15:10:10.442607800Z",
     "start_time": "2023-07-03T15:10:10.264210100Z"
    }
   }
  },
  {
   "cell_type": "markdown",
   "source": [
    "## Use built-in functions with tuple\n",
    "min() and max()\n",
    "As the name suggests the max() function returns the maximum item in a tuple and min() returns the minimum value in a tuple.\n",
    "\n",
    "\n"
   ],
   "metadata": {
    "collapsed": false
   }
  },
  {
   "cell_type": "code",
   "execution_count": 99,
   "outputs": [
    {
     "name": "stdout",
     "output_type": "stream",
     "text": [
      "zara\n",
      "abc\n",
      "22\n",
      "4\n"
     ]
    }
   ],
   "source": [
    "tuple1 = ('xyz', 'zara', 'abc')\n",
    "# The maximum value in a string tuple\n",
    "print(max(tuple1))\n",
    "# The minimum value in a string tuple\n",
    "print(min(tuple1))\n",
    "tuple2 = (11, 22, 10, 4)\n",
    "\n",
    "# The maximum value in an integer tuple\n",
    "print(max(tuple2))\n",
    "\n",
    "#The minimum value in an integer tuple\n",
    "\n",
    "print(min(tuple2))\n",
    "\n"
   ],
   "metadata": {
    "collapsed": false,
    "ExecuteTime": {
     "end_time": "2023-07-03T15:10:18.670494600Z",
     "start_time": "2023-07-03T15:10:18.607993400Z"
    }
   }
  },
  {
   "cell_type": "markdown",
   "source": [
    "Note: We can’t find the max() and min() for a heterogeneous tuple (mixed types of items). It will throw Type Error\n",
    "\n"
   ],
   "metadata": {
    "collapsed": false
   }
  },
  {
   "cell_type": "code",
   "execution_count": 100,
   "outputs": [
    {
     "ename": "TypeError",
     "evalue": "'>' not supported between instances of 'int' and 'str'",
     "output_type": "error",
     "traceback": [
      "\u001B[1;31m---------------------------------------------------------------------------\u001B[0m",
      "\u001B[1;31mTypeError\u001B[0m                                 Traceback (most recent call last)",
      "Cell \u001B[1;32mIn[100], line 3\u001B[0m\n\u001B[0;32m      1\u001B[0m tuple3 \u001B[38;5;241m=\u001B[39m (\u001B[38;5;124m'\u001B[39m\u001B[38;5;124ma\u001B[39m\u001B[38;5;124m'\u001B[39m, \u001B[38;5;124m'\u001B[39m\u001B[38;5;124me\u001B[39m\u001B[38;5;124m'\u001B[39m, \u001B[38;5;241m11\u001B[39m, \u001B[38;5;241m22\u001B[39m, \u001B[38;5;241m15\u001B[39m)\n\u001B[0;32m      2\u001B[0m \u001B[38;5;66;03m# max item\u001B[39;00m\n\u001B[1;32m----> 3\u001B[0m \u001B[38;5;28mprint\u001B[39m(\u001B[38;5;28;43mmax\u001B[39;49m\u001B[43m(\u001B[49m\u001B[43mtuple3\u001B[49m\u001B[43m)\u001B[49m)\n",
      "\u001B[1;31mTypeError\u001B[0m: '>' not supported between instances of 'int' and 'str'"
     ]
    }
   ],
   "source": [
    "tuple3 = ('a', 'e', 11, 22, 15)\n",
    "# max item\n",
    "print(max(tuple3))"
   ],
   "metadata": {
    "collapsed": false,
    "ExecuteTime": {
     "end_time": "2023-07-03T15:11:24.799142900Z",
     "start_time": "2023-07-03T15:11:24.578853300Z"
    }
   }
  },
  {
   "cell_type": "markdown",
   "source": [
    "## all()\n",
    "In the case of all() function, the return value will be true only when all the values inside are true. Let us see the different item values and the return values.\n",
    "\n",
    "Item values in a tuple\tReturn value\n",
    "\n",
    "All values are True\tTrue\n",
    "One or more False values\tFalse\n",
    "All False values\tFalse\n",
    "Empty tuple\tTrue\n"
   ],
   "metadata": {
    "collapsed": false
   }
  },
  {
   "cell_type": "code",
   "execution_count": 101,
   "outputs": [
    {
     "name": "stdout",
     "output_type": "stream",
     "text": [
      "True\n",
      "True\n",
      "False\n",
      "False\n",
      "True\n"
     ]
    }
   ],
   "source": [
    "# all() with All True values\n",
    "tuple1 = (1, 1, True)\n",
    "print(all(tuple1))  # True\n",
    "\n",
    "# all() All True values\n",
    "tuple1 = (1, 1, True)\n",
    "print(all(tuple1))  # True\n",
    "\n",
    "# all() with One false value\n",
    "tuple2 = (0, 1, True, 1)\n",
    "print(all(tuple2))  # False\n",
    "\n",
    "# all() with all false values\n",
    "tuple3 = (0, 0, False)\n",
    "print(all(tuple3))  # False\n",
    "\n",
    "# all() Empty tuple\n",
    "tuple4 = ()\n",
    "print(all(tuple4))  # True"
   ],
   "metadata": {
    "collapsed": false,
    "ExecuteTime": {
     "end_time": "2023-07-03T15:13:34.116911600Z",
     "start_time": "2023-07-03T15:13:33.913801600Z"
    }
   }
  },
  {
   "cell_type": "markdown",
   "source": [
    "## any()\n",
    "The any() method will return true if there is at least one true value. In the case of the empty tuple, it will return false. Let us see the same possible combination of values for any() function in a tuple and its return values.\n",
    "\n",
    "Item values in a tuple\tReturn value\n",
    "\n",
    "All values are True\tTrue\n",
    "One or more False values\tTrue\n",
    "All False values\tFalse\n",
    "Empty tuple\tFalse\n",
    "Similarly, let’s see each one of the above scenarios with a small example.\n"
   ],
   "metadata": {
    "collapsed": false
   }
  },
  {
   "cell_type": "code",
   "execution_count": 103,
   "outputs": [
    {
     "name": "stdout",
     "output_type": "stream",
     "text": [
      "True\n",
      "True\n",
      "False\n",
      "False\n"
     ]
    }
   ],
   "source": [
    "# any() with All True values\n",
    "tuple1 = (1, 1, True)\n",
    "print(any(tuple1))  # True\n",
    "\n",
    "# any() with One false value\n",
    "tuple2 = (0, 1, True, 1)\n",
    "print(any(tuple2))  # True\n",
    "\n",
    "# any() with all false values\n",
    "tuple3 = (0, 0, False)\n",
    "print(any(tuple3))  # False\n",
    "\n",
    "# any() with Empty tuple\n",
    "tuple4 = ()\n",
    "print(any(tuple4))  # False"
   ],
   "metadata": {
    "collapsed": false,
    "ExecuteTime": {
     "end_time": "2023-07-03T15:18:07.679549400Z",
     "start_time": "2023-07-03T15:18:07.599357400Z"
    }
   }
  },
  {
   "cell_type": "markdown",
   "source": [],
   "metadata": {
    "collapsed": false
   }
  },
  {
   "cell_type": "markdown",
   "source": [
    "## When to use Tuple?\n",
    "As tuples and lists are similar data structures, and they both allow sequential data storage, tuples are often referred to as immutable lists. So the tuples are used for the following requirements instead of lists.\n",
    "\n",
    "There are no append() or extend() to add items and similarly no remove() or pop() methods to remove items. This ensures that the data is write-protected. As the tuples are Unchangeable, they can be used to represent read-only or fixed data that does not change.\n",
    "As they are immutable, they can be used as a key for the dictionaries, while lists cannot be used for this purpose.\n",
    "As they are immutable, the search operation is much faster than the lists. This is because the id of the items remains constant.\n",
    "Tuples contain heterogeneous (all types) data that offers huge flexibility in data that contains combinations of data types like alphanumeric characters.\n",
    "\n",
    "## Summary of tuples operations\n",
    "For the following examples, we assume that t1 and t2 are tuples, x, i, j, k, n are integers.\n",
    "\n",
    "t1 = (10, 20, 30, 40, 50) and t2 = (60, 70, 80, 60)\n",
    "\n",
    "Operation\tDescription\n",
    "x in t1\tCheck if the tuple t1 contains the item x.\n",
    "x not in t2\tCheck if the tuple t1 does not contain the item x.\n",
    "t1 + t2\tConcatenate the tuples t1 and t2. Creates a new tuple containing the items from t1 and t2.\n",
    "t1 * 5\tRepeat the tuple t1 5 times.\n",
    "t1[i]\tGet the item at the index i. Example, t1[2] is 30\n",
    "t1[i:j]\tTuple slicing. Get the items from index i up to index j (excluding j) as a tuple. An example t1[0:2] is (10, 20)\n",
    "t1[i:j:k]\tTuple slicing with step. Return a tuple with the items from index i up to index j taking every k-th item. An example t1[0:4:2] is (10, 30)\n",
    "len(t1)\tReturns a count of total items in a tuple\n",
    "t2.count(60)\tReturns the number of times a particular item (60) appears in a tuple. Answer is 2\n",
    "t1.index(30)\tReturns the index number of a particular item(30) in a tuple. Answer is 2\n",
    "t1.index(40, 2, 5)\tReturns the index number of a particular item(30) in a tuple. But search only from index number 2 to 5.\n",
    "min(t1)\tReturns the item with a minimum value from a tuple\n",
    "max(t1)\tReturns the item with maximum value from a tuple"
   ],
   "metadata": {
    "collapsed": false
   }
  },
  {
   "cell_type": "code",
   "execution_count": null,
   "outputs": [],
   "source": [],
   "metadata": {
    "collapsed": false
   }
  }
 ],
 "metadata": {
  "kernelspec": {
   "display_name": "Python 3",
   "language": "python",
   "name": "python3"
  },
  "language_info": {
   "codemirror_mode": {
    "name": "ipython",
    "version": 2
   },
   "file_extension": ".py",
   "mimetype": "text/x-python",
   "name": "python",
   "nbconvert_exporter": "python",
   "pygments_lexer": "ipython2",
   "version": "2.7.6"
  }
 },
 "nbformat": 4,
 "nbformat_minor": 0
}

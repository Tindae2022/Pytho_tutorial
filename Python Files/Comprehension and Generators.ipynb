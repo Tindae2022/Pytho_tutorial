{
 "cells": [
  {
   "cell_type": "code",
   "execution_count": 1,
   "metadata": {
    "collapsed": true,
    "ExecuteTime": {
     "end_time": "2023-07-05T16:16:57.018009400Z",
     "start_time": "2023-07-05T16:16:56.986760900Z"
    }
   },
   "outputs": [
    {
     "name": "stdout",
     "output_type": "stream",
     "text": [
      "8\n"
     ]
    }
   ],
   "source": [
    "add = lambda x, y: x + y\n",
    "result = add(3, 5)\n",
    "print(result)"
   ]
  },
  {
   "cell_type": "code",
   "execution_count": 2,
   "outputs": [
    {
     "name": "stdout",
     "output_type": "stream",
     "text": [
      "4\n"
     ]
    }
   ],
   "source": [
    "subtract = lambda a,b: a - b\n",
    "result = subtract(7, 3)\n",
    "print(result)"
   ],
   "metadata": {
    "collapsed": false,
    "ExecuteTime": {
     "end_time": "2023-07-05T16:17:42.181391Z",
     "start_time": "2023-07-05T16:17:42.150117400Z"
    }
   }
  },
  {
   "cell_type": "code",
   "execution_count": 5,
   "outputs": [
    {
     "name": "stdout",
     "output_type": "stream",
     "text": [
      "[24, 65, 68, 84, 110, 130, 113]\n"
     ]
    }
   ],
   "source": [
    "# MAP\n",
    "number1 = [10, 20, 30, 40, 50, 60, 70]\n",
    "number2 = [14, 45, 38, 44, 60, 70, 43]\n",
    "\n",
    "addition = map(lambda  x, y: x + y, number1, number2)\n",
    "print(list(addition))"
   ],
   "metadata": {
    "collapsed": false,
    "ExecuteTime": {
     "end_time": "2023-07-05T16:29:58.921648Z",
     "start_time": "2023-07-05T16:29:58.865298900Z"
    }
   }
  },
  {
   "cell_type": "code",
   "execution_count": 6,
   "outputs": [
    {
     "name": "stdout",
     "output_type": "stream",
     "text": [
      "['TINDAE', 'HOW ARE YOU', 'PLEASE COME']\n"
     ]
    }
   ],
   "source": [
    "# Exercise 1: Convert a list of strings to uppercase.\n",
    "\n",
    "words = ['Tindae', 'how are you', 'please come']\n",
    "upper_strings = map(lambda x: x.upper(), words)\n",
    "print(list(upper_strings))"
   ],
   "metadata": {
    "collapsed": false,
    "ExecuteTime": {
     "end_time": "2023-07-05T16:40:52.240079900Z",
     "start_time": "2023-07-05T16:40:52.161959100Z"
    }
   }
  },
  {
   "cell_type": "code",
   "execution_count": 7,
   "outputs": [
    {
     "name": "stdout",
     "output_type": "stream",
     "text": [
      "[1, 4, 9, 16, 25, 36, 49, 64, 81, 100]\n"
     ]
    }
   ],
   "source": [
    "# Calculate the squares of numbers from 1 to 10.\n",
    "numbers = range(1, 11)\n",
    "squared_numbers = list(map(lambda x: x ** 2, numbers))\n",
    "print(squared_numbers)"
   ],
   "metadata": {
    "collapsed": false,
    "ExecuteTime": {
     "end_time": "2023-07-05T16:44:10.690704300Z",
     "start_time": "2023-07-05T16:44:10.612544700Z"
    }
   }
  },
  {
   "cell_type": "code",
   "execution_count": 8,
   "outputs": [
    {
     "name": "stdout",
     "output_type": "stream",
     "text": [
      "['Tindae', 'how are you', 'please come']\n"
     ]
    }
   ],
   "source": [
    "# Exercise 3: Remove trailing whitespaces from a list of strings.\n",
    "words = ['Tindae', 'how are you', 'please come']\n",
    "trimmed_words = list(map(lambda x: x.strip(), words))\n",
    "print(trimmed_words)"
   ],
   "metadata": {
    "collapsed": false,
    "ExecuteTime": {
     "end_time": "2023-07-05T16:47:46.334609800Z",
     "start_time": "2023-07-05T16:47:46.256435300Z"
    }
   }
  },
  {
   "cell_type": "code",
   "execution_count": 10,
   "outputs": [
    {
     "name": "stdout",
     "output_type": "stream",
     "text": [
      "[6, 11, 11]\n"
     ]
    }
   ],
   "source": [
    "# Exercise 4: Calculate the lengths of strings in a list.\n",
    "words = ['Tindae', 'how are you', 'please come']\n",
    "lengths = list(map(lambda x: len(x), words))\n",
    "print(lengths)"
   ],
   "metadata": {
    "collapsed": false,
    "ExecuteTime": {
     "end_time": "2023-07-05T16:51:10.779431400Z",
     "start_time": "2023-07-05T16:51:10.763814200Z"
    }
   }
  },
  {
   "cell_type": "code",
   "execution_count": 11,
   "outputs": [
    {
     "name": "stdout",
     "output_type": "stream",
     "text": [
      "[('Lavalie', 78), ('Alice', 89)]\n"
     ]
    }
   ],
   "source": [
    "# Zip Function\n",
    "\n",
    "name = ['Lavalie', 'Alice']\n",
    "grades = [78, 89]\n",
    "names_grades = list(zip(name, grades))\n",
    "print(names_grades)"
   ],
   "metadata": {
    "collapsed": false,
    "ExecuteTime": {
     "end_time": "2023-07-05T16:56:56.950649200Z",
     "start_time": "2023-07-05T16:56:56.856832800Z"
    }
   }
  },
  {
   "cell_type": "code",
   "execution_count": 12,
   "outputs": [
    {
     "name": "stdout",
     "output_type": "stream",
     "text": [
      "[(4, 1, 7), (5, 2, 8), (6, 3, 9)]\n"
     ]
    }
   ],
   "source": [
    "list_items = [4, 5, 6]\n",
    "dict_items = {1, 2, 3}\n",
    "tuple_items = (7, 8, 9)\n",
    "combined = list(zip(list_items, dict_items, tuple_items))\n",
    "print(combined)"
   ],
   "metadata": {
    "collapsed": false,
    "ExecuteTime": {
     "end_time": "2023-07-05T17:02:44.707955100Z",
     "start_time": "2023-07-05T17:02:44.676704700Z"
    }
   }
  },
  {
   "cell_type": "code",
   "execution_count": 13,
   "outputs": [
    {
     "name": "stdout",
     "output_type": "stream",
     "text": [
      "[11, 12, 13, 14, 15, 16, 17, 18, 19, 20, 21]\n"
     ]
    }
   ],
   "source": [
    "# filter Function\n",
    "\n",
    "numbers = range(9, 22)\n",
    "numb_greater = list(filter(lambda x: x > 10, numbers))\n",
    "print(numb_greater)"
   ],
   "metadata": {
    "collapsed": false,
    "ExecuteTime": {
     "end_time": "2023-07-05T17:07:09.940521300Z",
     "start_time": "2023-07-05T17:07:09.893623Z"
    }
   }
  },
  {
   "cell_type": "code",
   "execution_count": 15,
   "outputs": [
    {
     "name": "stdout",
     "output_type": "stream",
     "text": [
      "[16, 25, 36, 1, 4, 9, 16]\n",
      "[14, 15, 16, 11, 12, 13, 14]\n"
     ]
    }
   ],
   "source": [
    "# List Comprehension\n",
    "\n",
    "numbers = [4, 5, 6, 1, 2, 3, 4,]\n",
    "squared_numbers = [x ** 2 for x in numbers]\n",
    "add_10 = [x + 10 for x in numbers]\n",
    "print(squared_numbers)\n",
    "print(add_10)\n"
   ],
   "metadata": {
    "collapsed": false,
    "ExecuteTime": {
     "end_time": "2023-07-05T17:14:30.874440200Z",
     "start_time": "2023-07-05T17:14:30.827493400Z"
    }
   }
  },
  {
   "cell_type": "code",
   "execution_count": 16,
   "outputs": [
    {
     "name": "stdout",
     "output_type": "stream",
     "text": [
      "[2, 4, 6, 8, 10]\n",
      "[1, 3, 5, 7, 9]\n"
     ]
    }
   ],
   "source": [
    "numbers = range(1, 11)\n",
    "even_numbers = [x for x in numbers if x % 2 == 0]\n",
    "print(even_numbers)\n",
    "prime_numbers = [x for x in numbers if x % 2 == 1]\n",
    "print(prime_numbers)"
   ],
   "metadata": {
    "collapsed": false,
    "ExecuteTime": {
     "end_time": "2023-07-05T17:17:21.764678100Z",
     "start_time": "2023-07-05T17:17:21.733414Z"
    }
   }
  },
  {
   "cell_type": "code",
   "execution_count": 17,
   "outputs": [
    {
     "name": "stdout",
     "output_type": "stream",
     "text": [
      "{'L', 'A'}\n"
     ]
    }
   ],
   "source": [
    "# Set Comprehension\n",
    "\n",
    "string = \"Alusine Lavalie\"\n",
    "upper_case = {char for char in string if char.isupper()}\n",
    "print(upper_case)"
   ],
   "metadata": {
    "collapsed": false,
    "ExecuteTime": {
     "end_time": "2023-07-05T17:20:28.214587800Z",
     "start_time": "2023-07-05T17:20:28.124970100Z"
    }
   }
  },
  {
   "cell_type": "code",
   "execution_count": 35,
   "outputs": [
    {
     "name": "stdout",
     "output_type": "stream",
     "text": [
      "{98}\n"
     ]
    }
   ],
   "source": [
    "grades = [88, 67, 82, 32, 67, 76, 43, 23]\n",
    "a_set = {x + 10 for x in grades if x >= 88}\n",
    "print(a_set)"
   ],
   "metadata": {
    "collapsed": false,
    "ExecuteTime": {
     "end_time": "2023-07-05T17:28:59.298928Z",
     "start_time": "2023-07-05T17:28:59.267657300Z"
    }
   }
  },
  {
   "cell_type": "code",
   "execution_count": 36,
   "outputs": [
    {
     "name": "stdout",
     "output_type": "stream",
     "text": [
      "{'a': 1, 'b': 2, 'c': 3}\n"
     ]
    }
   ],
   "source": [
    "keys = ['a', 'b', 'c']\n",
    "values = [1, 2, 3]\n",
    "dictionary = {key: value for key, value in zip(keys, values)}\n",
    "print(dictionary)\n"
   ],
   "metadata": {
    "collapsed": false,
    "ExecuteTime": {
     "end_time": "2023-07-05T17:34:53.065722700Z",
     "start_time": "2023-07-05T17:34:53.034472900Z"
    }
   }
  },
  {
   "cell_type": "code",
   "execution_count": 37,
   "outputs": [
    {
     "name": "stdout",
     "output_type": "stream",
     "text": [
      "{87: 'Honours class', 67: 'General Class', 92: 'Honours class', 45: 'General Class'}\n"
     ]
    }
   ],
   "source": [
    "grades = [87, 67, 92, 45]\n",
    "honours = {x: \"Honours class\" if x >= 80 else \"General Class\" for x in grades}\n",
    "print(honours)"
   ],
   "metadata": {
    "collapsed": false,
    "ExecuteTime": {
     "end_time": "2023-07-05T17:37:24.715444200Z",
     "start_time": "2023-07-05T17:37:24.684198700Z"
    }
   }
  },
  {
   "cell_type": "markdown",
   "source": [
    "- Mini Project: Fibonacci Sequence Generator\n",
    "\n",
    "The Fibonacci sequence is a series of numbers in which each number is the sum of the two preceding ones. In this mini project, we'll create a Fibonacci sequence generator using list comprehensions."
   ],
   "metadata": {
    "collapsed": false
   }
  },
  {
   "cell_type": "code",
   "execution_count": 42,
   "outputs": [
    {
     "name": "stdout",
     "output_type": "stream",
     "text": [
      "[0, 1, 1, 2, 3, 5, 8, 13, 21, 34]\n"
     ]
    }
   ],
   "source": [
    "def generate_fibonacci_sequence(n):\n",
    "    sequence = [0, 1]\n",
    "    while len(sequence) < n:\n",
    "        sequence.append(sequence[-1] + sequence [-2])\n",
    "    return sequence\n",
    "n = 10\n",
    "fibonacci_sequence = generate_fibonacci_sequence(n)\n",
    "print(fibonacci_sequence)"
   ],
   "metadata": {
    "collapsed": false,
    "ExecuteTime": {
     "end_time": "2023-07-05T17:57:48.146971700Z",
     "start_time": "2023-07-05T17:57:48.115681900Z"
    }
   }
  },
  {
   "cell_type": "markdown",
   "source": [
    "- ## Mini Project: Word Length Counter\n",
    "\n",
    "In this mini project, we'll create a word length counter that takes a sentence as input and outputs a dictionary with each word as a key and its corresponding length as the value, using dictionary comprehensions.\n",
    "\n"
   ],
   "metadata": {
    "collapsed": false
   }
  },
  {
   "cell_type": "code",
   "execution_count": 45,
   "outputs": [
    {
     "name": "stdout",
     "output_type": "stream",
     "text": [
      "Tindae: 6\n",
      "is: 2\n",
      "a: 1\n",
      "man: 3\n"
     ]
    }
   ],
   "source": [
    "def count_word_lengths(sentence):\n",
    "    words = sentence.split()  # Split the sentence into individual words\n",
    "    word_lengths = {word: len(word) for word in words}\n",
    "    return word_lengths\n",
    "\n",
    "# Get user input for a sentence\n",
    "sentence = input(\"Enter a sentence: \")\n",
    "\n",
    "# Count the lengths of words in the sentence\n",
    "word_lengths = count_word_lengths(sentence)\n",
    "\n",
    "# Print the word lengths\n",
    "for word, length in word_lengths.items():\n",
    "    print(f\"{word}: {length}\")\n"
   ],
   "metadata": {
    "collapsed": false,
    "ExecuteTime": {
     "end_time": "2023-07-05T18:13:18.462083400Z",
     "start_time": "2023-07-05T18:13:09.552405800Z"
    }
   }
  },
  {
   "cell_type": "code",
   "execution_count": 47,
   "outputs": [
    {
     "name": "stdout",
     "output_type": "stream",
     "text": [
      "[2, 3, 4, 5, 6, 7, 8, 9, 10, 11]\n"
     ]
    }
   ],
   "source": [
    "list_add = [x + 2 for x in range(10)]\n",
    "print(list_add)"
   ],
   "metadata": {
    "collapsed": false,
    "ExecuteTime": {
     "end_time": "2023-07-06T14:46:34.193244800Z",
     "start_time": "2023-07-06T14:46:34.168046300Z"
    }
   }
  },
  {
   "cell_type": "code",
   "execution_count": 52,
   "outputs": [
    {
     "name": "stdout",
     "output_type": "stream",
     "text": [
      "[0, 1, 4, 9, 16, 25, 36, 49, 64, 81]\n"
     ]
    }
   ],
   "source": [
    "# PYTHON GENERATORS\n",
    "\n",
    "def get_square_of_numbers(n):\n",
    "    for x in range(n):\n",
    "        yield x ** 2\n",
    "numbers = int(input(\"Enter the last range of numbers: \"))\n",
    "print(list(get_square_of_numbers(numbers)))\n"
   ],
   "metadata": {
    "collapsed": false,
    "ExecuteTime": {
     "end_time": "2023-07-06T15:20:10.205911700Z",
     "start_time": "2023-07-06T15:20:07.476027Z"
    }
   }
  },
  {
   "cell_type": "code",
   "execution_count": 55,
   "outputs": [
    {
     "name": "stdout",
     "output_type": "stream",
     "text": [
      "0\n",
      "1\n",
      "2\n",
      "3\n"
     ]
    }
   ],
   "source": [
    "def counter(start = 0):\n",
    "    n = start\n",
    "    while True:\n",
    "        yield n\n",
    "        n += 1\n",
    "c = counter()\n",
    "print(next(c))\n",
    "print(next(c))\n",
    "print(next(c))\n",
    "print(next(c))"
   ],
   "metadata": {
    "collapsed": false,
    "ExecuteTime": {
     "end_time": "2023-07-06T15:29:32.175829400Z",
     "start_time": "2023-07-06T15:29:31.691510900Z"
    }
   }
  },
  {
   "cell_type": "code",
   "execution_count": 57,
   "outputs": [
    {
     "name": "stdout",
     "output_type": "stream",
     "text": [
      "5\n",
      "6\n",
      "7\n",
      "8\n",
      "9\n",
      "10\n",
      "11\n",
      "12\n",
      "13\n",
      "14\n"
     ]
    }
   ],
   "source": [
    "add_gen = (k + 5 for k in range(10))\n",
    "for x in add_gen:\n",
    "    print(x)"
   ],
   "metadata": {
    "collapsed": false,
    "ExecuteTime": {
     "end_time": "2023-07-06T15:36:38.974861700Z",
     "start_time": "2023-07-06T15:36:38.959164800Z"
    }
   }
  },
  {
   "cell_type": "code",
   "execution_count": 61,
   "outputs": [
    {
     "name": "stdout",
     "output_type": "stream",
     "text": [
      "1\n",
      "2\n",
      "3\n",
      "4\n",
      "5\n",
      "6\n",
      "7\n",
      "8\n",
      "9\n",
      "10\n"
     ]
    }
   ],
   "source": [
    "def number_generator(limit):\n",
    "    n = 1\n",
    "    while n <= limit:\n",
    "        yield n\n",
    "        n += 1\n",
    "for x in number_generator(10):\n",
    "    print(x)\n"
   ],
   "metadata": {
    "collapsed": false,
    "ExecuteTime": {
     "end_time": "2023-07-06T16:00:06.819371100Z",
     "start_time": "2023-07-06T16:00:06.803745500Z"
    }
   }
  },
  {
   "cell_type": "code",
   "execution_count": 62,
   "outputs": [
    {
     "name": "stdout",
     "output_type": "stream",
     "text": [
      "7\n",
      "8\n",
      "9\n",
      "10\n",
      "11\n",
      "12\n",
      "13\n",
      "14\n",
      "15\n",
      "16\n"
     ]
    }
   ],
   "source": [
    "generator = (x + 5 for x in range(2, 12))\n",
    "for x in generator:\n",
    "    print(x)"
   ],
   "metadata": {
    "collapsed": false,
    "ExecuteTime": {
     "end_time": "2023-07-06T16:04:11.566899900Z",
     "start_time": "2023-07-06T16:04:11.520027600Z"
    }
   }
  },
  {
   "cell_type": "markdown",
   "source": [
    "- Fibonacci Sequence Generator\n",
    "\n",
    "Create a generator that yields the Fibonacci sequence up to a given limit."
   ],
   "metadata": {
    "collapsed": false
   }
  },
  {
   "cell_type": "code",
   "execution_count": 63,
   "outputs": [
    {
     "name": "stdout",
     "output_type": "stream",
     "text": [
      "0\n",
      "1\n",
      "1\n",
      "2\n",
      "3\n",
      "5\n",
      "8\n",
      "13\n"
     ]
    }
   ],
   "source": [
    "def fibonacci_generator(limit):\n",
    "    a, b = 0, 1\n",
    "    while a <= limit:\n",
    "        yield a\n",
    "        a, b, = b, a + b\n",
    "\n",
    "numb = int(input(\"Enter a number: \"))\n",
    "generator = fibonacci_generator(numb)\n",
    "for n in generator:\n",
    "    print(n)\n"
   ],
   "metadata": {
    "collapsed": false,
    "ExecuteTime": {
     "end_time": "2023-07-06T16:26:15.874906200Z",
     "start_time": "2023-07-06T16:26:12.007430600Z"
    }
   }
  },
  {
   "cell_type": "markdown",
   "source": [
    "# Prime Numbers Generator\n",
    "\n",
    "Create a generator that yields prime numbers up to a given limit.\n",
    "\n"
   ],
   "metadata": {
    "collapsed": false
   }
  },
  {
   "cell_type": "code",
   "execution_count": 66,
   "outputs": [
    {
     "name": "stdout",
     "output_type": "stream",
     "text": [
      "2\n",
      "3\n",
      "5\n",
      "7\n",
      "11\n",
      "13\n",
      "17\n",
      "19\n"
     ]
    }
   ],
   "source": [
    "def is_prime(n):\n",
    "    if n < 2:\n",
    "        return False\n",
    "    for i in range(2, int(n ** 0.5) + 1):\n",
    "        if n % i == 0:\n",
    "            return False\n",
    "    return True\n",
    "\n",
    "def primes_generator(limit):\n",
    "    n = 2\n",
    "    while n <= limit:\n",
    "        if is_prime(n):\n",
    "            yield n\n",
    "        n += 1\n",
    "\n",
    "# Generate prime numbers up to 20\n",
    "generator = primes_generator(20)\n",
    "for number in generator:\n",
    "    print(number)\n"
   ],
   "metadata": {
    "collapsed": false,
    "ExecuteTime": {
     "end_time": "2023-07-06T16:35:44.127010300Z",
     "start_time": "2023-07-06T16:35:44.048781100Z"
    }
   }
  },
  {
   "cell_type": "code",
   "execution_count": 68,
   "outputs": [
    {
     "name": "stdout",
     "output_type": "stream",
     "text": [
      "{2, 4, 6, 8, 10}\n"
     ]
    }
   ],
   "source": [
    "evens = {x for x in range (1, 12) if x % 2 == 0}\n",
    "print(evens)\n"
   ],
   "metadata": {
    "collapsed": false,
    "ExecuteTime": {
     "end_time": "2023-07-06T17:19:30.584058800Z",
     "start_time": "2023-07-06T17:19:30.521531200Z"
    }
   }
  },
  {
   "cell_type": "markdown",
   "source": [
    "## Filtering Numbers\n",
    "Create a generator that yields numbers from a given range, but only if they are divisible by both 2 and 3."
   ],
   "metadata": {
    "collapsed": false
   }
  },
  {
   "cell_type": "code",
   "execution_count": 69,
   "outputs": [
    {
     "name": "stdout",
     "output_type": "stream",
     "text": [
      "6\n",
      "12\n",
      "18\n",
      "24\n"
     ]
    }
   ],
   "source": [
    "def divide_by_2_and_3(start, end):\n",
    "    return (x for x in range(start, end) if x % 2 == 0 and x % 3 == 0)\n",
    "\n",
    "start = int(input(\"Enter the starting number\"))\n",
    "end = int(input(\"Enter the ending number\"))\n",
    "\n",
    "generator = divide_by_2_and_3(start, end)\n",
    "for x in generator:\n",
    "    print(x)"
   ],
   "metadata": {
    "collapsed": false,
    "ExecuteTime": {
     "end_time": "2023-07-06T17:26:05.744414700Z",
     "start_time": "2023-07-06T17:25:58.672049Z"
    }
   }
  },
  {
   "cell_type": "markdown",
   "source": [
    "Exercise 1: List Comprehension - Squares of Numbers\n",
    "\n",
    "Write a list comprehension that generates a list of squares for numbers from 1 to 10."
   ],
   "metadata": {
    "collapsed": false
   }
  },
  {
   "cell_type": "code",
   "execution_count": 71,
   "outputs": [
    {
     "name": "stdout",
     "output_type": "stream",
     "text": [
      "[1, 4, 9, 16, 25, 36, 49, 64, 81]\n"
     ]
    }
   ],
   "source": [
    "squares = [x ** 2 for x in range(1, 10)]\n",
    "print(squares)"
   ],
   "metadata": {
    "collapsed": false,
    "ExecuteTime": {
     "end_time": "2023-07-06T17:33:57.443801600Z",
     "start_time": "2023-07-06T17:33:57.396909Z"
    }
   }
  },
  {
   "cell_type": "markdown",
   "source": [
    "Dictionary Comprehension - Even-Odd Mapping\n",
    "\n",
    "Write a dictionary comprehension that maps numbers from 1 to 10 as keys to their corresponding string representation \"even\" or \"odd\" as values."
   ],
   "metadata": {
    "collapsed": false
   }
  },
  {
   "cell_type": "code",
   "execution_count": 72,
   "outputs": [
    {
     "name": "stdout",
     "output_type": "stream",
     "text": [
      "{1: 'odd', 2: 'even', 3: 'odd', 4: 'even', 5: 'odd', 6: 'even', 7: 'odd', 8: 'even', 9: 'odd'}\n"
     ]
    }
   ],
   "source": [
    "even_odd = {num: \"even\" if num % 2 == 0 else \"odd\" for num in range(1, 10)}\n",
    "print(even_odd)"
   ],
   "metadata": {
    "collapsed": false,
    "ExecuteTime": {
     "end_time": "2023-07-06T17:41:06.511737400Z",
     "start_time": "2023-07-06T17:41:06.402369200Z"
    }
   }
  },
  {
   "cell_type": "markdown",
   "source": [
    "Set Comprehension - Vowels in a String\n",
    "\n",
    "Write a set comprehension that generates a set containing all the unique vowels present in a given string."
   ],
   "metadata": {
    "collapsed": false
   }
  },
  {
   "cell_type": "code",
   "execution_count": 73,
   "outputs": [
    {
     "name": "stdout",
     "output_type": "stream",
     "text": [
      "{'e', 'o'}\n"
     ]
    }
   ],
   "source": [
    "words = \"Hellow world\"\n",
    "vowel = {char.lower() for char in words if char.lower() in 'aeiou'}\n",
    "print(vowel)\n"
   ],
   "metadata": {
    "collapsed": false,
    "ExecuteTime": {
     "end_time": "2023-07-06T17:56:55.234982Z",
     "start_time": "2023-07-06T17:56:55.130132900Z"
    }
   }
  },
  {
   "cell_type": "markdown",
   "source": [
    "## Generator Function - Range Squares\n",
    "\n",
    "Create a generator function that yields the squares of numbers within a given range."
   ],
   "metadata": {
    "collapsed": false
   }
  },
  {
   "cell_type": "code",
   "execution_count": 76,
   "outputs": [
    {
     "name": "stdout",
     "output_type": "stream",
     "text": [
      "1\n",
      "4\n",
      "9\n",
      "16\n"
     ]
    }
   ],
   "source": [
    "def range_square(start, end):\n",
    "    for num in range(start, end):\n",
    "        yield num ** 2\n",
    "square_generator = range_square(1, 5)\n",
    "for square in square_generator:\n",
    "    print(square)"
   ],
   "metadata": {
    "collapsed": false,
    "ExecuteTime": {
     "end_time": "2023-07-06T18:00:23.015084900Z",
     "start_time": "2023-07-06T18:00:22.952566800Z"
    }
   }
  },
  {
   "cell_type": "markdown",
   "source": [
    "Generator Expression - Even Numbers\n",
    "\n",
    "Write a generator expression that yields even numbers from 1 to 10."
   ],
   "metadata": {
    "collapsed": false
   }
  },
  {
   "cell_type": "code",
   "execution_count": 81,
   "outputs": [
    {
     "name": "stdout",
     "output_type": "stream",
     "text": [
      "2\n",
      "4\n",
      "6\n",
      "8\n",
      "10\n"
     ]
    }
   ],
   "source": [
    "even_numbers_generator = (num for num in range(1, 11) if num % 2 == 0)\n",
    "\n",
    "for num in even_numbers_generator:\n",
    "    print(num)"
   ],
   "metadata": {
    "collapsed": false,
    "ExecuteTime": {
     "end_time": "2023-07-06T18:03:58.863451700Z",
     "start_time": "2023-07-06T18:03:58.832179600Z"
    }
   }
  },
  {
   "cell_type": "markdown",
   "source": [
    " Matrix Transposition\n",
    "\n",
    "Write a function that takes a matrix (a nested list) as input and returns its transpose using a nested list comprehension."
   ],
   "metadata": {
    "collapsed": false
   }
  },
  {
   "cell_type": "code",
   "execution_count": 82,
   "outputs": [
    {
     "name": "stdout",
     "output_type": "stream",
     "text": [
      "[[1, 4, 7], [2, 5, 8], [3, 6, 9]]\n"
     ]
    }
   ],
   "source": [
    "def transpose_matrix(matrix):\n",
    "    return [[matrix[j][i] for j in range(len(matrix))] for i in range(len(matrix[0]))]\n",
    "# Example usage:\n",
    "matrix = [[1, 2, 3], [4, 5, 6], [7, 8, 9]]\n",
    "transposed_matrix = transpose_matrix(matrix)\n",
    "print(transposed_matrix)"
   ],
   "metadata": {
    "collapsed": false,
    "ExecuteTime": {
     "end_time": "2023-07-06T18:11:42.325771100Z",
     "start_time": "2023-07-06T18:11:42.216404600Z"
    }
   }
  },
  {
   "cell_type": "markdown",
   "source": [
    "Prime Factors Generator\n",
    "\n",
    "Create a generator function that takes a number as input and yields its prime factors."
   ],
   "metadata": {
    "collapsed": false
   }
  },
  {
   "cell_type": "code",
   "execution_count": 83,
   "outputs": [
    {
     "name": "stdout",
     "output_type": "stream",
     "text": [
      "[2, 2, 2, 2, 3]\n"
     ]
    }
   ],
   "source": [
    "def prime_factor_generator(number):\n",
    "    i = 2\n",
    "    while i <= number:\n",
    "        if number % i == 0:\n",
    "            yield i\n",
    "            number //= i\n",
    "        else:\n",
    "            i += 1\n",
    "num = int(input(\"Enter number: \"))\n",
    "generate_prime = prime_factor_generator(num)\n",
    "prime_factors = list(generate_prime)\n",
    "print(prime_factors)"
   ],
   "metadata": {
    "collapsed": false,
    "ExecuteTime": {
     "end_time": "2023-07-06T18:21:42.710816700Z",
     "start_time": "2023-07-06T18:21:35.939589500Z"
    }
   }
  },
  {
   "cell_type": "markdown",
   "source": [
    "Word Frequency Counter\n",
    "\n",
    "Write a function that takes a list of sentences as input and returns a dictionary that counts the frequency of each word in the sentences using a nested dictionary comprehension."
   ],
   "metadata": {
    "collapsed": false
   }
  },
  {
   "cell_type": "code",
   "execution_count": 84,
   "outputs": [
    {
     "name": "stdout",
     "output_type": "stream",
     "text": [
      "{'is': 1, 'love': 2, 'programming': 1, 'I': 2, 'Python': 2, 'great': 1}\n"
     ]
    }
   ],
   "source": [
    "def word_frequency_counter(sentences):\n",
    "    word_counts = {word: sum(sentence.count(word) for sentence in sentences) for word in set(word for sentence in sentences for word in sentence.split())}\n",
    "    return word_counts\n",
    "\n",
    "# Example usage:\n",
    "sentences = [\"I love Python\", \"Python is great\", \"I love programming\"]\n",
    "frequency_counts = word_frequency_counter(sentences)\n",
    "print(frequency_counts)\n"
   ],
   "metadata": {
    "collapsed": false,
    "ExecuteTime": {
     "end_time": "2023-07-06T18:30:34.060023200Z",
     "start_time": "2023-07-06T18:30:33.903799200Z"
    }
   }
  },
  {
   "cell_type": "markdown",
   "source": [
    "Mini Project: Password Generator\n",
    "\n",
    "Build a password generator program that creates strong passwords using comprehensions and generators. The program should generate passwords with a combination of uppercase letters, lowercase letters, numbers, and symbols.\n",
    "\n",
    "To complete this mini project, you can follow these steps:\n",
    "\n",
    "Define a list of characters for each category: uppercase letters, lowercase letters, numbers, and symbols.\n",
    "Prompt the user to specify the length of the password they want to generate.\n",
    "Use comprehensions and generators to generate a password by randomly selecting characters from each category.\n",
    "Shuffle the generated password to randomize the order of the characters.\n",
    "Print the generated password.\n"
   ],
   "metadata": {
    "collapsed": false
   }
  },
  {
   "cell_type": "code",
   "execution_count": 87,
   "outputs": [
    {
     "name": "stdout",
     "output_type": "stream",
     "text": [
      "Generated Password: E%kOn7\n"
     ]
    }
   ],
   "source": [
    "import random\n",
    "def generate_password(length):\n",
    "    upper_case_letters = [chr(i) for i in range(65, 91)] # A- Z\n",
    "    lower_case_letters = [chr(i) for i in range(97, 123)] # a - z\n",
    "    numbers = [str(i) for i in range(10)] # 0 - 9\n",
    "    symbols = ['!', '@', '#', '$', '.','%', '&', '*']\n",
    "    all_chars = upper_case_letters + lower_case_letters + numbers + symbols\n",
    "    password = (\n",
    "        random.choice(upper_case_letters) +\n",
    "        random.choice(lower_case_letters) +\n",
    "        random.choice(numbers) +\n",
    "        random.choice(symbols) +\n",
    "        ''.join(random.choice(all_chars) for _ in range(length - 4))\n",
    "    )\n",
    "    password_list = list(password)\n",
    "    random.shuffle(password_list)\n",
    "    password = ''.join(password_list)\n",
    "    return password\n",
    "length = int(input(\"Enter the desired length of your password: \"))\n",
    "password = generate_password(length)\n",
    "print(f\"Generated Password: {password}\")\n",
    "\n",
    "\n",
    "\n"
   ],
   "metadata": {
    "collapsed": false,
    "ExecuteTime": {
     "end_time": "2023-07-10T13:09:06.718302300Z",
     "start_time": "2023-07-10T13:09:01.491131500Z"
    }
   }
  },
  {
   "cell_type": "code",
   "execution_count": 103,
   "outputs": [
    {
     "name": "stdout",
     "output_type": "stream",
     "text": [
      "[10, 3, 9, 7, 8, 4, 6, 5, 2]\n",
      "{2, 4, 6, 8, 10}\n",
      "list[{3: 3, 9: 9, 7: 7, 5: 5}]\n",
      "{3: 3, 9: 9, 7: 7, 5: 5}\n"
     ]
    }
   ],
   "source": [
    "import random\n",
    "def generate_random_numbers(start, end):\n",
    "    numbers = list(range(start, end))\n",
    "    random.shuffle(numbers)\n",
    "    return numbers\n",
    "\n",
    "start_range = int(input(\"Enter the starting range of numbers\"))\n",
    "end_range = int(input(\"Enter the end range of numbers\"))\n",
    "numbers = generate_random_numbers(start_range, end_range)\n",
    "even_numbers = {x for x in numbers if x % 2 == 0}\n",
    "odd_numbers = {x: x for x in numbers if x % 2 != 0}\n",
    "prime_numbers = {x: x for x in numbers if x % 2 == 1 }\n",
    "print(numbers)\n",
    "print(even_numbers)\n",
    "print(list[odd_numbers])\n",
    "print(prime_numbers)\n",
    "\n"
   ],
   "metadata": {
    "collapsed": false,
    "ExecuteTime": {
     "end_time": "2023-07-10T15:06:00.307172600Z",
     "start_time": "2023-07-10T15:05:57.082687Z"
    }
   }
  },
  {
   "cell_type": "code",
   "execution_count": 100,
   "outputs": [
    {
     "name": "stdout",
     "output_type": "stream",
     "text": [
      "{1: 1, 2: 4, 3: 9, 4: 16, 5: 25, 6: 36, 7: 49, 8: 64, 9: 81, 10: 100}\n"
     ]
    }
   ],
   "source": [
    "square_dict = {x: x**2 for x in range(1, 11)}\n",
    "print(square_dict)"
   ],
   "metadata": {
    "collapsed": false,
    "ExecuteTime": {
     "end_time": "2023-07-10T15:00:58.478259100Z",
     "start_time": "2023-07-10T15:00:58.212656500Z"
    }
   }
  },
  {
   "cell_type": "code",
   "execution_count": null,
   "outputs": [],
   "source": [],
   "metadata": {
    "collapsed": false
   }
  }
 ],
 "metadata": {
  "kernelspec": {
   "display_name": "Python 3",
   "language": "python",
   "name": "python3"
  },
  "language_info": {
   "codemirror_mode": {
    "name": "ipython",
    "version": 2
   },
   "file_extension": ".py",
   "mimetype": "text/x-python",
   "name": "python",
   "nbconvert_exporter": "python",
   "pygments_lexer": "ipython2",
   "version": "2.7.6"
  }
 },
 "nbformat": 4,
 "nbformat_minor": 0
}

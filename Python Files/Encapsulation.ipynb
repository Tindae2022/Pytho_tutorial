{
 "cells": [
  {
   "cell_type": "markdown",
   "source": [
    "## Encapsulation in Python\n"
   ],
   "metadata": {
    "collapsed": false
   }
  },
  {
   "cell_type": "markdown",
   "source": [
    "Encapsulation is one of the fundamental concepts in object-oriented programming (OOP), including abstraction, inheritance, and polymorphism. This lesson will cover what encapsulation is and how to implement it in Python."
   ],
   "metadata": {
    "collapsed": false
   }
  },
  {
   "cell_type": "markdown",
   "source": [
    "## What is Encapsulation in Python?\n",
    "Encapsulation in Python describes the concept of bundling data and methods within a single unit. So, for example, when you create a class, it means you are implementing encapsulation. A class is an example of encapsulation as it binds all the data members (instance variables) and methods into a single unit.\n",
    "\n",
    "![Encapsulation](encapsulation_python_class.jpg)"
   ],
   "metadata": {
    "collapsed": false
   }
  },
  {
   "cell_type": "markdown",
   "source": [
    "Example:\n",
    "\n",
    "In this example, we create an Employee class by defining employee attributes such as name and salary as an instance variable and implementing behavior using work() and show() instance methods."
   ],
   "metadata": {
    "collapsed": false
   }
  },
  {
   "cell_type": "code",
   "execution_count": 1,
   "outputs": [
    {
     "name": "stdout",
     "output_type": "stream",
     "text": [
      "Name: Jessa Salary: 800.5\n",
      "Jessa is working on NLP\n"
     ]
    }
   ],
   "source": [
    "class Employee:\n",
    "    # constructor\n",
    "    def __init__(self, name, salary, project):\n",
    "        self.name = name\n",
    "        self.salary = salary\n",
    "        self.project = project\n",
    "    # Method\n",
    "    # to display employee details\n",
    "    def show(self):\n",
    "        # accessing public data members\n",
    "        print(f\"Name: {self.name} Salary: {self.salary}\")\n",
    "    # method\n",
    "    def work(self):\n",
    "        print(f\"{self.name} is working on {self.project}\")\n",
    "# creating object of a class\n",
    "emp = Employee('Jessa', 800.50, 'NLP')\n",
    "# Calling public method of the class\n",
    "emp.show()\n",
    "emp.work()"
   ],
   "metadata": {
    "collapsed": false,
    "ExecuteTime": {
     "end_time": "2023-07-12T15:49:57.060166700Z",
     "start_time": "2023-07-12T15:49:57.044543900Z"
    }
   }
  },
  {
   "cell_type": "markdown",
   "source": [
    "Using encapsulation, we can hide an object’s internal representation from the outside. This is called information hiding.\n",
    "\n",
    "\n",
    "Also, encapsulation allows us to restrict accessing variables and methods directly and prevent accidental data modification by creating private data members and methods within a class.\n",
    "\n",
    "Encapsulation is a way to can restrict access to methods and variables from outside of class. Whenever we are working with the class and dealing with sensitive data, providing access to all variables used within the class is not a good choice.\n",
    "\n",
    "For example, Suppose you have an attribute that is not visible from the outside of an object and bundle it with methods that provide read or write access. In that case, you can hide specific information and control access to the object’s internal state. Encapsulation offers a way for us to access the required variable without providing the program full-fledged access to all variables of a class. This mechanism is used to protect the data of an object from other objects."
   ],
   "metadata": {
    "collapsed": false
   }
  },
  {
   "cell_type": "markdown",
   "source": [
    "## Access Modifiers in Python\n",
    "Encapsulation can be achieved by declaring the data members and methods of a class either as private or protected. But In Python, we don’t have direct access modifiers like public, private, and protected. We can achieve this by using single underscore and double underscores.\n",
    "\n",
    "Access modifiers limit access to the variables and methods of a class. Python provides three types of access modifiers private, public, and protected.\n",
    "\n",
    "- Public Member: Accessible anywhere from outside the class.\n",
    "- Private Member: Accessible within the class\n",
    "- Protected Member: Accessible within the class and its sub-classes\n",
    "\n",
    "\n",
    "![Encapsulation](python_data_hiding.jpg)"
   ],
   "metadata": {
    "collapsed": false
   }
  },
  {
   "cell_type": "code",
   "execution_count": 7,
   "outputs": [
    {
     "name": "stdout",
     "output_type": "stream",
     "text": [
      "Name: Jessa Salary: 10000\n",
      "Name: Jessa Salary: 10000\n"
     ]
    }
   ],
   "source": [
    "class Employee:\n",
    "    # constructor\n",
    "    def __init__(self, name, salary):\n",
    "        # public data members\n",
    "        self.name = name\n",
    "        self.salary = salary\n",
    "    # public instance method\n",
    "    def show(self):\n",
    "        # accessing public data members\n",
    "        print(f\"Name: {self.name} Salary: {self.salary}\")\n",
    "# creating object of the class\n",
    "emp = Employee(\"Jessa\", 10000)\n",
    "# Accessing public data members\n",
    "print(f\"Name: {emp.name} Salary: {emp.salary}\")\n",
    "# Calling method of the class\n",
    "emp.show()"
   ],
   "metadata": {
    "collapsed": false,
    "ExecuteTime": {
     "end_time": "2023-07-12T16:19:36.266240300Z",
     "start_time": "2023-07-12T16:19:36.250590800Z"
    }
   }
  },
  {
   "cell_type": "markdown",
   "source": [
    "## Private Member\n",
    "We can protect variables in the class by marking them private. To define a private variable add two underscores as a prefix at the start of a variable name.\n",
    "\n",
    "Private members are accessible only within the class, and we can’t access them directly from the class objects.\n",
    "\n",
    "Example:"
   ],
   "metadata": {
    "collapsed": false
   }
  },
  {
   "cell_type": "code",
   "execution_count": 8,
   "outputs": [
    {
     "ename": "AttributeError",
     "evalue": "'Employee' object has no attribute 'name'",
     "output_type": "error",
     "traceback": [
      "\u001B[1;31m---------------------------------------------------------------------------\u001B[0m",
      "\u001B[1;31mAttributeError\u001B[0m                            Traceback (most recent call last)",
      "Cell \u001B[1;32mIn[8], line 9\u001B[0m\n\u001B[0;32m      7\u001B[0m         \u001B[38;5;28mself\u001B[39m\u001B[38;5;241m.\u001B[39m__salary \u001B[38;5;241m=\u001B[39m salary\n\u001B[0;32m      8\u001B[0m \u001B[38;5;66;03m# creating object of a class\u001B[39;00m\n\u001B[1;32m----> 9\u001B[0m emp \u001B[38;5;241m=\u001B[39m \u001B[43mEmployee\u001B[49m\u001B[43m(\u001B[49m\u001B[38;5;124;43m\"\u001B[39;49m\u001B[38;5;124;43mJessa\u001B[39;49m\u001B[38;5;124;43m\"\u001B[39;49m\u001B[43m,\u001B[49m\u001B[43m \u001B[49m\u001B[38;5;241;43m10000\u001B[39;49m\u001B[43m)\u001B[49m\n\u001B[0;32m     10\u001B[0m \u001B[38;5;66;03m# Accessing private data members\u001B[39;00m\n\u001B[0;32m     11\u001B[0m \u001B[38;5;28mprint\u001B[39m(\u001B[38;5;124mf\u001B[39m\u001B[38;5;124m\"\u001B[39m\u001B[38;5;124mSalary: \u001B[39m\u001B[38;5;132;01m{\u001B[39;00memp\u001B[38;5;241m.\u001B[39msalary\u001B[38;5;132;01m}\u001B[39;00m\u001B[38;5;124m\"\u001B[39m)\n",
      "Cell \u001B[1;32mIn[8], line 5\u001B[0m, in \u001B[0;36mEmployee.__init__\u001B[1;34m(self, name, salary)\u001B[0m\n\u001B[0;32m      3\u001B[0m \u001B[38;5;28;01mdef\u001B[39;00m \u001B[38;5;21m__init__\u001B[39m(\u001B[38;5;28mself\u001B[39m, name, salary):\n\u001B[0;32m      4\u001B[0m     \u001B[38;5;66;03m# public data members\u001B[39;00m\n\u001B[1;32m----> 5\u001B[0m     \u001B[38;5;28;43mself\u001B[39;49m\u001B[38;5;241;43m.\u001B[39;49m\u001B[43mname\u001B[49m\n\u001B[0;32m      6\u001B[0m     \u001B[38;5;66;03m# private data members\u001B[39;00m\n\u001B[0;32m      7\u001B[0m     \u001B[38;5;28mself\u001B[39m\u001B[38;5;241m.\u001B[39m__salary \u001B[38;5;241m=\u001B[39m salary\n",
      "\u001B[1;31mAttributeError\u001B[0m: 'Employee' object has no attribute 'name'"
     ]
    }
   ],
   "source": [
    "class Employee:\n",
    "    # constructor\n",
    "    def __init__(self, name, salary):\n",
    "        # public data members\n",
    "        self.name\n",
    "        # private data members\n",
    "        self.__salary = salary\n",
    "# creating object of a class\n",
    "emp = Employee(\"Jessa\", 10000)\n",
    "# Accessing private data members\n",
    "print(f\"Salary: {emp.salary}\")"
   ],
   "metadata": {
    "collapsed": false,
    "ExecuteTime": {
     "end_time": "2023-07-12T16:38:18.665036700Z",
     "start_time": "2023-07-12T16:38:18.566973800Z"
    }
   }
  },
  {
   "cell_type": "markdown",
   "source": [
    "In the above example, the salary is a private variable. As you know, we can’t access the private variable from the outside of that class.\n",
    "\n",
    "We can access private members from outside of a class using the following two approaches\n",
    "\n",
    "- Create public method to access private members\n",
    "- Use name mangling\n",
    "Let’s see each one by one"
   ],
   "metadata": {
    "collapsed": false
   }
  },
  {
   "cell_type": "code",
   "execution_count": 9,
   "outputs": [
    {
     "name": "stdout",
     "output_type": "stream",
     "text": [
      "Name: Jessa Salary: 10000\n"
     ]
    }
   ],
   "source": [
    "class Employee:\n",
    "    # constructor\n",
    "    def __init__(self, name, salary):\n",
    "        # public data member\n",
    "        self.name = name\n",
    "        # private data member\n",
    "        self.__salary = salary\n",
    "    # public instance methods\n",
    "    def show(self):\n",
    "        print(f\"Name: {self.name} Salary: {self.__salary}\")\n",
    "    # Creating object of a class\n",
    "emp = Employee('Jessa', 10000)\n",
    "# calling public method of the class\n",
    "emp.show()"
   ],
   "metadata": {
    "collapsed": false,
    "ExecuteTime": {
     "end_time": "2023-07-12T16:56:05.901258Z",
     "start_time": "2023-07-12T16:56:05.791853100Z"
    }
   }
  },
  {
   "cell_type": "markdown",
   "source": [
    "Name Mangling to access private members\n",
    "We can directly access private and protected variables from outside of a class through name mangling. The name mangling is created on an identifier by adding two leading underscores and one trailing underscore, like this _classname__dataMember, where classname is the current class, and data member is the private variable name.\n",
    "\n",
    "Example: Access private member"
   ],
   "metadata": {
    "collapsed": false
   }
  },
  {
   "cell_type": "code",
   "execution_count": 11,
   "outputs": [
    {
     "name": "stdout",
     "output_type": "stream",
     "text": [
      "Name:  Jessa\n",
      "Salary:  10000\n"
     ]
    }
   ],
   "source": [
    "class Employee:\n",
    "    # constructor\n",
    "    def __init__(self, name, salary):\n",
    "        # public data member\n",
    "        self.name = name\n",
    "        # private data member\n",
    "        self.__salary = salary\n",
    "    # Creating object of a class\n",
    "emp = Employee('Jessa', 10000)\n",
    "print(\"Name: \", emp.name)\n",
    "print(\"Salary: \", emp._Employee__salary)\n"
   ],
   "metadata": {
    "collapsed": false,
    "ExecuteTime": {
     "end_time": "2023-07-12T17:04:34.372831800Z",
     "start_time": "2023-07-12T17:04:34.310314200Z"
    }
   }
  },
  {
   "cell_type": "markdown",
   "source": [
    "## Protected Member\n",
    "Protected members are accessible within the class and also available to its sub-classes. To define a protected member, prefix the member name with a single underscore _.\n",
    "\n",
    "Protected data members are used when you implement inheritance and want to allow data members access to only child classes.\n",
    "\n",
    "Example: Proctecd member in inheritance."
   ],
   "metadata": {
    "collapsed": false
   }
  },
  {
   "cell_type": "code",
   "execution_count": 12,
   "outputs": [
    {
     "name": "stdout",
     "output_type": "stream",
     "text": [
      "Employee Name: Jessa\n",
      "Working on project: NLP\n",
      "Project:  NLP\n"
     ]
    }
   ],
   "source": [
    "# Base Class\n",
    "class Company:\n",
    "    def __init__(self):\n",
    "        # protected data member\n",
    "        self._project = \"NLP\"\n",
    "# Child Class\n",
    "class Employee(Company):\n",
    "    def __init__(self, name):\n",
    "        self.name = name\n",
    "        Company.__init__(self)\n",
    "    def show(self):\n",
    "        print(f\"Employee Name: {self.name}\")\n",
    "    # Accessing protected data member in child class\n",
    "        print(f\"Working on project: {self._project}\")\n",
    "c = Employee(\"Jessa\")\n",
    "c.show()\n",
    "# Direct access protected data member\n",
    "print(\"Project: \", c._project)\n"
   ],
   "metadata": {
    "collapsed": false,
    "ExecuteTime": {
     "end_time": "2023-07-12T17:26:27.759259400Z",
     "start_time": "2023-07-12T17:26:27.649867200Z"
    }
   }
  },
  {
   "cell_type": "markdown",
   "source": [
    "## Getters and Setters in Python\n",
    "To implement proper encapsulation in Python, we need to use setters and getters. The primary purpose of using getters and setters in object-oriented programs is to ensure data encapsulation. Use the getter method to access data members and the setter methods to modify the data members.\n",
    "\n",
    "In Python, private variables are not hidden fields like in other programming languages. The getters and setters methods are often used when:\n",
    "\n",
    "\n",
    "- When we want to avoid direct access to private variables\n",
    "- To add validation logic for setting a value\n",
    "Example"
   ],
   "metadata": {
    "collapsed": false
   }
  },
  {
   "cell_type": "code",
   "execution_count": 13,
   "outputs": [
    {
     "name": "stdout",
     "output_type": "stream",
     "text": [
      "Name: Jessa Age: 14\n",
      "Name: Jessa Age: 21\n"
     ]
    }
   ],
   "source": [
    "class Student:\n",
    "    def __init__(self, name, age):\n",
    "        # private members\n",
    "        self.name = name\n",
    "        self._age = age\n",
    "    # getter method\n",
    "    def get_age(self):\n",
    "        return self._age\n",
    "    # setter method\n",
    "    def set_age(self, age):\n",
    "        self._age = age\n",
    "stud = Student(\"Jessa\", 14)\n",
    "# Retrieving age using getter method\n",
    "print(f\"Name: {stud.name} Age: {stud.get_age()}\")\n",
    "# changing age using setter method\n",
    "stud.set_age(21)\n",
    "# Retrieving age using the getter method\n",
    "print(f\"Name: {stud.name} Age: {stud.get_age()}\")"
   ],
   "metadata": {
    "collapsed": false,
    "ExecuteTime": {
     "end_time": "2023-07-12T17:57:06.423904900Z",
     "start_time": "2023-07-12T17:57:06.361414400Z"
    }
   }
  },
  {
   "cell_type": "markdown",
   "source": [
    "Let’s take another example that shows how to use encapsulation to implement information hiding and apply additional validation before changing the values of your object attributes (data member).\n",
    "\n",
    "Example: Information Hiding and conditional logic for setting an object attributes\n"
   ],
   "metadata": {
    "collapsed": false
   }
  },
  {
   "cell_type": "code",
   "execution_count": 14,
   "outputs": [
    {
     "name": "stdout",
     "output_type": "stream",
     "text": [
      "Student Details: Jessa 10\n",
      "Invalid roll no. Please set correct roll number\n",
      "Student Details: Jessa 25\n"
     ]
    }
   ],
   "source": [
    "class Student:\n",
    "    def __init__(self, name, roll_no, age):\n",
    "        #Private members\n",
    "        self.name = name\n",
    "        self.__roll_on = roll_no\n",
    "        self.__age = age\n",
    "    def show(self):\n",
    "        print(f\"Student Details: {self.name} {self.__roll_on}\")\n",
    "    # getter methods\n",
    "    def get_roll_no(self):\n",
    "        return self.__roll_on\n",
    "    # setter method to modify data members\n",
    "    #condition to allow data modification with rules\n",
    "    def set_roll_on(self, number):\n",
    "        if number > 50:\n",
    "            print('Invalid roll no. Please set correct roll number')\n",
    "        else:\n",
    "            self.__roll_on = number\n",
    "jessa = Student('Jessa', 10, 15)\n",
    "# before modify\n",
    "jessa.show()\n",
    "# changing roll number using setter\n",
    "jessa.set_roll_on(120)\n",
    "jessa.set_roll_on(25)\n",
    "jessa.show()\n"
   ],
   "metadata": {
    "collapsed": false,
    "ExecuteTime": {
     "end_time": "2023-07-12T18:27:31.304247900Z",
     "start_time": "2023-07-12T18:27:31.194843400Z"
    }
   }
  },
  {
   "cell_type": "markdown",
   "source": [
    "## Advantages of Encapsulation\n",
    "- Security: The main advantage of using encapsulation is the security of the data. Encapsulation protects an object from unauthorized access. It allows private and protected access levels to prevent accidental data modification.\n",
    "\n",
    "- Data Hiding: The user would not be knowing what is going on behind the scene. They would only be knowing that to modify a data member, call the setter method. To read a data member, call the getter method. What these setter and getter methods are doing is hidden from them.\n",
    "\n",
    "- Simplicity: It simplifies the maintenance of the application by keeping classes separated and preventing them from tightly coupling with each other.\n",
    "\n",
    "- Aesthetics: Bundling data and methods within a class makes code more readable and maintainable\n"
   ],
   "metadata": {
    "collapsed": false
   }
  },
  {
   "cell_type": "code",
   "execution_count": null,
   "outputs": [],
   "source": [],
   "metadata": {
    "collapsed": false
   }
  }
 ],
 "metadata": {
  "kernelspec": {
   "display_name": "Python 3",
   "language": "python",
   "name": "python3"
  },
  "language_info": {
   "codemirror_mode": {
    "name": "ipython",
    "version": 2
   },
   "file_extension": ".py",
   "mimetype": "text/x-python",
   "name": "python",
   "nbconvert_exporter": "python",
   "pygments_lexer": "ipython2",
   "version": "2.7.6"
  }
 },
 "nbformat": 4,
 "nbformat_minor": 0
}

{
 "cells": [
  {
   "cell_type": "markdown",
   "source": [
    "## Classes and Objects in Python\n",
    "Python is an object-oriented programming language. This means that almost all the code is implemented using a special construct called classes. A class is a code template for creating objects\n",
    "\n",
    "\n",
    "What is a Class and Objects in Python?\n",
    "- Class: The class is a user-defined data structure that binds the data members and methods into a single unit. Class is a blueprint or code template for object creation. Using a class, you can create as many objects as you want.\n",
    "- Object: An object is an instance of a class. It is a collection of attributes (variables) and methods. We use the object of a class to perform actions.\n",
    "-\n",
    "- Objects have two characteristics: They have states and behaviors (object has attributes and methods attached to it) Attributes represent its state, and methods represent its behavior. Using its methods, we can modify its state.\n",
    "In short, Every object has the following property.\n",
    "\n",
    "- Identity: Every object must be uniquely identified.\n",
    "- State: An object has an attribute that represents a state of an object, and it also reflects the property of an object.\n",
    " - Behavior: An object has methods that represent its behavior.\n",
    "Python is an Object-Oriented Programming language, so everything in Python is treated as an object. An object is a real-life entity. It is the collection of various data and functions that operate on those data.\n",
    "\n",
    "For example, If we design a class based on the states and behaviors of a Person, then States can be represented as instance variables and behaviors as class methods.\n",
    "\n"
   ],
   "metadata": {
    "collapsed": false
   }
  },
  {
   "cell_type": "markdown",
   "source": [
    "![Classes](class_and_objects.jpg)"
   ],
   "metadata": {
    "collapsed": false
   }
  },
  {
   "cell_type": "code",
   "execution_count": 63,
   "outputs": [],
   "source": [
    "# Syntax of Creating a Class\n",
    "\n",
    "class class_name:\n",
    "    \"\"\"This is a docstring. Ihave created a new class\"\"\"\n",
    "    '''\n",
    "    <statement 1>\n",
    "    <statement 1>\n",
    "    <statement 1>\n",
    "    .\n",
    "    .\n",
    "    <statement N>\n",
    "    '''"
   ],
   "metadata": {
    "collapsed": false,
    "ExecuteTime": {
     "end_time": "2023-07-11T15:53:58.217998400Z",
     "start_time": "2023-07-11T15:53:56.061922800Z"
    }
   }
  },
  {
   "cell_type": "markdown",
   "source": [
    "*class_name*: It is the name of the class\n",
    "-*Docstring*: It is the first string inside the class and has a brief description of the class. Although not mandatory, this is highly recommended.\n",
    "-*statements*: Attributes and methods"
   ],
   "metadata": {
    "collapsed": false
   }
  },
  {
   "cell_type": "markdown",
   "source": [
    "## Example: Define a class in Python\n",
    "\n",
    "In this example, we are creating a Artist Class with stage name and , song, and album instance variables."
   ],
   "metadata": {
    "collapsed": false
   }
  },
  {
   "cell_type": "code",
   "execution_count": 64,
   "outputs": [],
   "source": [
    "class Artist:\n",
    "    def __init__(self, name, song, album):\n",
    "        self.name = name\n",
    "        self.song = song\n",
    "        self.album = album\n",
    "    def show_artist(self):\n",
    "        print(f\" Artist Name : {self.name} \\n Artist Favorite Song : {self.song} \\n Album : {self.album}\")\n",
    "\n"
   ],
   "metadata": {
    "collapsed": false,
    "ExecuteTime": {
     "end_time": "2023-07-11T15:53:58.624230900Z",
     "start_time": "2023-07-11T15:53:56.186891500Z"
    }
   }
  },
  {
   "cell_type": "markdown",
   "source": [
    "In this code snippet, you define Artist using the class keyword. Inside the class, you write two methods. The .__init__() method has a special meaning in Python classes. This method is known as the object initializer because it defines and sets the initial values for your attributes.\n",
    "\n",
    "The second method of Circle is conveniently named .show_artist() and will compute display information about the artist."
   ],
   "metadata": {
    "collapsed": false
   }
  },
  {
   "cell_type": "code",
   "execution_count": 65,
   "outputs": [],
   "source": [
    "class Person:\n",
    "    def __init__(self, name, sex, profession):\n",
    "        self.name = name\n",
    "        self.sex = sex\n",
    "        self.profession = profession\n",
    "    # Behavior (Instance Method)\n",
    "    def show(self):\n",
    "        print(f\"Name : {self.name} sex : {self.sex} profession : {self.profession}\")\n",
    "    # Behavior (Instance Method)\n",
    "    def work(self):\n",
    "        print(f\"{self.name} working as {self.profession}\")\n"
   ],
   "metadata": {
    "collapsed": false,
    "ExecuteTime": {
     "end_time": "2023-07-11T15:53:58.639839200Z",
     "start_time": "2023-07-11T15:53:56.249387500Z"
    }
   }
  },
  {
   "cell_type": "markdown",
   "source": [
    "### Create Object of a Class\n",
    "\n",
    "An object is essential to work with the class attributes. The object is created using the class name. When we create an object of the class, it is called instantiation. The object is also called the instance of a class. The action of creating concrete objects from an existing class is known as instantiation. With every instantiation, you create a new object of the target class.\n",
    "\n",
    "A constructor is a special method used to create and initialize an object of a class. This method is defined in the class.\n",
    "\n",
    "In Python, Object creation is divided into two parts in Object Creation and Object initialization\n",
    "\n",
    "Internally, the __new__ is the method that creates the object\n",
    "And, using the __init__() method we can implement constructor to initialize"
   ],
   "metadata": {
    "collapsed": false
   }
  },
  {
   "cell_type": "code",
   "execution_count": 66,
   "outputs": [
    {
     "name": "stdout",
     "output_type": "stream",
     "text": [
      " Artist Name : Davido \n",
      " Artist Favorite Song : Timeless \n",
      " Album : Over Dem\n"
     ]
    }
   ],
   "source": [
    "artist1 = Artist(\"Davido\", \"Timeless\", \"Over Dem\")\n",
    "artist1.show_artist()\n"
   ],
   "metadata": {
    "collapsed": false,
    "ExecuteTime": {
     "end_time": "2023-07-11T15:53:58.639839200Z",
     "start_time": "2023-07-11T15:53:56.296258900Z"
    }
   }
  },
  {
   "cell_type": "code",
   "execution_count": 67,
   "outputs": [
    {
     "name": "stdout",
     "output_type": "stream",
     "text": [
      "Name : Tindae sex : Male profession : Programmer\n",
      "Tindae working as Programmer\n"
     ]
    }
   ],
   "source": [
    "# Below is the code to create the object of a person class\n",
    "tee = Person('Tindae', 'Male', 'Programmer')\n",
    "tee.show()\n",
    "tee.work()"
   ],
   "metadata": {
    "collapsed": false,
    "ExecuteTime": {
     "end_time": "2023-07-11T15:53:58.639839200Z",
     "start_time": "2023-07-11T15:53:56.311880800Z"
    }
   }
  },
  {
   "cell_type": "markdown",
   "source": [
    "## Understanding the Benefits of Using Classes in Python\n",
    "Is it worth using classes in Python? Absolutely! Classes are the building blocks of object-oriented programming in Python. They allow you to leverage the power of Python while writing and organizing your code. By learning about classes, you’ll be able to take advantage of all the benefits that they provide. With classes, you can:\n",
    "\n",
    "-**Model and solve complex real-world problems**: You’ll find many situations where the objects in your code map to real-world objects. This can help you think about complex problems, which will result in better solutions to your programming problems.\n",
    "\n",
    "-**Reuse code and avoid repetition**: You can define hierarchies of related classes. The base classes at the top of a hierarchy provide common functionality that you can reuse later in the subclasses down the hierarchy. This allows you to reduce code duplication and promote code reuse.\n",
    "\n",
    "-**Encapsulate related data and behaviors in a single entity**: You can use Python classes to bundle together related attributes and methods in a single entity, the object. This helps you better organize your code using modular and autonomous entities that you can even reuse across multiple projects.\n",
    "\n",
    "-**Abstract away the implementation details of concepts and objects**: You can use classes to abstract away the implementation details of core concepts and objects. This will help you provide your users with intuitive interfaces (APIs) to process complex data and behaviors.\n",
    "\n",
    "-**Unlock polymorphism with common interfaces**: You can implement a particular interface in several slightly different classes and use them interchangeably in your code. This will make your code more flexible and adaptable.\n",
    "\n",
    "In short, Python classes can help you write more organized, structured, maintainable, reusable, flexible, and user-friendly code. They’re a great tool to have under your belt. However, don’t be tempted to use classes for everything in Python. In some situations, they’ll overcomplicate your solutions."
   ],
   "metadata": {
    "collapsed": false
   }
  },
  {
   "cell_type": "markdown",
   "source": [
    "<!-- headings -->\n",
    "<a id=\"item-three\"></a>\n",
    "### Class Attributes\n",
    "\n",
    "When we design a class, we use instance variables and class variables.\n",
    "\n",
    "In Class, attributes can be defined into two parts:\n",
    "\n",
    "**Instance variables**: The instance variables are attributes attached to an instance of a class. We define instance variables in the constructor ( the __init__() method of a class).An instance is a variable that you define inside a method. Instance attributes belong to a concrete instance of a given class. Their data is only available to that instance and defines its state.\n",
    "**Class Variables**: A class variable is a variable that is declared inside of class, but outside of any instance method or __init__() method.\n",
    " A class attribute is a variable that you define in the class body directly. Class attributes belong to their containing class. Their data is common to the class and all its instances.\n",
    "\n",
    "Both types of attributes have their specific use cases. Instance attributes are, by far, the most common type of attribute that you’ll use in your day-to-day coding, but class attributes also come in handy.\n"
   ],
   "metadata": {
    "collapsed": false
   }
  },
  {
   "cell_type": "markdown",
   "source": [
    "![classes](class_attributes_in_python.jpg \"class_and_objects\")"
   ],
   "metadata": {
    "collapsed": false
   }
  },
  {
   "cell_type": "markdown",
   "source": [
    "# Objects do not share instance attributes. Instead, every object has its copy of the instance attribute and is unique to each object.\n",
    "\n",
    "All instances of a class share the class variables. However, unlike instance variables, the value of a class variable is not varied from object to object.\n",
    "\n",
    "Only one copy of the static variable will be created and shared between all objects of the class.\n",
    "\n",
    "Accessing properties and assigning values\n",
    "\n",
    "An instance attribute can be accessed or modified by using the dot notation: instance_name.attribute_name.\n",
    "A class variable is accessed or modified using the class name\n"
   ],
   "metadata": {
    "collapsed": false
   }
  },
  {
   "cell_type": "code",
   "execution_count": 68,
   "outputs": [],
   "source": [
    "# Example\n",
    "class ObjectCounter:\n",
    "    num_objects = 0\n",
    "    def __init__(self):\n",
    "        ObjectCounter.num_objects += 1\n",
    "\n",
    "\n"
   ],
   "metadata": {
    "collapsed": false,
    "ExecuteTime": {
     "end_time": "2023-07-11T15:53:58.655484500Z",
     "start_time": "2023-07-11T15:53:56.608740100Z"
    }
   }
  },
  {
   "cell_type": "code",
   "execution_count": 69,
   "outputs": [
    {
     "name": "stdout",
     "output_type": "stream",
     "text": [
      "4\n"
     ]
    }
   ],
   "source": [
    "a1 = ObjectCounter()\n",
    "a2 = ObjectCounter()\n",
    "a3 = ObjectCounter()\n",
    "a4 = ObjectCounter()\n",
    "\n",
    "tee = ObjectCounter.num_objects\n",
    "print(tee)"
   ],
   "metadata": {
    "collapsed": false,
    "ExecuteTime": {
     "end_time": "2023-07-11T15:53:58.655484500Z",
     "start_time": "2023-07-11T15:53:56.624357600Z"
    }
   }
  },
  {
   "cell_type": "markdown",
   "source": [
    "ObjectCounter keeps a .num_instances class attribute that works as a counter of instances. When Python parses this class, it initializes the counter to zero and leaves it alone. Creating instances of this class means automatically calling the .init() method and incremementing .num_instances by one.\n",
    "It’s important to note that you can access class attributes using either the class or one of its instances. That’s why you can use the counter object to retrieve the value of .num_instances. However, if you need to modify a class attribute, then you must use the class itself rather than one of its instances."
   ],
   "metadata": {
    "collapsed": false
   }
  },
  {
   "cell_type": "markdown",
   "source": [
    "## Instance Attributes\n",
    "Instance attributes are variables tied to a particular object of a given class. The value of an instance attribute is attached to the object itself. So, the attribute’s value is specific to its containing instance.\n",
    "\n",
    "Python lets you dynamically attach attributes to existing objects that you’ve already created. However, you most often define instance attributes inside instance methods, which are those methods that receive self as their first argument.\n",
    "\n",
    "Note: Even though you can define instance attributes inside any instance method, it’s best to define all of them in the .__init__() method, which is the instance initializer. This ensures that all of the attributes have the correct values when you create a new instance. Additionally, it makes the code more organized and easier to debug."
   ],
   "metadata": {
    "collapsed": false
   }
  },
  {
   "cell_type": "code",
   "execution_count": 70,
   "outputs": [],
   "source": [
    "# Consider the following Car class, which defines a bunch of instance attributes:\n",
    "class Car:\n",
    "    def __init__(self, make, model, year, color):\n",
    "        self.make = make\n",
    "        self.model = model\n",
    "        self.year = year\n",
    "        self.color = color\n",
    "        self.started = False\n",
    "        self.speed = 0\n",
    "        self.max_speed = 200\n",
    "\n",
    "\n"
   ],
   "metadata": {
    "collapsed": false,
    "ExecuteTime": {
     "end_time": "2023-07-11T15:53:58.655484500Z",
     "start_time": "2023-07-11T15:53:56.749350100Z"
    }
   }
  },
  {
   "cell_type": "markdown",
   "source": [
    "In this class, you define a total of seven instance attributes inside .__init__(). The attributes .make, .model, .year, and .color take values from the arguments to .__init__(), which are the arguments that you must pass to the class constructor, Car(), to create concrete objects.\n",
    "\n",
    "Then, you explicitly initialize the attributes .started, .speed, and .max_speed with sensible values that don’t come from the user.\n",
    "\n",
    "Note: Inside a class, you must access all instance attributes through the self argument. This argument holds a reference to the current instance, which is where the attributes belong and live. The self argument plays a fundamental role in Python classes. You’ll learn more about self in the section Instance Methods With self."
   ],
   "metadata": {
    "collapsed": false
   }
  },
  {
   "cell_type": "code",
   "execution_count": 71,
   "outputs": [],
   "source": [
    "toyota = Car(\"Toyota\", \"Camry\", 2020, \"Red\")\n"
   ],
   "metadata": {
    "collapsed": false,
    "ExecuteTime": {
     "end_time": "2023-07-11T15:53:58.686733300Z",
     "start_time": "2023-07-11T15:53:56.796221200Z"
    }
   }
  },
  {
   "cell_type": "code",
   "execution_count": 72,
   "outputs": [
    {
     "name": "stdout",
     "output_type": "stream",
     "text": [
      "Toyota\n",
      "Camry\n",
      "2020 \n",
      " Red\n",
      "0 \n",
      " 200\n"
     ]
    }
   ],
   "source": [
    "print(toyota.make)\n",
    "print(toyota.model)\n",
    "print(toyota.year, '\\n', toyota.color)\n",
    "print(toyota.speed, '\\n', toyota.max_speed)\n",
    "\n"
   ],
   "metadata": {
    "collapsed": false,
    "ExecuteTime": {
     "end_time": "2023-07-11T15:53:58.686733300Z",
     "start_time": "2023-07-11T15:53:56.811845800Z"
    }
   }
  },
  {
   "cell_type": "code",
   "execution_count": 73,
   "outputs": [],
   "source": [
    "# Example 2\n",
    "class Student:\n",
    "# Class Variable\n",
    "    university_name = \"Limkokwing University\"\n",
    "    # Define a Constructor\n",
    "    def __init__(self, name, age):\n",
    "        # Instance variables\n",
    "        self.name = name\n",
    "        self.age = age"
   ],
   "metadata": {
    "collapsed": false,
    "ExecuteTime": {
     "end_time": "2023-07-11T15:53:58.686733300Z",
     "start_time": "2023-07-11T15:53:56.843093600Z"
    }
   }
  },
  {
   "cell_type": "code",
   "execution_count": 74,
   "outputs": [
    {
     "name": "stdout",
     "output_type": "stream",
     "text": [
      "Student: Tindae Age: 26\n"
     ]
    }
   ],
   "source": [
    "student1 = Student(\"Tindae\", 26)\n",
    "print(f\"Student: {student1.name} Age: {student1.age}\")\n"
   ],
   "metadata": {
    "collapsed": false,
    "ExecuteTime": {
     "end_time": "2023-07-11T15:53:58.686733300Z",
     "start_time": "2023-07-11T15:53:56.858716500Z"
    }
   }
  },
  {
   "cell_type": "code",
   "execution_count": 75,
   "outputs": [
    {
     "data": {
      "text/plain": "'Limkokwing University'"
     },
     "execution_count": 75,
     "metadata": {},
     "output_type": "execute_result"
    }
   ],
   "source": [
    "student1.university_name"
   ],
   "metadata": {
    "collapsed": false,
    "ExecuteTime": {
     "end_time": "2023-07-11T15:53:58.702355200Z",
     "start_time": "2023-07-11T15:53:56.874339900Z"
    }
   }
  },
  {
   "cell_type": "code",
   "execution_count": 76,
   "outputs": [
    {
     "name": "stdout",
     "output_type": "stream",
     "text": [
      "Limkokwing University\n"
     ]
    }
   ],
   "source": [
    "tee = Student.university_name\n",
    "print(tee)"
   ],
   "metadata": {
    "collapsed": false,
    "ExecuteTime": {
     "end_time": "2023-07-11T15:53:58.702355200Z",
     "start_time": "2023-07-11T15:53:56.905588300Z"
    }
   }
  },
  {
   "cell_type": "markdown",
   "source": [
    "## EXERCISES\n",
    "## Pet Class\n",
    "Write a class named Pet, which should have the following data attributes:\n",
    "• _ _name (for the name of a pet)\n",
    "• _ _animal_type (for the type of animal that a pet is. Example values are ‘Dog’, ‘Cat’,\n",
    "and ‘Bird’)\n",
    "• _ _age (for the pet’s age)\n",
    "The Pet class should have an _ _init_ _ method that creates these attributes. It should also\n",
    "have the following methods:\n",
    "• set_name\n",
    "This method assigns a value to the _ _name field.\n",
    "• set_animal_type\n",
    "This method assigns a value to the _ _animal_type field.\n",
    "• set_age\n",
    "This method assigns a value to the _ _age field.\n",
    "• get_name\n",
    "This method returns the value of the _ _ name field.\n",
    "• get_animal_type\n",
    "This method returns the value of the _ _animal_type field.\n",
    "• get_age\n",
    "This method returns the value of the _ _age field.\n",
    "\n",
    "Once you have written the class, write a program that creates an object of the class and\n",
    "prompts the user to enter the name, type, and age of his or her pet. This data should be\n",
    "stored as the object’s attributes. Use the object’s accessor methods to retrieve the pet’s\n",
    "name, type, and age and display this data on the screen."
   ],
   "metadata": {
    "collapsed": false
   }
  },
  {
   "cell_type": "code",
   "execution_count": 77,
   "outputs": [],
   "source": [
    "# EXERCISE 2 PET CLASS\n",
    "class Pet:\n",
    "    def __init__(self, name, age, animal_type):\n",
    "        self.name = name\n",
    "        self.age = age\n",
    "        self.animal_type = animal_type\n",
    "    def show_details(self):\n",
    "        print(f\" Name: {self.name}\")\n",
    "        print(f\" Age: {self.age}\")\n",
    "        print(f\" Animal Type: {self.animal_type}\")\n",
    "\n"
   ],
   "metadata": {
    "collapsed": false,
    "ExecuteTime": {
     "end_time": "2023-07-11T15:53:58.702355200Z",
     "start_time": "2023-07-11T15:53:56.936836900Z"
    }
   }
  },
  {
   "cell_type": "code",
   "execution_count": 78,
   "outputs": [
    {
     "name": "stdout",
     "output_type": "stream",
     "text": [
      " Name: Bingo\n",
      " Age: 2\n",
      " Animal Type: Dog\n",
      " Name: Shamm\n",
      " Age: 3\n",
      " Animal Type: Cat\n"
     ]
    }
   ],
   "source": [
    "pet1 = Pet(\"Bingo\", 2, \"Dog\")\n",
    "pet2 = Pet(\"Shamm\", 3, \"Cat\")\n",
    "pet1.show_details()\n",
    "pet2.show_details()"
   ],
   "metadata": {
    "collapsed": false,
    "ExecuteTime": {
     "end_time": "2023-07-11T15:53:58.717980300Z",
     "start_time": "2023-07-11T15:53:56.968084200Z"
    }
   }
  },
  {
   "cell_type": "markdown",
   "source": [
    "## Employee Class\n",
    "\n",
    "Write a class named Employee that holds the following data about an employee in attributes: name, ID number, department, and job title.\n",
    "Once you have written the class, write a program that creates three Employee objects to\n",
    "hold the following data:\n",
    "\n",
    "Name ID Number Department Job Title\n",
    "Susan Meyers  47899 Accounting Vice President\n",
    "\n",
    "Mark Jones 39119 IT Programmer\n",
    "\n",
    "Joy Rogers 81774 Manufacturing Engineer\n",
    "\n",
    "\n",
    "The program should store this data in the three objects, then display the data for each\n",
    "employee on the screen"
   ],
   "metadata": {
    "collapsed": false
   }
  },
  {
   "cell_type": "code",
   "execution_count": 79,
   "outputs": [],
   "source": [
    "class Employee:\n",
    "    def __init__(self, name, ID_number, department, job_title):\n",
    "        self.name = name\n",
    "        self.ID_number = ID_number\n",
    "        self.department = department\n",
    "        self.job_title = job_title\n",
    "    def employee_details(self):\n",
    "        print(f\" Employee Name: {self.name}\")\n",
    "        print(f\" ID Number: {self.ID_number}\")\n",
    "        print(f\" Department: {self.department}\")\n",
    "        print(f\" Job title: {self.job_title}\")\n",
    "\n"
   ],
   "metadata": {
    "collapsed": false,
    "ExecuteTime": {
     "end_time": "2023-07-11T15:53:58.717980300Z",
     "start_time": "2023-07-11T15:53:57.030581500Z"
    }
   }
  },
  {
   "cell_type": "code",
   "execution_count": 80,
   "outputs": [
    {
     "name": "stdout",
     "output_type": "stream",
     "text": [
      " Employee Name: Joy Rogers\n",
      " ID Number: 81774\n",
      " Department: Manufacturing\n",
      " Job title: Engineer\n",
      " Employee Name: Mark Jones\n",
      " ID Number: 39119\n",
      " Department: IT\n",
      " Job title: Programmer\n"
     ]
    }
   ],
   "source": [
    "emp1 = Employee(\"Susan Meyers\", 47899, \"Accounting\", \"Vice President\")\n",
    "emp2 = Employee(\"Mark Jones\", 39119, \"IT\", \"Programmer\")\n",
    "emp3 = Employee(\"Joy Rogers\", 81774, \"Manufacturing\", \"Engineer\")\n",
    "emp3.employee_details()\n",
    "emp2.employee_details()"
   ],
   "metadata": {
    "collapsed": false,
    "ExecuteTime": {
     "end_time": "2023-07-11T15:53:58.717980300Z",
     "start_time": "2023-07-11T15:53:57.046203700Z"
    }
   }
  },
  {
   "cell_type": "code",
   "execution_count": 80,
   "outputs": [],
   "source": [],
   "metadata": {
    "collapsed": false,
    "ExecuteTime": {
     "end_time": "2023-07-11T15:53:58.717980300Z",
     "start_time": "2023-07-11T15:53:57.077450900Z"
    }
   }
  },
  {
   "cell_type": "markdown",
   "source": [
    "### Class Methods\n",
    "In Object-oriented programming, Inside a Class, we can define the following three types of methods.\n",
    "\n",
    "-**Instance method:** Used to access or modify the object state. If we use instance variables inside a method, such methods are called instance methods.\n",
    "Instance methods are defined within a class and are meant to be called on instances (objects) of that class. They can access and modify the instance's attributes. Here's an example:\n",
    "\n"
   ],
   "metadata": {
    "collapsed": false
   }
  },
  {
   "cell_type": "code",
   "execution_count": 81,
   "outputs": [
    {
     "name": "stdout",
     "output_type": "stream",
     "text": [
      "78.5\n"
     ]
    }
   ],
   "source": [
    "class Circle:\n",
    "    def __init__(self, radius):\n",
    "        self.radius = radius\n",
    "    def calculate_area(self):\n",
    "        return 3.14 * (self.radius ** 2)\n",
    "# Creating an Instance and calling an instance method\n",
    "\n",
    "circle = Circle(5)\n",
    "area = circle.calculate_area()\n",
    "print(area)"
   ],
   "metadata": {
    "collapsed": false,
    "ExecuteTime": {
     "end_time": "2023-07-11T15:53:58.717980300Z",
     "start_time": "2023-07-11T15:53:57.108700300Z"
    }
   }
  },
  {
   "cell_type": "markdown",
   "source": [
    "-**Class method:** Used to access or modify the class state. In method implementation, if we use only class variables, then such type of methods we should declare as a class method.\n",
    "-**Static method:** It is a general utility method that performs a task in isolation. Inside this method, we don’t use instance or class variable because this static method doesn’t have access to the class attributes.\n"
   ],
   "metadata": {
    "collapsed": false
   }
  },
  {
   "cell_type": "markdown",
   "source": [
    "Instance methods work on the instance level (object level). For example, if we have two objects created from the student class, They may have different names, marks, roll numbers, etc. Using instance methods, we can access and modify the instance variables.\n",
    "\n",
    "A class method is bound to the class and not the object of the class. It can access only class variables.\n",
    "\n",
    "\n",
    "\n",
    "Example: Define and call an instance method and class method"
   ],
   "metadata": {
    "collapsed": false
   }
  },
  {
   "cell_type": "code",
   "execution_count": 82,
   "outputs": [],
   "source": [
    "#  Class Method Demo\n",
    "class Student:\n",
    "    #Class Variable\n",
    "    uni_name = \"Limkokwing University\"\n",
    "    # Constructor\n",
    "    def __init__(self, name, age):\n",
    "        #Instance Variables\n",
    "        self.name = name\n",
    "        self.age = age\n",
    "    # Instance method\n",
    "    def show(self):\n",
    "    # Access instance variable and class variable\n",
    "        print('Student: ', self.name, Student.uni_name)\n",
    "        # Instance method\n",
    "    def change_age(self, new_age):\n",
    "        self.age = new_age\n",
    "    def get_name(self):\n",
    "        return self.name\n",
    "    # class method\n",
    "    @classmethod\n",
    "    def modify_uni_name(cls, new_uni_name):\n",
    "        cls.uni_name = new_uni_name\n"
   ],
   "metadata": {
    "collapsed": false,
    "ExecuteTime": {
     "end_time": "2023-07-11T15:53:58.733605900Z",
     "start_time": "2023-07-11T15:53:57.264938600Z"
    }
   }
  },
  {
   "cell_type": "code",
   "execution_count": 83,
   "outputs": [
    {
     "name": "stdout",
     "output_type": "stream",
     "text": [
      "Student:  Lavo Limkokwing University\n",
      "Student:  Lavo LUCT\n"
     ]
    }
   ],
   "source": [
    "s1 = Student(\"Lavo\", 38)\n",
    "# call instance method\n",
    "s1.show()\n",
    "s1.change_age(45)\n",
    "# call class method\n",
    "Student.modify_uni_name(\"LUCT\")\n",
    "# call instance method\n",
    "s1.show()"
   ],
   "metadata": {
    "collapsed": false,
    "ExecuteTime": {
     "end_time": "2023-07-11T15:53:58.733605900Z",
     "start_time": "2023-07-11T15:53:57.296186Z"
    }
   }
  },
  {
   "cell_type": "markdown",
   "source": [
    "Instance methods work on the instance level (object level). For example, if we have two objects created from the student class, They may have different names, marks, roll numbers, etc. Using instance methods, we can access and modify the instance variables.\n",
    "\n",
    "A class method is bound to the class and not the object of the class. It can access only class variables."
   ],
   "metadata": {
    "collapsed": false
   }
  },
  {
   "cell_type": "markdown",
   "source": [
    "## Class Naming Convention\n",
    "\n",
    "Naming conventions are essential in any programming language for better readability. If we give a sensible name, it will save our time and energy later. Writing readable code is one of the guiding principles of the Python language.\n",
    "\n",
    "We should follow specific rules while we are deciding a name for the class in Python.\n",
    "\n",
    "Rule-1: Class names should follow the UpperCaseCamelCase convention\n",
    "Rule-2: Exception classes should end in “Error“.\n",
    "Rule-3: If a class is callable (Calling the class from somewhere), in that case, we can give a class name like a function.\n",
    "Rule-4: Python’s built-in classes are typically lowercase words"
   ],
   "metadata": {
    "collapsed": false
   }
  },
  {
   "cell_type": "markdown",
   "source": [
    "## pass Statement in Class\n",
    "In Python, the pass is a null statement. Therefore, nothing happens when the pass statement is executed.\n",
    "\n",
    "The pass statement is used to have an empty block in a code because the empty code is not allowed in loops, function definition, class definition. Thus, the pass statement will results in no operation (NOP). Generally, we use it as a placeholder when we do not know what code to write or add code in a future release."
   ],
   "metadata": {
    "collapsed": false
   }
  },
  {
   "cell_type": "markdown",
   "source": [
    "For example, suppose we have a class that is not implemented yet, but we want to implement it in the future, and they cannot have an empty body because the interpreter gives an error. So use the pass statement to construct a body that does nothing.\n",
    "\n",
    "Example"
   ],
   "metadata": {
    "collapsed": false
   }
  },
  {
   "cell_type": "code",
   "execution_count": 84,
   "outputs": [],
   "source": [
    "class Demo:\n",
    "    pass"
   ],
   "metadata": {
    "collapsed": false,
    "ExecuteTime": {
     "end_time": "2023-07-11T15:53:58.733605900Z",
     "start_time": "2023-07-11T15:53:57.639910900Z"
    }
   }
  },
  {
   "cell_type": "markdown",
   "source": [
    "In the above example, we defined class without a body. To avoid errors while executing it, we added the pass statement in the class body."
   ],
   "metadata": {
    "collapsed": false
   }
  },
  {
   "cell_type": "markdown",
   "source": [
    "## Object Properties\n",
    "Every object has properties with it. In other words, we can say that object property is an association between name and value."
   ],
   "metadata": {
    "collapsed": false
   }
  },
  {
   "cell_type": "markdown",
   "source": [
    "For example, a car is an object, and its properties are car color, sunroof, price, manufacture, model, engine, and so on. Here, color is the name and red is the value. Object properties are nothing but instance variables."
   ],
   "metadata": {
    "collapsed": false
   }
  },
  {
   "cell_type": "markdown",
   "source": [
    "![Classes](object_properties.webp)"
   ],
   "metadata": {
    "collapsed": false
   }
  },
  {
   "cell_type": "markdown",
   "source": [
    "## Modify Object Properties\n",
    "Every object has properties associated with them. We can set or modify the object’s properties after object initialization by calling the property directly using the dot operator.\n",
    "\n",
    "\n",
    "Obj.PROPERTY = value"
   ],
   "metadata": {
    "collapsed": false
   }
  },
  {
   "cell_type": "code",
   "execution_count": 85,
   "outputs": [
    {
     "name": "stdout",
     "output_type": "stream",
     "text": [
      "Fruit is Strawberry and color is red\n"
     ]
    }
   ],
   "source": [
    "# Example\n",
    "class Fruit:\n",
    "    def __init__(self, name, color):\n",
    "        self.name = name\n",
    "        self.color = color\n",
    "    def show(self):\n",
    "        print(\"Fruit is\", self.name,\"and color is\", self.color)\n",
    "# Creating object of the class\n",
    "obj = Fruit(\"Apple\", \"red\")\n",
    "# Modifying object properties\n",
    "obj.name = \"Strawberry\"\n",
    "\n",
    "# calling the instance method using the obj\n",
    "\n",
    "obj.show()"
   ],
   "metadata": {
    "collapsed": false,
    "ExecuteTime": {
     "end_time": "2023-07-11T15:53:58.749207900Z",
     "start_time": "2023-07-11T15:53:57.889893300Z"
    }
   }
  },
  {
   "cell_type": "markdown",
   "source": [
    "## Delete object properties\n"
   ],
   "metadata": {
    "collapsed": false
   }
  },
  {
   "cell_type": "markdown",
   "source": [
    "We can delete the object property by using the del keyword. After deleting it, if we try to access it, we will get an error."
   ],
   "metadata": {
    "collapsed": false
   }
  },
  {
   "cell_type": "code",
   "execution_count": 86,
   "outputs": [
    {
     "ename": "AttributeError",
     "evalue": "'Fruit' object has no attribute 'name'",
     "output_type": "error",
     "traceback": [
      "\u001B[1;31m---------------------------------------------------------------------------\u001B[0m",
      "\u001B[1;31mAttributeError\u001B[0m                            Traceback (most recent call last)",
      "Cell \u001B[1;32mIn[86], line 14\u001B[0m\n\u001B[0;32m     10\u001B[0m \u001B[38;5;28;01mdel\u001B[39;00m obj\u001B[38;5;241m.\u001B[39mname\n\u001B[0;32m     12\u001B[0m \u001B[38;5;66;03m# calling the instance method using the obj\u001B[39;00m\n\u001B[1;32m---> 14\u001B[0m \u001B[43mobj\u001B[49m\u001B[38;5;241;43m.\u001B[39;49m\u001B[43mshow\u001B[49m\u001B[43m(\u001B[49m\u001B[43m)\u001B[49m\n",
      "Cell \u001B[1;32mIn[86], line 6\u001B[0m, in \u001B[0;36mFruit.show\u001B[1;34m(self)\u001B[0m\n\u001B[0;32m      5\u001B[0m \u001B[38;5;28;01mdef\u001B[39;00m \u001B[38;5;21mshow\u001B[39m(\u001B[38;5;28mself\u001B[39m):\n\u001B[1;32m----> 6\u001B[0m     \u001B[38;5;28mprint\u001B[39m(\u001B[38;5;124m\"\u001B[39m\u001B[38;5;124mFruit is\u001B[39m\u001B[38;5;124m\"\u001B[39m, \u001B[38;5;28;43mself\u001B[39;49m\u001B[38;5;241;43m.\u001B[39;49m\u001B[43mname\u001B[49m,\u001B[38;5;124m\"\u001B[39m\u001B[38;5;124mand color is\u001B[39m\u001B[38;5;124m\"\u001B[39m, \u001B[38;5;28mself\u001B[39m\u001B[38;5;241m.\u001B[39mcolor)\n",
      "\u001B[1;31mAttributeError\u001B[0m: 'Fruit' object has no attribute 'name'"
     ]
    }
   ],
   "source": [
    "class Fruit:\n",
    "    def __init__(self, name, color):\n",
    "        self.name = name\n",
    "        self.color = color\n",
    "    def show(self):\n",
    "        print(\"Fruit is\", self.name,\"and color is\", self.color)\n",
    "# Creating object of the class\n",
    "obj = Fruit(\"Apple\", \"red\")\n",
    "# deleting object properties\n",
    "del obj.name\n",
    "\n",
    "# calling the instance method using the obj\n",
    "\n",
    "obj.show()"
   ],
   "metadata": {
    "collapsed": false,
    "ExecuteTime": {
     "end_time": "2023-07-11T15:53:58.749207900Z",
     "start_time": "2023-07-11T15:53:57.999260Z"
    }
   }
  },
  {
   "cell_type": "markdown",
   "source": [
    "In the above example, As we can see, the attribute name has been deleted when we try to print or access that attribute gets an error message."
   ],
   "metadata": {
    "collapsed": false
   }
  },
  {
   "cell_type": "markdown",
   "source": [
    "## Delete Objects\n",
    "In Python, we can also delete the object by using a del keyword. An object can be anything like, class object, list, tuple, set, etc.\n",
    "\n"
   ],
   "metadata": {
    "collapsed": false
   }
  },
  {
   "cell_type": "code",
   "execution_count": 87,
   "outputs": [
    {
     "ename": "NameError",
     "evalue": "name 'object_name' is not defined",
     "output_type": "error",
     "traceback": [
      "\u001B[1;31m---------------------------------------------------------------------------\u001B[0m",
      "\u001B[1;31mNameError\u001B[0m                                 Traceback (most recent call last)",
      "Cell \u001B[1;32mIn[87], line 1\u001B[0m\n\u001B[1;32m----> 1\u001B[0m \u001B[38;5;28;01mdel\u001B[39;00m object_name\n",
      "\u001B[1;31mNameError\u001B[0m: name 'object_name' is not defined"
     ]
    }
   ],
   "source": [
    "del object_name"
   ],
   "metadata": {
    "collapsed": false,
    "ExecuteTime": {
     "start_time": "2023-07-11T15:53:58.124251700Z"
    }
   }
  },
  {
   "cell_type": "code",
   "execution_count": null,
   "outputs": [],
   "source": [
    "class Employee:\n",
    "    department = \"IT\"\n",
    "    def show(self):\n",
    "        print(\"Department is \", self.department)\n",
    "emp = Employee()\n",
    "emp.show()\n",
    "# delete object\n",
    "del emp\n",
    "# Accessing after delete object\n",
    "emp.show()\n"
   ],
   "metadata": {
    "collapsed": false,
    "ExecuteTime": {
     "start_time": "2023-07-11T15:53:58.155498300Z"
    }
   }
  },
  {
   "cell_type": "markdown",
   "source": [
    "In the above example, we create the object emp of the class Employee. After that, using the del keyword, we deleted that object."
   ],
   "metadata": {
    "collapsed": false
   }
  },
  {
   "cell_type": "code",
   "execution_count": 87,
   "outputs": [],
   "source": [],
   "metadata": {
    "collapsed": false,
    "ExecuteTime": {
     "end_time": "2023-07-11T15:53:58.780455400Z",
     "start_time": "2023-07-11T15:53:58.171125Z"
    }
   }
  }
 ],
 "metadata": {
  "kernelspec": {
   "display_name": "Python 3",
   "language": "python",
   "name": "python3"
  },
  "language_info": {
   "codemirror_mode": {
    "name": "ipython",
    "version": 2
   },
   "file_extension": ".py",
   "mimetype": "text/x-python",
   "name": "python",
   "nbconvert_exporter": "python",
   "pygments_lexer": "ipython2",
   "version": "2.7.6"
  }
 },
 "nbformat": 4,
 "nbformat_minor": 0
}

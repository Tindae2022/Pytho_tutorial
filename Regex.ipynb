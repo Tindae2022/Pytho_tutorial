{
 "cells": [
  {
   "cell_type": "code",
   "execution_count": 77,
   "metadata": {
    "collapsed": true,
    "ExecuteTime": {
     "end_time": "2023-09-04T15:50:25.232219600Z",
     "start_time": "2023-09-04T15:50:24.271770900Z"
    }
   },
   "outputs": [
    {
     "name": "stdout",
     "output_type": "stream",
     "text": [
      "Match Found\n"
     ]
    }
   ],
   "source": [
    "import re\n",
    "s = 'Foo123bar'\n",
    "result = re.search('Foo', s)\n",
    "if result:\n",
    "    print('Match Found')\n",
    "else:\n",
    "    print('Not Found')\n"
   ]
  },
  {
   "cell_type": "code",
   "execution_count": 78,
   "outputs": [
    {
     "data": {
      "text/plain": "<re.Match object; span=(3, 6), match='123'>"
     },
     "execution_count": 78,
     "metadata": {},
     "output_type": "execute_result"
    }
   ],
   "source": [
    "s = 'foo123bar'\n",
    "re.search('[0-9][0-9][0-9]', s)"
   ],
   "metadata": {
    "collapsed": false,
    "ExecuteTime": {
     "end_time": "2023-09-04T15:50:25.270194600Z",
     "start_time": "2023-09-04T15:50:24.300755100Z"
    }
   }
  },
  {
   "cell_type": "code",
   "execution_count": 79,
   "outputs": [
    {
     "name": "stdout",
     "output_type": "stream",
     "text": [
      "<re.Match object; span=(3, 6), match='456'>\n",
      "<re.Match object; span=(0, 3), match='234'>\n",
      "<re.Match object; span=(3, 6), match='678'>\n",
      "None\n"
     ]
    }
   ],
   "source": [
    "r1 = re.search('[0-9][0-9][0-9]', 'foo456bar')\n",
    "r2 = re.search('[0-9][0-9][0-9]', '234bar')\n",
    "r3 = re.search('[0-9][0-9][0-9]', 'qux678')\n",
    "r4 = re.search('[0-9][0-9][0-9]', '12foo34')\n",
    "\n",
    "print(r1)\n",
    "print(r2)\n",
    "print(r3)\n",
    "print(r4)"
   ],
   "metadata": {
    "collapsed": false,
    "ExecuteTime": {
     "end_time": "2023-09-04T15:50:25.271194400Z",
     "start_time": "2023-09-04T15:50:24.323741100Z"
    }
   }
  },
  {
   "cell_type": "code",
   "execution_count": 80,
   "outputs": [
    {
     "name": "stdout",
     "output_type": "stream",
     "text": [
      "<re.Match object; span=(3, 6), match='123'>\n",
      "None\n"
     ]
    }
   ],
   "source": [
    "s = 'foo123bar'\n",
    "print(re.search('1.3', s))\n",
    "s = 'foo13bar'\n",
    "print(re.search('1.3', s))"
   ],
   "metadata": {
    "collapsed": false,
    "ExecuteTime": {
     "end_time": "2023-09-04T15:50:25.272195600Z",
     "start_time": "2023-09-04T15:50:24.340730600Z"
    }
   }
  },
  {
   "cell_type": "code",
   "execution_count": 81,
   "outputs": [
    {
     "name": "stdout",
     "output_type": "stream",
     "text": [
      "<re.Match object; span=(3, 6), match='bar'> <re.Match object; span=(3, 6), match='baz'>\n"
     ]
    }
   ],
   "source": [
    "result1 = re.search('ba[artz]', 'foobarqux')\n",
    "result2 = re.search('ba[artz]', 'foobazqux')\n",
    "print(result1, result2)\n",
    "\n"
   ],
   "metadata": {
    "collapsed": false,
    "ExecuteTime": {
     "end_time": "2023-09-04T15:50:25.274192300Z",
     "start_time": "2023-09-04T15:50:24.361719300Z"
    }
   }
  },
  {
   "cell_type": "code",
   "execution_count": 82,
   "outputs": [
    {
     "name": "stdout",
     "output_type": "stream",
     "text": [
      "<re.Match object; span=(5, 6), match='f'>\n",
      "<re.Match object; span=(3, 4), match='^'>\n",
      "<re.Match object; span=(3, 4), match='-'>\n",
      "<re.Match object; span=(3, 4), match='-'>\n",
      "<re.Match object; span=(3, 4), match='-'>\n",
      "<re.Match object; span=(5, 6), match=']'>\n",
      "<re.Match object; span=(5, 6), match=']'>\n",
      "<re.Match object; span=(3, 4), match='*'>\n",
      "<re.Match object; span=(3, 4), match='+'>\n"
     ]
    }
   ],
   "source": [
    "print(re.search('[^0-9]', '12345foo'))\n",
    "print(re.search('[#:^]', 'foo^bar:baz#qux'))\n",
    "print(re.search('[-abc]', '123-456'))\n",
    "print(re.search('[abc-]', '123-456'))\n",
    "print(re.search('[ab\\-c]', '123-456'))\n",
    "print(re.search('[]]', 'foo[1]'))\n",
    "print(re.search('[ab\\]cd]', 'foo[1]'))\n",
    "print(re.search('[)*+|]', '123*456'))\n",
    "print(re.search('[)*+|]', '123+456'))"
   ],
   "metadata": {
    "collapsed": false,
    "ExecuteTime": {
     "end_time": "2023-09-04T15:50:25.275192700Z",
     "start_time": "2023-09-04T15:50:24.371714200Z"
    }
   }
  },
  {
   "cell_type": "code",
   "execution_count": 83,
   "outputs": [
    {
     "name": "stdout",
     "output_type": "stream",
     "text": [
      "<re.Match object; span=(0, 7), match='fooxbar'>\n",
      "None\n",
      "None\n"
     ]
    }
   ],
   "source": [
    "print(re.search('foo.bar', 'fooxbar'))\n",
    "\n",
    "print(re.search('foo.bar', 'foobar'))\n",
    "print(re.search('foo.bar', 'foo\\nbar'))"
   ],
   "metadata": {
    "collapsed": false,
    "ExecuteTime": {
     "end_time": "2023-09-04T15:50:25.388128200Z",
     "start_time": "2023-09-04T15:50:24.387704500Z"
    }
   }
  },
  {
   "cell_type": "markdown",
   "source": [
    "```\n",
    "\\w matches any alphanumeric word character.\n",
    "Word characters are uppercase and lowercase letters, digits, and the underscore (_) character,\n",
    "so \\w is essentially shorthand for [a-zA-Z0-9_]:\n",
    "```"
   ],
   "metadata": {
    "collapsed": false
   }
  },
  {
   "cell_type": "code",
   "execution_count": 84,
   "outputs": [
    {
     "name": "stdout",
     "output_type": "stream",
     "text": [
      "<re.Match object; span=(3, 4), match='a'>\n",
      "<re.Match object; span=(3, 4), match='a'>\n"
     ]
    }
   ],
   "source": [
    "print(re.search('\\w', '#(.a$@&'))\n",
    "print(re.search('[a-zA-Z0-9_]', '#(.a$@&'))"
   ],
   "metadata": {
    "collapsed": false,
    "ExecuteTime": {
     "end_time": "2023-09-04T15:50:25.513054600Z",
     "start_time": "2023-09-04T15:50:24.420684800Z"
    }
   }
  },
  {
   "cell_type": "code",
   "execution_count": 85,
   "outputs": [
    {
     "name": "stdout",
     "output_type": "stream",
     "text": [
      "<re.Match object; span=(3, 4), match='*'>\n",
      "<re.Match object; span=(3, 4), match='*'>\n"
     ]
    }
   ],
   "source": [
    "print(re.search('\\W', 'a_1*3Qb'))\n",
    "print(re.search('[^a-zA-Z0-9_]', 'a_1*3Qb'))"
   ],
   "metadata": {
    "collapsed": false,
    "ExecuteTime": {
     "end_time": "2023-09-04T15:50:25.513054600Z",
     "start_time": "2023-09-04T15:50:24.438674800Z"
    }
   }
  },
  {
   "cell_type": "code",
   "execution_count": 86,
   "outputs": [
    {
     "name": "stdout",
     "output_type": "stream",
     "text": [
      "<re.Match object; span=(3, 4), match='4'>\n",
      "<re.Match object; span=(3, 4), match='Q'>\n"
     ]
    }
   ],
   "source": [
    "print(re.search('\\d', 'abc4def'))\n",
    "print(re.search('\\D', '234Q678'))"
   ],
   "metadata": {
    "collapsed": false,
    "ExecuteTime": {
     "end_time": "2023-09-04T15:50:25.513054600Z",
     "start_time": "2023-09-04T15:50:24.451666600Z"
    }
   }
  },
  {
   "cell_type": "code",
   "execution_count": 87,
   "outputs": [
    {
     "name": "stdout",
     "output_type": "stream",
     "text": [
      "<re.Match object; span=(3, 4), match='\\n'>\n"
     ]
    }
   ],
   "source": [
    "print(re.search('\\s', 'foo\\nbar baz'))"
   ],
   "metadata": {
    "collapsed": false,
    "ExecuteTime": {
     "end_time": "2023-09-04T15:50:25.514056800Z",
     "start_time": "2023-09-04T15:50:24.467657Z"
    }
   }
  },
  {
   "cell_type": "code",
   "execution_count": 88,
   "outputs": [
    {
     "name": "stdout",
     "output_type": "stream",
     "text": [
      "<re.Match object; span=(4, 5), match='f'>\n"
     ]
    }
   ],
   "source": [
    "print(re.search('\\S', '  \\n foo  \\n  '))"
   ],
   "metadata": {
    "collapsed": false,
    "ExecuteTime": {
     "end_time": "2023-09-04T15:50:25.514056800Z",
     "start_time": "2023-09-04T15:50:24.486647800Z"
    }
   }
  },
  {
   "cell_type": "code",
   "execution_count": 89,
   "outputs": [
    {
     "name": "stdout",
     "output_type": "stream",
     "text": [
      "<re.Match object; span=(3, 4), match='3'>\n",
      "<re.Match object; span=(3, 4), match='a'>\n",
      "<re.Match object; span=(3, 4), match=' '>\n"
     ]
    }
   ],
   "source": [
    "print(re.search('[\\d\\w\\s]', '---3---'))\n",
    "print(re.search('[\\d\\w\\s]', '---a---'))\n",
    "print(re.search('[\\d\\w\\s]', '--- ---'))\n"
   ],
   "metadata": {
    "collapsed": false,
    "ExecuteTime": {
     "end_time": "2023-09-04T15:50:25.786147600Z",
     "start_time": "2023-09-04T15:50:24.501639200Z"
    }
   }
  },
  {
   "cell_type": "code",
   "execution_count": 90,
   "outputs": [
    {
     "name": "stdout",
     "output_type": "stream",
     "text": [
      "<re.Match object; span=(0, 1), match='f'>\n",
      "<re.Match object; span=(3, 4), match='.'>\n"
     ]
    }
   ],
   "source": [
    "print(re.search('.', 'foo.bar'))\n",
    "print(re.search('\\.', 'foo.bar'))"
   ],
   "metadata": {
    "collapsed": false,
    "ExecuteTime": {
     "end_time": "2023-09-04T15:50:25.788146800Z",
     "start_time": "2023-09-04T15:50:24.543614100Z"
    }
   }
  },
  {
   "cell_type": "code",
   "execution_count": 91,
   "outputs": [
    {
     "name": "stdout",
     "output_type": "stream",
     "text": [
      "foo\\bar\n"
     ]
    }
   ],
   "source": [
    "s = r'foo\\bar'\n",
    "print(s)"
   ],
   "metadata": {
    "collapsed": false,
    "ExecuteTime": {
     "end_time": "2023-09-04T15:50:25.788146800Z",
     "start_time": "2023-09-04T15:50:24.569599500Z"
    }
   }
  },
  {
   "cell_type": "code",
   "execution_count": 92,
   "outputs": [
    {
     "name": "stdout",
     "output_type": "stream",
     "text": [
      "<re.Match object; span=(0, 3), match='foo'>\n",
      "None\n"
     ]
    }
   ],
   "source": [
    "print(re.search('^foo', 'foobar'))\n",
    "print(re.search('^foo', 'barfoo'))"
   ],
   "metadata": {
    "collapsed": false,
    "ExecuteTime": {
     "end_time": "2023-09-04T15:50:25.789147200Z",
     "start_time": "2023-09-04T15:50:24.602580Z"
    }
   }
  },
  {
   "cell_type": "code",
   "execution_count": 93,
   "outputs": [
    {
     "name": "stdout",
     "output_type": "stream",
     "text": [
      "<re.Match object; span=(0, 3), match='foo'>\n",
      "None\n"
     ]
    }
   ],
   "source": [
    "print(re.search('\\Afoo', 'foobar'))\n",
    "print(re.search('\\Afoo', 'barfoo'))\n"
   ],
   "metadata": {
    "collapsed": false,
    "ExecuteTime": {
     "end_time": "2023-09-04T15:50:25.790146300Z",
     "start_time": "2023-09-04T15:50:24.614573800Z"
    }
   }
  },
  {
   "cell_type": "code",
   "execution_count": 94,
   "outputs": [
    {
     "name": "stdout",
     "output_type": "stream",
     "text": [
      "<re.Match object; span=(3, 6), match='bar'>\n",
      "None\n",
      "<re.Match object; span=(3, 6), match='bar'>\n",
      "None\n",
      "<re.Match object; span=(3, 6), match='bar'>\n"
     ]
    }
   ],
   "source": [
    "print(re.search('bar$', 'foobar'))\n",
    "print(re.search('bar$', 'barfoo'))\n",
    "print(re.search('bar\\Z', 'foobar'))\n",
    "print(re.search('bar\\Z', 'barfoo'))\n",
    "print(re.search('bar$', 'foobar\\n'))"
   ],
   "metadata": {
    "collapsed": false,
    "ExecuteTime": {
     "end_time": "2023-09-04T15:50:25.790146300Z",
     "start_time": "2023-09-04T15:50:24.648553900Z"
    }
   }
  },
  {
   "cell_type": "code",
   "execution_count": 95,
   "outputs": [
    {
     "name": "stdout",
     "output_type": "stream",
     "text": [
      "<re.Match object; span=(4, 7), match='bar'>\n",
      "<re.Match object; span=(4, 7), match='bar'>\n",
      "None\n",
      "<re.Match object; span=(0, 3), match='foo'>\n",
      "<re.Match object; span=(0, 3), match='foo'>\n",
      "None\n"
     ]
    }
   ],
   "source": [
    "print(re.search(r'\\bbar', 'foo bar'))\n",
    "print(re.search(r'\\bbar', 'foo.bar'))\n",
    "print(re.search(r'\\bbar', 'foobar'))\n",
    "print(re.search(r'foo\\b', 'foo bar'))\n",
    "print(re.search(r'foo\\b', 'foo.bar'))\n",
    "print(re.search(r'foo\\b', 'foobar'))"
   ],
   "metadata": {
    "collapsed": false,
    "ExecuteTime": {
     "end_time": "2023-09-04T15:50:25.791146600Z",
     "start_time": "2023-09-04T15:50:24.679535Z"
    }
   }
  },
  {
   "cell_type": "code",
   "execution_count": 96,
   "outputs": [
    {
     "name": "stdout",
     "output_type": "stream",
     "text": [
      "<re.Match object; span=(4, 7), match='bar'>\n",
      "<re.Match object; span=(4, 7), match='bar'>\n",
      "None\n"
     ]
    }
   ],
   "source": [
    "print(re.search(r'\\bbar\\b', 'foo bar baz'))\n",
    "print(re.search(r'\\bbar\\b', 'foo(bar)baz'))\n",
    "print(re.search(r'\\bbar\\b', 'foobarbaz'))\n"
   ],
   "metadata": {
    "collapsed": false,
    "ExecuteTime": {
     "end_time": "2023-09-04T15:50:25.791146600Z",
     "start_time": "2023-09-04T15:50:24.710518100Z"
    }
   }
  },
  {
   "cell_type": "code",
   "execution_count": 97,
   "outputs": [
    {
     "name": "stdout",
     "output_type": "stream",
     "text": [
      "None\n",
      "None\n",
      "<re.Match object; span=(3, 6), match='foo'>\n"
     ]
    }
   ],
   "source": [
    "print(re.search(r'\\Bfoo\\B', 'foo'))\n",
    "print(re.search(r'\\Bfoo\\B', '.foo.'))\n",
    "print(re.search(r'\\Bfoo\\B', 'barfoobaz'))"
   ],
   "metadata": {
    "collapsed": false,
    "ExecuteTime": {
     "end_time": "2023-09-04T15:50:25.795142Z",
     "start_time": "2023-09-04T15:50:24.723511Z"
    }
   }
  },
  {
   "cell_type": "code",
   "execution_count": 98,
   "outputs": [
    {
     "name": "stdout",
     "output_type": "stream",
     "text": [
      "<re.Match object; span=(0, 6), match='foobar'>\n",
      "<re.Match object; span=(0, 7), match='foo-bar'>\n",
      "<re.Match object; span=(0, 8), match='foo--bar'>\n"
     ]
    }
   ],
   "source": [
    "print(re.search('foo-*bar', 'foobar'))                  # Zero dashes\n",
    "print(re.search('foo-*bar', 'foo-bar'))                    # One dash\n",
    "print(re.search('foo-*bar', 'foo--bar'))"
   ],
   "metadata": {
    "collapsed": false,
    "ExecuteTime": {
     "end_time": "2023-09-04T15:50:25.796143200Z",
     "start_time": "2023-09-04T15:50:24.754492500Z"
    }
   }
  },
  {
   "cell_type": "code",
   "execution_count": 99,
   "outputs": [
    {
     "name": "stdout",
     "output_type": "stream",
     "text": [
      "None\n",
      "<re.Match object; span=(0, 7), match='foo-bar'>\n",
      "<re.Match object; span=(0, 8), match='foo--bar'>\n"
     ]
    }
   ],
   "source": [
    "print(re.search('foo-+bar', 'foobar'))              # Zero dashes\n",
    "print(re.search('foo-+bar', 'foo-bar'))                  # One dash\n",
    "print(re.search('foo-+bar', 'foo--bar'))"
   ],
   "metadata": {
    "collapsed": false,
    "ExecuteTime": {
     "end_time": "2023-09-04T15:50:25.796143200Z",
     "start_time": "2023-09-04T15:50:24.773480800Z"
    }
   }
  },
  {
   "cell_type": "code",
   "execution_count": 100,
   "outputs": [
    {
     "name": "stdout",
     "output_type": "stream",
     "text": [
      "<re.Match object; span=(0, 6), match='foobar'>\n",
      "<re.Match object; span=(0, 7), match='foo-bar'>\n",
      "None\n"
     ]
    }
   ],
   "source": [
    "print(re.search('foo-?bar', 'foobar'))                   # Zero dashes\n",
    "print(re.search('foo-?bar', 'foo-bar'))                   # One dash\n",
    "print(re.search('foo-?bar', 'foo--bar'))"
   ],
   "metadata": {
    "collapsed": false,
    "ExecuteTime": {
     "end_time": "2023-09-04T15:50:25.798141800Z",
     "start_time": "2023-09-04T15:50:24.786474400Z"
    }
   }
  },
  {
   "cell_type": "code",
   "execution_count": 101,
   "outputs": [
    {
     "name": "stdout",
     "output_type": "stream",
     "text": [
      "<re.Match object; span=(0, 6), match='foobar'>\n",
      "<re.Match object; span=(0, 8), match='foo42bar'>\n",
      "None\n",
      "<re.Match object; span=(0, 8), match='foo42bar'>\n",
      "<re.Match object; span=(0, 6), match='foobar'>\n",
      "None\n"
     ]
    }
   ],
   "source": [
    "print(re.match('foo[1-9]*bar', 'foobar'))\n",
    "print(re.match('foo[1-9]*bar', 'foo42bar'))\n",
    "print(re.match('foo[1-9]+bar', 'foobar'))\n",
    "print(re.match('foo[1-9]+bar', 'foo42bar'))\n",
    "print(re.match('foo[1-9]?bar', 'foobar'))\n",
    "print(re.match('foo[1-9]?bar', 'foo42bar'))"
   ],
   "metadata": {
    "collapsed": false,
    "ExecuteTime": {
     "end_time": "2023-09-04T15:50:25.799140800Z",
     "start_time": "2023-09-04T15:50:24.820455200Z"
    }
   }
  },
  {
   "cell_type": "code",
   "execution_count": 102,
   "outputs": [
    {
     "name": "stdout",
     "output_type": "stream",
     "text": [
      "<re.Match object; span=(1, 18), match='<foo> <bar> <baz>'>\n",
      "<re.Match object; span=(1, 6), match='<foo>'>\n",
      "<re.Match object; span=(0, 2), match='ba'>\n",
      "<re.Match object; span=(0, 1), match='b'>\n"
     ]
    }
   ],
   "source": [
    "print(re.search('<.+>', '%<foo> <bar> <baz>%'))\n",
    "print(re.search('<.+?>', '%<foo> <bar> <baz>%'))\n",
    "print(re.search('ba?', 'baaaa'))\n",
    "print(re.search('ba??', 'baaaa'))"
   ],
   "metadata": {
    "collapsed": false,
    "ExecuteTime": {
     "end_time": "2023-09-04T15:50:25.800141700Z",
     "start_time": "2023-09-04T15:50:24.835446700Z"
    }
   }
  },
  {
   "cell_type": "code",
   "execution_count": 103,
   "outputs": [
    {
     "name": "stdout",
     "output_type": "stream",
     "text": [
      "None\n",
      "<re.Match object; span=(0, 5), match='x---x'>\n",
      "None\n"
     ]
    }
   ],
   "source": [
    "print(re.search('x-{3}x', 'x--x'))                # Two dashes\n",
    "print(re.search('x-{3}x', 'x---x'))                    # Three dashes\n",
    "print(re.search('x-{3}x', 'x----x'))"
   ],
   "metadata": {
    "collapsed": false,
    "ExecuteTime": {
     "end_time": "2023-09-04T15:50:25.800141700Z",
     "start_time": "2023-09-04T15:50:24.849438900Z"
    }
   }
  },
  {
   "cell_type": "code",
   "execution_count": 104,
   "outputs": [
    {
     "name": "stdout",
     "output_type": "stream",
     "text": [
      "1  x-x        None\n",
      "2  x--x       <re.Match object; span=(0, 4), match='x--x'>\n",
      "3  x---x      <re.Match object; span=(0, 5), match='x---x'>\n",
      "4  x----x     <re.Match object; span=(0, 6), match='x----x'>\n",
      "5  x-----x    None\n"
     ]
    }
   ],
   "source": [
    "for i in range(1, 6):\n",
    "    s = f\"x{'-' * i}x\"\n",
    "    print(f'{i}  {s:10}', re.search('x-{2,4}x', s))\n",
    "\n"
   ],
   "metadata": {
    "collapsed": false,
    "ExecuteTime": {
     "end_time": "2023-09-04T15:50:25.802138800Z",
     "start_time": "2023-09-04T15:50:24.866429300Z"
    }
   }
  },
  {
   "cell_type": "markdown",
   "source": [
    "```\n",
    "Regular Expression\tMatches\tIdentical to\n",
    "<regex>{,n}\tAny number of repetitions of <regex> less than or equal to n\t<regex>{0,n}\n",
    "<regex>{m,}\tAny number of repetitions of <regex> greater than or equal to m\t----\n",
    "<regex>{,}\tAny number of repetitions of <regex>\t<regex>{0,}\n",
    "<regex>*\n",
    "```"
   ],
   "metadata": {
    "collapsed": false
   }
  },
  {
   "cell_type": "code",
   "execution_count": 105,
   "outputs": [
    {
     "name": "stdout",
     "output_type": "stream",
     "text": [
      "<re.Match object; span=(0, 5), match='aaaaa'>\n",
      "<re.Match object; span=(0, 3), match='aaa'>\n"
     ]
    }
   ],
   "source": [
    "print(re.search('a{3,5}', 'aaaaaaaa'))\n",
    "print(re.search('a{3,5}?', 'aaaaaaaa'))"
   ],
   "metadata": {
    "collapsed": false,
    "ExecuteTime": {
     "end_time": "2023-09-04T15:50:25.804141300Z",
     "start_time": "2023-09-04T15:50:24.883418400Z"
    }
   }
  },
  {
   "cell_type": "code",
   "execution_count": 106,
   "outputs": [
    {
     "name": "stdout",
     "output_type": "stream",
     "text": [
      "<re.Match object; span=(4, 7), match='bar'>\n",
      "<re.Match object; span=(4, 7), match='bar'>\n"
     ]
    }
   ],
   "source": [
    "print(re.search('(bar)', 'foo bar baz'))\n",
    "print(re.search('bar', 'foo bar baz'))"
   ],
   "metadata": {
    "collapsed": false,
    "ExecuteTime": {
     "end_time": "2023-09-04T15:50:25.804141300Z",
     "start_time": "2023-09-04T15:50:24.920396900Z"
    }
   }
  },
  {
   "cell_type": "code",
   "execution_count": 107,
   "outputs": [
    {
     "name": "stdout",
     "output_type": "stream",
     "text": [
      "<re.Match object; span=(4, 7), match='bar'>\n",
      "<re.Match object; span=(4, 10), match='barbar'>\n",
      "<re.Match object; span=(4, 16), match='barbarbarbar'>\n"
     ]
    }
   ],
   "source": [
    "print(re.search('(bar)+', 'foo bar baz'))\n",
    "print(re.search('(bar)+', 'foo barbar baz'))\n",
    "print(re.search('(bar)+', 'foo barbarbarbar baz'))"
   ],
   "metadata": {
    "collapsed": false,
    "ExecuteTime": {
     "end_time": "2023-09-04T15:50:25.805138100Z",
     "start_time": "2023-09-04T15:50:24.944383100Z"
    }
   }
  },
  {
   "cell_type": "raw",
   "source": [
    "Regex\tInterpretation\tMatches\tExamples\n",
    "bar+\tThe + metacharacter applies only to the character 'r'.\t'ba' followed by one or more occurrences of 'r'\t'bar'\n",
    "'barr'\n",
    "'barrr'\n",
    "(bar)+\tThe + metacharacter applies to the entire string 'bar'.\tOne or more occurrences of 'bar'\t'bar'\n",
    "'barbar'\n",
    "'barbarbar'"
   ],
   "metadata": {
    "collapsed": false
   }
  },
  {
   "cell_type": "code",
   "execution_count": 108,
   "outputs": [
    {
     "name": "stdout",
     "output_type": "stream",
     "text": [
      "<re.Match object; span=(0, 9), match='foofoobar'>\n",
      "<re.Match object; span=(0, 12), match='foofoobar123'>\n",
      "<re.Match object; span=(0, 9), match='foofoo123'>\n"
     ]
    }
   ],
   "source": [
    "print(re.search('(foo(bar)?)+(\\d\\d\\d)?', 'foofoobar'))\n",
    "print(re.search('(foo(bar)?)+(\\d\\d\\d)?', 'foofoobar123'))\n",
    "print(re.search('(foo(bar)?)+(\\d\\d\\d)?', 'foofoo123'))"
   ],
   "metadata": {
    "collapsed": false,
    "ExecuteTime": {
     "end_time": "2023-09-04T15:50:25.806138300Z",
     "start_time": "2023-09-04T15:50:24.962373100Z"
    }
   }
  },
  {
   "cell_type": "raw",
   "source": [
    "Regex\t        Matches\n",
    "foo(bar)?\t    'foo' optionally followed by 'bar'\n",
    "(foo(bar)?)+\tOne or more occurrences of the above\n",
    "\\d\\d\\d\t       Three decimal digit characters\n",
    "(\\d\\d\\d)?\t  Zero or one occurrences of the above"
   ],
   "metadata": {
    "collapsed": false
   }
  },
  {
   "cell_type": "code",
   "execution_count": 109,
   "outputs": [
    {
     "name": "stdout",
     "output_type": "stream",
     "text": [
      "('foo', 'quux', 'baz')\n"
     ]
    }
   ],
   "source": [
    "#GROUPING\n",
    "m = re.search('(\\w+),(\\w+),(\\w+)', 'foo,quux,baz')\n",
    "print(m.groups())"
   ],
   "metadata": {
    "collapsed": false,
    "ExecuteTime": {
     "end_time": "2023-09-04T15:50:25.806138300Z",
     "start_time": "2023-09-04T15:50:24.997352600Z"
    }
   }
  },
  {
   "cell_type": "code",
   "execution_count": 110,
   "outputs": [
    {
     "name": "stdout",
     "output_type": "stream",
     "text": [
      "foo\n",
      "quux\n",
      "baz\n"
     ]
    }
   ],
   "source": [
    "print(m.group(1))\n",
    "print(m.group(2))\n",
    "print(m.group(3))\n"
   ],
   "metadata": {
    "collapsed": false,
    "ExecuteTime": {
     "end_time": "2023-09-04T15:50:25.807143Z",
     "start_time": "2023-09-04T15:50:25.025336800Z"
    }
   }
  },
  {
   "cell_type": "code",
   "execution_count": 111,
   "outputs": [
    {
     "name": "stdout",
     "output_type": "stream",
     "text": [
      "('foo', 'quux', 'baz')\n",
      "('quux', 'baz')\n",
      "('baz', 'quux', 'foo')\n"
     ]
    }
   ],
   "source": [
    "print(m.groups())\n",
    "print(m.group(2, 3))\n",
    "print(m.group(3, 2, 1))"
   ],
   "metadata": {
    "collapsed": false,
    "ExecuteTime": {
     "end_time": "2023-09-04T15:50:25.810134500Z",
     "start_time": "2023-09-04T15:50:25.060316800Z"
    }
   }
  },
  {
   "cell_type": "code",
   "execution_count": 112,
   "outputs": [
    {
     "name": "stdout",
     "output_type": "stream",
     "text": [
      "<re.Match object; span=(0, 7), match='foo,foo'>\n",
      "foo\n",
      "<re.Match object; span=(0, 7), match='qux,qux'>\n",
      "qux\n",
      "None\n"
     ]
    }
   ],
   "source": [
    "#BACKREFERENCING\n",
    "regex = r'(\\w+),\\1'\n",
    "m = re.search(regex, 'foo,foo')\n",
    "print(m)\n",
    "print(m.group(1))\n",
    "m = re.search(regex, 'qux,qux')\n",
    "print(m)\n",
    "print(m.group(1))\n",
    "m = re.search(regex, 'foo,qux')\n",
    "print(m)"
   ],
   "metadata": {
    "collapsed": false,
    "ExecuteTime": {
     "end_time": "2023-09-04T15:50:25.810134500Z",
     "start_time": "2023-09-04T15:50:25.086301100Z"
    }
   }
  },
  {
   "cell_type": "code",
   "execution_count": 113,
   "outputs": [
    {
     "name": "stdout",
     "output_type": "stream",
     "text": [
      "('foo', 'quux', 'baz')\n"
     ]
    }
   ],
   "source": [
    "m = re.search('(?P<w1>\\w+),(?P<w2>\\w+),(?P<w3>\\w+)', 'foo,quux,baz')\n",
    "print(m.groups())"
   ],
   "metadata": {
    "collapsed": false,
    "ExecuteTime": {
     "end_time": "2023-09-04T15:50:25.811135100Z",
     "start_time": "2023-09-04T15:50:25.103292500Z"
    }
   }
  },
  {
   "cell_type": "code",
   "execution_count": 114,
   "outputs": [
    {
     "name": "stdout",
     "output_type": "stream",
     "text": [
      "foo\n",
      "baz\n",
      "('foo', 'quux', 'baz')\n"
     ]
    }
   ],
   "source": [
    "print(m.group('w1'))\n",
    "print(m.group('w3'))\n",
    "print(m.group('w1', 'w2', 'w3'))"
   ],
   "metadata": {
    "collapsed": false,
    "ExecuteTime": {
     "end_time": "2023-09-04T15:50:25.812134400Z",
     "start_time": "2023-09-04T15:50:25.119282200Z"
    }
   }
  },
  {
   "cell_type": "code",
   "execution_count": 115,
   "outputs": [
    {
     "name": "stdout",
     "output_type": "stream",
     "text": [
      "<re.Match object; span=(0, 3), match='foo'>\n",
      "<re.Match object; span=(0, 5), match='#foo#'>\n",
      "<re.Match object; span=(0, 5), match='@foo@'>\n",
      "None\n",
      "None\n",
      "None\n",
      "None\n"
     ]
    }
   ],
   "source": [
    "regex = r'^(?P<ch>\\W)?foo(?(ch)(?P=ch)|)$'\n",
    "print(re.search(regex, 'foo'))\n",
    "print(re.search(regex, '#foo#'))\n",
    "print(re.search(regex, '@foo@'))\n",
    "print(re.search(regex, '#foo'))\n",
    "print(re.search(regex, 'foo@'))\n",
    "print(re.search(regex, '#foo@'))\n",
    "print(re.search(regex, '@foo#'))"
   ],
   "metadata": {
    "collapsed": false,
    "ExecuteTime": {
     "end_time": "2023-09-04T15:50:25.812134400Z",
     "start_time": "2023-09-04T15:50:25.153263400Z"
    }
   }
  },
  {
   "cell_type": "code",
   "execution_count": 116,
   "outputs": [
    {
     "name": "stdout",
     "output_type": "stream",
     "text": [
      "<re.Match object; span=(0, 3), match='bar'>\n",
      "<re.Match object; span=(0, 3), match='baz'>\n",
      "None\n"
     ]
    }
   ],
   "source": [
    "print(re.search('foo|bar|baz', 'bar'))\n",
    "print(re.search('foo|bar|baz', 'baz'))\n",
    "print(re.search('foo|bar|baz', 'quux'))"
   ],
   "metadata": {
    "collapsed": false,
    "ExecuteTime": {
     "end_time": "2023-09-04T15:50:25.813133500Z",
     "start_time": "2023-09-04T15:50:25.165256Z"
    }
   }
  },
  {
   "cell_type": "code",
   "execution_count": 117,
   "outputs": [
    {
     "name": "stdout",
     "output_type": "stream",
     "text": [
      "<re.Match object; span=(0, 3), match='aaa'>\n",
      "<re.Match object; span=(3, 6), match='AAA'>\n",
      "<re.Match object; span=(0, 6), match='aaaAAA'>\n",
      "<re.Match object; span=(0, 6), match='aaaAAA'>\n"
     ]
    }
   ],
   "source": [
    "# re.I or re.IGNORECASE\n",
    "print(re.search('a+', 'aaaAAA'))\n",
    "print(re.search('A+', 'aaaAAA'))\n",
    "print(re.search('a+', 'aaaAAA', re.I))\n",
    "print(re.search('A+', 'aaaAAA', re.IGNORECASE))"
   ],
   "metadata": {
    "collapsed": false,
    "ExecuteTime": {
     "end_time": "2023-09-04T15:50:25.813133500Z",
     "start_time": "2023-09-04T15:50:25.181247100Z"
    }
   }
  },
  {
   "cell_type": "code",
   "execution_count": 118,
   "outputs": [
    {
     "name": "stdout",
     "output_type": "stream",
     "text": [
      "<re.Match object; span=(0, 1), match='a'>\n",
      "<re.Match object; span=(0, 6), match='aBcDeF'>\n"
     ]
    }
   ],
   "source": [
    "print(re.search('[a-z]+', 'aBcDeF'))\n",
    "print(re.search('[a-z]+', 'aBcDeF', re.I))"
   ],
   "metadata": {
    "collapsed": false,
    "ExecuteTime": {
     "end_time": "2023-09-04T15:50:25.814133500Z",
     "start_time": "2023-09-04T15:50:25.195239Z"
    }
   }
  },
  {
   "cell_type": "code",
   "execution_count": 119,
   "outputs": [
    {
     "name": "stdout",
     "output_type": "stream",
     "text": [
      "<re.Match object; span=(0, 3), match='foo'>\n",
      "None\n",
      "None\n",
      "None\n",
      "None\n",
      "<re.Match object; span=(8, 11), match='baz'>\n"
     ]
    }
   ],
   "source": [
    "# re.M or re.MULTIINE\n",
    "s = 'foo\\nbar\\nbaz'\n",
    "\n",
    "print(re.search('^foo', s))\n",
    "print(re.search('^bar', s))\n",
    "print(re.search('^baz', s))\n",
    "print(re.search('foo$', s))\n",
    "print(re.search('bar$', s))\n",
    "print(re.search('baz$', s))"
   ],
   "metadata": {
    "collapsed": false,
    "ExecuteTime": {
     "end_time": "2023-09-04T15:50:25.815133200Z",
     "start_time": "2023-09-04T15:50:25.215227700Z"
    }
   }
  },
  {
   "cell_type": "code",
   "execution_count": 120,
   "outputs": [
    {
     "name": "stdout",
     "output_type": "stream",
     "text": [
      "<re.Match object; span=(0, 3), match='foo'>\n",
      "<re.Match object; span=(4, 7), match='bar'>\n",
      "<re.Match object; span=(8, 11), match='baz'>\n",
      "<re.Match object; span=(0, 3), match='foo'>\n",
      "<re.Match object; span=(4, 7), match='bar'>\n",
      "<re.Match object; span=(8, 11), match='baz'>\n"
     ]
    }
   ],
   "source": [
    "print(re.search('^foo', s, re.MULTILINE))\n",
    "print(re.search('^bar', s, re.MULTILINE))\n",
    "print(re.search('^baz', s, re.MULTILINE))\n",
    "print(re.search('foo$', s, re.M))\n",
    "print(re.search('bar$', s, re.M))\n",
    "print(re.search('baz$', s, re.M))"
   ],
   "metadata": {
    "collapsed": false,
    "ExecuteTime": {
     "end_time": "2023-09-04T15:50:25.815133200Z",
     "start_time": "2023-09-04T15:50:25.232219600Z"
    }
   }
  },
  {
   "cell_type": "raw",
   "source": [
    "Note: The MULTILINE flag only modifies the ^ and $ anchors in this way. It doesn’t have any effect on the \\A and \\Z anchors:"
   ],
   "metadata": {
    "collapsed": false
   }
  },
  {
   "cell_type": "code",
   "execution_count": 121,
   "outputs": [
    {
     "name": "stdout",
     "output_type": "stream",
     "text": [
      "<re.Match object; span=(4, 7), match='bar'>\n",
      "<re.Match object; span=(4, 7), match='bar'>\n",
      "None\n",
      "None\n"
     ]
    }
   ],
   "source": [
    "s = 'foo\\nbar\\nbaz'\n",
    "print(re.search('^bar', s, re.MULTILINE))\n",
    "print(re.search('bar$', s, re.MULTILINE))\n",
    "print(re.search('\\Abar', s, re.MULTILINE))\n",
    "print(re.search('bar\\Z', s, re.MULTILINE))"
   ],
   "metadata": {
    "collapsed": false,
    "ExecuteTime": {
     "end_time": "2023-09-04T15:50:26.512855300Z",
     "start_time": "2023-09-04T15:50:25.248208200Z"
    }
   }
  },
  {
   "cell_type": "code",
   "execution_count": 122,
   "outputs": [
    {
     "name": "stdout",
     "output_type": "stream",
     "text": [
      "None\n",
      "<re.Match object; span=(0, 7), match='foo\\nbar'>\n",
      "<re.Match object; span=(0, 7), match='foo\\nbar'>\n"
     ]
    }
   ],
   "source": [
    "# re.S re.DOTALL\n",
    "\n",
    "print(re.search('foo.bar', 'foo\\nbar'))\n",
    "print(re.search('foo.bar', 'foo\\nbar', re.DOTALL))\n",
    "print(re.search('foo.bar', 'foo\\nbar', re.S))"
   ],
   "metadata": {
    "collapsed": false,
    "ExecuteTime": {
     "end_time": "2023-09-04T15:50:26.680103400Z",
     "start_time": "2023-09-04T15:50:25.272195600Z"
    }
   }
  },
  {
   "cell_type": "code",
   "execution_count": 122,
   "outputs": [],
   "source": [],
   "metadata": {
    "collapsed": false,
    "ExecuteTime": {
     "end_time": "2023-09-04T15:50:26.680103400Z",
     "start_time": "2023-09-04T15:50:25.291183400Z"
    }
   }
  }
 ],
 "metadata": {
  "kernelspec": {
   "display_name": "Python 3",
   "language": "python",
   "name": "python3"
  },
  "language_info": {
   "codemirror_mode": {
    "name": "ipython",
    "version": 2
   },
   "file_extension": ".py",
   "mimetype": "text/x-python",
   "name": "python",
   "nbconvert_exporter": "python",
   "pygments_lexer": "ipython2",
   "version": "2.7.6"
  }
 },
 "nbformat": 4,
 "nbformat_minor": 0
}
